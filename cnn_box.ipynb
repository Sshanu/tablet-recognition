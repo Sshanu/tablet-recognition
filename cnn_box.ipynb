{
 "cells": [
  {
   "cell_type": "code",
   "execution_count": 1,
   "metadata": {
    "collapsed": true
   },
   "outputs": [],
   "source": [
    "optim = require 'optim'"
   ]
  },
  {
   "cell_type": "code",
   "execution_count": 2,
   "metadata": {
    "collapsed": true
   },
   "outputs": [],
   "source": [
    "trainset = torch.load('full_box.dat')"
   ]
  },
  {
   "cell_type": "code",
   "execution_count": 3,
   "metadata": {},
   "outputs": [
    {
     "data": {
      "text/plain": [
       "{\n",
       "  data : ByteTensor - size: 76x3x20x20\n",
       "  label : ByteTensor - size: 76\n",
       "}\n"
      ]
     },
     "execution_count": 3,
     "metadata": {},
     "output_type": "execute_result"
    }
   ],
   "source": [
    "trainset"
   ]
  },
  {
   "cell_type": "code",
   "execution_count": 4,
   "metadata": {},
   "outputs": [
    {
     "data": {
      "image/png": "[encoded data removed]",
      "text/plain": [
       "Console does not support images"
      ]
     },
     "metadata": {
      "image/png": {
       "height": 20,
       "width": 20
      }
     },
     "output_type": "display_data"
    },
    {
     "data": {
      "text/plain": [
       "\n"
      ]
     },
     "execution_count": 4,
     "metadata": {},
     "output_type": "execute_result"
    }
   ],
   "source": [
    "itorch.image(trainset.data[1])"
   ]
  },
  {
   "cell_type": "code",
   "execution_count": 5,
   "metadata": {
    "collapsed": true
   },
   "outputs": [],
   "source": [
    "setmetatable(trainset, \n",
    "    {__index = function(t, i) \n",
    "                    return {t.data[i], t.label[i]} \n",
    "                end}\n",
    ");\n",
    "trainset.data = trainset.data:double() -- convert the data from a ByteTensor to a DoubleTensor.\n",
    "\n",
    "function trainset:size() \n",
    "    return self.data:size(1) \n",
    "end"
   ]
  },
  {
   "cell_type": "code",
   "execution_count": 20,
   "metadata": {
    "collapsed": true
   },
   "outputs": [],
   "source": [
    "nn = require 'nn'\n",
    "model = nn.Sequential()\n",
    "model:add(nn.SpatialConvolution(3,6,5,5))\n",
    "model:add(nn.SpatialMaxPooling(2,2,2,2))\n",
    "model:add(nn.ReLU())\n",
    "model:add(nn.SpatialConvolution(6,16,5,5))\n",
    "model:add(nn.SpatialMaxPooling(2,2,2,2))\n",
    "model:add(nn.ReLU())\n",
    "model:add(nn.View(16*2*2))\n",
    "model:add(nn.Linear(16*2*2,120))\n",
    "model:add(nn.ReLU())\n",
    "model:add(nn.Linear(120,80))\n",
    "model:add(nn.ReLU())\n",
    "model:add(nn.Linear(80,19))\n",
    "model:add(nn.LogSoftMax())\n",
    "model = torch.load('fullmodel_box.net')"
   ]
  },
  {
   "cell_type": "code",
   "execution_count": 7,
   "metadata": {
    "collapsed": true
   },
   "outputs": [],
   "source": [
    "criterion = nn.ClassNLLCriterion()"
   ]
  },
  {
   "cell_type": "code",
   "execution_count": 8,
   "metadata": {
    "collapsed": true
   },
   "outputs": [],
   "source": [
    "trainer = nn.StochasticGradient(model, criterion)\n",
    "trainer.learningRate = 0.0001\n",
    "trainer.maxIteration = 1000"
   ]
  },
  {
   "cell_type": "code",
   "execution_count": 9,
   "metadata": {},
   "outputs": [
    {
     "data": {
      "text/plain": [
       "# StochasticGradient: training\t\n"
      ]
     },
     "execution_count": 9,
     "metadata": {},
     "output_type": "execute_result"
    },
    {
     "data": {
      "text/plain": [
       "iteration1\t# current error = 3.1128925711266\t\n"
      ]
     },
     "execution_count": 9,
     "metadata": {},
     "output_type": "execute_result"
    },
    {
     "data": {
      "text/plain": [
       "iteration2\t# current error = 2.912493295498\t\n"
      ]
     },
     "execution_count": 9,
     "metadata": {},
     "output_type": "execute_result"
    },
    {
     "data": {
      "text/plain": [
       "iteration3\t# current error = 2.8650301761557\t\n"
      ]
     },
     "execution_count": 9,
     "metadata": {},
     "output_type": "execute_result"
    },
    {
     "data": {
      "text/plain": [
       "iteration4\t# current error = 2.8254785689617\t\n"
      ]
     },
     "execution_count": 9,
     "metadata": {},
     "output_type": "execute_result"
    },
    {
     "data": {
      "text/plain": [
       "iteration5\t# current error = 2.8039661918239\t\n"
      ]
     },
     "execution_count": 9,
     "metadata": {},
     "output_type": "execute_result"
    },
    {
     "data": {
      "text/plain": [
       "iteration6\t# current error = 2.7686457895095\t\n"
      ]
     },
     "execution_count": 9,
     "metadata": {},
     "output_type": "execute_result"
    },
    {
     "data": {
      "text/plain": [
       "iteration7\t# current error = 2.734403866871\t\n"
      ]
     },
     "execution_count": 9,
     "metadata": {},
     "output_type": "execute_result"
    },
    {
     "data": {
      "text/plain": [
       "iteration8\t# current error = 2.7034799411076\t\n"
      ]
     },
     "execution_count": 9,
     "metadata": {},
     "output_type": "execute_result"
    },
    {
     "data": {
      "text/plain": [
       "iteration9\t# current error = 2.6735739559431\t\n"
      ]
     },
     "execution_count": 9,
     "metadata": {},
     "output_type": "execute_result"
    },
    {
     "data": {
      "text/plain": [
       "iteration10\t# current error = 2.6430089755746\t\n"
      ]
     },
     "execution_count": 9,
     "metadata": {},
     "output_type": "execute_result"
    },
    {
     "data": {
      "text/plain": [
       "iteration11\t# current error = 2.6131788678119\t\n"
      ]
     },
     "execution_count": 9,
     "metadata": {},
     "output_type": "execute_result"
    },
    {
     "data": {
      "text/plain": [
       "iteration12\t# current error = 2.5817720521516\t\n"
      ]
     },
     "execution_count": 9,
     "metadata": {},
     "output_type": "execute_result"
    },
    {
     "data": {
      "text/plain": [
       "iteration13\t# current error = 2.5507255746036\t\n"
      ]
     },
     "execution_count": 9,
     "metadata": {},
     "output_type": "execute_result"
    },
    {
     "data": {
      "text/plain": [
       "iteration14\t# current error = 2.5188159095503\t\n"
      ]
     },
     "execution_count": 9,
     "metadata": {},
     "output_type": "execute_result"
    },
    {
     "data": {
      "text/plain": [
       "iteration15\t# current error = 2.4775478253851\t\n"
      ]
     },
     "execution_count": 9,
     "metadata": {},
     "output_type": "execute_result"
    },
    {
     "data": {
      "text/plain": [
       "iteration16\t# current error = 2.4354073292974\t\n"
      ]
     },
     "execution_count": 9,
     "metadata": {},
     "output_type": "execute_result"
    },
    {
     "data": {
      "text/plain": [
       "iteration17\t# current error = 2.3972654645016\t\n"
      ]
     },
     "execution_count": 9,
     "metadata": {},
     "output_type": "execute_result"
    },
    {
     "data": {
      "text/plain": [
       "iteration18\t# current error = 2.3581455736151\t\n"
      ]
     },
     "execution_count": 9,
     "metadata": {},
     "output_type": "execute_result"
    },
    {
     "data": {
      "text/plain": [
       "iteration19\t# current error = 2.3126970928724\t\n"
      ]
     },
     "execution_count": 9,
     "metadata": {},
     "output_type": "execute_result"
    },
    {
     "data": {
      "text/plain": [
       "iteration20\t# current error = 2.2642546004211\t\n"
      ]
     },
     "execution_count": 9,
     "metadata": {},
     "output_type": "execute_result"
    },
    {
     "data": {
      "text/plain": [
       "iteration21\t# current error = 2.2076535246238\t\n"
      ]
     },
     "execution_count": 9,
     "metadata": {},
     "output_type": "execute_result"
    },
    {
     "data": {
      "text/plain": [
       "iteration22\t# current error = 2.1504646750158\t\n"
      ]
     },
     "execution_count": 9,
     "metadata": {},
     "output_type": "execute_result"
    },
    {
     "data": {
      "text/plain": [
       "iteration23\t# current error = 2.0880198714018\t\n"
      ]
     },
     "execution_count": 9,
     "metadata": {},
     "output_type": "execute_result"
    },
    {
     "data": {
      "text/plain": [
       "iteration24\t# current error = 2.0222172281134\t\n"
      ]
     },
     "execution_count": 9,
     "metadata": {},
     "output_type": "execute_result"
    },
    {
     "data": {
      "text/plain": [
       "iteration25\t# current error = 1.9560982935921\t\n"
      ]
     },
     "execution_count": 9,
     "metadata": {},
     "output_type": "execute_result"
    },
    {
     "data": {
      "text/plain": [
       "iteration26\t# current error = 1.8857559137054\t\n"
      ]
     },
     "execution_count": 9,
     "metadata": {},
     "output_type": "execute_result"
    },
    {
     "data": {
      "text/plain": [
       "iteration27\t# current error = 1.8100047311522\t\n"
      ]
     },
     "execution_count": 9,
     "metadata": {},
     "output_type": "execute_result"
    },
    {
     "data": {
      "text/plain": [
       "iteration28\t# current error = 1.7406707989361\t\n"
      ]
     },
     "execution_count": 9,
     "metadata": {},
     "output_type": "execute_result"
    },
    {
     "data": {
      "text/plain": [
       "iteration29\t# current error = 1.6529193195279\t\n"
      ]
     },
     "execution_count": 9,
     "metadata": {},
     "output_type": "execute_result"
    },
    {
     "data": {
      "text/plain": [
       "iteration30\t# current error = 1.5686069533806\t\n"
      ]
     },
     "execution_count": 9,
     "metadata": {},
     "output_type": "execute_result"
    },
    {
     "data": {
      "text/plain": [
       "iteration31\t# current error = 1.4846193275475\t\n"
      ]
     },
     "execution_count": 9,
     "metadata": {},
     "output_type": "execute_result"
    },
    {
     "data": {
      "text/plain": [
       "iteration32\t# current error = 1.4005830703845\t\n"
      ]
     },
     "execution_count": 9,
     "metadata": {},
     "output_type": "execute_result"
    },
    {
     "data": {
      "text/plain": [
       "iteration33\t# current error = 1.3107294890436\t\n"
      ]
     },
     "execution_count": 9,
     "metadata": {},
     "output_type": "execute_result"
    },
    {
     "data": {
      "text/plain": [
       "iteration34\t# current error = 1.2248932102158\t\n"
      ]
     },
     "execution_count": 9,
     "metadata": {},
     "output_type": "execute_result"
    },
    {
     "data": {
      "text/plain": [
       "iteration35\t# current error = 1.1436170908868\t\n"
      ]
     },
     "execution_count": 9,
     "metadata": {},
     "output_type": "execute_result"
    },
    {
     "data": {
      "text/plain": [
       "iteration36\t"
      ]
     },
     "execution_count": 9,
     "metadata": {},
     "output_type": "execute_result"
    },
    {
     "data": {
      "text/plain": [
       "# current error = 1.0653703578462\t\n"
      ]
     },
     "execution_count": 9,
     "metadata": {},
     "output_type": "execute_result"
    },
    {
     "data": {
      "text/plain": [
       "iteration37\t# current error = 0.98996251418879\t\n"
      ]
     },
     "execution_count": 9,
     "metadata": {},
     "output_type": "execute_result"
    },
    {
     "data": {
      "text/plain": [
       "iteration38\t# current error = 0.92276735256347\t\n"
      ]
     },
     "execution_count": 9,
     "metadata": {},
     "output_type": "execute_result"
    },
    {
     "data": {
      "text/plain": [
       "iteration39\t# current error = 0.86018515925481\t\n"
      ]
     },
     "execution_count": 9,
     "metadata": {},
     "output_type": "execute_result"
    },
    {
     "data": {
      "text/plain": [
       "iteration40\t# current error = 0.80362432687173\t\n"
      ]
     },
     "execution_count": 9,
     "metadata": {},
     "output_type": "execute_result"
    },
    {
     "data": {
      "text/plain": [
       "iteration41\t# current error = 0.74286118223103\t\n"
      ]
     },
     "execution_count": 9,
     "metadata": {},
     "output_type": "execute_result"
    },
    {
     "data": {
      "text/plain": [
       "iteration42\t# current error = 0.69279218278648\t\n"
      ]
     },
     "execution_count": 9,
     "metadata": {},
     "output_type": "execute_result"
    },
    {
     "data": {
      "text/plain": [
       "iteration43\t# current error = 0.64256330772003\t\n"
      ]
     },
     "execution_count": 9,
     "metadata": {},
     "output_type": "execute_result"
    },
    {
     "data": {
      "text/plain": [
       "iteration44\t# current error = 0.5984072227248\t\n"
      ]
     },
     "execution_count": 9,
     "metadata": {},
     "output_type": "execute_result"
    },
    {
     "data": {
      "text/plain": [
       "iteration45\t# current error = 0.55580158156444\t\n"
      ]
     },
     "execution_count": 9,
     "metadata": {},
     "output_type": "execute_result"
    },
    {
     "data": {
      "text/plain": [
       "iteration46\t# current error = 0.51959487768525\t\n"
      ]
     },
     "execution_count": 9,
     "metadata": {},
     "output_type": "execute_result"
    },
    {
     "data": {
      "text/plain": [
       "iteration47\t# current error = 0.48345261620593\t\n"
      ]
     },
     "execution_count": 9,
     "metadata": {},
     "output_type": "execute_result"
    },
    {
     "data": {
      "text/plain": [
       "iteration48\t# current error = 0.44905891032212\t\n"
      ]
     },
     "execution_count": 9,
     "metadata": {},
     "output_type": "execute_result"
    },
    {
     "data": {
      "text/plain": [
       "iteration49\t# current error = 0.41862053378235\t\n"
      ]
     },
     "execution_count": 9,
     "metadata": {},
     "output_type": "execute_result"
    },
    {
     "data": {
      "text/plain": [
       "iteration50\t# current error = 0.39212853362005\t\n"
      ]
     },
     "execution_count": 9,
     "metadata": {},
     "output_type": "execute_result"
    },
    {
     "data": {
      "text/plain": [
       "iteration51\t# current error = 0.36793000402089\t\n"
      ]
     },
     "execution_count": 9,
     "metadata": {},
     "output_type": "execute_result"
    },
    {
     "data": {
      "text/plain": [
       "iteration52\t# current error = 0.3438730466457\t\n"
      ]
     },
     "execution_count": 9,
     "metadata": {},
     "output_type": "execute_result"
    },
    {
     "data": {
      "text/plain": [
       "iteration53\t# current error = 0.32296946039713\t\n"
      ]
     },
     "execution_count": 9,
     "metadata": {},
     "output_type": "execute_result"
    },
    {
     "data": {
      "text/plain": [
       "iteration54\t# current error = 0.30374415305833\t\n"
      ]
     },
     "execution_count": 9,
     "metadata": {},
     "output_type": "execute_result"
    },
    {
     "data": {
      "text/plain": [
       "iteration55\t# current error = 0.2857664383805\t\n"
      ]
     },
     "execution_count": 9,
     "metadata": {},
     "output_type": "execute_result"
    },
    {
     "data": {
      "text/plain": [
       "iteration56\t# current error = 0.26861623207302\t\n"
      ]
     },
     "execution_count": 9,
     "metadata": {},
     "output_type": "execute_result"
    },
    {
     "data": {
      "text/plain": [
       "iteration57\t# current error = 0.25454683353277\t\n"
      ]
     },
     "execution_count": 9,
     "metadata": {},
     "output_type": "execute_result"
    },
    {
     "data": {
      "text/plain": [
       "iteration58\t# current error = 0.23927030224231\t\n"
      ]
     },
     "execution_count": 9,
     "metadata": {},
     "output_type": "execute_result"
    },
    {
     "data": {
      "text/plain": [
       "iteration59\t# current error = 0.22661066286526\t\n"
      ]
     },
     "execution_count": 9,
     "metadata": {},
     "output_type": "execute_result"
    },
    {
     "data": {
      "text/plain": [
       "iteration60\t# current error = 0.21567809932349\t\n"
      ]
     },
     "execution_count": 9,
     "metadata": {},
     "output_type": "execute_result"
    },
    {
     "data": {
      "text/plain": [
       "iteration61\t# current error = 0.20417240170477\t\n"
      ]
     },
     "execution_count": 9,
     "metadata": {},
     "output_type": "execute_result"
    },
    {
     "data": {
      "text/plain": [
       "iteration62\t# current error = 0.19328533472462\t\n"
      ]
     },
     "execution_count": 9,
     "metadata": {},
     "output_type": "execute_result"
    },
    {
     "data": {
      "text/plain": [
       "iteration63\t# current error = 0.18466804474465\t\n"
      ]
     },
     "execution_count": 9,
     "metadata": {},
     "output_type": "execute_result"
    },
    {
     "data": {
      "text/plain": [
       "iteration64\t# current error = 0.17454881568608\t\n"
      ]
     },
     "execution_count": 9,
     "metadata": {},
     "output_type": "execute_result"
    },
    {
     "data": {
      "text/plain": [
       "iteration65\t# current error = 0.16490496136499\t\n"
      ]
     },
     "execution_count": 9,
     "metadata": {},
     "output_type": "execute_result"
    },
    {
     "data": {
      "text/plain": [
       "iteration66\t# current error = 0.15694043373648\t\n"
      ]
     },
     "execution_count": 9,
     "metadata": {},
     "output_type": "execute_result"
    },
    {
     "data": {
      "text/plain": [
       "iteration67\t# current error = 0.14879410705732\t\n"
      ]
     },
     "execution_count": 9,
     "metadata": {},
     "output_type": "execute_result"
    },
    {
     "data": {
      "text/plain": [
       "iteration68\t# current error = 0.1414231513389\t\n"
      ]
     },
     "execution_count": 9,
     "metadata": {},
     "output_type": "execute_result"
    },
    {
     "data": {
      "text/plain": [
       "iteration69\t# current error = 0.13404832955783\t\n"
      ]
     },
     "execution_count": 9,
     "metadata": {},
     "output_type": "execute_result"
    },
    {
     "data": {
      "text/plain": [
       "iteration70\t# current error = 0.12706341154721\t\n"
      ]
     },
     "execution_count": 9,
     "metadata": {},
     "output_type": "execute_result"
    },
    {
     "data": {
      "text/plain": [
       "iteration71\t# current error = 0.12069607784421\t\n"
      ]
     },
     "execution_count": 9,
     "metadata": {},
     "output_type": "execute_result"
    },
    {
     "data": {
      "text/plain": [
       "iteration72\t# current error = 0.1144184694703\t\n"
      ]
     },
     "execution_count": 9,
     "metadata": {},
     "output_type": "execute_result"
    },
    {
     "data": {
      "text/plain": [
       "iteration73\t# current error = 0.10874848706691\t\n"
      ]
     },
     "execution_count": 9,
     "metadata": {},
     "output_type": "execute_result"
    },
    {
     "data": {
      "text/plain": [
       "iteration74\t# current error = 0.10317087952771\t\n"
      ]
     },
     "execution_count": 9,
     "metadata": {},
     "output_type": "execute_result"
    },
    {
     "data": {
      "text/plain": [
       "iteration75\t# current error = 0.098227172231839\t\n"
      ]
     },
     "execution_count": 9,
     "metadata": {},
     "output_type": "execute_result"
    },
    {
     "data": {
      "text/plain": [
       "iteration76\t# current error = 0.093832507830901\t\n"
      ]
     },
     "execution_count": 9,
     "metadata": {},
     "output_type": "execute_result"
    },
    {
     "data": {
      "text/plain": [
       "iteration77\t# current error = 0.089355239162933\t\n"
      ]
     },
     "execution_count": 9,
     "metadata": {},
     "output_type": "execute_result"
    },
    {
     "data": {
      "text/plain": [
       "iteration78\t# current error = 0.085299422107348\t\n"
      ]
     },
     "execution_count": 9,
     "metadata": {},
     "output_type": "execute_result"
    },
    {
     "data": {
      "text/plain": [
       "iteration79\t# current error = 0.081532963168448\t\n"
      ]
     },
     "execution_count": 9,
     "metadata": {},
     "output_type": "execute_result"
    },
    {
     "data": {
      "text/plain": [
       "iteration80\t"
      ]
     },
     "execution_count": 9,
     "metadata": {},
     "output_type": "execute_result"
    },
    {
     "data": {
      "text/plain": [
       "# current error = 0.077941044927631\t\n"
      ]
     },
     "execution_count": 9,
     "metadata": {},
     "output_type": "execute_result"
    },
    {
     "data": {
      "text/plain": [
       "iteration81\t# current error = 0.074423430927352\t\n"
      ]
     },
     "execution_count": 9,
     "metadata": {},
     "output_type": "execute_result"
    },
    {
     "data": {
      "text/plain": [
       "iteration82\t# current error = 0.071271620676787\t\n"
      ]
     },
     "execution_count": 9,
     "metadata": {},
     "output_type": "execute_result"
    },
    {
     "data": {
      "text/plain": [
       "iteration83\t# current error = 0.068432109424689\t\n"
      ]
     },
     "execution_count": 9,
     "metadata": {},
     "output_type": "execute_result"
    },
    {
     "data": {
      "text/plain": [
       "iteration84\t# current error = 0.065480457930608\t\n"
      ]
     },
     "execution_count": 9,
     "metadata": {},
     "output_type": "execute_result"
    },
    {
     "data": {
      "text/plain": [
       "iteration85\t# current error = 0.062915451800856\t\n"
      ]
     },
     "execution_count": 9,
     "metadata": {},
     "output_type": "execute_result"
    },
    {
     "data": {
      "text/plain": [
       "iteration86\t# current error = 0.060465287758038\t\n"
      ]
     },
     "execution_count": 9,
     "metadata": {},
     "output_type": "execute_result"
    },
    {
     "data": {
      "text/plain": [
       "iteration87\t# current error = 0.058077576167699\t\n"
      ]
     },
     "execution_count": 9,
     "metadata": {},
     "output_type": "execute_result"
    },
    {
     "data": {
      "text/plain": [
       "iteration88\t# current error = 0.055740424148099\t\n"
      ]
     },
     "execution_count": 9,
     "metadata": {},
     "output_type": "execute_result"
    },
    {
     "data": {
      "text/plain": [
       "iteration89\t# current error = 0.053724672579244\t\n"
      ]
     },
     "execution_count": 9,
     "metadata": {},
     "output_type": "execute_result"
    },
    {
     "data": {
      "text/plain": [
       "iteration90\t# current error = 0.051880750981291\t\n"
      ]
     },
     "execution_count": 9,
     "metadata": {},
     "output_type": "execute_result"
    },
    {
     "data": {
      "text/plain": [
       "iteration91\t# current error = 0.049992117444051\t\n"
      ]
     },
     "execution_count": 9,
     "metadata": {},
     "output_type": "execute_result"
    },
    {
     "data": {
      "text/plain": [
       "iteration92\t# current error = 0.048274321005768\t\n"
      ]
     },
     "execution_count": 9,
     "metadata": {},
     "output_type": "execute_result"
    },
    {
     "data": {
      "text/plain": [
       "iteration93\t# current error = 0.046613671101192\t\n"
      ]
     },
     "execution_count": 9,
     "metadata": {},
     "output_type": "execute_result"
    },
    {
     "data": {
      "text/plain": [
       "iteration94\t# current error = 0.045027381535345\t\n"
      ]
     },
     "execution_count": 9,
     "metadata": {},
     "output_type": "execute_result"
    },
    {
     "data": {
      "text/plain": [
       "iteration95\t# current error = 0.04348930484682\t\n"
      ]
     },
     "execution_count": 9,
     "metadata": {},
     "output_type": "execute_result"
    },
    {
     "data": {
      "text/plain": [
       "iteration96\t# current error = 0.041986415478301\t\n"
      ]
     },
     "execution_count": 9,
     "metadata": {},
     "output_type": "execute_result"
    },
    {
     "data": {
      "text/plain": [
       "iteration97\t# current error = 0.040713937094576\t\n"
      ]
     },
     "execution_count": 9,
     "metadata": {},
     "output_type": "execute_result"
    },
    {
     "data": {
      "text/plain": [
       "iteration98\t# current error = 0.039486959315472\t\n"
      ]
     },
     "execution_count": 9,
     "metadata": {},
     "output_type": "execute_result"
    },
    {
     "data": {
      "text/plain": [
       "iteration99\t# current error = 0.038186445643363\t\n"
      ]
     },
     "execution_count": 9,
     "metadata": {},
     "output_type": "execute_result"
    },
    {
     "data": {
      "text/plain": [
       "iteration100\t# current error = 0.036985906633258\t\n"
      ]
     },
     "execution_count": 9,
     "metadata": {},
     "output_type": "execute_result"
    },
    {
     "data": {
      "text/plain": [
       "iteration101\t# current error = 0.036009118046435\t\n"
      ]
     },
     "execution_count": 9,
     "metadata": {},
     "output_type": "execute_result"
    },
    {
     "data": {
      "text/plain": [
       "iteration102\t# current error = 0.034944416813165\t\n"
      ]
     },
     "execution_count": 9,
     "metadata": {},
     "output_type": "execute_result"
    },
    {
     "data": {
      "text/plain": [
       "iteration103\t# current error = 0.033853356660809\t\n"
      ]
     },
     "execution_count": 9,
     "metadata": {},
     "output_type": "execute_result"
    },
    {
     "data": {
      "text/plain": [
       "iteration104\t# current error = 0.032910378749454\t\n"
      ]
     },
     "execution_count": 9,
     "metadata": {},
     "output_type": "execute_result"
    },
    {
     "data": {
      "text/plain": [
       "iteration105\t# current error = 0.032044064923801\t\n"
      ]
     },
     "execution_count": 9,
     "metadata": {},
     "output_type": "execute_result"
    },
    {
     "data": {
      "text/plain": [
       "iteration106\t# current error = 0.031129732981338\t\n"
      ]
     },
     "execution_count": 9,
     "metadata": {},
     "output_type": "execute_result"
    },
    {
     "data": {
      "text/plain": [
       "iteration107\t# current error = 0.03029564387866\t\n"
      ]
     },
     "execution_count": 9,
     "metadata": {},
     "output_type": "execute_result"
    },
    {
     "data": {
      "text/plain": [
       "iteration108\t# current error = 0.029491724808472\t\n"
      ]
     },
     "execution_count": 9,
     "metadata": {},
     "output_type": "execute_result"
    },
    {
     "data": {
      "text/plain": [
       "iteration109\t# current error = 0.028681286185099\t\n"
      ]
     },
     "execution_count": 9,
     "metadata": {},
     "output_type": "execute_result"
    },
    {
     "data": {
      "text/plain": [
       "iteration110\t# current error = 0.027932453197296\t\n"
      ]
     },
     "execution_count": 9,
     "metadata": {},
     "output_type": "execute_result"
    },
    {
     "data": {
      "text/plain": [
       "iteration111\t# current error = 0.027338521648817\t\n"
      ]
     },
     "execution_count": 9,
     "metadata": {},
     "output_type": "execute_result"
    },
    {
     "data": {
      "text/plain": [
       "iteration112\t# current error = 0.026615557717627\t\n"
      ]
     },
     "execution_count": 9,
     "metadata": {},
     "output_type": "execute_result"
    },
    {
     "data": {
      "text/plain": [
       "iteration113\t# current error = 0.025990055625901\t\n"
      ]
     },
     "execution_count": 9,
     "metadata": {},
     "output_type": "execute_result"
    },
    {
     "data": {
      "text/plain": [
       "iteration114\t# current error = 0.025320713385503\t\n"
      ]
     },
     "execution_count": 9,
     "metadata": {},
     "output_type": "execute_result"
    },
    {
     "data": {
      "text/plain": [
       "iteration115\t# current error = 0.024735610669913\t\n"
      ]
     },
     "execution_count": 9,
     "metadata": {},
     "output_type": "execute_result"
    },
    {
     "data": {
      "text/plain": [
       "iteration116\t# current error = 0.024171767357546\t\n"
      ]
     },
     "execution_count": 9,
     "metadata": {},
     "output_type": "execute_result"
    },
    {
     "data": {
      "text/plain": [
       "iteration117\t# current error = 0.023602746249479\t\n"
      ]
     },
     "execution_count": 9,
     "metadata": {},
     "output_type": "execute_result"
    },
    {
     "data": {
      "text/plain": [
       "iteration118\t# current error = 0.023050454092794\t\n"
      ]
     },
     "execution_count": 9,
     "metadata": {},
     "output_type": "execute_result"
    },
    {
     "data": {
      "text/plain": [
       "iteration119\t# current error = 0.022498703300859\t\n"
      ]
     },
     "execution_count": 9,
     "metadata": {},
     "output_type": "execute_result"
    },
    {
     "data": {
      "text/plain": [
       "iteration120\t# current error = 0.02208520770169\t\n"
      ]
     },
     "execution_count": 9,
     "metadata": {},
     "output_type": "execute_result"
    },
    {
     "data": {
      "text/plain": [
       "iteration121\t# current error = 0.021555844446024\t\n"
      ]
     },
     "execution_count": 9,
     "metadata": {},
     "output_type": "execute_result"
    },
    {
     "data": {
      "text/plain": [
       "iteration122\t# current error = 0.021108748555805\t\n"
      ]
     },
     "execution_count": 9,
     "metadata": {},
     "output_type": "execute_result"
    },
    {
     "data": {
      "text/plain": [
       "iteration123\t# current error = 0.020686477493942\t\n"
      ]
     },
     "execution_count": 9,
     "metadata": {},
     "output_type": "execute_result"
    },
    {
     "data": {
      "text/plain": [
       "iteration124\t# current error = 0.020226590944914\t\n"
      ]
     },
     "execution_count": 9,
     "metadata": {},
     "output_type": "execute_result"
    },
    {
     "data": {
      "text/plain": [
       "iteration125\t# current error = 0.019801894759197\t\n"
      ]
     },
     "execution_count": 9,
     "metadata": {},
     "output_type": "execute_result"
    },
    {
     "data": {
      "text/plain": [
       "iteration126\t# current error = 0.019414898898229\t\n"
      ]
     },
     "execution_count": 9,
     "metadata": {},
     "output_type": "execute_result"
    },
    {
     "data": {
      "text/plain": [
       "iteration127\t# current error = 0.01901369215136\t\n"
      ]
     },
     "execution_count": 9,
     "metadata": {},
     "output_type": "execute_result"
    },
    {
     "data": {
      "text/plain": [
       "iteration128\t# current error = 0.018658450993041\t\n"
      ]
     },
     "execution_count": 9,
     "metadata": {},
     "output_type": "execute_result"
    },
    {
     "data": {
      "text/plain": [
       "iteration129\t# current error = 0.018314434790668\t\n"
      ]
     },
     "execution_count": 9,
     "metadata": {},
     "output_type": "execute_result"
    },
    {
     "data": {
      "text/plain": [
       "iteration130\t# current error = 0.017945785646043\t\n"
      ]
     },
     "execution_count": 9,
     "metadata": {},
     "output_type": "execute_result"
    },
    {
     "data": {
      "text/plain": [
       "iteration131\t# current error = 0.017619128749694\t\n"
      ]
     },
     "execution_count": 9,
     "metadata": {},
     "output_type": "execute_result"
    },
    {
     "data": {
      "text/plain": [
       "iteration132\t# current error = 0.017259427411256\t\n"
      ]
     },
     "execution_count": 9,
     "metadata": {},
     "output_type": "execute_result"
    },
    {
     "data": {
      "text/plain": [
       "iteration133\t# current error = 0.016959684347896\t\n"
      ]
     },
     "execution_count": 9,
     "metadata": {},
     "output_type": "execute_result"
    },
    {
     "data": {
      "text/plain": [
       "iteration134\t# current error = 0.016625046689422\t\n"
      ]
     },
     "execution_count": 9,
     "metadata": {},
     "output_type": "execute_result"
    },
    {
     "data": {
      "text/plain": [
       "iteration135\t# current error = 0.016351845475152\t\n"
      ]
     },
     "execution_count": 9,
     "metadata": {},
     "output_type": "execute_result"
    },
    {
     "data": {
      "text/plain": [
       "iteration136\t# current error = 0.016051127685282\t\n"
      ]
     },
     "execution_count": 9,
     "metadata": {},
     "output_type": "execute_result"
    },
    {
     "data": {
      "text/plain": [
       "iteration137\t# current error = 0.01576949455709\t\n"
      ]
     },
     "execution_count": 9,
     "metadata": {},
     "output_type": "execute_result"
    },
    {
     "data": {
      "text/plain": [
       "iteration138\t# current error = 0.015490583365357\t\n"
      ]
     },
     "execution_count": 9,
     "metadata": {},
     "output_type": "execute_result"
    },
    {
     "data": {
      "text/plain": [
       "iteration139\t# current error = 0.015245771467971\t\n"
      ]
     },
     "execution_count": 9,
     "metadata": {},
     "output_type": "execute_result"
    },
    {
     "data": {
      "text/plain": [
       "iteration140\t# current error = 0.015005497718609\t\n"
      ]
     },
     "execution_count": 9,
     "metadata": {},
     "output_type": "execute_result"
    },
    {
     "data": {
      "text/plain": [
       "iteration141\t# current error = 0.014732358571941\t\n"
      ]
     },
     "execution_count": 9,
     "metadata": {},
     "output_type": "execute_result"
    },
    {
     "data": {
      "text/plain": [
       "iteration142\t# current error = 0.014485654874023\t\n"
      ]
     },
     "execution_count": 9,
     "metadata": {},
     "output_type": "execute_result"
    },
    {
     "data": {
      "text/plain": [
       "iteration143\t# current error = 0.014232863721781\t\n"
      ]
     },
     "execution_count": 9,
     "metadata": {},
     "output_type": "execute_result"
    },
    {
     "data": {
      "text/plain": [
       "iteration144\t# current error = 0.014040761323943\t\n"
      ]
     },
     "execution_count": 9,
     "metadata": {},
     "output_type": "execute_result"
    },
    {
     "data": {
      "text/plain": [
       "iteration145\t# current error = 0.013811542936832\t\n"
      ]
     },
     "execution_count": 9,
     "metadata": {},
     "output_type": "execute_result"
    },
    {
     "data": {
      "text/plain": [
       "iteration146\t# current error = 0.013577652565276\t\n"
      ]
     },
     "execution_count": 9,
     "metadata": {},
     "output_type": "execute_result"
    },
    {
     "data": {
      "text/plain": [
       "iteration147\t# current error = 0.013369035371759\t\n"
      ]
     },
     "execution_count": 9,
     "metadata": {},
     "output_type": "execute_result"
    },
    {
     "data": {
      "text/plain": [
       "iteration148\t# current error = 0.013164054827392\t\n"
      ]
     },
     "execution_count": 9,
     "metadata": {},
     "output_type": "execute_result"
    },
    {
     "data": {
      "text/plain": [
       "iteration149\t# current error = 0.012954849764945\t\n"
      ]
     },
     "execution_count": 9,
     "metadata": {},
     "output_type": "execute_result"
    },
    {
     "data": {
      "text/plain": [
       "iteration150\t# current error = 0.01276500479487\t\n"
      ]
     },
     "execution_count": 9,
     "metadata": {},
     "output_type": "execute_result"
    },
    {
     "data": {
      "text/plain": [
       "iteration151\t# current error = 0.01257685771509\t\n"
      ]
     },
     "execution_count": 9,
     "metadata": {},
     "output_type": "execute_result"
    },
    {
     "data": {
      "text/plain": [
       "iteration152\t# current error = 0.012397365597986\t\n"
      ]
     },
     "execution_count": 9,
     "metadata": {},
     "output_type": "execute_result"
    },
    {
     "data": {
      "text/plain": [
       "iteration153\t# current error = 0.012208619063191\t\n"
      ]
     },
     "execution_count": 9,
     "metadata": {},
     "output_type": "execute_result"
    },
    {
     "data": {
      "text/plain": [
       "iteration154\t# current error = 0.01203127761065\t\n"
      ]
     },
     "execution_count": 9,
     "metadata": {},
     "output_type": "execute_result"
    },
    {
     "data": {
      "text/plain": [
       "iteration155\t# current error = 0.011860106333822\t\n"
      ]
     },
     "execution_count": 9,
     "metadata": {},
     "output_type": "execute_result"
    },
    {
     "data": {
      "text/plain": [
       "iteration156\t# current error = 0.011709735858689\t\n"
      ]
     },
     "execution_count": 9,
     "metadata": {},
     "output_type": "execute_result"
    },
    {
     "data": {
      "text/plain": [
       "iteration157\t# current error = 0.011530430435425\t\n"
      ]
     },
     "execution_count": 9,
     "metadata": {},
     "output_type": "execute_result"
    },
    {
     "data": {
      "text/plain": [
       "iteration158\t# current error = 0.011385083855983\t\n"
      ]
     },
     "execution_count": 9,
     "metadata": {},
     "output_type": "execute_result"
    },
    {
     "data": {
      "text/plain": [
       "iteration159\t# current error = 0.011226862365619\t\n"
      ]
     },
     "execution_count": 9,
     "metadata": {},
     "output_type": "execute_result"
    },
    {
     "data": {
      "text/plain": [
       "iteration160\t# current error = 0.011089436357731\t\n"
      ]
     },
     "execution_count": 9,
     "metadata": {},
     "output_type": "execute_result"
    },
    {
     "data": {
      "text/plain": [
       "iteration161\t# current error = 0.010932859180677\t\n"
      ]
     },
     "execution_count": 9,
     "metadata": {},
     "output_type": "execute_result"
    },
    {
     "data": {
      "text/plain": [
       "iteration162\t# current error = 0.010788173088409\t\n"
      ]
     },
     "execution_count": 9,
     "metadata": {},
     "output_type": "execute_result"
    },
    {
     "data": {
      "text/plain": [
       "iteration163\t# current error = 0.010659338478698\t\n"
      ]
     },
     "execution_count": 9,
     "metadata": {},
     "output_type": "execute_result"
    },
    {
     "data": {
      "text/plain": [
       "iteration164\t# current error = 0.0105177749934\t\n"
      ]
     },
     "execution_count": 9,
     "metadata": {},
     "output_type": "execute_result"
    },
    {
     "data": {
      "text/plain": [
       "iteration165\t# current error = 0.010392783840393\t\n"
      ]
     },
     "execution_count": 9,
     "metadata": {},
     "output_type": "execute_result"
    },
    {
     "data": {
      "text/plain": [
       "iteration166\t# current error = 0.010250946661692\t\n"
      ]
     },
     "execution_count": 9,
     "metadata": {},
     "output_type": "execute_result"
    },
    {
     "data": {
      "text/plain": [
       "iteration167\t# current error = 0.010130497207589\t\n"
      ]
     },
     "execution_count": 9,
     "metadata": {},
     "output_type": "execute_result"
    },
    {
     "data": {
      "text/plain": [
       "iteration168\t# current error = 0.010007746271527\t\n"
      ]
     },
     "execution_count": 9,
     "metadata": {},
     "output_type": "execute_result"
    },
    {
     "data": {
      "text/plain": [
       "iteration169\t# current error = 0.0098774611060246\t\n"
      ]
     },
     "execution_count": 9,
     "metadata": {},
     "output_type": "execute_result"
    },
    {
     "data": {
      "text/plain": [
       "iteration170\t# current error = 0.0097697967369386\t\n"
      ]
     },
     "execution_count": 9,
     "metadata": {},
     "output_type": "execute_result"
    },
    {
     "data": {
      "text/plain": [
       "iteration171\t# current error = 0.0096546597723059\t\n"
      ]
     },
     "execution_count": 9,
     "metadata": {},
     "output_type": "execute_result"
    },
    {
     "data": {
      "text/plain": [
       "iteration172\t# current error = 0.0095318493698074\t\n"
      ]
     },
     "execution_count": 9,
     "metadata": {},
     "output_type": "execute_result"
    },
    {
     "data": {
      "text/plain": [
       "iteration173\t# current error = 0.0094282693533357\t\n"
      ]
     },
     "execution_count": 9,
     "metadata": {},
     "output_type": "execute_result"
    },
    {
     "data": {
      "text/plain": [
       "iteration174\t# current error = 0.0093216706636235\t\n"
      ]
     },
     "execution_count": 9,
     "metadata": {},
     "output_type": "execute_result"
    },
    {
     "data": {
      "text/plain": [
       "iteration175\t# current error = 0.0092078563938626\t\n"
      ]
     },
     "execution_count": 9,
     "metadata": {},
     "output_type": "execute_result"
    },
    {
     "data": {
      "text/plain": [
       "iteration176\t# current error = 0.0091044948686697\t\n"
      ]
     },
     "execution_count": 9,
     "metadata": {},
     "output_type": "execute_result"
    },
    {
     "data": {
      "text/plain": [
       "iteration177\t# current error = 0.0090158866593885\t\n"
      ]
     },
     "execution_count": 9,
     "metadata": {},
     "output_type": "execute_result"
    },
    {
     "data": {
      "text/plain": [
       "iteration178\t# current error = 0.0089038153710658\t\n"
      ]
     },
     "execution_count": 9,
     "metadata": {},
     "output_type": "execute_result"
    },
    {
     "data": {
      "text/plain": [
       "iteration179\t# current error = 0.0088078159431856\t\n"
      ]
     },
     "execution_count": 9,
     "metadata": {},
     "output_type": "execute_result"
    },
    {
     "data": {
      "text/plain": [
       "iteration180\t# current error = 0.0087176928885455\t\n"
      ]
     },
     "execution_count": 9,
     "metadata": {},
     "output_type": "execute_result"
    },
    {
     "data": {
      "text/plain": [
       "iteration181\t# current error = 0.0086079530593315\t\n"
      ]
     },
     "execution_count": 9,
     "metadata": {},
     "output_type": "execute_result"
    },
    {
     "data": {
      "text/plain": [
       "iteration182\t# current error = 0.0085279186314283\t\n"
      ]
     },
     "execution_count": 9,
     "metadata": {},
     "output_type": "execute_result"
    },
    {
     "data": {
      "text/plain": [
       "iteration183\t# current error = 0.0084406430971034\t\n"
      ]
     },
     "execution_count": 9,
     "metadata": {},
     "output_type": "execute_result"
    },
    {
     "data": {
      "text/plain": [
       "iteration184\t# current error = 0.0083457585384151\t\n"
      ]
     },
     "execution_count": 9,
     "metadata": {},
     "output_type": "execute_result"
    },
    {
     "data": {
      "text/plain": [
       "iteration185\t# current error = 0.008261713364463\t\n"
      ]
     },
     "execution_count": 9,
     "metadata": {},
     "output_type": "execute_result"
    },
    {
     "data": {
      "text/plain": [
       "iteration186\t# current error = 0.0081773695771843\t\n"
      ]
     },
     "execution_count": 9,
     "metadata": {},
     "output_type": "execute_result"
    },
    {
     "data": {
      "text/plain": [
       "iteration187\t# current error = 0.0080868161023841\t\n"
      ]
     },
     "execution_count": 9,
     "metadata": {},
     "output_type": "execute_result"
    },
    {
     "data": {
      "text/plain": [
       "iteration188\t# current error = 0.0080077430604178\t\n"
      ]
     },
     "execution_count": 9,
     "metadata": {},
     "output_type": "execute_result"
    },
    {
     "data": {
      "text/plain": [
       "iteration189\t# current error = 0.0079309498880908\t\n"
      ]
     },
     "execution_count": 9,
     "metadata": {},
     "output_type": "execute_result"
    },
    {
     "data": {
      "text/plain": [
       "iteration190\t# current error = 0.0078441224878603\t\n"
      ]
     },
     "execution_count": 9,
     "metadata": {},
     "output_type": "execute_result"
    },
    {
     "data": {
      "text/plain": [
       "iteration191\t# current error = 0.0077717762998387\t\n"
      ]
     },
     "execution_count": 9,
     "metadata": {},
     "output_type": "execute_result"
    },
    {
     "data": {
      "text/plain": [
       "iteration192\t# current error = 0.0076897066385944\t\n"
      ]
     },
     "execution_count": 9,
     "metadata": {},
     "output_type": "execute_result"
    },
    {
     "data": {
      "text/plain": [
       "iteration193\t# current error = 0.0076138248781686\t\n"
      ]
     },
     "execution_count": 9,
     "metadata": {},
     "output_type": "execute_result"
    },
    {
     "data": {
      "text/plain": [
       "iteration194\t# current error = 0.0075424296576461\t\n"
      ]
     },
     "execution_count": 9,
     "metadata": {},
     "output_type": "execute_result"
    },
    {
     "data": {
      "text/plain": [
       "iteration195\t"
      ]
     },
     "execution_count": 9,
     "metadata": {},
     "output_type": "execute_result"
    },
    {
     "data": {
      "text/plain": [
       "# current error = 0.0074697656307059\t\n"
      ]
     },
     "execution_count": 9,
     "metadata": {},
     "output_type": "execute_result"
    },
    {
     "data": {
      "text/plain": [
       "iteration196\t# current error = 0.0073969369300933\t\n"
      ]
     },
     "execution_count": 9,
     "metadata": {},
     "output_type": "execute_result"
    },
    {
     "data": {
      "text/plain": [
       "iteration197\t# current error = 0.007329008669453\t\n"
      ]
     },
     "execution_count": 9,
     "metadata": {},
     "output_type": "execute_result"
    },
    {
     "data": {
      "text/plain": [
       "iteration198\t# current error = 0.0072599442497408\t\n"
      ]
     },
     "execution_count": 9,
     "metadata": {},
     "output_type": "execute_result"
    },
    {
     "data": {
      "text/plain": [
       "iteration199\t# current error = 0.0071883337896389\t\n"
      ]
     },
     "execution_count": 9,
     "metadata": {},
     "output_type": "execute_result"
    },
    {
     "data": {
      "text/plain": [
       "iteration200\t# current error = 0.0071252560888301\t\n"
      ]
     },
     "execution_count": 9,
     "metadata": {},
     "output_type": "execute_result"
    },
    {
     "data": {
      "text/plain": [
       "iteration201\t# current error = 0.0070519801509589\t\n"
      ]
     },
     "execution_count": 9,
     "metadata": {},
     "output_type": "execute_result"
    },
    {
     "data": {
      "text/plain": [
       "iteration202\t# current error = 0.0069966542236909\t\n"
      ]
     },
     "execution_count": 9,
     "metadata": {},
     "output_type": "execute_result"
    },
    {
     "data": {
      "text/plain": [
       "iteration203\t# current error = 0.0069264804666211\t\n"
      ]
     },
     "execution_count": 9,
     "metadata": {},
     "output_type": "execute_result"
    },
    {
     "data": {
      "text/plain": [
       "iteration204\t# current error = 0.0068711293826898\t\n"
      ]
     },
     "execution_count": 9,
     "metadata": {},
     "output_type": "execute_result"
    },
    {
     "data": {
      "text/plain": [
       "iteration205\t# current error = 0.0068045863394434\t\n"
      ]
     },
     "execution_count": 9,
     "metadata": {},
     "output_type": "execute_result"
    },
    {
     "data": {
      "text/plain": [
       "iteration206\t# current error = 0.0067438847001372\t\n"
      ]
     },
     "execution_count": 9,
     "metadata": {},
     "output_type": "execute_result"
    },
    {
     "data": {
      "text/plain": [
       "iteration207\t# current error = 0.0066849387911581\t\n"
      ]
     },
     "execution_count": 9,
     "metadata": {},
     "output_type": "execute_result"
    },
    {
     "data": {
      "text/plain": [
       "iteration208\t# current error = 0.0066262840762086\t\n"
      ]
     },
     "execution_count": 9,
     "metadata": {},
     "output_type": "execute_result"
    },
    {
     "data": {
      "text/plain": [
       "iteration209\t# current error = 0.006564959019313\t\n"
      ]
     },
     "execution_count": 9,
     "metadata": {},
     "output_type": "execute_result"
    },
    {
     "data": {
      "text/plain": [
       "iteration210\t# current error = 0.0065101565658139\t\n"
      ]
     },
     "execution_count": 9,
     "metadata": {},
     "output_type": "execute_result"
    },
    {
     "data": {
      "text/plain": [
       "iteration211\t# current error = 0.006456959951189\t\n"
      ]
     },
     "execution_count": 9,
     "metadata": {},
     "output_type": "execute_result"
    },
    {
     "data": {
      "text/plain": [
       "iteration212\t"
      ]
     },
     "execution_count": 9,
     "metadata": {},
     "output_type": "execute_result"
    },
    {
     "data": {
      "text/plain": [
       "# current error = 0.0063977339326344\t\n"
      ]
     },
     "execution_count": 9,
     "metadata": {},
     "output_type": "execute_result"
    },
    {
     "data": {
      "text/plain": [
       "iteration213\t# current error = 0.006346999860914\t\n"
      ]
     },
     "execution_count": 9,
     "metadata": {},
     "output_type": "execute_result"
    },
    {
     "data": {
      "text/plain": [
       "iteration214\t# current error = 0.0062950094757912\t\n"
      ]
     },
     "execution_count": 9,
     "metadata": {},
     "output_type": "execute_result"
    },
    {
     "data": {
      "text/plain": [
       "iteration215\t# current error = 0.0062364953018503\t\n"
      ]
     },
     "execution_count": 9,
     "metadata": {},
     "output_type": "execute_result"
    },
    {
     "data": {
      "text/plain": [
       "iteration216\t# current error = 0.0061845697857921\t\n"
      ]
     },
     "execution_count": 9,
     "metadata": {},
     "output_type": "execute_result"
    },
    {
     "data": {
      "text/plain": [
       "iteration217\t# current error = 0.006136890368317\t\n"
      ]
     },
     "execution_count": 9,
     "metadata": {},
     "output_type": "execute_result"
    },
    {
     "data": {
      "text/plain": [
       "iteration218\t# current error = 0.006085530678507\t\n"
      ]
     },
     "execution_count": 9,
     "metadata": {},
     "output_type": "execute_result"
    },
    {
     "data": {
      "text/plain": [
       "iteration219\t# current error = 0.0060367529795184\t\n"
      ]
     },
     "execution_count": 9,
     "metadata": {},
     "output_type": "execute_result"
    },
    {
     "data": {
      "text/plain": [
       "iteration220\t# current error = 0.0059859901198209\t\n"
      ]
     },
     "execution_count": 9,
     "metadata": {},
     "output_type": "execute_result"
    },
    {
     "data": {
      "text/plain": [
       "iteration221\t# current error = 0.0059365666087468\t\n"
      ]
     },
     "execution_count": 9,
     "metadata": {},
     "output_type": "execute_result"
    },
    {
     "data": {
      "text/plain": [
       "iteration222\t# current error = 0.0058914263833696\t\n"
      ]
     },
     "execution_count": 9,
     "metadata": {},
     "output_type": "execute_result"
    },
    {
     "data": {
      "text/plain": [
       "iteration223\t# current error = 0.0058437513851757\t\n"
      ]
     },
     "execution_count": 9,
     "metadata": {},
     "output_type": "execute_result"
    },
    {
     "data": {
      "text/plain": [
       "iteration224\t# current error = 0.0058011065906344\t\n"
      ]
     },
     "execution_count": 9,
     "metadata": {},
     "output_type": "execute_result"
    },
    {
     "data": {
      "text/plain": [
       "iteration225\t# current error = 0.005752195000167\t\n"
      ]
     },
     "execution_count": 9,
     "metadata": {},
     "output_type": "execute_result"
    },
    {
     "data": {
      "text/plain": [
       "iteration226\t# current error = 0.0057061173897419\t\n"
      ]
     },
     "execution_count": 9,
     "metadata": {},
     "output_type": "execute_result"
    },
    {
     "data": {
      "text/plain": [
       "iteration227\t# current error = 0.0056629858273571\t\n"
      ]
     },
     "execution_count": 9,
     "metadata": {},
     "output_type": "execute_result"
    },
    {
     "data": {
      "text/plain": [
       "iteration228\t# current error = 0.0056208806072461\t\n"
      ]
     },
     "execution_count": 9,
     "metadata": {},
     "output_type": "execute_result"
    },
    {
     "data": {
      "text/plain": [
       "iteration229\t# current error = 0.0055781253761587\t"
      ]
     },
     "execution_count": 9,
     "metadata": {},
     "output_type": "execute_result"
    },
    {
     "data": {
      "text/plain": [
       "\n"
      ]
     },
     "execution_count": 9,
     "metadata": {},
     "output_type": "execute_result"
    },
    {
     "data": {
      "text/plain": [
       "iteration230\t# current error = 0.0055334905799061\t\n"
      ]
     },
     "execution_count": 9,
     "metadata": {},
     "output_type": "execute_result"
    },
    {
     "data": {
      "text/plain": [
       "iteration231\t"
      ]
     },
     "execution_count": 9,
     "metadata": {},
     "output_type": "execute_result"
    },
    {
     "data": {
      "text/plain": [
       "# current error = 0.0054914236754196\t\n"
      ]
     },
     "execution_count": 9,
     "metadata": {},
     "output_type": "execute_result"
    },
    {
     "data": {
      "text/plain": [
       "iteration232\t# current error = 0.0054488490621736\t\n"
      ]
     },
     "execution_count": 9,
     "metadata": {},
     "output_type": "execute_result"
    },
    {
     "data": {
      "text/plain": [
       "iteration233\t# current error = 0.0054105888876004\t\n"
      ]
     },
     "execution_count": 9,
     "metadata": {},
     "output_type": "execute_result"
    },
    {
     "data": {
      "text/plain": [
       "iteration234\t# current error = 0.0053695140323197\t\n"
      ]
     },
     "execution_count": 9,
     "metadata": {},
     "output_type": "execute_result"
    },
    {
     "data": {
      "text/plain": [
       "iteration235\t# current error = 0.005330739306083\t\n"
      ]
     },
     "execution_count": 9,
     "metadata": {},
     "output_type": "execute_result"
    },
    {
     "data": {
      "text/plain": [
       "iteration236\t# current error = 0.0052926415883731\t\n"
      ]
     },
     "execution_count": 9,
     "metadata": {},
     "output_type": "execute_result"
    },
    {
     "data": {
      "text/plain": [
       "iteration237\t# current error = 0.0052507030815215\t\n"
      ]
     },
     "execution_count": 9,
     "metadata": {},
     "output_type": "execute_result"
    },
    {
     "data": {
      "text/plain": [
       "iteration238\t# current error = 0.0052117204941449\t\n"
      ]
     },
     "execution_count": 9,
     "metadata": {},
     "output_type": "execute_result"
    },
    {
     "data": {
      "text/plain": [
       "iteration239\t# current error = 0.0051786679536158\t\n"
      ]
     },
     "execution_count": 9,
     "metadata": {},
     "output_type": "execute_result"
    },
    {
     "data": {
      "text/plain": [
       "iteration240\t# current error = 0.0051375740027272\t\n"
      ]
     },
     "execution_count": 9,
     "metadata": {},
     "output_type": "execute_result"
    },
    {
     "data": {
      "text/plain": [
       "iteration241\t# current error = 0.0051018083101592\t\n"
      ]
     },
     "execution_count": 9,
     "metadata": {},
     "output_type": "execute_result"
    },
    {
     "data": {
      "text/plain": [
       "iteration242\t# current error = 0.0050666077870796\t\n"
      ]
     },
     "execution_count": 9,
     "metadata": {},
     "output_type": "execute_result"
    },
    {
     "data": {
      "text/plain": [
       "iteration243\t# current error = 0.0050300265971145\t\n"
      ]
     },
     "execution_count": 9,
     "metadata": {},
     "output_type": "execute_result"
    },
    {
     "data": {
      "text/plain": [
       "iteration244\t# current error = 0.0049940672393586\t\n"
      ]
     },
     "execution_count": 9,
     "metadata": {},
     "output_type": "execute_result"
    },
    {
     "data": {
      "text/plain": [
       "iteration245\t# current error = 0.0049584009582988\t\n"
      ]
     },
     "execution_count": 9,
     "metadata": {},
     "output_type": "execute_result"
    },
    {
     "data": {
      "text/plain": [
       "iteration246\t# current error = 0.0049275773309369\t\n"
      ]
     },
     "execution_count": 9,
     "metadata": {},
     "output_type": "execute_result"
    },
    {
     "data": {
      "text/plain": [
       "iteration247\t# current error = 0.0048902065942521\t\n"
      ]
     },
     "execution_count": 9,
     "metadata": {},
     "output_type": "execute_result"
    },
    {
     "data": {
      "text/plain": [
       "iteration248\t# current error = 0.0048565722748789\t\n"
      ]
     },
     "execution_count": 9,
     "metadata": {},
     "output_type": "execute_result"
    },
    {
     "data": {
      "text/plain": [
       "iteration249\t# current error = 0.0048256906100862\t\n"
      ]
     },
     "execution_count": 9,
     "metadata": {},
     "output_type": "execute_result"
    },
    {
     "data": {
      "text/plain": [
       "iteration250\t# current error = 0.0047902090352719\t\n"
      ]
     },
     "execution_count": 9,
     "metadata": {},
     "output_type": "execute_result"
    },
    {
     "data": {
      "text/plain": [
       "iteration251\t# current error = 0.0047595727106162\t\n"
      ]
     },
     "execution_count": 9,
     "metadata": {},
     "output_type": "execute_result"
    },
    {
     "data": {
      "text/plain": [
       "iteration252\t# current error = 0.004728718854871\t\n"
      ]
     },
     "execution_count": 9,
     "metadata": {},
     "output_type": "execute_result"
    },
    {
     "data": {
      "text/plain": [
       "iteration253\t# current error = 0.0046945398250572\t\n"
      ]
     },
     "execution_count": 9,
     "metadata": {},
     "output_type": "execute_result"
    },
    {
     "data": {
      "text/plain": [
       "iteration254\t# current error = 0.004665503012522\t\n"
      ]
     },
     "execution_count": 9,
     "metadata": {},
     "output_type": "execute_result"
    },
    {
     "data": {
      "text/plain": [
       "iteration255\t# current error = 0.0046345679161529\t\n"
      ]
     },
     "execution_count": 9,
     "metadata": {},
     "output_type": "execute_result"
    },
    {
     "data": {
      "text/plain": [
       "iteration256\t# current error = 0.004603716812609\t\n"
      ]
     },
     "execution_count": 9,
     "metadata": {},
     "output_type": "execute_result"
    },
    {
     "data": {
      "text/plain": [
       "iteration257\t# current error = 0.0045736743741023\t\n"
      ]
     },
     "execution_count": 9,
     "metadata": {},
     "output_type": "execute_result"
    },
    {
     "data": {
      "text/plain": [
       "iteration258\t# current error = 0.0045441282039872\t\n"
      ]
     },
     "execution_count": 9,
     "metadata": {},
     "output_type": "execute_result"
    },
    {
     "data": {
      "text/plain": [
       "iteration259\t# current error = 0.004514103832785\t\n"
      ]
     },
     "execution_count": 9,
     "metadata": {},
     "output_type": "execute_result"
    },
    {
     "data": {
      "text/plain": [
       "iteration260\t# current error = 0.0044830349595036\t\n"
      ]
     },
     "execution_count": 9,
     "metadata": {},
     "output_type": "execute_result"
    },
    {
     "data": {
      "text/plain": [
       "iteration261\t# current error = 0.0044576125364604\t\n"
      ]
     },
     "execution_count": 9,
     "metadata": {},
     "output_type": "execute_result"
    },
    {
     "data": {
      "text/plain": [
       "iteration262\t# current error = 0.0044299516605849\t\n"
      ]
     },
     "execution_count": 9,
     "metadata": {},
     "output_type": "execute_result"
    },
    {
     "data": {
      "text/plain": [
       "iteration263\t# current error = 0.0044005322898711\t\n"
      ]
     },
     "execution_count": 9,
     "metadata": {},
     "output_type": "execute_result"
    },
    {
     "data": {
      "text/plain": [
       "iteration264\t# current error = 0.0043700377937816\t\n"
      ]
     },
     "execution_count": 9,
     "metadata": {},
     "output_type": "execute_result"
    },
    {
     "data": {
      "text/plain": [
       "iteration265\t# current error = 0.0043457311853045\t\n"
      ]
     },
     "execution_count": 9,
     "metadata": {},
     "output_type": "execute_result"
    },
    {
     "data": {
      "text/plain": [
       "iteration266\t# current error = 0.0043167274202851\t\n"
      ]
     },
     "execution_count": 9,
     "metadata": {},
     "output_type": "execute_result"
    },
    {
     "data": {
      "text/plain": [
       "iteration267\t# current error = 0.0042909140500993\t\n"
      ]
     },
     "execution_count": 9,
     "metadata": {},
     "output_type": "execute_result"
    },
    {
     "data": {
      "text/plain": [
       "iteration268\t# current error = 0.0042619026422195\t\n"
      ]
     },
     "execution_count": 9,
     "metadata": {},
     "output_type": "execute_result"
    },
    {
     "data": {
      "text/plain": [
       "iteration269\t# current error = 0.0042389816909075\t\n"
      ]
     },
     "execution_count": 9,
     "metadata": {},
     "output_type": "execute_result"
    },
    {
     "data": {
      "text/plain": [
       "iteration270\t# current error = 0.0042102461889252\t\n"
      ]
     },
     "execution_count": 9,
     "metadata": {},
     "output_type": "execute_result"
    },
    {
     "data": {
      "text/plain": [
       "iteration271\t# current error = 0.0041875291930888\t\n"
      ]
     },
     "execution_count": 9,
     "metadata": {},
     "output_type": "execute_result"
    },
    {
     "data": {
      "text/plain": [
       "iteration272\t# current error = 0.0041598554592573\t\n"
      ]
     },
     "execution_count": 9,
     "metadata": {},
     "output_type": "execute_result"
    },
    {
     "data": {
      "text/plain": [
       "iteration273\t# current error = 0.0041349043111457\t\n"
      ]
     },
     "execution_count": 9,
     "metadata": {},
     "output_type": "execute_result"
    },
    {
     "data": {
      "text/plain": [
       "iteration274\t# current error = 0.004109458124451\t\n"
      ]
     },
     "execution_count": 9,
     "metadata": {},
     "output_type": "execute_result"
    },
    {
     "data": {
      "text/plain": [
       "iteration275\t# current error = 0.0040900186233347\t\n"
      ]
     },
     "execution_count": 9,
     "metadata": {},
     "output_type": "execute_result"
    },
    {
     "data": {
      "text/plain": [
       "iteration276\t# current error = 0.0040613733106507\t\n"
      ]
     },
     "execution_count": 9,
     "metadata": {},
     "output_type": "execute_result"
    },
    {
     "data": {
      "text/plain": [
       "iteration277\t# current error = 0.0040367515833598\t\n"
      ]
     },
     "execution_count": 9,
     "metadata": {},
     "output_type": "execute_result"
    },
    {
     "data": {
      "text/plain": [
       "iteration278\t# current error = 0.0040149437886429\t\n"
      ]
     },
     "execution_count": 9,
     "metadata": {},
     "output_type": "execute_result"
    },
    {
     "data": {
      "text/plain": [
       "iteration279\t# current error = 0.0039892137014967\t\n"
      ]
     },
     "execution_count": 9,
     "metadata": {},
     "output_type": "execute_result"
    },
    {
     "data": {
      "text/plain": [
       "iteration280\t# current error = 0.0039653766689804\t\n"
      ]
     },
     "execution_count": 9,
     "metadata": {},
     "output_type": "execute_result"
    },
    {
     "data": {
      "text/plain": [
       "iteration281\t# current error = 0.0039447657249435\t\n"
      ]
     },
     "execution_count": 9,
     "metadata": {},
     "output_type": "execute_result"
    },
    {
     "data": {
      "text/plain": [
       "iteration282\t# current error = 0.0039233745212801\t\n"
      ]
     },
     "execution_count": 9,
     "metadata": {},
     "output_type": "execute_result"
    },
    {
     "data": {
      "text/plain": [
       "iteration283\t# current error = 0.0038980350519498\t\n"
      ]
     },
     "execution_count": 9,
     "metadata": {},
     "output_type": "execute_result"
    },
    {
     "data": {
      "text/plain": [
       "iteration284\t# current error = 0.0038749039256817\t\n"
      ]
     },
     "execution_count": 9,
     "metadata": {},
     "output_type": "execute_result"
    },
    {
     "data": {
      "text/plain": [
       "iteration285\t# current error = 0.003855179409401\t\n"
      ]
     },
     "execution_count": 9,
     "metadata": {},
     "output_type": "execute_result"
    },
    {
     "data": {
      "text/plain": [
       "iteration286\t# current error = 0.0038304663105669\t\n"
      ]
     },
     "execution_count": 9,
     "metadata": {},
     "output_type": "execute_result"
    },
    {
     "data": {
      "text/plain": [
       "iteration287\t# current error = 0.003811303989736\t\n"
      ]
     },
     "execution_count": 9,
     "metadata": {},
     "output_type": "execute_result"
    },
    {
     "data": {
      "text/plain": [
       "iteration288\t# current error = 0.003789284620625\t\n"
      ]
     },
     "execution_count": 9,
     "metadata": {},
     "output_type": "execute_result"
    },
    {
     "data": {
      "text/plain": [
       "iteration289\t# current error = 0.00376647938533\t\n"
      ]
     },
     "execution_count": 9,
     "metadata": {},
     "output_type": "execute_result"
    },
    {
     "data": {
      "text/plain": [
       "iteration290\t# current error = 0.0037466081218251\t\n"
      ]
     },
     "execution_count": 9,
     "metadata": {},
     "output_type": "execute_result"
    },
    {
     "data": {
      "text/plain": [
       "iteration291\t# current error = 0.0037261831527492\t\n"
      ]
     },
     "execution_count": 9,
     "metadata": {},
     "output_type": "execute_result"
    },
    {
     "data": {
      "text/plain": [
       "iteration292\t# current error = 0.003707143165927\t\n"
      ]
     },
     "execution_count": 9,
     "metadata": {},
     "output_type": "execute_result"
    },
    {
     "data": {
      "text/plain": [
       "iteration293\t# current error = 0.0036838055934895\t\n"
      ]
     },
     "execution_count": 9,
     "metadata": {},
     "output_type": "execute_result"
    },
    {
     "data": {
      "text/plain": [
       "iteration294\t# current error = 0.0036654226728811\t\n"
      ]
     },
     "execution_count": 9,
     "metadata": {},
     "output_type": "execute_result"
    },
    {
     "data": {
      "text/plain": [
       "iteration295\t# current error = 0.0036450953338555\t\n"
      ]
     },
     "execution_count": 9,
     "metadata": {},
     "output_type": "execute_result"
    },
    {
     "data": {
      "text/plain": [
       "iteration296\t# current error = 0.0036247770947209\t\n"
      ]
     },
     "execution_count": 9,
     "metadata": {},
     "output_type": "execute_result"
    },
    {
     "data": {
      "text/plain": [
       "iteration297\t# current error = 0.0036051267056841\t\n"
      ]
     },
     "execution_count": 9,
     "metadata": {},
     "output_type": "execute_result"
    },
    {
     "data": {
      "text/plain": [
       "iteration298\t# current error = 0.0035846433386657\t\n"
      ]
     },
     "execution_count": 9,
     "metadata": {},
     "output_type": "execute_result"
    },
    {
     "data": {
      "text/plain": [
       "iteration299\t# current error = 0.0035677276222118\t\n"
      ]
     },
     "execution_count": 9,
     "metadata": {},
     "output_type": "execute_result"
    },
    {
     "data": {
      "text/plain": [
       "iteration300\t# current error = 0.003547697899346\t\n"
      ]
     },
     "execution_count": 9,
     "metadata": {},
     "output_type": "execute_result"
    },
    {
     "data": {
      "text/plain": [
       "iteration301\t# current error = 0.0035293350860225\t\n"
      ]
     },
     "execution_count": 9,
     "metadata": {},
     "output_type": "execute_result"
    },
    {
     "data": {
      "text/plain": [
       "iteration302\t# current error = 0.0035101684596485\t\n"
      ]
     },
     "execution_count": 9,
     "metadata": {},
     "output_type": "execute_result"
    },
    {
     "data": {
      "text/plain": [
       "iteration303\t# current error = 0.0034920907498211\t\n"
      ]
     },
     "execution_count": 9,
     "metadata": {},
     "output_type": "execute_result"
    },
    {
     "data": {
      "text/plain": [
       "iteration304\t# current error = 0.0034720352445387\t\n"
      ]
     },
     "execution_count": 9,
     "metadata": {},
     "output_type": "execute_result"
    },
    {
     "data": {
      "text/plain": [
       "iteration305\t# current error = 0.0034557007536036\t\n"
      ]
     },
     "execution_count": 9,
     "metadata": {},
     "output_type": "execute_result"
    },
    {
     "data": {
      "text/plain": [
       "iteration306\t# current error = 0.0034370805311985\t\n"
      ]
     },
     "execution_count": 9,
     "metadata": {},
     "output_type": "execute_result"
    },
    {
     "data": {
      "text/plain": [
       "iteration307\t# current error = 0.003418474672554\t\n"
      ]
     },
     "execution_count": 9,
     "metadata": {},
     "output_type": "execute_result"
    },
    {
     "data": {
      "text/plain": [
       "iteration308\t"
      ]
     },
     "execution_count": 9,
     "metadata": {},
     "output_type": "execute_result"
    },
    {
     "data": {
      "text/plain": [
       "# current error = 0.0034002725788269\t\n"
      ]
     },
     "execution_count": 9,
     "metadata": {},
     "output_type": "execute_result"
    },
    {
     "data": {
      "text/plain": [
       "iteration309\t# current error = 0.0033854300121901\t\n"
      ]
     },
     "execution_count": 9,
     "metadata": {},
     "output_type": "execute_result"
    },
    {
     "data": {
      "text/plain": [
       "iteration310\t# current error = 0.0033667887027339\t\n"
      ]
     },
     "execution_count": 9,
     "metadata": {},
     "output_type": "execute_result"
    },
    {
     "data": {
      "text/plain": [
       "iteration311\t# current error = 0.0033495165511769\t\n"
      ]
     },
     "execution_count": 9,
     "metadata": {},
     "output_type": "execute_result"
    },
    {
     "data": {
      "text/plain": [
       "iteration312\t# current error = 0.0033337096444792\t\n"
      ]
     },
     "execution_count": 9,
     "metadata": {},
     "output_type": "execute_result"
    },
    {
     "data": {
      "text/plain": [
       "iteration313\t# current error = 0.0033148686932158\t\n"
      ]
     },
     "execution_count": 9,
     "metadata": {},
     "output_type": "execute_result"
    },
    {
     "data": {
      "text/plain": [
       "iteration314\t# current error = 0.003298831735786\t\n"
      ]
     },
     "execution_count": 9,
     "metadata": {},
     "output_type": "execute_result"
    },
    {
     "data": {
      "text/plain": [
       "iteration315\t# current error = 0.0032815828031831\t\n"
      ]
     },
     "execution_count": 9,
     "metadata": {},
     "output_type": "execute_result"
    },
    {
     "data": {
      "text/plain": [
       "iteration316\t# current error = 0.0032672191544244\t\n"
      ]
     },
     "execution_count": 9,
     "metadata": {},
     "output_type": "execute_result"
    },
    {
     "data": {
      "text/plain": [
       "iteration317\t# current error = 0.0032485236727725\t\n"
      ]
     },
     "execution_count": 9,
     "metadata": {},
     "output_type": "execute_result"
    },
    {
     "data": {
      "text/plain": [
       "iteration318\t# current error = 0.0032334463821534\t\n"
      ]
     },
     "execution_count": 9,
     "metadata": {},
     "output_type": "execute_result"
    },
    {
     "data": {
      "text/plain": [
       "iteration319\t# current error = 0.003218073857376\t\n"
      ]
     },
     "execution_count": 9,
     "metadata": {},
     "output_type": "execute_result"
    },
    {
     "data": {
      "text/plain": [
       "iteration320\t# current error = 0.0032032224458125\t\n"
      ]
     },
     "execution_count": 9,
     "metadata": {},
     "output_type": "execute_result"
    },
    {
     "data": {
      "text/plain": [
       "iteration321\t# current error = 0.003185906078078\t\n"
      ]
     },
     "execution_count": 9,
     "metadata": {},
     "output_type": "execute_result"
    },
    {
     "data": {
      "text/plain": [
       "iteration322\t# current error = 0.0031700073113247\t\n"
      ]
     },
     "execution_count": 9,
     "metadata": {},
     "output_type": "execute_result"
    },
    {
     "data": {
      "text/plain": [
       "iteration323\t# current error = 0.0031554789014157\t\n"
      ]
     },
     "execution_count": 9,
     "metadata": {},
     "output_type": "execute_result"
    },
    {
     "data": {
      "text/plain": [
       "iteration324\t# current error = 0.0031397925712232\t\n"
      ]
     },
     "execution_count": 9,
     "metadata": {},
     "output_type": "execute_result"
    },
    {
     "data": {
      "text/plain": [
       "iteration325\t# current error = 0.0031257164220807\t\n"
      ]
     },
     "execution_count": 9,
     "metadata": {},
     "output_type": "execute_result"
    },
    {
     "data": {
      "text/plain": [
       "iteration326\t# current error = 0.0031110881552075\t\n"
      ]
     },
     "execution_count": 9,
     "metadata": {},
     "output_type": "execute_result"
    },
    {
     "data": {
      "text/plain": [
       "iteration327\t# current error = 0.0030946179466898\t\n"
      ]
     },
     "execution_count": 9,
     "metadata": {},
     "output_type": "execute_result"
    },
    {
     "data": {
      "text/plain": [
       "iteration328\t# current error = 0.0030800842859244\t\n"
      ]
     },
     "execution_count": 9,
     "metadata": {},
     "output_type": "execute_result"
    },
    {
     "data": {
      "text/plain": [
       "iteration329\t# current error = 0.003065984156265\t\n"
      ]
     },
     "execution_count": 9,
     "metadata": {},
     "output_type": "execute_result"
    },
    {
     "data": {
      "text/plain": [
       "iteration330\t# current error = 0.0030517825349469\t\n"
      ]
     },
     "execution_count": 9,
     "metadata": {},
     "output_type": "execute_result"
    },
    {
     "data": {
      "text/plain": [
       "iteration331\t# current error = 0.0030367522764113\t\n"
      ]
     },
     "execution_count": 9,
     "metadata": {},
     "output_type": "execute_result"
    },
    {
     "data": {
      "text/plain": [
       "iteration332\t# current error = 0.0030225567676624\t\n"
      ]
     },
     "execution_count": 9,
     "metadata": {},
     "output_type": "execute_result"
    },
    {
     "data": {
      "text/plain": [
       "iteration333\t# current error = 0.0030092801676435\t\n"
      ]
     },
     "execution_count": 9,
     "metadata": {},
     "output_type": "execute_result"
    },
    {
     "data": {
      "text/plain": [
       "iteration334\t# current error = 0.0029956745834378\t\n"
      ]
     },
     "execution_count": 9,
     "metadata": {},
     "output_type": "execute_result"
    },
    {
     "data": {
      "text/plain": [
       "iteration335\t"
      ]
     },
     "execution_count": 9,
     "metadata": {},
     "output_type": "execute_result"
    },
    {
     "data": {
      "text/plain": [
       "# current error = 0.0029799256515513\t\n"
      ]
     },
     "execution_count": 9,
     "metadata": {},
     "output_type": "execute_result"
    },
    {
     "data": {
      "text/plain": [
       "iteration336\t# current error = 0.0029663751679059\t\n"
      ]
     },
     "execution_count": 9,
     "metadata": {},
     "output_type": "execute_result"
    },
    {
     "data": {
      "text/plain": [
       "iteration337\t# current error = 0.0029546230270657\t\n"
      ]
     },
     "execution_count": 9,
     "metadata": {},
     "output_type": "execute_result"
    },
    {
     "data": {
      "text/plain": [
       "iteration338\t# current error = 0.0029388812696031\t\n"
      ]
     },
     "execution_count": 9,
     "metadata": {},
     "output_type": "execute_result"
    },
    {
     "data": {
      "text/plain": [
       "iteration339\t# current error = 0.0029263173846247\t\n"
      ]
     },
     "execution_count": 9,
     "metadata": {},
     "output_type": "execute_result"
    },
    {
     "data": {
      "text/plain": [
       "iteration340\t# current error = 0.0029142042158377\t\n"
      ]
     },
     "execution_count": 9,
     "metadata": {},
     "output_type": "execute_result"
    },
    {
     "data": {
      "text/plain": [
       "iteration341\t# current error = 0.0029000929094729\t\n"
      ]
     },
     "execution_count": 9,
     "metadata": {},
     "output_type": "execute_result"
    },
    {
     "data": {
      "text/plain": [
       "iteration342\t# current error = 0.0028871574174246\t\n"
      ]
     },
     "execution_count": 9,
     "metadata": {},
     "output_type": "execute_result"
    },
    {
     "data": {
      "text/plain": [
       "iteration343\t# current error = 0.0028722708250062\t\n"
      ]
     },
     "execution_count": 9,
     "metadata": {},
     "output_type": "execute_result"
    },
    {
     "data": {
      "text/plain": [
       "iteration344\t# current error = 0.0028614315723442\t\n"
      ]
     },
     "execution_count": 9,
     "metadata": {},
     "output_type": "execute_result"
    },
    {
     "data": {
      "text/plain": [
       "iteration345\t# current error = 0.0028485308963816\t\n"
      ]
     },
     "execution_count": 9,
     "metadata": {},
     "output_type": "execute_result"
    },
    {
     "data": {
      "text/plain": [
       "iteration346\t# current error = 0.0028365486381847\t\n"
      ]
     },
     "execution_count": 9,
     "metadata": {},
     "output_type": "execute_result"
    },
    {
     "data": {
      "text/plain": [
       "iteration347\t# current error = 0.0028225090439836\t\n"
      ]
     },
     "execution_count": 9,
     "metadata": {},
     "output_type": "execute_result"
    },
    {
     "data": {
      "text/plain": [
       "iteration348\t# current error = 0.0028092852133826\t\n"
      ]
     },
     "execution_count": 9,
     "metadata": {},
     "output_type": "execute_result"
    },
    {
     "data": {
      "text/plain": [
       "iteration349\t# current error = 0.0027992801131435\t\n"
      ]
     },
     "execution_count": 9,
     "metadata": {},
     "output_type": "execute_result"
    },
    {
     "data": {
      "text/plain": [
       "iteration350\t# current error = 0.0027858254981254\t\n"
      ]
     },
     "execution_count": 9,
     "metadata": {},
     "output_type": "execute_result"
    },
    {
     "data": {
      "text/plain": [
       "iteration351\t# current error = 0.0027734424391987\t\n"
      ]
     },
     "execution_count": 9,
     "metadata": {},
     "output_type": "execute_result"
    },
    {
     "data": {
      "text/plain": [
       "iteration352\t# current error = 0.0027627041997904\t\n"
      ]
     },
     "execution_count": 9,
     "metadata": {},
     "output_type": "execute_result"
    },
    {
     "data": {
      "text/plain": [
       "iteration353\t# current error = 0.0027492865782994\t\n"
      ]
     },
     "execution_count": 9,
     "metadata": {},
     "output_type": "execute_result"
    },
    {
     "data": {
      "text/plain": [
       "iteration354\t# current error = 0.0027377773473676\t\n"
      ]
     },
     "execution_count": 9,
     "metadata": {},
     "output_type": "execute_result"
    },
    {
     "data": {
      "text/plain": [
       "iteration355\t# current error = 0.0027254549659616\t\n"
      ]
     },
     "execution_count": 9,
     "metadata": {},
     "output_type": "execute_result"
    },
    {
     "data": {
      "text/plain": [
       "iteration356\t# current error = 0.002714164435758\t\n"
      ]
     },
     "execution_count": 9,
     "metadata": {},
     "output_type": "execute_result"
    },
    {
     "data": {
      "text/plain": [
       "iteration357\t# current error = 0.0027027780968516\t\n"
      ]
     },
     "execution_count": 9,
     "metadata": {},
     "output_type": "execute_result"
    },
    {
     "data": {
      "text/plain": [
       "iteration358\t# current error = 0.00269188071076\t\n"
      ]
     },
     "execution_count": 9,
     "metadata": {},
     "output_type": "execute_result"
    },
    {
     "data": {
      "text/plain": [
       "iteration359\t# current error = 0.0026794763052436\t\n"
      ]
     },
     "execution_count": 9,
     "metadata": {},
     "output_type": "execute_result"
    },
    {
     "data": {
      "text/plain": [
       "iteration360\t# current error = 0.0026679561125979\t\n"
      ]
     },
     "execution_count": 9,
     "metadata": {},
     "output_type": "execute_result"
    },
    {
     "data": {
      "text/plain": [
       "iteration361\t# current error = 0.0026571290820907\t\n"
      ]
     },
     "execution_count": 9,
     "metadata": {},
     "output_type": "execute_result"
    },
    {
     "data": {
      "text/plain": [
       "iteration362\t# current error = 0.0026460051373109\t\n"
      ]
     },
     "execution_count": 9,
     "metadata": {},
     "output_type": "execute_result"
    },
    {
     "data": {
      "text/plain": [
       "iteration363\t# current error = 0.0026343635607465\t\n"
      ]
     },
     "execution_count": 9,
     "metadata": {},
     "output_type": "execute_result"
    },
    {
     "data": {
      "text/plain": [
       "iteration364\t# current error = 0.0026244083349694\t\n"
      ]
     },
     "execution_count": 9,
     "metadata": {},
     "output_type": "execute_result"
    },
    {
     "data": {
      "text/plain": [
       "iteration365\t# current error = 0.002612895534756\t\n"
      ]
     },
     "execution_count": 9,
     "metadata": {},
     "output_type": "execute_result"
    },
    {
     "data": {
      "text/plain": [
       "iteration366\t# current error = 0.0026022980926466\t\n"
      ]
     },
     "execution_count": 9,
     "metadata": {},
     "output_type": "execute_result"
    },
    {
     "data": {
      "text/plain": [
       "iteration367\t# current error = 0.0025911751924767\t\n"
      ]
     },
     "execution_count": 9,
     "metadata": {},
     "output_type": "execute_result"
    },
    {
     "data": {
      "text/plain": [
       "iteration368\t# current error = 0.0025806145882307\t\n"
      ]
     },
     "execution_count": 9,
     "metadata": {},
     "output_type": "execute_result"
    },
    {
     "data": {
      "text/plain": [
       "iteration369\t# current error = 0.0025696211190895\t\n"
      ]
     },
     "execution_count": 9,
     "metadata": {},
     "output_type": "execute_result"
    },
    {
     "data": {
      "text/plain": [
       "iteration370\t# current error = 0.0025599018727379\t\n"
      ]
     },
     "execution_count": 9,
     "metadata": {},
     "output_type": "execute_result"
    },
    {
     "data": {
      "text/plain": [
       "iteration371\t# current error = 0.0025485080339203\t\n"
      ]
     },
     "execution_count": 9,
     "metadata": {},
     "output_type": "execute_result"
    },
    {
     "data": {
      "text/plain": [
       "iteration372\t# current error = 0.0025387457956476\t\n"
      ]
     },
     "execution_count": 9,
     "metadata": {},
     "output_type": "execute_result"
    },
    {
     "data": {
      "text/plain": [
       "iteration373\t# current error = 0.0025286724200701\t\n"
      ]
     },
     "execution_count": 9,
     "metadata": {},
     "output_type": "execute_result"
    },
    {
     "data": {
      "text/plain": [
       "iteration374\t# current error = 0.0025174952686779\t\n"
      ]
     },
     "execution_count": 9,
     "metadata": {},
     "output_type": "execute_result"
    },
    {
     "data": {
      "text/plain": [
       "iteration375\t# current error = 0.0025076174859126\t\n"
      ]
     },
     "execution_count": 9,
     "metadata": {},
     "output_type": "execute_result"
    },
    {
     "data": {
      "text/plain": [
       "iteration376\t# current error = 0.0024984913853218\t\n"
      ]
     },
     "execution_count": 9,
     "metadata": {},
     "output_type": "execute_result"
    },
    {
     "data": {
      "text/plain": [
       "iteration377\t# current error = 0.0024871093315205\t\n"
      ]
     },
     "execution_count": 9,
     "metadata": {},
     "output_type": "execute_result"
    },
    {
     "data": {
      "text/plain": [
       "iteration378\t# current error = 0.0024771683949041\t\n"
      ]
     },
     "execution_count": 9,
     "metadata": {},
     "output_type": "execute_result"
    },
    {
     "data": {
      "text/plain": [
       "iteration379\t# current error = 0.0024682635593691\t\n"
      ]
     },
     "execution_count": 9,
     "metadata": {},
     "output_type": "execute_result"
    },
    {
     "data": {
      "text/plain": [
       "iteration380\t# current error = 0.0024582603036906\t\n"
      ]
     },
     "execution_count": 9,
     "metadata": {},
     "output_type": "execute_result"
    },
    {
     "data": {
      "text/plain": [
       "iteration381\t# current error = 0.0024485620351301\t\n"
      ]
     },
     "execution_count": 9,
     "metadata": {},
     "output_type": "execute_result"
    },
    {
     "data": {
      "text/plain": [
       "iteration382\t# current error = 0.0024393316543543\t\n"
      ]
     },
     "execution_count": 9,
     "metadata": {},
     "output_type": "execute_result"
    },
    {
     "data": {
      "text/plain": [
       "iteration383\t# current error = 0.002429752967121\t\n"
      ]
     },
     "execution_count": 9,
     "metadata": {},
     "output_type": "execute_result"
    },
    {
     "data": {
      "text/plain": [
       "iteration384\t# current error = 0.0024201133897783\t\n"
      ]
     },
     "execution_count": 9,
     "metadata": {},
     "output_type": "execute_result"
    },
    {
     "data": {
      "text/plain": [
       "iteration385\t# current error = 0.0024095452844271\t\n"
      ]
     },
     "execution_count": 9,
     "metadata": {},
     "output_type": "execute_result"
    },
    {
     "data": {
      "text/plain": [
       "iteration386\t# current error = 0.0024009543523876\t\n"
      ]
     },
     "execution_count": 9,
     "metadata": {},
     "output_type": "execute_result"
    },
    {
     "data": {
      "text/plain": [
       "iteration387\t# current error = 0.0023915490207293\t\n"
      ]
     },
     "execution_count": 9,
     "metadata": {},
     "output_type": "execute_result"
    },
    {
     "data": {
      "text/plain": [
       "iteration388\t# current error = 0.0023829614829093\t\n"
      ]
     },
     "execution_count": 9,
     "metadata": {},
     "output_type": "execute_result"
    },
    {
     "data": {
      "text/plain": [
       "iteration389\t# current error = 0.0023736324995623\t\n"
      ]
     },
     "execution_count": 9,
     "metadata": {},
     "output_type": "execute_result"
    },
    {
     "data": {
      "text/plain": [
       "iteration390\t# current error = 0.0023643124984122\t\n"
      ]
     },
     "execution_count": 9,
     "metadata": {},
     "output_type": "execute_result"
    },
    {
     "data": {
      "text/plain": [
       "iteration391\t# current error = 0.0023548392563191\t\n"
      ]
     },
     "execution_count": 9,
     "metadata": {},
     "output_type": "execute_result"
    },
    {
     "data": {
      "text/plain": [
       "iteration392\t# current error = 0.0023456748524691\t\n"
      ]
     },
     "execution_count": 9,
     "metadata": {},
     "output_type": "execute_result"
    },
    {
     "data": {
      "text/plain": [
       "iteration393\t# current error = 0.0023369663793934\t\n"
      ]
     },
     "execution_count": 9,
     "metadata": {},
     "output_type": "execute_result"
    },
    {
     "data": {
      "text/plain": [
       "iteration394\t# current error = 0.0023286059369496\t\n"
      ]
     },
     "execution_count": 9,
     "metadata": {},
     "output_type": "execute_result"
    },
    {
     "data": {
      "text/plain": [
       "iteration395\t# current error = 0.0023201827246868\t\n"
      ]
     },
     "execution_count": 9,
     "metadata": {},
     "output_type": "execute_result"
    },
    {
     "data": {
      "text/plain": [
       "iteration396\t# current error = 0.002310794582926\t\n"
      ]
     },
     "execution_count": 9,
     "metadata": {},
     "output_type": "execute_result"
    },
    {
     "data": {
      "text/plain": [
       "iteration397\t# current error = 0.0023024381093013\t\n"
      ]
     },
     "execution_count": 9,
     "metadata": {},
     "output_type": "execute_result"
    },
    {
     "data": {
      "text/plain": [
       "iteration398\t# current error = 0.0022933104961443\t\n"
      ]
     },
     "execution_count": 9,
     "metadata": {},
     "output_type": "execute_result"
    },
    {
     "data": {
      "text/plain": [
       "iteration399\t# current error = 0.0022847394748857\t\n"
      ]
     },
     "execution_count": 9,
     "metadata": {},
     "output_type": "execute_result"
    },
    {
     "data": {
      "text/plain": [
       "iteration400\t# current error = 0.0022762724045988\t\n"
      ]
     },
     "execution_count": 9,
     "metadata": {},
     "output_type": "execute_result"
    },
    {
     "data": {
      "text/plain": [
       "iteration401\t# current error = 0.0022680289695171\t\n"
      ]
     },
     "execution_count": 9,
     "metadata": {},
     "output_type": "execute_result"
    },
    {
     "data": {
      "text/plain": [
       "iteration402\t# current error = 0.0022589790928335\t\n"
      ]
     },
     "execution_count": 9,
     "metadata": {},
     "output_type": "execute_result"
    },
    {
     "data": {
      "text/plain": [
       "iteration403\t# current error = 0.0022505634280912\t\n"
      ]
     },
     "execution_count": 9,
     "metadata": {},
     "output_type": "execute_result"
    },
    {
     "data": {
      "text/plain": [
       "iteration404\t# current error = 0.0022426592858292\t\n"
      ]
     },
     "execution_count": 9,
     "metadata": {},
     "output_type": "execute_result"
    },
    {
     "data": {
      "text/plain": [
       "iteration405\t# current error = 0.0022333788016243\t\n"
      ]
     },
     "execution_count": 9,
     "metadata": {},
     "output_type": "execute_result"
    },
    {
     "data": {
      "text/plain": [
       "iteration406\t# current error = 0.0022253845425279\t\n"
      ]
     },
     "execution_count": 9,
     "metadata": {},
     "output_type": "execute_result"
    },
    {
     "data": {
      "text/plain": [
       "iteration407\t# current error = 0.0022178448790197\t\n"
      ]
     },
     "execution_count": 9,
     "metadata": {},
     "output_type": "execute_result"
    },
    {
     "data": {
      "text/plain": [
       "iteration408\t# current error = 0.0022091915662875\t\n"
      ]
     },
     "execution_count": 9,
     "metadata": {},
     "output_type": "execute_result"
    },
    {
     "data": {
      "text/plain": [
       "iteration409\t# current error = 0.00220068955305\t\n"
      ]
     },
     "execution_count": 9,
     "metadata": {},
     "output_type": "execute_result"
    },
    {
     "data": {
      "text/plain": [
       "iteration410\t# current error = 0.0021929084165366\t\n"
      ]
     },
     "execution_count": 9,
     "metadata": {},
     "output_type": "execute_result"
    },
    {
     "data": {
      "text/plain": [
       "iteration411\t# current error = 0.0021841891346662\t\n"
      ]
     },
     "execution_count": 9,
     "metadata": {},
     "output_type": "execute_result"
    },
    {
     "data": {
      "text/plain": [
       "iteration412\t# current error = 0.0021767954459364\t\n"
      ]
     },
     "execution_count": 9,
     "metadata": {},
     "output_type": "execute_result"
    },
    {
     "data": {
      "text/plain": [
       "iteration413\t# current error = 0.0021679547436957\t\n"
      ]
     },
     "execution_count": 9,
     "metadata": {},
     "output_type": "execute_result"
    },
    {
     "data": {
      "text/plain": [
       "iteration414\t# current error = 0.0021611582978321\t\n"
      ]
     },
     "execution_count": 9,
     "metadata": {},
     "output_type": "execute_result"
    },
    {
     "data": {
      "text/plain": [
       "iteration415\t# current error = 0.0021521966400448\t\n"
      ]
     },
     "execution_count": 9,
     "metadata": {},
     "output_type": "execute_result"
    },
    {
     "data": {
      "text/plain": [
       "iteration416\t# current error = 0.0021451591110315\t\n"
      ]
     },
     "execution_count": 9,
     "metadata": {},
     "output_type": "execute_result"
    },
    {
     "data": {
      "text/plain": [
       "iteration417\t# current error = 0.0021366354315962\t\n"
      ]
     },
     "execution_count": 9,
     "metadata": {},
     "output_type": "execute_result"
    },
    {
     "data": {
      "text/plain": [
       "iteration418\t# current error = 0.0021299133411144\t\n"
      ]
     },
     "execution_count": 9,
     "metadata": {},
     "output_type": "execute_result"
    },
    {
     "data": {
      "text/plain": [
       "iteration419\t# current error = 0.0021217597448783\t\n"
      ]
     },
     "execution_count": 9,
     "metadata": {},
     "output_type": "execute_result"
    },
    {
     "data": {
      "text/plain": [
       "iteration420\t# current error = 0.0021138454844991\t\n"
      ]
     },
     "execution_count": 9,
     "metadata": {},
     "output_type": "execute_result"
    },
    {
     "data": {
      "text/plain": [
       "iteration421\t# current error = 0.0021069672206687\t\n"
      ]
     },
     "execution_count": 9,
     "metadata": {},
     "output_type": "execute_result"
    },
    {
     "data": {
      "text/plain": [
       "iteration422\t# current error = 0.0020993135577281\t\n"
      ]
     },
     "execution_count": 9,
     "metadata": {},
     "output_type": "execute_result"
    },
    {
     "data": {
      "text/plain": [
       "iteration423\t# current error = 0.0020909187368872\t\n"
      ]
     },
     "execution_count": 9,
     "metadata": {},
     "output_type": "execute_result"
    },
    {
     "data": {
      "text/plain": [
       "iteration424\t# current error = 0.0020843747572493\t\n"
      ]
     },
     "execution_count": 9,
     "metadata": {},
     "output_type": "execute_result"
    },
    {
     "data": {
      "text/plain": [
       "iteration425\t# current error = 0.002077028115688\t\n"
      ]
     },
     "execution_count": 9,
     "metadata": {},
     "output_type": "execute_result"
    },
    {
     "data": {
      "text/plain": [
       "iteration426\t# current error = 0.0020695940241305\t\n"
      ]
     },
     "execution_count": 9,
     "metadata": {},
     "output_type": "execute_result"
    },
    {
     "data": {
      "text/plain": [
       "iteration427\t# current error = 0.0020618856391815\t\n"
      ]
     },
     "execution_count": 9,
     "metadata": {},
     "output_type": "execute_result"
    },
    {
     "data": {
      "text/plain": [
       "iteration428\t# current error = 0.0020540207750346\t\n"
      ]
     },
     "execution_count": 9,
     "metadata": {},
     "output_type": "execute_result"
    },
    {
     "data": {
      "text/plain": [
       "iteration429\t# current error = 0.0020480360226644\t\n"
      ]
     },
     "execution_count": 9,
     "metadata": {},
     "output_type": "execute_result"
    },
    {
     "data": {
      "text/plain": [
       "iteration430\t# current error = 0.0020407156782886\t\n"
      ]
     },
     "execution_count": 9,
     "metadata": {},
     "output_type": "execute_result"
    },
    {
     "data": {
      "text/plain": [
       "iteration431\t# current error = 0.0020330555057828\t\n"
      ]
     },
     "execution_count": 9,
     "metadata": {},
     "output_type": "execute_result"
    },
    {
     "data": {
      "text/plain": [
       "iteration432\t# current error = 0.0020261868654316\t\n"
      ]
     },
     "execution_count": 9,
     "metadata": {},
     "output_type": "execute_result"
    },
    {
     "data": {
      "text/plain": [
       "iteration433\t# current error = 0.0020187352335336\t\n"
      ]
     },
     "execution_count": 9,
     "metadata": {},
     "output_type": "execute_result"
    },
    {
     "data": {
      "text/plain": [
       "iteration434\t# current error = 0.0020126056993424\t\n"
      ]
     },
     "execution_count": 9,
     "metadata": {},
     "output_type": "execute_result"
    },
    {
     "data": {
      "text/plain": [
       "iteration435\t# current error = 0.0020055769280197\t\n"
      ]
     },
     "execution_count": 9,
     "metadata": {},
     "output_type": "execute_result"
    },
    {
     "data": {
      "text/plain": [
       "iteration436\t# current error = 0.001998276978721\t\n"
      ]
     },
     "execution_count": 9,
     "metadata": {},
     "output_type": "execute_result"
    },
    {
     "data": {
      "text/plain": [
       "iteration437\t# current error = 0.0019916479477674\t\n"
      ]
     },
     "execution_count": 9,
     "metadata": {},
     "output_type": "execute_result"
    },
    {
     "data": {
      "text/plain": [
       "iteration438\t# current error = 0.0019852988849086\t\n"
      ]
     },
     "execution_count": 9,
     "metadata": {},
     "output_type": "execute_result"
    },
    {
     "data": {
      "text/plain": [
       "iteration439\t# current error = 0.0019782955381011\t\n"
      ]
     },
     "execution_count": 9,
     "metadata": {},
     "output_type": "execute_result"
    },
    {
     "data": {
      "text/plain": [
       "iteration440\t# current error = 0.0019712824956421\t\n"
      ]
     },
     "execution_count": 9,
     "metadata": {},
     "output_type": "execute_result"
    },
    {
     "data": {
      "text/plain": [
       "iteration441\t# current error = 0.0019646822601688\t\n"
      ]
     },
     "execution_count": 9,
     "metadata": {},
     "output_type": "execute_result"
    },
    {
     "data": {
      "text/plain": [
       "iteration442\t# current error = 0.0019578972979444\t\n"
      ]
     },
     "execution_count": 9,
     "metadata": {},
     "output_type": "execute_result"
    },
    {
     "data": {
      "text/plain": [
       "iteration443\t# current error = 0.0019518764714718\t\n"
      ]
     },
     "execution_count": 9,
     "metadata": {},
     "output_type": "execute_result"
    },
    {
     "data": {
      "text/plain": [
       "iteration444\t# current error = 0.0019447559352369\t\n"
      ]
     },
     "execution_count": 9,
     "metadata": {},
     "output_type": "execute_result"
    },
    {
     "data": {
      "text/plain": [
       "iteration445\t# current error = 0.001938219114392\t\n"
      ]
     },
     "execution_count": 9,
     "metadata": {},
     "output_type": "execute_result"
    },
    {
     "data": {
      "text/plain": [
       "iteration446\t# current error = 0.0019315179587762\t\n"
      ]
     },
     "execution_count": 9,
     "metadata": {},
     "output_type": "execute_result"
    },
    {
     "data": {
      "text/plain": [
       "iteration447\t# current error = 0.0019259161823537\t\n"
      ]
     },
     "execution_count": 9,
     "metadata": {},
     "output_type": "execute_result"
    },
    {
     "data": {
      "text/plain": [
       "iteration448\t# current error = 0.0019185995043063\t\n"
      ]
     },
     "execution_count": 9,
     "metadata": {},
     "output_type": "execute_result"
    },
    {
     "data": {
      "text/plain": [
       "iteration449\t# current error = 0.0019129913364735\t\n"
      ]
     },
     "execution_count": 9,
     "metadata": {},
     "output_type": "execute_result"
    },
    {
     "data": {
      "text/plain": [
       "iteration450\t# current error = 0.0019062960115178\t\n"
      ]
     },
     "execution_count": 9,
     "metadata": {},
     "output_type": "execute_result"
    },
    {
     "data": {
      "text/plain": [
       "iteration451\t# current error = 0.001899931142279\t\n"
      ]
     },
     "execution_count": 9,
     "metadata": {},
     "output_type": "execute_result"
    },
    {
     "data": {
      "text/plain": [
       "iteration452\t# current error = 0.0018939525039053\t\n"
      ]
     },
     "execution_count": 9,
     "metadata": {},
     "output_type": "execute_result"
    },
    {
     "data": {
      "text/plain": [
       "iteration453\t# current error = 0.0018879047340356\t\n"
      ]
     },
     "execution_count": 9,
     "metadata": {},
     "output_type": "execute_result"
    },
    {
     "data": {
      "text/plain": [
       "iteration454\t# current error = 0.0018816074382856\t\n"
      ]
     },
     "execution_count": 9,
     "metadata": {},
     "output_type": "execute_result"
    },
    {
     "data": {
      "text/plain": [
       "iteration455\t# current error = 0.0018753027513231\t\n"
      ]
     },
     "execution_count": 9,
     "metadata": {},
     "output_type": "execute_result"
    },
    {
     "data": {
      "text/plain": [
       "iteration456\t# current error = 0.0018693787849949\t\n"
      ]
     },
     "execution_count": 9,
     "metadata": {},
     "output_type": "execute_result"
    },
    {
     "data": {
      "text/plain": [
       "iteration457\t# current error = 0.00186345555374\t\n"
      ]
     },
     "execution_count": 9,
     "metadata": {},
     "output_type": "execute_result"
    },
    {
     "data": {
      "text/plain": [
       "iteration458\t# current error = 0.0018571663160594\t\n"
      ]
     },
     "execution_count": 9,
     "metadata": {},
     "output_type": "execute_result"
    },
    {
     "data": {
      "text/plain": [
       "iteration459\t# current error = 0.001851342113315\t\n"
      ]
     },
     "execution_count": 9,
     "metadata": {},
     "output_type": "execute_result"
    },
    {
     "data": {
      "text/plain": [
       "iteration460\t# current error = 0.0018450373758613\t\n"
      ]
     },
     "execution_count": 9,
     "metadata": {},
     "output_type": "execute_result"
    },
    {
     "data": {
      "text/plain": [
       "iteration461\t# current error = 0.001839435932921\t\n"
      ]
     },
     "execution_count": 9,
     "metadata": {},
     "output_type": "execute_result"
    },
    {
     "data": {
      "text/plain": [
       "iteration462\t# current error = 0.0018331963502519\t\n"
      ]
     },
     "execution_count": 9,
     "metadata": {},
     "output_type": "execute_result"
    },
    {
     "data": {
      "text/plain": [
       "iteration463\t"
      ]
     },
     "execution_count": 9,
     "metadata": {},
     "output_type": "execute_result"
    },
    {
     "data": {
      "text/plain": [
       "# current error = 0.0018277557890108\t\n"
      ]
     },
     "execution_count": 9,
     "metadata": {},
     "output_type": "execute_result"
    },
    {
     "data": {
      "text/plain": [
       "iteration464\t# current error = 0.0018219914813136\t\n"
      ]
     },
     "execution_count": 9,
     "metadata": {},
     "output_type": "execute_result"
    },
    {
     "data": {
      "text/plain": [
       "iteration465\t# current error = 0.0018162168818189\t\n"
      ]
     },
     "execution_count": 9,
     "metadata": {},
     "output_type": "execute_result"
    },
    {
     "data": {
      "text/plain": [
       "iteration466\t# current error = 0.0018106671302672\t\n"
      ]
     },
     "execution_count": 9,
     "metadata": {},
     "output_type": "execute_result"
    },
    {
     "data": {
      "text/plain": [
       "iteration467\t# current error = 0.001804438188732\t\n"
      ]
     },
     "execution_count": 9,
     "metadata": {},
     "output_type": "execute_result"
    },
    {
     "data": {
      "text/plain": [
       "iteration468\t# current error = 0.0017988096031008\t\n"
      ]
     },
     "execution_count": 9,
     "metadata": {},
     "output_type": "execute_result"
    },
    {
     "data": {
      "text/plain": [
       "iteration469\t# current error = 0.0017933237867351\t\n"
      ]
     },
     "execution_count": 9,
     "metadata": {},
     "output_type": "execute_result"
    },
    {
     "data": {
      "text/plain": [
       "iteration470\t# current error = 0.0017874266105331\t\n"
      ]
     },
     "execution_count": 9,
     "metadata": {},
     "output_type": "execute_result"
    },
    {
     "data": {
      "text/plain": [
       "iteration471\t# current error = 0.001782286536533\t\n"
      ]
     },
     "execution_count": 9,
     "metadata": {},
     "output_type": "execute_result"
    },
    {
     "data": {
      "text/plain": [
       "iteration472\t# current error = 0.0017763257316903\t\n"
      ]
     },
     "execution_count": 9,
     "metadata": {},
     "output_type": "execute_result"
    },
    {
     "data": {
      "text/plain": [
       "iteration473\t# current error = 0.0017709798623509\t\n"
      ]
     },
     "execution_count": 9,
     "metadata": {},
     "output_type": "execute_result"
    },
    {
     "data": {
      "text/plain": [
       "iteration474\t# current error = 0.0017661525352385\t\n"
      ]
     },
     "execution_count": 9,
     "metadata": {},
     "output_type": "execute_result"
    },
    {
     "data": {
      "text/plain": [
       "iteration475\t# current error = 0.0017595875689549\t\n"
      ]
     },
     "execution_count": 9,
     "metadata": {},
     "output_type": "execute_result"
    },
    {
     "data": {
      "text/plain": [
       "iteration476\t# current error = 0.0017549102948923\t\n"
      ]
     },
     "execution_count": 9,
     "metadata": {},
     "output_type": "execute_result"
    },
    {
     "data": {
      "text/plain": [
       "iteration477\t# current error = 0.0017495120262631\t\n"
      ]
     },
     "execution_count": 9,
     "metadata": {},
     "output_type": "execute_result"
    },
    {
     "data": {
      "text/plain": [
       "iteration478\t# current error = 0.0017441750640518\t\n"
      ]
     },
     "execution_count": 9,
     "metadata": {},
     "output_type": "execute_result"
    },
    {
     "data": {
      "text/plain": [
       "iteration479\t# current error = 0.0017381874414644\t\n"
      ]
     },
     "execution_count": 9,
     "metadata": {},
     "output_type": "execute_result"
    },
    {
     "data": {
      "text/plain": [
       "iteration480\t# current error = 0.0017333995796892\t\n"
      ]
     },
     "execution_count": 9,
     "metadata": {},
     "output_type": "execute_result"
    },
    {
     "data": {
      "text/plain": [
       "iteration481\t# current error = 0.0017278067371658\t\n"
      ]
     },
     "execution_count": 9,
     "metadata": {},
     "output_type": "execute_result"
    },
    {
     "data": {
      "text/plain": [
       "iteration482\t# current error = 0.0017234519463698\t\n"
      ]
     },
     "execution_count": 9,
     "metadata": {},
     "output_type": "execute_result"
    },
    {
     "data": {
      "text/plain": [
       "iteration483\t# current error = 0.00171745367785\t\n"
      ]
     },
     "execution_count": 9,
     "metadata": {},
     "output_type": "execute_result"
    },
    {
     "data": {
      "text/plain": [
       "iteration484\t# current error = 0.00171241613566\t\n"
      ]
     },
     "execution_count": 9,
     "metadata": {},
     "output_type": "execute_result"
    },
    {
     "data": {
      "text/plain": [
       "iteration485\t# current error = 0.0017072283624717\t\n"
      ]
     },
     "execution_count": 9,
     "metadata": {},
     "output_type": "execute_result"
    },
    {
     "data": {
      "text/plain": [
       "iteration486\t# current error = 0.0017020061679489\t\n"
      ]
     },
     "execution_count": 9,
     "metadata": {},
     "output_type": "execute_result"
    },
    {
     "data": {
      "text/plain": [
       "iteration487\t# current error = 0.0016972663460566\t\n"
      ]
     },
     "execution_count": 9,
     "metadata": {},
     "output_type": "execute_result"
    },
    {
     "data": {
      "text/plain": [
       "iteration488\t# current error = 0.0016915440205558\t\n"
      ]
     },
     "execution_count": 9,
     "metadata": {},
     "output_type": "execute_result"
    },
    {
     "data": {
      "text/plain": [
       "iteration489\t# current error = 0.0016870234751257\t\n"
      ]
     },
     "execution_count": 9,
     "metadata": {},
     "output_type": "execute_result"
    },
    {
     "data": {
      "text/plain": [
       "iteration490\t# current error = 0.0016821709940205\t\n"
      ]
     },
     "execution_count": 9,
     "metadata": {},
     "output_type": "execute_result"
    },
    {
     "data": {
      "text/plain": [
       "iteration491\t# current error = 0.0016768445253021\t\n"
      ]
     },
     "execution_count": 9,
     "metadata": {},
     "output_type": "execute_result"
    },
    {
     "data": {
      "text/plain": [
       "iteration492\t# current error = 0.0016718269517529\t\n"
      ]
     },
     "execution_count": 9,
     "metadata": {},
     "output_type": "execute_result"
    },
    {
     "data": {
      "text/plain": [
       "iteration493\t# current error = 0.0016673591506119\t\n"
      ]
     },
     "execution_count": 9,
     "metadata": {},
     "output_type": "execute_result"
    },
    {
     "data": {
      "text/plain": [
       "iteration494\t# current error = 0.0016620682802584\t\n"
      ]
     },
     "execution_count": 9,
     "metadata": {},
     "output_type": "execute_result"
    },
    {
     "data": {
      "text/plain": [
       "iteration495\t# current error = 0.0016569210371582\t\n"
      ]
     },
     "execution_count": 9,
     "metadata": {},
     "output_type": "execute_result"
    },
    {
     "data": {
      "text/plain": [
       "iteration496\t# current error = 0.0016528746488945\t\n"
      ]
     },
     "execution_count": 9,
     "metadata": {},
     "output_type": "execute_result"
    },
    {
     "data": {
      "text/plain": [
       "iteration497\t# current error = 0.0016475519772112\t\n"
      ]
     },
     "execution_count": 9,
     "metadata": {},
     "output_type": "execute_result"
    },
    {
     "data": {
      "text/plain": [
       "iteration498\t# current error = 0.0016425279464319\t\n"
      ]
     },
     "execution_count": 9,
     "metadata": {},
     "output_type": "execute_result"
    },
    {
     "data": {
      "text/plain": [
       "iteration499\t# current error = 0.0016380383200956\t\n"
      ]
     },
     "execution_count": 9,
     "metadata": {},
     "output_type": "execute_result"
    },
    {
     "data": {
      "text/plain": [
       "iteration500\t# current error = 0.0016333915055789\t\n"
      ]
     },
     "execution_count": 9,
     "metadata": {},
     "output_type": "execute_result"
    },
    {
     "data": {
      "text/plain": [
       "iteration501\t# current error = 0.0016280915601421\t\n"
      ]
     },
     "execution_count": 9,
     "metadata": {},
     "output_type": "execute_result"
    },
    {
     "data": {
      "text/plain": [
       "iteration502\t# current error = 0.0016236413813029\t\n"
      ]
     },
     "execution_count": 9,
     "metadata": {},
     "output_type": "execute_result"
    },
    {
     "data": {
      "text/plain": [
       "iteration503\t# current error = 0.0016187836419112\t\n"
      ]
     },
     "execution_count": 9,
     "metadata": {},
     "output_type": "execute_result"
    },
    {
     "data": {
      "text/plain": [
       "iteration504\t# current error = 0.0016147467140918\t\n"
      ]
     },
     "execution_count": 9,
     "metadata": {},
     "output_type": "execute_result"
    },
    {
     "data": {
      "text/plain": [
       "iteration505\t# current error = 0.0016100186062339\t\n"
      ]
     },
     "execution_count": 9,
     "metadata": {},
     "output_type": "execute_result"
    },
    {
     "data": {
      "text/plain": [
       "iteration506\t# current error = 0.001605051610531\t\n"
      ]
     },
     "execution_count": 9,
     "metadata": {},
     "output_type": "execute_result"
    },
    {
     "data": {
      "text/plain": [
       "iteration507\t# current error = 0.0016005630443914\t\n"
      ]
     },
     "execution_count": 9,
     "metadata": {},
     "output_type": "execute_result"
    },
    {
     "data": {
      "text/plain": [
       "iteration508\t# current error = 0.00159576523402\t\n"
      ]
     },
     "execution_count": 9,
     "metadata": {},
     "output_type": "execute_result"
    },
    {
     "data": {
      "text/plain": [
       "iteration509\t# current error = 0.0015916422495773\t\n"
      ]
     },
     "execution_count": 9,
     "metadata": {},
     "output_type": "execute_result"
    },
    {
     "data": {
      "text/plain": [
       "iteration510\t# current error = 0.0015869840401772\t\n"
      ]
     },
     "execution_count": 9,
     "metadata": {},
     "output_type": "execute_result"
    },
    {
     "data": {
      "text/plain": [
       "iteration511\t# current error = 0.0015821446351562\t\n"
      ]
     },
     "execution_count": 9,
     "metadata": {},
     "output_type": "execute_result"
    },
    {
     "data": {
      "text/plain": [
       "iteration512\t# current error = 0.001578194071658\t\n"
      ]
     },
     "execution_count": 9,
     "metadata": {},
     "output_type": "execute_result"
    },
    {
     "data": {
      "text/plain": [
       "iteration513\t# current error = 0.0015739255447\t\n"
      ]
     },
     "execution_count": 9,
     "metadata": {},
     "output_type": "execute_result"
    },
    {
     "data": {
      "text/plain": [
       "iteration514\t# current error = 0.0015688724554242\t\n"
      ]
     },
     "execution_count": 9,
     "metadata": {},
     "output_type": "execute_result"
    },
    {
     "data": {
      "text/plain": [
       "iteration515\t# current error = 0.0015648043009945\t\n"
      ]
     },
     "execution_count": 9,
     "metadata": {},
     "output_type": "execute_result"
    },
    {
     "data": {
      "text/plain": [
       "iteration516\t# current error = 0.001560550483699\t\n"
      ]
     },
     "execution_count": 9,
     "metadata": {},
     "output_type": "execute_result"
    },
    {
     "data": {
      "text/plain": [
       "iteration517\t# current error = 0.0015558623098407\t\n"
      ]
     },
     "execution_count": 9,
     "metadata": {},
     "output_type": "execute_result"
    },
    {
     "data": {
      "text/plain": [
       "iteration518\t# current error = 0.0015516882242681\t\n"
      ]
     },
     "execution_count": 9,
     "metadata": {},
     "output_type": "execute_result"
    },
    {
     "data": {
      "text/plain": [
       "iteration519\t# current error = 0.0015473282081897\t\n"
      ]
     },
     "execution_count": 9,
     "metadata": {},
     "output_type": "execute_result"
    },
    {
     "data": {
      "text/plain": [
       "iteration520\t# current error = 0.0015434458085069\t\n"
      ]
     },
     "execution_count": 9,
     "metadata": {},
     "output_type": "execute_result"
    },
    {
     "data": {
      "text/plain": [
       "iteration521\t# current error = 0.0015388934631209\t\n"
      ]
     },
     "execution_count": 9,
     "metadata": {},
     "output_type": "execute_result"
    },
    {
     "data": {
      "text/plain": [
       "iteration522\t# current error = 0.0015346659854048\t\n"
      ]
     },
     "execution_count": 9,
     "metadata": {},
     "output_type": "execute_result"
    },
    {
     "data": {
      "text/plain": [
       "iteration523\t# current error = 0.0015301849357273\t\n"
      ]
     },
     "execution_count": 9,
     "metadata": {},
     "output_type": "execute_result"
    },
    {
     "data": {
      "text/plain": [
       "iteration524\t# current error = 0.0015260625768925\t\n"
      ]
     },
     "execution_count": 9,
     "metadata": {},
     "output_type": "execute_result"
    },
    {
     "data": {
      "text/plain": [
       "iteration525\t# current error = 0.0015219137423265\t\n"
      ]
     },
     "execution_count": 9,
     "metadata": {},
     "output_type": "execute_result"
    },
    {
     "data": {
      "text/plain": [
       "iteration526\t# current error = 0.0015178488528654\t\n"
      ]
     },
     "execution_count": 9,
     "metadata": {},
     "output_type": "execute_result"
    },
    {
     "data": {
      "text/plain": [
       "iteration527\t# current error = 0.0015135802538441\t\n"
      ]
     },
     "execution_count": 9,
     "metadata": {},
     "output_type": "execute_result"
    },
    {
     "data": {
      "text/plain": [
       "iteration528\t# current error = 0.0015096266860255\t\n"
      ]
     },
     "execution_count": 9,
     "metadata": {},
     "output_type": "execute_result"
    },
    {
     "data": {
      "text/plain": [
       "iteration529\t# current error = 0.0015058203928349\t\n"
      ]
     },
     "execution_count": 9,
     "metadata": {},
     "output_type": "execute_result"
    },
    {
     "data": {
      "text/plain": [
       "iteration530\t# current error = 0.0015008556549501\t\n"
      ]
     },
     "execution_count": 9,
     "metadata": {},
     "output_type": "execute_result"
    },
    {
     "data": {
      "text/plain": [
       "iteration531\t# current error = 0.0014975617574553\t\n"
      ]
     },
     "execution_count": 9,
     "metadata": {},
     "output_type": "execute_result"
    },
    {
     "data": {
      "text/plain": [
       "iteration532\t# current error = 0.001493549415212\t\n"
      ]
     },
     "execution_count": 9,
     "metadata": {},
     "output_type": "execute_result"
    },
    {
     "data": {
      "text/plain": [
       "iteration533\t# current error = 0.001489326058483\t\n"
      ]
     },
     "execution_count": 9,
     "metadata": {},
     "output_type": "execute_result"
    },
    {
     "data": {
      "text/plain": [
       "iteration534\t# current error = 0.0014853937413719\t\n"
      ]
     },
     "execution_count": 9,
     "metadata": {},
     "output_type": "execute_result"
    },
    {
     "data": {
      "text/plain": [
       "iteration535\t# current error = 0.0014812394516405\t\n"
      ]
     },
     "execution_count": 9,
     "metadata": {},
     "output_type": "execute_result"
    },
    {
     "data": {
      "text/plain": [
       "iteration536\t# current error = 0.0014775194286239\t\n"
      ]
     },
     "execution_count": 9,
     "metadata": {},
     "output_type": "execute_result"
    },
    {
     "data": {
      "text/plain": [
       "iteration537\t# current error = 0.0014733233346447\t\n"
      ]
     },
     "execution_count": 9,
     "metadata": {},
     "output_type": "execute_result"
    },
    {
     "data": {
      "text/plain": [
       "iteration538\t# current error = 0.0014695045101583\t\n"
      ]
     },
     "execution_count": 9,
     "metadata": {},
     "output_type": "execute_result"
    },
    {
     "data": {
      "text/plain": [
       "iteration539\t# current error = 0.001465600934221\t\n"
      ]
     },
     "execution_count": 9,
     "metadata": {},
     "output_type": "execute_result"
    },
    {
     "data": {
      "text/plain": [
       "iteration540\t# current error = 0.0014613680795707\t\n"
      ]
     },
     "execution_count": 9,
     "metadata": {},
     "output_type": "execute_result"
    },
    {
     "data": {
      "text/plain": [
       "iteration541\t# current error = 0.0014578988840824\t\n"
      ]
     },
     "execution_count": 9,
     "metadata": {},
     "output_type": "execute_result"
    },
    {
     "data": {
      "text/plain": [
       "iteration542\t# current error = 0.0014541795885045\t\n"
      ]
     },
     "execution_count": 9,
     "metadata": {},
     "output_type": "execute_result"
    },
    {
     "data": {
      "text/plain": [
       "iteration543\t# current error = 0.0014499083842816\t\n"
      ]
     },
     "execution_count": 9,
     "metadata": {},
     "output_type": "execute_result"
    },
    {
     "data": {
      "text/plain": [
       "iteration544\t# current error = 0.0014464464192166\t\n"
      ]
     },
     "execution_count": 9,
     "metadata": {},
     "output_type": "execute_result"
    },
    {
     "data": {
      "text/plain": [
       "iteration545\t"
      ]
     },
     "execution_count": 9,
     "metadata": {},
     "output_type": "execute_result"
    },
    {
     "data": {
      "text/plain": [
       "# current error = 0.001442727330462\t\n"
      ]
     },
     "execution_count": 9,
     "metadata": {},
     "output_type": "execute_result"
    },
    {
     "data": {
      "text/plain": [
       "iteration546\t# current error = 0.0014388635982123\t\n"
      ]
     },
     "execution_count": 9,
     "metadata": {},
     "output_type": "execute_result"
    },
    {
     "data": {
      "text/plain": [
       "iteration547\t# current error = 0.0014349663455062\t\n"
      ]
     },
     "execution_count": 9,
     "metadata": {},
     "output_type": "execute_result"
    },
    {
     "data": {
      "text/plain": [
       "iteration548\t# current error = 0.0014313638322325\t\n"
      ]
     },
     "execution_count": 9,
     "metadata": {},
     "output_type": "execute_result"
    },
    {
     "data": {
      "text/plain": [
       "iteration549\t# current error = 0.0014276781690177\t\n"
      ]
     },
     "execution_count": 9,
     "metadata": {},
     "output_type": "execute_result"
    },
    {
     "data": {
      "text/plain": [
       "iteration550\t# current error = 0.0014243941419068\t\n"
      ]
     },
     "execution_count": 9,
     "metadata": {},
     "output_type": "execute_result"
    },
    {
     "data": {
      "text/plain": [
       "iteration551\t# current error = 0.0014201974561239\t\n"
      ]
     },
     "execution_count": 9,
     "metadata": {},
     "output_type": "execute_result"
    },
    {
     "data": {
      "text/plain": [
       "iteration552\t# current error = 0.0014168478949674\t\n"
      ]
     },
     "execution_count": 9,
     "metadata": {},
     "output_type": "execute_result"
    },
    {
     "data": {
      "text/plain": [
       "iteration553\t# current error = 0.0014131004630672\t\n"
      ]
     },
     "execution_count": 9,
     "metadata": {},
     "output_type": "execute_result"
    },
    {
     "data": {
      "text/plain": [
       "iteration554\t# current error = 0.001409564170892\t\n"
      ]
     },
     "execution_count": 9,
     "metadata": {},
     "output_type": "execute_result"
    },
    {
     "data": {
      "text/plain": [
       "iteration555\t# current error = 0.0014059848184216\t\n"
      ]
     },
     "execution_count": 9,
     "metadata": {},
     "output_type": "execute_result"
    },
    {
     "data": {
      "text/plain": [
       "iteration556\t# current error = 0.0014024703472399\t\n"
      ]
     },
     "execution_count": 9,
     "metadata": {},
     "output_type": "execute_result"
    },
    {
     "data": {
      "text/plain": [
       "iteration557\t# current error = 0.0013988392674157\t\n"
      ]
     },
     "execution_count": 9,
     "metadata": {},
     "output_type": "execute_result"
    },
    {
     "data": {
      "text/plain": [
       "iteration558\t# current error = 0.0013953879791504\t\n"
      ]
     },
     "execution_count": 9,
     "metadata": {},
     "output_type": "execute_result"
    },
    {
     "data": {
      "text/plain": [
       "iteration559\t# current error = 0.0013918802624114\t\n"
      ]
     },
     "execution_count": 9,
     "metadata": {},
     "output_type": "execute_result"
    },
    {
     "data": {
      "text/plain": [
       "iteration560\t# current error = 0.0013883543561762\t\n"
      ]
     },
     "execution_count": 9,
     "metadata": {},
     "output_type": "execute_result"
    },
    {
     "data": {
      "text/plain": [
       "iteration561\t# current error = 0.0013847645490712\t\n"
      ]
     },
     "execution_count": 9,
     "metadata": {},
     "output_type": "execute_result"
    },
    {
     "data": {
      "text/plain": [
       "iteration562\t# current error = 0.0013814917666383\t\n"
      ]
     },
     "execution_count": 9,
     "metadata": {},
     "output_type": "execute_result"
    },
    {
     "data": {
      "text/plain": [
       "iteration563\t# current error = 0.0013779311961259\t\n"
      ]
     },
     "execution_count": 9,
     "metadata": {},
     "output_type": "execute_result"
    },
    {
     "data": {
      "text/plain": [
       "iteration564\t# current error = 0.0013746383036206\t\n"
      ]
     },
     "execution_count": 9,
     "metadata": {},
     "output_type": "execute_result"
    },
    {
     "data": {
      "text/plain": [
       "iteration565\t# current error = 0.001371353277439\t\n"
      ]
     },
     "execution_count": 9,
     "metadata": {},
     "output_type": "execute_result"
    },
    {
     "data": {
      "text/plain": [
       "iteration566\t# current error = 0.0013676817738128\t\n"
      ]
     },
     "execution_count": 9,
     "metadata": {},
     "output_type": "execute_result"
    },
    {
     "data": {
      "text/plain": [
       "iteration567\t# current error = 0.001364667582428\t\n"
      ]
     },
     "execution_count": 9,
     "metadata": {},
     "output_type": "execute_result"
    },
    {
     "data": {
      "text/plain": [
       "iteration568\t# current error = 0.0013607054407879\t\n"
      ]
     },
     "execution_count": 9,
     "metadata": {},
     "output_type": "execute_result"
    },
    {
     "data": {
      "text/plain": [
       "iteration569\t# current error = 0.0013579755911455\t\n"
      ]
     },
     "execution_count": 9,
     "metadata": {},
     "output_type": "execute_result"
    },
    {
     "data": {
      "text/plain": [
       "iteration570\t# current error = 0.0013541042486851\t\n"
      ]
     },
     "execution_count": 9,
     "metadata": {},
     "output_type": "execute_result"
    },
    {
     "data": {
      "text/plain": [
       "iteration571\t# current error = 0.0013510041523696\t\n"
      ]
     },
     "execution_count": 9,
     "metadata": {},
     "output_type": "execute_result"
    },
    {
     "data": {
      "text/plain": [
       "iteration572\t# current error = 0.0013479455253005\t\n"
      ]
     },
     "execution_count": 9,
     "metadata": {},
     "output_type": "execute_result"
    },
    {
     "data": {
      "text/plain": [
       "iteration573\t# current error = 0.0013444314244785\t\n"
      ]
     },
     "execution_count": 9,
     "metadata": {},
     "output_type": "execute_result"
    },
    {
     "data": {
      "text/plain": [
       "iteration574\t# current error = 0.0013410017807499\t\n"
      ]
     },
     "execution_count": 9,
     "metadata": {},
     "output_type": "execute_result"
    },
    {
     "data": {
      "text/plain": [
       "iteration575\t# current error = 0.0013378092133236\t\n"
      ]
     },
     "execution_count": 9,
     "metadata": {},
     "output_type": "execute_result"
    },
    {
     "data": {
      "text/plain": [
       "iteration576\t# current error = 0.0013349025146362\t\n"
      ]
     },
     "execution_count": 9,
     "metadata": {},
     "output_type": "execute_result"
    },
    {
     "data": {
      "text/plain": [
       "iteration577\t# current error = 0.0013314424016734\t\n"
      ]
     },
     "execution_count": 9,
     "metadata": {},
     "output_type": "execute_result"
    },
    {
     "data": {
      "text/plain": [
       "iteration578\t# current error = 0.0013284605358499\t\n"
      ]
     },
     "execution_count": 9,
     "metadata": {},
     "output_type": "execute_result"
    },
    {
     "data": {
      "text/plain": [
       "iteration579\t# current error = 0.0013247752872946\t\n"
      ]
     },
     "execution_count": 9,
     "metadata": {},
     "output_type": "execute_result"
    },
    {
     "data": {
      "text/plain": [
       "iteration580\t# current error = 0.0013219053231371\t\n"
      ]
     },
     "execution_count": 9,
     "metadata": {},
     "output_type": "execute_result"
    },
    {
     "data": {
      "text/plain": [
       "iteration581\t# current error = 0.0013187328220463\t\n"
      ]
     },
     "execution_count": 9,
     "metadata": {},
     "output_type": "execute_result"
    },
    {
     "data": {
      "text/plain": [
       "iteration582\t# current error = 0.001315163987278\t\n"
      ]
     },
     "execution_count": 9,
     "metadata": {},
     "output_type": "execute_result"
    },
    {
     "data": {
      "text/plain": [
       "iteration583\t# current error = 0.0013124468778147\t\n"
      ]
     },
     "execution_count": 9,
     "metadata": {},
     "output_type": "execute_result"
    },
    {
     "data": {
      "text/plain": [
       "iteration584\t# current error = 0.0013092383559227\t\n"
      ]
     },
     "execution_count": 9,
     "metadata": {},
     "output_type": "execute_result"
    },
    {
     "data": {
      "text/plain": [
       "iteration585\t# current error = 0.0013060175341295\t\n"
      ]
     },
     "execution_count": 9,
     "metadata": {},
     "output_type": "execute_result"
    },
    {
     "data": {
      "text/plain": [
       "iteration586\t# current error = 0.0013030925258154\t\n"
      ]
     },
     "execution_count": 9,
     "metadata": {},
     "output_type": "execute_result"
    },
    {
     "data": {
      "text/plain": [
       "iteration587\t# current error = 0.001299850240121\t\n"
      ]
     },
     "execution_count": 9,
     "metadata": {},
     "output_type": "execute_result"
    },
    {
     "data": {
      "text/plain": [
       "iteration588\t# current error = 0.0012966356638459\t\n"
      ]
     },
     "execution_count": 9,
     "metadata": {},
     "output_type": "execute_result"
    },
    {
     "data": {
      "text/plain": [
       "iteration589\t# current error = 0.0012936896021989\t\n"
      ]
     },
     "execution_count": 9,
     "metadata": {},
     "output_type": "execute_result"
    },
    {
     "data": {
      "text/plain": [
       "iteration590\t# current error = 0.0012906507076812\t\n"
      ]
     },
     "execution_count": 9,
     "metadata": {},
     "output_type": "execute_result"
    },
    {
     "data": {
      "text/plain": [
       "iteration591\t# current error = 0.0012877426497145\t\n"
      ]
     },
     "execution_count": 9,
     "metadata": {},
     "output_type": "execute_result"
    },
    {
     "data": {
      "text/plain": [
       "iteration592\t# current error = 0.0012845341088561\t\n"
      ]
     },
     "execution_count": 9,
     "metadata": {},
     "output_type": "execute_result"
    },
    {
     "data": {
      "text/plain": [
       "iteration593\t# current error = 0.001281663065466\t\n"
      ]
     },
     "execution_count": 9,
     "metadata": {},
     "output_type": "execute_result"
    },
    {
     "data": {
      "text/plain": [
       "iteration594\t# current error = 0.0012786980240601\t\n"
      ]
     },
     "execution_count": 9,
     "metadata": {},
     "output_type": "execute_result"
    },
    {
     "data": {
      "text/plain": [
       "iteration595\t# current error = 0.0012756474337608\t\n"
      ]
     },
     "execution_count": 9,
     "metadata": {},
     "output_type": "execute_result"
    },
    {
     "data": {
      "text/plain": [
       "iteration596\t# current error = 0.0012725328564668\t\n"
      ]
     },
     "execution_count": 9,
     "metadata": {},
     "output_type": "execute_result"
    },
    {
     "data": {
      "text/plain": [
       "iteration597\t# current error = 0.0012694501860721\t\n"
      ]
     },
     "execution_count": 9,
     "metadata": {},
     "output_type": "execute_result"
    },
    {
     "data": {
      "text/plain": [
       "iteration598\t# current error = 0.0012671002412175\t\n"
      ]
     },
     "execution_count": 9,
     "metadata": {},
     "output_type": "execute_result"
    },
    {
     "data": {
      "text/plain": [
       "iteration599\t# current error = 0.001263745532486\t\n"
      ]
     },
     "execution_count": 9,
     "metadata": {},
     "output_type": "execute_result"
    },
    {
     "data": {
      "text/plain": [
       "iteration600\t# current error = 0.0012610586264391\t\n"
      ]
     },
     "execution_count": 9,
     "metadata": {},
     "output_type": "execute_result"
    },
    {
     "data": {
      "text/plain": [
       "iteration601\t# current error = 0.0012579417495519\t\n"
      ]
     },
     "execution_count": 9,
     "metadata": {},
     "output_type": "execute_result"
    },
    {
     "data": {
      "text/plain": [
       "iteration602\t# current error = 0.0012550113630621\t\n"
      ]
     },
     "execution_count": 9,
     "metadata": {},
     "output_type": "execute_result"
    },
    {
     "data": {
      "text/plain": [
       "iteration603\t# current error = 0.0012522225620751\t\n"
      ]
     },
     "execution_count": 9,
     "metadata": {},
     "output_type": "execute_result"
    },
    {
     "data": {
      "text/plain": [
       "iteration604\t# current error = 0.0012491069070748\t\n"
      ]
     },
     "execution_count": 9,
     "metadata": {},
     "output_type": "execute_result"
    },
    {
     "data": {
      "text/plain": [
       "iteration605\t# current error = 0.0012464488303507\t\n"
      ]
     },
     "execution_count": 9,
     "metadata": {},
     "output_type": "execute_result"
    },
    {
     "data": {
      "text/plain": [
       "iteration606\t# current error = 0.0012438395253803\t\n"
      ]
     },
     "execution_count": 9,
     "metadata": {},
     "output_type": "execute_result"
    },
    {
     "data": {
      "text/plain": [
       "iteration607\t# current error = 0.0012405291233809\t\n"
      ]
     },
     "execution_count": 9,
     "metadata": {},
     "output_type": "execute_result"
    },
    {
     "data": {
      "text/plain": [
       "iteration608\t# current error = 0.0012378958968906\t\n"
      ]
     },
     "execution_count": 9,
     "metadata": {},
     "output_type": "execute_result"
    },
    {
     "data": {
      "text/plain": [
       "iteration609\t# current error = 0.0012353556782762\t\n"
      ]
     },
     "execution_count": 9,
     "metadata": {},
     "output_type": "execute_result"
    },
    {
     "data": {
      "text/plain": [
       "iteration610\t# current error = 0.0012322658663247\t\n"
      ]
     },
     "execution_count": 9,
     "metadata": {},
     "output_type": "execute_result"
    },
    {
     "data": {
      "text/plain": [
       "iteration611\t# current error = 0.0012294093514224\t\n"
      ]
     },
     "execution_count": 9,
     "metadata": {},
     "output_type": "execute_result"
    },
    {
     "data": {
      "text/plain": [
       "iteration612\t# current error = 0.0012269923316812\t\n"
      ]
     },
     "execution_count": 9,
     "metadata": {},
     "output_type": "execute_result"
    },
    {
     "data": {
      "text/plain": [
       "iteration613\t# current error = 0.001223843195505\t\n"
      ]
     },
     "execution_count": 9,
     "metadata": {},
     "output_type": "execute_result"
    },
    {
     "data": {
      "text/plain": [
       "iteration614\t# current error = 0.001221070128961\t\n"
      ]
     },
     "execution_count": 9,
     "metadata": {},
     "output_type": "execute_result"
    },
    {
     "data": {
      "text/plain": [
       "iteration615\t# current error = 0.0012187022183958\t\n"
      ]
     },
     "execution_count": 9,
     "metadata": {},
     "output_type": "execute_result"
    },
    {
     "data": {
      "text/plain": [
       "iteration616\t# current error = 0.0012155782564187\t\n"
      ]
     },
     "execution_count": 9,
     "metadata": {},
     "output_type": "execute_result"
    },
    {
     "data": {
      "text/plain": [
       "iteration617\t# current error = 0.0012128520614252\t\n"
      ]
     },
     "execution_count": 9,
     "metadata": {},
     "output_type": "execute_result"
    },
    {
     "data": {
      "text/plain": [
       "iteration618\t# current error = 0.0012103918569335\t\n"
      ]
     },
     "execution_count": 9,
     "metadata": {},
     "output_type": "execute_result"
    },
    {
     "data": {
      "text/plain": [
       "iteration619\t# current error = 0.0012075210511157\t\n"
      ]
     },
     "execution_count": 9,
     "metadata": {},
     "output_type": "execute_result"
    },
    {
     "data": {
      "text/plain": [
       "iteration620\t# current error = 0.0012051222609673\t\n"
      ]
     },
     "execution_count": 9,
     "metadata": {},
     "output_type": "execute_result"
    },
    {
     "data": {
      "text/plain": [
       "iteration621\t# current error = 0.0012023783990584\t\n"
      ]
     },
     "execution_count": 9,
     "metadata": {},
     "output_type": "execute_result"
    },
    {
     "data": {
      "text/plain": [
       "iteration622\t# current error = 0.0011995499050841\t\n"
      ]
     },
     "execution_count": 9,
     "metadata": {},
     "output_type": "execute_result"
    },
    {
     "data": {
      "text/plain": [
       "iteration623\t# current error = 0.0011968712102886\t\n"
      ]
     },
     "execution_count": 9,
     "metadata": {},
     "output_type": "execute_result"
    },
    {
     "data": {
      "text/plain": [
       "iteration624\t# current error = 0.0011943700290015\t\n"
      ]
     },
     "execution_count": 9,
     "metadata": {},
     "output_type": "execute_result"
    },
    {
     "data": {
      "text/plain": [
       "iteration625\t# current error = 0.0011914740289687\t\n"
      ]
     },
     "execution_count": 9,
     "metadata": {},
     "output_type": "execute_result"
    },
    {
     "data": {
      "text/plain": [
       "iteration626\t# current error = 0.0011888338859691\t\n"
      ]
     },
     "execution_count": 9,
     "metadata": {},
     "output_type": "execute_result"
    },
    {
     "data": {
      "text/plain": [
       "iteration627\t# current error = 0.0011866473377641\t\n"
      ]
     },
     "execution_count": 9,
     "metadata": {},
     "output_type": "execute_result"
    },
    {
     "data": {
      "text/plain": [
       "iteration628\t# current error = 0.0011838384391484\t\n"
      ]
     },
     "execution_count": 9,
     "metadata": {},
     "output_type": "execute_result"
    },
    {
     "data": {
      "text/plain": [
       "iteration629\t# current error = 0.0011811456955133\t\n"
      ]
     },
     "execution_count": 9,
     "metadata": {},
     "output_type": "execute_result"
    },
    {
     "data": {
      "text/plain": [
       "iteration630\t# current error = 0.0011788444304371\t\n"
      ]
     },
     "execution_count": 9,
     "metadata": {},
     "output_type": "execute_result"
    },
    {
     "data": {
      "text/plain": [
       "iteration631\t# current error = 0.0011760535023442\t\n"
      ]
     },
     "execution_count": 9,
     "metadata": {},
     "output_type": "execute_result"
    },
    {
     "data": {
      "text/plain": [
       "iteration632\t# current error = 0.0011735129846464\t\n"
      ]
     },
     "execution_count": 9,
     "metadata": {},
     "output_type": "execute_result"
    },
    {
     "data": {
      "text/plain": [
       "iteration633\t# current error = 0.0011706984170331\t\n"
      ]
     },
     "execution_count": 9,
     "metadata": {},
     "output_type": "execute_result"
    },
    {
     "data": {
      "text/plain": [
       "iteration634\t# current error = 0.0011685959362671\t\n"
      ]
     },
     "execution_count": 9,
     "metadata": {},
     "output_type": "execute_result"
    },
    {
     "data": {
      "text/plain": [
       "iteration635\t# current error = 0.0011659087711321\t\n"
      ]
     },
     "execution_count": 9,
     "metadata": {},
     "output_type": "execute_result"
    },
    {
     "data": {
      "text/plain": [
       "iteration636\t# current error = 0.0011634699527863\t\n"
      ]
     },
     "execution_count": 9,
     "metadata": {},
     "output_type": "execute_result"
    },
    {
     "data": {
      "text/plain": [
       "iteration637\t# current error = 0.0011610036691484\t\n"
      ]
     },
     "execution_count": 9,
     "metadata": {},
     "output_type": "execute_result"
    },
    {
     "data": {
      "text/plain": [
       "iteration638\t# current error = 0.0011584154619168\t\n"
      ]
     },
     "execution_count": 9,
     "metadata": {},
     "output_type": "execute_result"
    },
    {
     "data": {
      "text/plain": [
       "iteration639\t# current error = 0.0011559159720534\t\n"
      ]
     },
     "execution_count": 9,
     "metadata": {},
     "output_type": "execute_result"
    },
    {
     "data": {
      "text/plain": [
       "iteration640\t# current error = 0.0011533332327995\t\n"
      ]
     },
     "execution_count": 9,
     "metadata": {},
     "output_type": "execute_result"
    },
    {
     "data": {
      "text/plain": [
       "iteration641\t# current error = 0.001151158509994\t\n"
      ]
     },
     "execution_count": 9,
     "metadata": {},
     "output_type": "execute_result"
    },
    {
     "data": {
      "text/plain": [
       "iteration642\t# current error = 0.0011485669321747\t\n"
      ]
     },
     "execution_count": 9,
     "metadata": {},
     "output_type": "execute_result"
    },
    {
     "data": {
      "text/plain": [
       "iteration643\t# current error = 0.0011460471655073\t\n"
      ]
     },
     "execution_count": 9,
     "metadata": {},
     "output_type": "execute_result"
    },
    {
     "data": {
      "text/plain": [
       "iteration644\t# current error = 0.0011437201706525\t\n"
      ]
     },
     "execution_count": 9,
     "metadata": {},
     "output_type": "execute_result"
    },
    {
     "data": {
      "text/plain": [
       "iteration645\t# current error = 0.0011411659006763\t\n"
      ]
     },
     "execution_count": 9,
     "metadata": {},
     "output_type": "execute_result"
    },
    {
     "data": {
      "text/plain": [
       "iteration646\t"
      ]
     },
     "execution_count": 9,
     "metadata": {},
     "output_type": "execute_result"
    },
    {
     "data": {
      "text/plain": [
       "# current error = 0.001138901829059\t\n"
      ]
     },
     "execution_count": 9,
     "metadata": {},
     "output_type": "execute_result"
    },
    {
     "data": {
      "text/plain": [
       "iteration647\t# current error = 0.0011364882471541\t\n"
      ]
     },
     "execution_count": 9,
     "metadata": {},
     "output_type": "execute_result"
    },
    {
     "data": {
      "text/plain": [
       "iteration648\t# current error = 0.0011339356282462\t\n"
      ]
     },
     "execution_count": 9,
     "metadata": {},
     "output_type": "execute_result"
    },
    {
     "data": {
      "text/plain": [
       "iteration649\t# current error = 0.0011317526895567\t\n"
      ]
     },
     "execution_count": 9,
     "metadata": {},
     "output_type": "execute_result"
    },
    {
     "data": {
      "text/plain": [
       "iteration650\t# current error = 0.0011292357360503\t\n"
      ]
     },
     "execution_count": 9,
     "metadata": {},
     "output_type": "execute_result"
    },
    {
     "data": {
      "text/plain": [
       "iteration651\t# current error = 0.0011269053156353\t\n"
      ]
     },
     "execution_count": 9,
     "metadata": {},
     "output_type": "execute_result"
    },
    {
     "data": {
      "text/plain": [
       "iteration652\t# current error = 0.0011244688505727\t\n"
      ]
     },
     "execution_count": 9,
     "metadata": {},
     "output_type": "execute_result"
    },
    {
     "data": {
      "text/plain": [
       "iteration653\t# current error = 0.0011222161118591\t\n"
      ]
     },
     "execution_count": 9,
     "metadata": {},
     "output_type": "execute_result"
    },
    {
     "data": {
      "text/plain": [
       "iteration654\t# current error = 0.0011197023743427\t\n"
      ]
     },
     "execution_count": 9,
     "metadata": {},
     "output_type": "execute_result"
    },
    {
     "data": {
      "text/plain": [
       "iteration655\t# current error = 0.0011176341449658\t\n"
      ]
     },
     "execution_count": 9,
     "metadata": {},
     "output_type": "execute_result"
    },
    {
     "data": {
      "text/plain": [
       "iteration656\t# current error = 0.0011152227667842\t\n"
      ]
     },
     "execution_count": 9,
     "metadata": {},
     "output_type": "execute_result"
    },
    {
     "data": {
      "text/plain": [
       "iteration657\t# current error = 0.0011130570732818\t\n"
      ]
     },
     "execution_count": 9,
     "metadata": {},
     "output_type": "execute_result"
    },
    {
     "data": {
      "text/plain": [
       "iteration658\t# current error = 0.0011105168437662\t\n"
      ]
     },
     "execution_count": 9,
     "metadata": {},
     "output_type": "execute_result"
    },
    {
     "data": {
      "text/plain": [
       "iteration659\t# current error = 0.0011082396935306\t\n"
      ]
     },
     "execution_count": 9,
     "metadata": {},
     "output_type": "execute_result"
    },
    {
     "data": {
      "text/plain": [
       "iteration660\t# current error = 0.0011060737252636\t\n"
      ]
     },
     "execution_count": 9,
     "metadata": {},
     "output_type": "execute_result"
    },
    {
     "data": {
      "text/plain": [
       "iteration661\t# current error = 0.0011038279958232\t\n"
      ]
     },
     "execution_count": 9,
     "metadata": {},
     "output_type": "execute_result"
    },
    {
     "data": {
      "text/plain": [
       "iteration662\t# current error = 0.0011013336443759\t\n"
      ]
     },
     "execution_count": 9,
     "metadata": {},
     "output_type": "execute_result"
    },
    {
     "data": {
      "text/plain": [
       "iteration663\t# current error = 0.0010992617823336\t\n"
      ]
     },
     "execution_count": 9,
     "metadata": {},
     "output_type": "execute_result"
    },
    {
     "data": {
      "text/plain": [
       "iteration664\t# current error = 0.0010970419149707\t\n"
      ]
     },
     "execution_count": 9,
     "metadata": {},
     "output_type": "execute_result"
    },
    {
     "data": {
      "text/plain": [
       "iteration665\t# current error = 0.001094532539607\t\n"
      ]
     },
     "execution_count": 9,
     "metadata": {},
     "output_type": "execute_result"
    },
    {
     "data": {
      "text/plain": [
       "iteration666\t# current error = 0.0010924974169413\t\n"
      ]
     },
     "execution_count": 9,
     "metadata": {},
     "output_type": "execute_result"
    },
    {
     "data": {
      "text/plain": [
       "iteration667\t# current error = 0.0010901947467507\t\n"
      ]
     },
     "execution_count": 9,
     "metadata": {},
     "output_type": "execute_result"
    },
    {
     "data": {
      "text/plain": [
       "iteration668\t# current error = 0.0010880130678951\t\n"
      ]
     },
     "execution_count": 9,
     "metadata": {},
     "output_type": "execute_result"
    },
    {
     "data": {
      "text/plain": [
       "iteration669\t# current error = 0.0010858384781272\t\n"
      ]
     },
     "execution_count": 9,
     "metadata": {},
     "output_type": "execute_result"
    },
    {
     "data": {
      "text/plain": [
       "iteration670\t# current error = 0.0010837760648024\t\n"
      ]
     },
     "execution_count": 9,
     "metadata": {},
     "output_type": "execute_result"
    },
    {
     "data": {
      "text/plain": [
       "iteration671\t# current error = 0.0010812857779871\t\n"
      ]
     },
     "execution_count": 9,
     "metadata": {},
     "output_type": "execute_result"
    },
    {
     "data": {
      "text/plain": [
       "iteration672\t# current error = 0.0010792922316788\t\n"
      ]
     },
     "execution_count": 9,
     "metadata": {},
     "output_type": "execute_result"
    },
    {
     "data": {
      "text/plain": [
       "iteration673\t# current error = 0.0010770430407405\t\n"
      ]
     },
     "execution_count": 9,
     "metadata": {},
     "output_type": "execute_result"
    },
    {
     "data": {
      "text/plain": [
       "iteration674\t# current error = 0.0010748497883809\t\n"
      ]
     },
     "execution_count": 9,
     "metadata": {},
     "output_type": "execute_result"
    },
    {
     "data": {
      "text/plain": [
       "iteration675\t# current error = 0.0010727260804498\t\n"
      ]
     },
     "execution_count": 9,
     "metadata": {},
     "output_type": "execute_result"
    },
    {
     "data": {
      "text/plain": [
       "iteration676\t# current error = 0.0010706312404734\t\n"
      ]
     },
     "execution_count": 9,
     "metadata": {},
     "output_type": "execute_result"
    },
    {
     "data": {
      "text/plain": [
       "iteration677\t# current error = 0.001068308951142\t\n"
      ]
     },
     "execution_count": 9,
     "metadata": {},
     "output_type": "execute_result"
    },
    {
     "data": {
      "text/plain": [
       "iteration678\t# current error = 0.0010664120907457\t\n"
      ]
     },
     "execution_count": 9,
     "metadata": {},
     "output_type": "execute_result"
    },
    {
     "data": {
      "text/plain": [
       "iteration679\t# current error = 0.0010641089765059\t\n"
      ]
     },
     "execution_count": 9,
     "metadata": {},
     "output_type": "execute_result"
    },
    {
     "data": {
      "text/plain": [
       "iteration680\t# current error = 0.0010618586974727\t"
      ]
     },
     "execution_count": 9,
     "metadata": {},
     "output_type": "execute_result"
    },
    {
     "data": {
      "text/plain": [
       "\n"
      ]
     },
     "execution_count": 9,
     "metadata": {},
     "output_type": "execute_result"
    },
    {
     "data": {
      "text/plain": [
       "iteration681\t# current error = 0.0010599007419528\t\n"
      ]
     },
     "execution_count": 9,
     "metadata": {},
     "output_type": "execute_result"
    },
    {
     "data": {
      "text/plain": [
       "iteration682\t# current error = 0.0010578166854172\t\n"
      ]
     },
     "execution_count": 9,
     "metadata": {},
     "output_type": "execute_result"
    },
    {
     "data": {
      "text/plain": [
       "iteration683\t# current error = 0.0010556517449913\t\n"
      ]
     },
     "execution_count": 9,
     "metadata": {},
     "output_type": "execute_result"
    },
    {
     "data": {
      "text/plain": [
       "iteration684\t# current error = 0.0010536485921627\t\n"
      ]
     },
     "execution_count": 9,
     "metadata": {},
     "output_type": "execute_result"
    },
    {
     "data": {
      "text/plain": [
       "iteration685\t# current error = 0.001051536276589\t\n"
      ]
     },
     "execution_count": 9,
     "metadata": {},
     "output_type": "execute_result"
    },
    {
     "data": {
      "text/plain": [
       "iteration686\t# current error = 0.0010492915974526\t\n"
      ]
     },
     "execution_count": 9,
     "metadata": {},
     "output_type": "execute_result"
    },
    {
     "data": {
      "text/plain": [
       "iteration687\t# current error = 0.0010473449343865\t\n"
      ]
     },
     "execution_count": 9,
     "metadata": {},
     "output_type": "execute_result"
    },
    {
     "data": {
      "text/plain": [
       "iteration688\t# current error = 0.0010454178572027\t\n"
      ]
     },
     "execution_count": 9,
     "metadata": {},
     "output_type": "execute_result"
    },
    {
     "data": {
      "text/plain": [
       "iteration689\t# current error = 0.0010431931751847\t\n"
      ]
     },
     "execution_count": 9,
     "metadata": {},
     "output_type": "execute_result"
    },
    {
     "data": {
      "text/plain": [
       "iteration690\t# current error = 0.0010412049758909\t\n"
      ]
     },
     "execution_count": 9,
     "metadata": {},
     "output_type": "execute_result"
    },
    {
     "data": {
      "text/plain": [
       "iteration691\t# current error = 0.0010392629479339\t\n"
      ]
     },
     "execution_count": 9,
     "metadata": {},
     "output_type": "execute_result"
    },
    {
     "data": {
      "text/plain": [
       "iteration692\t# current error = 0.0010368506484799\t\n"
      ]
     },
     "execution_count": 9,
     "metadata": {},
     "output_type": "execute_result"
    },
    {
     "data": {
      "text/plain": [
       "iteration693\t# current error = 0.0010351931605862\t\n"
      ]
     },
     "execution_count": 9,
     "metadata": {},
     "output_type": "execute_result"
    },
    {
     "data": {
      "text/plain": [
       "iteration694\t# current error = 0.0010331457461764\t\n"
      ]
     },
     "execution_count": 9,
     "metadata": {},
     "output_type": "execute_result"
    },
    {
     "data": {
      "text/plain": [
       "iteration695\t# current error = 0.0010308703611455\t\n"
      ]
     },
     "execution_count": 9,
     "metadata": {},
     "output_type": "execute_result"
    },
    {
     "data": {
      "text/plain": [
       "iteration696\t# current error = 0.0010291645239091\t\n"
      ]
     },
     "execution_count": 9,
     "metadata": {},
     "output_type": "execute_result"
    },
    {
     "data": {
      "text/plain": [
       "iteration697\t# current error = 0.0010269963022749\t\n"
      ]
     },
     "execution_count": 9,
     "metadata": {},
     "output_type": "execute_result"
    },
    {
     "data": {
      "text/plain": [
       "iteration698\t# current error = 0.0010251432450521\t\n"
      ]
     },
     "execution_count": 9,
     "metadata": {},
     "output_type": "execute_result"
    },
    {
     "data": {
      "text/plain": [
       "iteration699\t# current error = 0.0010229069792428\t\n"
      ]
     },
     "execution_count": 9,
     "metadata": {},
     "output_type": "execute_result"
    },
    {
     "data": {
      "text/plain": [
       "iteration700\t# current error = 0.001021268274958\t\n"
      ]
     },
     "execution_count": 9,
     "metadata": {},
     "output_type": "execute_result"
    },
    {
     "data": {
      "text/plain": [
       "iteration701\t# current error = 0.0010190406940858\t\n"
      ]
     },
     "execution_count": 9,
     "metadata": {},
     "output_type": "execute_result"
    },
    {
     "data": {
      "text/plain": [
       "iteration702\t# current error = 0.0010172814422481\t\n"
      ]
     },
     "execution_count": 9,
     "metadata": {},
     "output_type": "execute_result"
    },
    {
     "data": {
      "text/plain": [
       "iteration703\t# current error = 0.0010152399551864\t\n"
      ]
     },
     "execution_count": 9,
     "metadata": {},
     "output_type": "execute_result"
    },
    {
     "data": {
      "text/plain": [
       "iteration704\t# current error = 0.0010130877385731\t\n"
      ]
     },
     "execution_count": 9,
     "metadata": {},
     "output_type": "execute_result"
    },
    {
     "data": {
      "text/plain": [
       "iteration705\t# current error = 0.0010113038887427\t\n"
      ]
     },
     "execution_count": 9,
     "metadata": {},
     "output_type": "execute_result"
    },
    {
     "data": {
      "text/plain": [
       "iteration706\t# current error = 0.0010093487327193\t\n"
      ]
     },
     "execution_count": 9,
     "metadata": {},
     "output_type": "execute_result"
    },
    {
     "data": {
      "text/plain": [
       "iteration707\t# current error = 0.0010075298807945\t\n"
      ]
     },
     "execution_count": 9,
     "metadata": {},
     "output_type": "execute_result"
    },
    {
     "data": {
      "text/plain": [
       "iteration708\t# current error = 0.0010055218808441\t\n"
      ]
     },
     "execution_count": 9,
     "metadata": {},
     "output_type": "execute_result"
    },
    {
     "data": {
      "text/plain": [
       "iteration709\t# current error = 0.0010035473622429\t\n"
      ]
     },
     "execution_count": 9,
     "metadata": {},
     "output_type": "execute_result"
    },
    {
     "data": {
      "text/plain": [
       "iteration710\t# current error = 0.0010017276538118\t\n"
      ]
     },
     "execution_count": 9,
     "metadata": {},
     "output_type": "execute_result"
    },
    {
     "data": {
      "text/plain": [
       "iteration711\t# current error = 0.00099986540361874\t\n"
      ]
     },
     "execution_count": 9,
     "metadata": {},
     "output_type": "execute_result"
    },
    {
     "data": {
      "text/plain": [
       "iteration712\t# current error = 0.00099778124150488\t\n"
      ]
     },
     "execution_count": 9,
     "metadata": {},
     "output_type": "execute_result"
    },
    {
     "data": {
      "text/plain": [
       "iteration713\t# current error = 0.00099614931160019\t\n"
      ]
     },
     "execution_count": 9,
     "metadata": {},
     "output_type": "execute_result"
    },
    {
     "data": {
      "text/plain": [
       "iteration714\t# current error = 0.0009941718452463\t\n"
      ]
     },
     "execution_count": 9,
     "metadata": {},
     "output_type": "execute_result"
    },
    {
     "data": {
      "text/plain": [
       "iteration715\t# current error = 0.00099224632260756\t\n"
      ]
     },
     "execution_count": 9,
     "metadata": {},
     "output_type": "execute_result"
    },
    {
     "data": {
      "text/plain": [
       "iteration716\t# current error = 0.00099024911741646\t\n"
      ]
     },
     "execution_count": 9,
     "metadata": {},
     "output_type": "execute_result"
    },
    {
     "data": {
      "text/plain": [
       "iteration717\t# current error = 0.00098858776729931\t\n"
      ]
     },
     "execution_count": 9,
     "metadata": {},
     "output_type": "execute_result"
    },
    {
     "data": {
      "text/plain": [
       "iteration718\t# current error = 0.00098639310077894\t\n"
      ]
     },
     "execution_count": 9,
     "metadata": {},
     "output_type": "execute_result"
    },
    {
     "data": {
      "text/plain": [
       "iteration719\t# current error = 0.00098491604483609\t\n"
      ]
     },
     "execution_count": 9,
     "metadata": {},
     "output_type": "execute_result"
    },
    {
     "data": {
      "text/plain": [
       "iteration720\t# current error = 0.00098306221429527\t\n"
      ]
     },
     "execution_count": 9,
     "metadata": {},
     "output_type": "execute_result"
    },
    {
     "data": {
      "text/plain": [
       "iteration721\t# current error = 0.00098091887698315\t\n"
      ]
     },
     "execution_count": 9,
     "metadata": {},
     "output_type": "execute_result"
    },
    {
     "data": {
      "text/plain": [
       "iteration722\t# current error = 0.00097942355477461\t\n"
      ]
     },
     "execution_count": 9,
     "metadata": {},
     "output_type": "execute_result"
    },
    {
     "data": {
      "text/plain": [
       "iteration723\t# current error = 0.00097744116526604\t\n"
      ]
     },
     "execution_count": 9,
     "metadata": {},
     "output_type": "execute_result"
    },
    {
     "data": {
      "text/plain": [
       "iteration724\t# current error = 0.00097554398874546\t\n"
      ]
     },
     "execution_count": 9,
     "metadata": {},
     "output_type": "execute_result"
    },
    {
     "data": {
      "text/plain": [
       "iteration725\t# current error = 0.00097389403822794\t\n"
      ]
     },
     "execution_count": 9,
     "metadata": {},
     "output_type": "execute_result"
    },
    {
     "data": {
      "text/plain": [
       "iteration726\t# current error = 0.00097196018816378\t\n"
      ]
     },
     "execution_count": 9,
     "metadata": {},
     "output_type": "execute_result"
    },
    {
     "data": {
      "text/plain": [
       "iteration727\t# current error = 0.00097012913882859\t\n"
      ]
     },
     "execution_count": 9,
     "metadata": {},
     "output_type": "execute_result"
    },
    {
     "data": {
      "text/plain": [
       "iteration728\t# current error = 0.00096852235673104\t\n"
      ]
     },
     "execution_count": 9,
     "metadata": {},
     "output_type": "execute_result"
    },
    {
     "data": {
      "text/plain": [
       "iteration729\t# current error = 0.00096648566735824\t\n"
      ]
     },
     "execution_count": 9,
     "metadata": {},
     "output_type": "execute_result"
    },
    {
     "data": {
      "text/plain": [
       "iteration730\t# current error = 0.00096485839409365\t\n"
      ]
     },
     "execution_count": 9,
     "metadata": {},
     "output_type": "execute_result"
    },
    {
     "data": {
      "text/plain": [
       "iteration731\t# current error = 0.00096307361570338\t\n"
      ]
     },
     "execution_count": 9,
     "metadata": {},
     "output_type": "execute_result"
    },
    {
     "data": {
      "text/plain": [
       "iteration732\t# current error = 0.00096129335395647\t\n"
      ]
     },
     "execution_count": 9,
     "metadata": {},
     "output_type": "execute_result"
    },
    {
     "data": {
      "text/plain": [
       "iteration733\t# current error = 0.00095942423897448\t\n"
      ]
     },
     "execution_count": 9,
     "metadata": {},
     "output_type": "execute_result"
    },
    {
     "data": {
      "text/plain": [
       "iteration734\t# current error = 0.00095770729652201\t\n"
      ]
     },
     "execution_count": 9,
     "metadata": {},
     "output_type": "execute_result"
    },
    {
     "data": {
      "text/plain": [
       "iteration735\t# current error = 0.00095615146393361\t\n"
      ]
     },
     "execution_count": 9,
     "metadata": {},
     "output_type": "execute_result"
    },
    {
     "data": {
      "text/plain": [
       "iteration736\t# current error = 0.00095415507841638\t\n"
      ]
     },
     "execution_count": 9,
     "metadata": {},
     "output_type": "execute_result"
    },
    {
     "data": {
      "text/plain": [
       "iteration737\t# current error = 0.00095237370981674\t\n"
      ]
     },
     "execution_count": 9,
     "metadata": {},
     "output_type": "execute_result"
    },
    {
     "data": {
      "text/plain": [
       "iteration738\t# current error = 0.0009508087694484\t\n"
      ]
     },
     "execution_count": 9,
     "metadata": {},
     "output_type": "execute_result"
    },
    {
     "data": {
      "text/plain": [
       "iteration739\t# current error = 0.00094893283327428\t\n"
      ]
     },
     "execution_count": 9,
     "metadata": {},
     "output_type": "execute_result"
    },
    {
     "data": {
      "text/plain": [
       "iteration740\t# current error = 0.00094738417070711\t\n"
      ]
     },
     "execution_count": 9,
     "metadata": {},
     "output_type": "execute_result"
    },
    {
     "data": {
      "text/plain": [
       "iteration741\t# current error = 0.00094573924496474\t\n"
      ]
     },
     "execution_count": 9,
     "metadata": {},
     "output_type": "execute_result"
    },
    {
     "data": {
      "text/plain": [
       "iteration742\t# current error = 0.00094375925256976\t\n"
      ]
     },
     "execution_count": 9,
     "metadata": {},
     "output_type": "execute_result"
    },
    {
     "data": {
      "text/plain": [
       "iteration743\t# current error = 0.00094226798965466\t\n"
      ]
     },
     "execution_count": 9,
     "metadata": {},
     "output_type": "execute_result"
    },
    {
     "data": {
      "text/plain": [
       "iteration744\t# current error = 0.00094056204671339\t\n"
      ]
     },
     "execution_count": 9,
     "metadata": {},
     "output_type": "execute_result"
    },
    {
     "data": {
      "text/plain": [
       "iteration745\t# current error = 0.00093870430767975\t\n"
      ]
     },
     "execution_count": 9,
     "metadata": {},
     "output_type": "execute_result"
    },
    {
     "data": {
      "text/plain": [
       "iteration746\t# current error = 0.00093704510177566\t\n"
      ]
     },
     "execution_count": 9,
     "metadata": {},
     "output_type": "execute_result"
    },
    {
     "data": {
      "text/plain": [
       "iteration747\t# current error = 0.00093557077534347\t\n"
      ]
     },
     "execution_count": 9,
     "metadata": {},
     "output_type": "execute_result"
    },
    {
     "data": {
      "text/plain": [
       "iteration748\t# current error = 0.0009335916192346\t\n"
      ]
     },
     "execution_count": 9,
     "metadata": {},
     "output_type": "execute_result"
    },
    {
     "data": {
      "text/plain": [
       "iteration749\t# current error = 0.00093200143884356\t\n"
      ]
     },
     "execution_count": 9,
     "metadata": {},
     "output_type": "execute_result"
    },
    {
     "data": {
      "text/plain": [
       "iteration750\t# current error = 0.00093056569954605\t\n"
      ]
     },
     "execution_count": 9,
     "metadata": {},
     "output_type": "execute_result"
    },
    {
     "data": {
      "text/plain": [
       "iteration751\t# current error = 0.000928630463395\t\n"
      ]
     },
     "execution_count": 9,
     "metadata": {},
     "output_type": "execute_result"
    },
    {
     "data": {
      "text/plain": [
       "iteration752\t# current error = 0.00092697311650347\t\n"
      ]
     },
     "execution_count": 9,
     "metadata": {},
     "output_type": "execute_result"
    },
    {
     "data": {
      "text/plain": [
       "iteration753\t# current error = 0.00092553061595066\t\n"
      ]
     },
     "execution_count": 9,
     "metadata": {},
     "output_type": "execute_result"
    },
    {
     "data": {
      "text/plain": [
       "iteration754\t# current error = 0.00092362323957648\t\n"
      ]
     },
     "execution_count": 9,
     "metadata": {},
     "output_type": "execute_result"
    },
    {
     "data": {
      "text/plain": [
       "iteration755\t# current error = 0.00092219324654828\t\n"
      ]
     },
     "execution_count": 9,
     "metadata": {},
     "output_type": "execute_result"
    },
    {
     "data": {
      "text/plain": [
       "iteration756\t# current error = 0.00092030227763543\t\n"
      ]
     },
     "execution_count": 9,
     "metadata": {},
     "output_type": "execute_result"
    },
    {
     "data": {
      "text/plain": [
       "iteration757\t# current error = 0.00091900559625641\t\n"
      ]
     },
     "execution_count": 9,
     "metadata": {},
     "output_type": "execute_result"
    },
    {
     "data": {
      "text/plain": [
       "iteration758\t# current error = 0.00091723341283495\t\n"
      ]
     },
     "execution_count": 9,
     "metadata": {},
     "output_type": "execute_result"
    },
    {
     "data": {
      "text/plain": [
       "iteration759\t# current error = 0.00091553279817007\t\n"
      ]
     },
     "execution_count": 9,
     "metadata": {},
     "output_type": "execute_result"
    },
    {
     "data": {
      "text/plain": [
       "iteration760\t# current error = 0.00091409848915585\t\n"
      ]
     },
     "execution_count": 9,
     "metadata": {},
     "output_type": "execute_result"
    },
    {
     "data": {
      "text/plain": [
       "iteration761\t# current error = 0.00091244648226636\t\n"
      ]
     },
     "execution_count": 9,
     "metadata": {},
     "output_type": "execute_result"
    },
    {
     "data": {
      "text/plain": [
       "iteration762\t# current error = 0.00091085263070796\t\n"
      ]
     },
     "execution_count": 9,
     "metadata": {},
     "output_type": "execute_result"
    },
    {
     "data": {
      "text/plain": [
       "iteration763\t# current error = 0.00090921789828524\t\n"
      ]
     },
     "execution_count": 9,
     "metadata": {},
     "output_type": "execute_result"
    },
    {
     "data": {
      "text/plain": [
       "iteration764\t# current error = 0.00090770653919569\t\n"
      ]
     },
     "execution_count": 9,
     "metadata": {},
     "output_type": "execute_result"
    },
    {
     "data": {
      "text/plain": [
       "iteration765\t# current error = 0.00090589538441113\t\n"
      ]
     },
     "execution_count": 9,
     "metadata": {},
     "output_type": "execute_result"
    },
    {
     "data": {
      "text/plain": [
       "iteration766\t# current error = 0.00090449658195836\t\n"
      ]
     },
     "execution_count": 9,
     "metadata": {},
     "output_type": "execute_result"
    },
    {
     "data": {
      "text/plain": [
       "iteration767\t# current error = 0.00090274298876567\t\n"
      ]
     },
     "execution_count": 9,
     "metadata": {},
     "output_type": "execute_result"
    },
    {
     "data": {
      "text/plain": [
       "iteration768\t# current error = 0.00090124820381753\t\n"
      ]
     },
     "execution_count": 9,
     "metadata": {},
     "output_type": "execute_result"
    },
    {
     "data": {
      "text/plain": [
       "iteration769\t# current error = 0.00089983867734409\t\n"
      ]
     },
     "execution_count": 9,
     "metadata": {},
     "output_type": "execute_result"
    },
    {
     "data": {
      "text/plain": [
       "iteration770\t# current error = 0.00089811973193277\t\n"
      ]
     },
     "execution_count": 9,
     "metadata": {},
     "output_type": "execute_result"
    },
    {
     "data": {
      "text/plain": [
       "iteration771\t# current error = 0.00089662086639332\t\n"
      ]
     },
     "execution_count": 9,
     "metadata": {},
     "output_type": "execute_result"
    },
    {
     "data": {
      "text/plain": [
       "iteration772\t# current error = 0.00089514635662636\t\n"
      ]
     },
     "execution_count": 9,
     "metadata": {},
     "output_type": "execute_result"
    },
    {
     "data": {
      "text/plain": [
       "iteration773\t# current error = 0.00089349657796881\t\n"
      ]
     },
     "execution_count": 9,
     "metadata": {},
     "output_type": "execute_result"
    },
    {
     "data": {
      "text/plain": [
       "iteration774\t"
      ]
     },
     "execution_count": 9,
     "metadata": {},
     "output_type": "execute_result"
    },
    {
     "data": {
      "text/plain": [
       "# current error = 0.00089180041113338\t\n"
      ]
     },
     "execution_count": 9,
     "metadata": {},
     "output_type": "execute_result"
    },
    {
     "data": {
      "text/plain": [
       "iteration775\t# current error = 0.00089057125749764\t\n"
      ]
     },
     "execution_count": 9,
     "metadata": {},
     "output_type": "execute_result"
    },
    {
     "data": {
      "text/plain": [
       "iteration776\t# current error = 0.00088887679065064\t\n"
      ]
     },
     "execution_count": 9,
     "metadata": {},
     "output_type": "execute_result"
    },
    {
     "data": {
      "text/plain": [
       "iteration777\t# current error = 0.00088742038855827\t\n"
      ]
     },
     "execution_count": 9,
     "metadata": {},
     "output_type": "execute_result"
    },
    {
     "data": {
      "text/plain": [
       "iteration778\t# current error = 0.0008858773417831\t\n"
      ]
     },
     "execution_count": 9,
     "metadata": {},
     "output_type": "execute_result"
    },
    {
     "data": {
      "text/plain": [
       "iteration779\t# current error = 0.00088434791004331\t\n"
      ]
     },
     "execution_count": 9,
     "metadata": {},
     "output_type": "execute_result"
    },
    {
     "data": {
      "text/plain": [
       "iteration780\t# current error = 0.00088280679612389\t\n"
      ]
     },
     "execution_count": 9,
     "metadata": {},
     "output_type": "execute_result"
    },
    {
     "data": {
      "text/plain": [
       "iteration781\t# current error = 0.00088135902228181\t\n"
      ]
     },
     "execution_count": 9,
     "metadata": {},
     "output_type": "execute_result"
    },
    {
     "data": {
      "text/plain": [
       "iteration782\t# current error = 0.00087979268917331\t\n"
      ]
     },
     "execution_count": 9,
     "metadata": {},
     "output_type": "execute_result"
    },
    {
     "data": {
      "text/plain": [
       "iteration783\t# current error = 0.00087824309079708\t\n"
      ]
     },
     "execution_count": 9,
     "metadata": {},
     "output_type": "execute_result"
    },
    {
     "data": {
      "text/plain": [
       "iteration784\t# current error = 0.00087686094909075\t\n"
      ]
     },
     "execution_count": 9,
     "metadata": {},
     "output_type": "execute_result"
    },
    {
     "data": {
      "text/plain": [
       "iteration785\t# current error = 0.00087544785112306\t\n"
      ]
     },
     "execution_count": 9,
     "metadata": {},
     "output_type": "execute_result"
    },
    {
     "data": {
      "text/plain": [
       "iteration786\t# current error = 0.00087374553338901\t\n"
      ]
     },
     "execution_count": 9,
     "metadata": {},
     "output_type": "execute_result"
    },
    {
     "data": {
      "text/plain": [
       "iteration787\t# current error = 0.00087237660259544\t\n"
      ]
     },
     "execution_count": 9,
     "metadata": {},
     "output_type": "execute_result"
    },
    {
     "data": {
      "text/plain": [
       "iteration788\t# current error = 0.0008710103574691\t\n"
      ]
     },
     "execution_count": 9,
     "metadata": {},
     "output_type": "execute_result"
    },
    {
     "data": {
      "text/plain": [
       "iteration789\t# current error = 0.00086947174361032\t\n"
      ]
     },
     "execution_count": 9,
     "metadata": {},
     "output_type": "execute_result"
    },
    {
     "data": {
      "text/plain": [
       "iteration790\t# current error = 0.00086790567691489\t\n"
      ]
     },
     "execution_count": 9,
     "metadata": {},
     "output_type": "execute_result"
    },
    {
     "data": {
      "text/plain": [
       "iteration791\t# current error = 0.00086650576147906\t\n"
      ]
     },
     "execution_count": 9,
     "metadata": {},
     "output_type": "execute_result"
    },
    {
     "data": {
      "text/plain": [
       "iteration792\t# current error = 0.00086502131082686\t\n"
      ]
     },
     "execution_count": 9,
     "metadata": {},
     "output_type": "execute_result"
    },
    {
     "data": {
      "text/plain": [
       "iteration793\t# current error = 0.00086360478742222\t\n"
      ]
     },
     "execution_count": 9,
     "metadata": {},
     "output_type": "execute_result"
    },
    {
     "data": {
      "text/plain": [
       "iteration794\t# current error = 0.0008621324840795\t\n"
      ]
     },
     "execution_count": 9,
     "metadata": {},
     "output_type": "execute_result"
    },
    {
     "data": {
      "text/plain": [
       "iteration795\t# current error = 0.00086071338954641\t\n"
      ]
     },
     "execution_count": 9,
     "metadata": {},
     "output_type": "execute_result"
    },
    {
     "data": {
      "text/plain": [
       "iteration796\t# current error = 0.00085929120026844\t\n"
      ]
     },
     "execution_count": 9,
     "metadata": {},
     "output_type": "execute_result"
    },
    {
     "data": {
      "text/plain": [
       "iteration797\t# current error = 0.00085782284924077\t\n"
      ]
     },
     "execution_count": 9,
     "metadata": {},
     "output_type": "execute_result"
    },
    {
     "data": {
      "text/plain": [
       "iteration798\t# current error = 0.0008564356608628\t\n"
      ]
     },
     "execution_count": 9,
     "metadata": {},
     "output_type": "execute_result"
    },
    {
     "data": {
      "text/plain": [
       "iteration799\t# current error = 0.00085500410945486\t\n"
      ]
     },
     "execution_count": 9,
     "metadata": {},
     "output_type": "execute_result"
    },
    {
     "data": {
      "text/plain": [
       "iteration800\t# current error = 0.00085357528116958\t\n"
      ]
     },
     "execution_count": 9,
     "metadata": {},
     "output_type": "execute_result"
    },
    {
     "data": {
      "text/plain": [
       "iteration801\t# current error = 0.00085208647361583\t\n"
      ]
     },
     "execution_count": 9,
     "metadata": {},
     "output_type": "execute_result"
    },
    {
     "data": {
      "text/plain": [
       "iteration802\t# current error = 0.00085065719952818\t\n"
      ]
     },
     "execution_count": 9,
     "metadata": {},
     "output_type": "execute_result"
    },
    {
     "data": {
      "text/plain": [
       "iteration803\t# current error = 0.00084932041864909\t\n"
      ]
     },
     "execution_count": 9,
     "metadata": {},
     "output_type": "execute_result"
    },
    {
     "data": {
      "text/plain": [
       "iteration804\t# current error = 0.00084788840511358\t\n"
      ]
     },
     "execution_count": 9,
     "metadata": {},
     "output_type": "execute_result"
    },
    {
     "data": {
      "text/plain": [
       "iteration805\t# current error = 0.00084651012726469\t\n"
      ]
     },
     "execution_count": 9,
     "metadata": {},
     "output_type": "execute_result"
    },
    {
     "data": {
      "text/plain": [
       "iteration806\t# current error = 0.00084515995628925\t\n"
      ]
     },
     "execution_count": 9,
     "metadata": {},
     "output_type": "execute_result"
    },
    {
     "data": {
      "text/plain": [
       "iteration807\t# current error = 0.00084361979381401\t\n"
      ]
     },
     "execution_count": 9,
     "metadata": {},
     "output_type": "execute_result"
    },
    {
     "data": {
      "text/plain": [
       "iteration808\t# current error = 0.00084243037273428\t\n"
      ]
     },
     "execution_count": 9,
     "metadata": {},
     "output_type": "execute_result"
    },
    {
     "data": {
      "text/plain": [
       "iteration809\t# current error = 0.00084090279145819\t\n"
      ]
     },
     "execution_count": 9,
     "metadata": {},
     "output_type": "execute_result"
    },
    {
     "data": {
      "text/plain": [
       "iteration810\t# current error = 0.00083958391069707\t\n"
      ]
     },
     "execution_count": 9,
     "metadata": {},
     "output_type": "execute_result"
    },
    {
     "data": {
      "text/plain": [
       "iteration811\t# current error = 0.00083834647672391\t\n"
      ]
     },
     "execution_count": 9,
     "metadata": {},
     "output_type": "execute_result"
    },
    {
     "data": {
      "text/plain": [
       "iteration812\t# current error = 0.00083673947689384\t\n"
      ]
     },
     "execution_count": 9,
     "metadata": {},
     "output_type": "execute_result"
    },
    {
     "data": {
      "text/plain": [
       "iteration813\t"
      ]
     },
     "execution_count": 9,
     "metadata": {},
     "output_type": "execute_result"
    },
    {
     "data": {
      "text/plain": [
       "# current error = 0.0008353568695356\t\n"
      ]
     },
     "execution_count": 9,
     "metadata": {},
     "output_type": "execute_result"
    },
    {
     "data": {
      "text/plain": [
       "iteration814\t# current error = 0.00083426773829653\t\n"
      ]
     },
     "execution_count": 9,
     "metadata": {},
     "output_type": "execute_result"
    },
    {
     "data": {
      "text/plain": [
       "iteration815\t# current error = 0.0008326531147923\t\n"
      ]
     },
     "execution_count": 9,
     "metadata": {},
     "output_type": "execute_result"
    },
    {
     "data": {
      "text/plain": [
       "iteration816\t# current error = 0.00083146255258252\t\n"
      ]
     },
     "execution_count": 9,
     "metadata": {},
     "output_type": "execute_result"
    },
    {
     "data": {
      "text/plain": [
       "iteration817\t# current error = 0.00083015351394683\t\n"
      ]
     },
     "execution_count": 9,
     "metadata": {},
     "output_type": "execute_result"
    },
    {
     "data": {
      "text/plain": [
       "iteration818\t# current error = 0.00082856598820871\t\n"
      ]
     },
     "execution_count": 9,
     "metadata": {},
     "output_type": "execute_result"
    },
    {
     "data": {
      "text/plain": [
       "iteration819\t# current error = 0.00082740578554009\t\n"
      ]
     },
     "execution_count": 9,
     "metadata": {},
     "output_type": "execute_result"
    },
    {
     "data": {
      "text/plain": [
       "iteration820\t# current error = 0.0008260456703309\t\n"
      ]
     },
     "execution_count": 9,
     "metadata": {},
     "output_type": "execute_result"
    },
    {
     "data": {
      "text/plain": [
       "iteration821\t# current error = 0.00082451150662842\t\n"
      ]
     },
     "execution_count": 9,
     "metadata": {},
     "output_type": "execute_result"
    },
    {
     "data": {
      "text/plain": [
       "iteration822\t# current error = 0.00082348871994963\t\n"
      ]
     },
     "execution_count": 9,
     "metadata": {},
     "output_type": "execute_result"
    },
    {
     "data": {
      "text/plain": [
       "iteration823\t# current error = 0.00082196014302127\t\n"
      ]
     },
     "execution_count": 9,
     "metadata": {},
     "output_type": "execute_result"
    },
    {
     "data": {
      "text/plain": [
       "iteration824\t# current error = 0.00082073364760645\t\n"
      ]
     },
     "execution_count": 9,
     "metadata": {},
     "output_type": "execute_result"
    },
    {
     "data": {
      "text/plain": [
       "iteration825\t# current error = 0.0008194223560538\t\n"
      ]
     },
     "execution_count": 9,
     "metadata": {},
     "output_type": "execute_result"
    },
    {
     "data": {
      "text/plain": [
       "iteration826\t# current error = 0.00081815821505327\t\n"
      ]
     },
     "execution_count": 9,
     "metadata": {},
     "output_type": "execute_result"
    },
    {
     "data": {
      "text/plain": [
       "iteration827\t# current error = 0.00081666310159001\t\n"
      ]
     },
     "execution_count": 9,
     "metadata": {},
     "output_type": "execute_result"
    },
    {
     "data": {
      "text/plain": [
       "iteration828\t# current error = 0.00081547161298719\t\n"
      ]
     },
     "execution_count": 9,
     "metadata": {},
     "output_type": "execute_result"
    },
    {
     "data": {
      "text/plain": [
       "iteration829\t# current error = 0.00081417608021282\t\n"
      ]
     },
     "execution_count": 9,
     "metadata": {},
     "output_type": "execute_result"
    },
    {
     "data": {
      "text/plain": [
       "iteration830\t# current error = 0.00081283479362646\t\n"
      ]
     },
     "execution_count": 9,
     "metadata": {},
     "output_type": "execute_result"
    },
    {
     "data": {
      "text/plain": [
       "iteration831\t# current error = 0.00081153501648947\t\n"
      ]
     },
     "execution_count": 9,
     "metadata": {},
     "output_type": "execute_result"
    },
    {
     "data": {
      "text/plain": [
       "iteration832\t# current error = 0.00081028754092473\t\n"
      ]
     },
     "execution_count": 9,
     "metadata": {},
     "output_type": "execute_result"
    },
    {
     "data": {
      "text/plain": [
       "iteration833\t# current error = 0.00080902831152751\t\n"
      ]
     },
     "execution_count": 9,
     "metadata": {},
     "output_type": "execute_result"
    },
    {
     "data": {
      "text/plain": [
       "iteration834\t# current error = 0.00080769425550714\t\n"
      ]
     },
     "execution_count": 9,
     "metadata": {},
     "output_type": "execute_result"
    },
    {
     "data": {
      "text/plain": [
       "iteration835\t# current error = 0.00080636830786316\t\n"
      ]
     },
     "execution_count": 9,
     "metadata": {},
     "output_type": "execute_result"
    },
    {
     "data": {
      "text/plain": [
       "iteration836\t# current error = 0.00080521818282685\t\n"
      ]
     },
     "execution_count": 9,
     "metadata": {},
     "output_type": "execute_result"
    },
    {
     "data": {
      "text/plain": [
       "iteration837\t# current error = 0.00080388340041348\t\n"
      ]
     },
     "execution_count": 9,
     "metadata": {},
     "output_type": "execute_result"
    },
    {
     "data": {
      "text/plain": [
       "iteration838\t# current error = 0.00080259259800017\t\n"
      ]
     },
     "execution_count": 9,
     "metadata": {},
     "output_type": "execute_result"
    },
    {
     "data": {
      "text/plain": [
       "iteration839\t# current error = 0.00080131402854299\t\n"
      ]
     },
     "execution_count": 9,
     "metadata": {},
     "output_type": "execute_result"
    },
    {
     "data": {
      "text/plain": [
       "iteration840\t# current error = 0.00080008262709997\t\n"
      ]
     },
     "execution_count": 9,
     "metadata": {},
     "output_type": "execute_result"
    },
    {
     "data": {
      "text/plain": [
       "iteration841\t# current error = 0.0007987623291656\t\n"
      ]
     },
     "execution_count": 9,
     "metadata": {},
     "output_type": "execute_result"
    },
    {
     "data": {
      "text/plain": [
       "iteration842\t# current error = 0.00079763162543255\t\n"
      ]
     },
     "execution_count": 9,
     "metadata": {},
     "output_type": "execute_result"
    },
    {
     "data": {
      "text/plain": [
       "iteration843\t# current error = 0.00079623799316023\t\n"
      ]
     },
     "execution_count": 9,
     "metadata": {},
     "output_type": "execute_result"
    },
    {
     "data": {
      "text/plain": [
       "iteration844\t# current error = 0.00079505920086034\t\n"
      ]
     },
     "execution_count": 9,
     "metadata": {},
     "output_type": "execute_result"
    },
    {
     "data": {
      "text/plain": [
       "iteration845\t# current error = 0.00079383038375197\t\n"
      ]
     },
     "execution_count": 9,
     "metadata": {},
     "output_type": "execute_result"
    },
    {
     "data": {
      "text/plain": [
       "iteration846\t# current error = 0.00079250124301863\t\n"
      ]
     },
     "execution_count": 9,
     "metadata": {},
     "output_type": "execute_result"
    },
    {
     "data": {
      "text/plain": [
       "iteration847\t# current error = 0.00079144420032304\t\n"
      ]
     },
     "execution_count": 9,
     "metadata": {},
     "output_type": "execute_result"
    },
    {
     "data": {
      "text/plain": [
       "iteration848\t# current error = 0.00079017723943371\t\n"
      ]
     },
     "execution_count": 9,
     "metadata": {},
     "output_type": "execute_result"
    },
    {
     "data": {
      "text/plain": [
       "iteration849\t# current error = 0.00078875256727312\t\n"
      ]
     },
     "execution_count": 9,
     "metadata": {},
     "output_type": "execute_result"
    },
    {
     "data": {
      "text/plain": [
       "iteration850\t# current error = 0.00078769407994006\t\n"
      ]
     },
     "execution_count": 9,
     "metadata": {},
     "output_type": "execute_result"
    },
    {
     "data": {
      "text/plain": [
       "iteration851\t# current error = 0.0007865359379315\t\n"
      ]
     },
     "execution_count": 9,
     "metadata": {},
     "output_type": "execute_result"
    },
    {
     "data": {
      "text/plain": [
       "iteration852\t# current error = 0.00078509010581452\t\n"
      ]
     },
     "execution_count": 9,
     "metadata": {},
     "output_type": "execute_result"
    },
    {
     "data": {
      "text/plain": [
       "iteration853\t# current error = 0.00078411797568823\t\n"
      ]
     },
     "execution_count": 9,
     "metadata": {},
     "output_type": "execute_result"
    },
    {
     "data": {
      "text/plain": [
       "iteration854\t# current error = 0.00078280976217971\t\n"
      ]
     },
     "execution_count": 9,
     "metadata": {},
     "output_type": "execute_result"
    },
    {
     "data": {
      "text/plain": [
       "iteration855\t# current error = 0.00078146332217045\t\n"
      ]
     },
     "execution_count": 9,
     "metadata": {},
     "output_type": "execute_result"
    },
    {
     "data": {
      "text/plain": [
       "iteration856\t# current error = 0.00078041983865985\t\n"
      ]
     },
     "execution_count": 9,
     "metadata": {},
     "output_type": "execute_result"
    },
    {
     "data": {
      "text/plain": [
       "iteration857\t# current error = 0.00077913928599968\t\n"
      ]
     },
     "execution_count": 9,
     "metadata": {},
     "output_type": "execute_result"
    },
    {
     "data": {
      "text/plain": [
       "iteration858\t# current error = 0.00077793331844432\t\n"
      ]
     },
     "execution_count": 9,
     "metadata": {},
     "output_type": "execute_result"
    },
    {
     "data": {
      "text/plain": [
       "iteration859\t# current error = 0.00077686076730914\t\n"
      ]
     },
     "execution_count": 9,
     "metadata": {},
     "output_type": "execute_result"
    },
    {
     "data": {
      "text/plain": [
       "iteration860\t# current error = 0.00077555999914399\t\n"
      ]
     },
     "execution_count": 9,
     "metadata": {},
     "output_type": "execute_result"
    },
    {
     "data": {
      "text/plain": [
       "iteration861\t# current error = 0.00077438987989045\t\n"
      ]
     },
     "execution_count": 9,
     "metadata": {},
     "output_type": "execute_result"
    },
    {
     "data": {
      "text/plain": [
       "iteration862\t# current error = 0.00077320685297145\t\n"
      ]
     },
     "execution_count": 9,
     "metadata": {},
     "output_type": "execute_result"
    },
    {
     "data": {
      "text/plain": [
       "iteration863\t# current error = 0.00077207354993323\t\n"
      ]
     },
     "execution_count": 9,
     "metadata": {},
     "output_type": "execute_result"
    },
    {
     "data": {
      "text/plain": [
       "iteration864\t# current error = 0.0007708087784666\t\n"
      ]
     },
     "execution_count": 9,
     "metadata": {},
     "output_type": "execute_result"
    },
    {
     "data": {
      "text/plain": [
       "iteration865\t# current error = 0.0007696517706623\t\n"
      ]
     },
     "execution_count": 9,
     "metadata": {},
     "output_type": "execute_result"
    },
    {
     "data": {
      "text/plain": [
       "iteration866\t# current error = 0.0007684502863177\t\n"
      ]
     },
     "execution_count": 9,
     "metadata": {},
     "output_type": "execute_result"
    },
    {
     "data": {
      "text/plain": [
       "iteration867\t# current error = 0.00076743736976027\t\n"
      ]
     },
     "execution_count": 9,
     "metadata": {},
     "output_type": "execute_result"
    },
    {
     "data": {
      "text/plain": [
       "iteration868\t# current error = 0.00076615354366798\t\n"
      ]
     },
     "execution_count": 9,
     "metadata": {},
     "output_type": "execute_result"
    },
    {
     "data": {
      "text/plain": [
       "iteration869\t# current error = 0.00076500864208627\t\n"
      ]
     },
     "execution_count": 9,
     "metadata": {},
     "output_type": "execute_result"
    },
    {
     "data": {
      "text/plain": [
       "iteration870\t# current error = 0.00076391414642814\t\n"
      ]
     },
     "execution_count": 9,
     "metadata": {},
     "output_type": "execute_result"
    },
    {
     "data": {
      "text/plain": [
       "iteration871\t# current error = 0.00076263599230897\t\n"
      ]
     },
     "execution_count": 9,
     "metadata": {},
     "output_type": "execute_result"
    },
    {
     "data": {
      "text/plain": [
       "iteration872\t# current error = 0.00076146073215105\t\n"
      ]
     },
     "execution_count": 9,
     "metadata": {},
     "output_type": "execute_result"
    },
    {
     "data": {
      "text/plain": [
       "iteration873\t"
      ]
     },
     "execution_count": 9,
     "metadata": {},
     "output_type": "execute_result"
    },
    {
     "data": {
      "text/plain": [
       "# current error = 0.00076049854665967\t\n"
      ]
     },
     "execution_count": 9,
     "metadata": {},
     "output_type": "execute_result"
    },
    {
     "data": {
      "text/plain": [
       "iteration874\t# current error = 0.00075924576616929\t\n"
      ]
     },
     "execution_count": 9,
     "metadata": {},
     "output_type": "execute_result"
    },
    {
     "data": {
      "text/plain": [
       "iteration875\t# current error = 0.00075808435163139\t\n"
      ]
     },
     "execution_count": 9,
     "metadata": {},
     "output_type": "execute_result"
    },
    {
     "data": {
      "text/plain": [
       "iteration876\t# current error = 0.00075693923476473\t\n"
      ]
     },
     "execution_count": 9,
     "metadata": {},
     "output_type": "execute_result"
    },
    {
     "data": {
      "text/plain": [
       "iteration877\t# current error = 0.00075585967559034\t\n"
      ]
     },
     "execution_count": 9,
     "metadata": {},
     "output_type": "execute_result"
    },
    {
     "data": {
      "text/plain": [
       "iteration878\t# current error = 0.00075462503461658\t\n"
      ]
     },
     "execution_count": 9,
     "metadata": {},
     "output_type": "execute_result"
    },
    {
     "data": {
      "text/plain": [
       "iteration879\t# current error = 0.00075362458783904\t\n"
      ]
     },
     "execution_count": 9,
     "metadata": {},
     "output_type": "execute_result"
    },
    {
     "data": {
      "text/plain": [
       "iteration880\t# current error = 0.00075245616814661\t\n"
      ]
     },
     "execution_count": 9,
     "metadata": {},
     "output_type": "execute_result"
    },
    {
     "data": {
      "text/plain": [
       "iteration881\t# current error = 0.00075125664144412\t\n"
      ]
     },
     "execution_count": 9,
     "metadata": {},
     "output_type": "execute_result"
    },
    {
     "data": {
      "text/plain": [
       "iteration882\t# current error = 0.00075024790951189\t\n"
      ]
     },
     "execution_count": 9,
     "metadata": {},
     "output_type": "execute_result"
    },
    {
     "data": {
      "text/plain": [
       "iteration883\t# current error = 0.00074911874185532\t\n"
      ]
     },
     "execution_count": 9,
     "metadata": {},
     "output_type": "execute_result"
    },
    {
     "data": {
      "text/plain": [
       "iteration884\t# current error = 0.00074790520896178\t\n"
      ]
     },
     "execution_count": 9,
     "metadata": {},
     "output_type": "execute_result"
    },
    {
     "data": {
      "text/plain": [
       "iteration885\t# current error = 0.00074688395371372\t\n"
      ]
     },
     "execution_count": 9,
     "metadata": {},
     "output_type": "execute_result"
    },
    {
     "data": {
      "text/plain": [
       "iteration886\t# current error = 0.00074570362028702\t\n"
      ]
     },
     "execution_count": 9,
     "metadata": {},
     "output_type": "execute_result"
    },
    {
     "data": {
      "text/plain": [
       "iteration887\t# current error = 0.00074461411824286\t\n"
      ]
     },
     "execution_count": 9,
     "metadata": {},
     "output_type": "execute_result"
    },
    {
     "data": {
      "text/plain": [
       "iteration888\t# current error = 0.00074358784481802\t\n"
      ]
     },
     "execution_count": 9,
     "metadata": {},
     "output_type": "execute_result"
    },
    {
     "data": {
      "text/plain": [
       "iteration889\t# current error = 0.0007424504653315\t\n"
      ]
     },
     "execution_count": 9,
     "metadata": {},
     "output_type": "execute_result"
    },
    {
     "data": {
      "text/plain": [
       "iteration890\t# current error = 0.00074135483789433\t\n"
      ]
     },
     "execution_count": 9,
     "metadata": {},
     "output_type": "execute_result"
    },
    {
     "data": {
      "text/plain": [
       "iteration891\t# current error = 0.00074025376172126\t\n"
      ]
     },
     "execution_count": 9,
     "metadata": {},
     "output_type": "execute_result"
    },
    {
     "data": {
      "text/plain": [
       "iteration892\t# current error = 0.00073909999757554\t\n"
      ]
     },
     "execution_count": 9,
     "metadata": {},
     "output_type": "execute_result"
    },
    {
     "data": {
      "text/plain": [
       "iteration893\t# current error = 0.00073807435381677\t\n"
      ]
     },
     "execution_count": 9,
     "metadata": {},
     "output_type": "execute_result"
    },
    {
     "data": {
      "text/plain": [
       "iteration894\t# current error = 0.00073691717583115\t\n"
      ]
     },
     "execution_count": 9,
     "metadata": {},
     "output_type": "execute_result"
    },
    {
     "data": {
      "text/plain": [
       "iteration895\t# current error = 0.00073598820540907\t\n"
      ]
     },
     "execution_count": 9,
     "metadata": {},
     "output_type": "execute_result"
    },
    {
     "data": {
      "text/plain": [
       "iteration896\t# current error = 0.00073483482911944\t\n"
      ]
     },
     "execution_count": 9,
     "metadata": {},
     "output_type": "execute_result"
    },
    {
     "data": {
      "text/plain": [
       "iteration897\t# current error = 0.00073373033103977\t\n"
      ]
     },
     "execution_count": 9,
     "metadata": {},
     "output_type": "execute_result"
    },
    {
     "data": {
      "text/plain": [
       "iteration898\t# current error = 0.00073271041770804\t\n"
      ]
     },
     "execution_count": 9,
     "metadata": {},
     "output_type": "execute_result"
    },
    {
     "data": {
      "text/plain": [
       "iteration899\t# current error = 0.00073159893183937\t\n"
      ]
     },
     "execution_count": 9,
     "metadata": {},
     "output_type": "execute_result"
    },
    {
     "data": {
      "text/plain": [
       "iteration900\t# current error = 0.00073054370314173\t\n"
      ]
     },
     "execution_count": 9,
     "metadata": {},
     "output_type": "execute_result"
    },
    {
     "data": {
      "text/plain": [
       "iteration901\t# current error = 0.00072941452306387\t\n"
      ]
     },
     "execution_count": 9,
     "metadata": {},
     "output_type": "execute_result"
    },
    {
     "data": {
      "text/plain": [
       "iteration902\t# current error = 0.00072838259599906\t\n"
      ]
     },
     "execution_count": 9,
     "metadata": {},
     "output_type": "execute_result"
    },
    {
     "data": {
      "text/plain": [
       "iteration903\t# current error = 0.00072732558983235\t\n"
      ]
     },
     "execution_count": 9,
     "metadata": {},
     "output_type": "execute_result"
    },
    {
     "data": {
      "text/plain": [
       "iteration904\t# current error = 0.00072633639620875\t\n"
      ]
     },
     "execution_count": 9,
     "metadata": {},
     "output_type": "execute_result"
    },
    {
     "data": {
      "text/plain": [
       "iteration905\t# current error = 0.00072526569761015\t\n"
      ]
     },
     "execution_count": 9,
     "metadata": {},
     "output_type": "execute_result"
    },
    {
     "data": {
      "text/plain": [
       "iteration906\t# current error = 0.00072413342340266\t\n"
      ]
     },
     "execution_count": 9,
     "metadata": {},
     "output_type": "execute_result"
    },
    {
     "data": {
      "text/plain": [
       "iteration907\t# current error = 0.00072319887487698\t\n"
      ]
     },
     "execution_count": 9,
     "metadata": {},
     "output_type": "execute_result"
    },
    {
     "data": {
      "text/plain": [
       "iteration908\t# current error = 0.00072215926724159\t\n"
      ]
     },
     "execution_count": 9,
     "metadata": {},
     "output_type": "execute_result"
    },
    {
     "data": {
      "text/plain": [
       "iteration909\t# current error = 0.00072096667004845\t\n"
      ]
     },
     "execution_count": 9,
     "metadata": {},
     "output_type": "execute_result"
    },
    {
     "data": {
      "text/plain": [
       "iteration910\t# current error = 0.0007200026426763\t\n"
      ]
     },
     "execution_count": 9,
     "metadata": {},
     "output_type": "execute_result"
    },
    {
     "data": {
      "text/plain": [
       "iteration911\t# current error = 0.00071897078347587\t\n"
      ]
     },
     "execution_count": 9,
     "metadata": {},
     "output_type": "execute_result"
    },
    {
     "data": {
      "text/plain": [
       "iteration912\t# current error = 0.00071786822618505\t\n"
      ]
     },
     "execution_count": 9,
     "metadata": {},
     "output_type": "execute_result"
    },
    {
     "data": {
      "text/plain": [
       "iteration913\t# current error = 0.00071695691959254\t\n"
      ]
     },
     "execution_count": 9,
     "metadata": {},
     "output_type": "execute_result"
    },
    {
     "data": {
      "text/plain": [
       "iteration914\t# current error = 0.00071591131305276\t\n"
      ]
     },
     "execution_count": 9,
     "metadata": {},
     "output_type": "execute_result"
    },
    {
     "data": {
      "text/plain": [
       "iteration915\t# current error = 0.00071486201362672\t\n"
      ]
     },
     "execution_count": 9,
     "metadata": {},
     "output_type": "execute_result"
    },
    {
     "data": {
      "text/plain": [
       "iteration916\t# current error = 0.00071385743194874\t\n"
      ]
     },
     "execution_count": 9,
     "metadata": {},
     "output_type": "execute_result"
    },
    {
     "data": {
      "text/plain": [
       "iteration917\t# current error = 0.00071271659703063\t\n"
      ]
     },
     "execution_count": 9,
     "metadata": {},
     "output_type": "execute_result"
    },
    {
     "data": {
      "text/plain": [
       "iteration918\t# current error = 0.00071184075662152\t\n"
      ]
     },
     "execution_count": 9,
     "metadata": {},
     "output_type": "execute_result"
    },
    {
     "data": {
      "text/plain": [
       "iteration919\t# current error = 0.00071083575027568\t\n"
      ]
     },
     "execution_count": 9,
     "metadata": {},
     "output_type": "execute_result"
    },
    {
     "data": {
      "text/plain": [
       "iteration920\t# current error = 0.00070965895699956\t\n"
      ]
     },
     "execution_count": 9,
     "metadata": {},
     "output_type": "execute_result"
    },
    {
     "data": {
      "text/plain": [
       "iteration921\t# current error = 0.00070883771226536\t\n"
      ]
     },
     "execution_count": 9,
     "metadata": {},
     "output_type": "execute_result"
    },
    {
     "data": {
      "text/plain": [
       "iteration922\t# current error = 0.00070775638860695\t\n"
      ]
     },
     "execution_count": 9,
     "metadata": {},
     "output_type": "execute_result"
    },
    {
     "data": {
      "text/plain": [
       "iteration923\t# current error = 0.00070665440526133\t\n"
      ]
     },
     "execution_count": 9,
     "metadata": {},
     "output_type": "execute_result"
    },
    {
     "data": {
      "text/plain": [
       "iteration924\t# current error = 0.00070574425318383\t\n"
      ]
     },
     "execution_count": 9,
     "metadata": {},
     "output_type": "execute_result"
    },
    {
     "data": {
      "text/plain": [
       "iteration925\t# current error = 0.00070480043603166\t\n"
      ]
     },
     "execution_count": 9,
     "metadata": {},
     "output_type": "execute_result"
    },
    {
     "data": {
      "text/plain": [
       "iteration926\t# current error = 0.00070376521164881\t\n"
      ]
     },
     "execution_count": 9,
     "metadata": {},
     "output_type": "execute_result"
    },
    {
     "data": {
      "text/plain": [
       "iteration927\t# current error = 0.00070275273575453\t\n"
      ]
     },
     "execution_count": 9,
     "metadata": {},
     "output_type": "execute_result"
    },
    {
     "data": {
      "text/plain": [
       "iteration928\t# current error = 0.00070176252847623\t\n"
      ]
     },
     "execution_count": 9,
     "metadata": {},
     "output_type": "execute_result"
    },
    {
     "data": {
      "text/plain": [
       "iteration929\t# current error = 0.00070075855889514\t\n"
      ]
     },
     "execution_count": 9,
     "metadata": {},
     "output_type": "execute_result"
    },
    {
     "data": {
      "text/plain": [
       "iteration930\t# current error = 0.00069977313663621\t\n"
      ]
     },
     "execution_count": 9,
     "metadata": {},
     "output_type": "execute_result"
    },
    {
     "data": {
      "text/plain": [
       "iteration931\t# current error = 0.00069867054948544\t\n"
      ]
     },
     "execution_count": 9,
     "metadata": {},
     "output_type": "execute_result"
    },
    {
     "data": {
      "text/plain": [
       "iteration932\t# current error = 0.00069793089938198\t\n"
      ]
     },
     "execution_count": 9,
     "metadata": {},
     "output_type": "execute_result"
    },
    {
     "data": {
      "text/plain": [
       "iteration933\t# current error = 0.00069686120970828\t\n"
      ]
     },
     "execution_count": 9,
     "metadata": {},
     "output_type": "execute_result"
    },
    {
     "data": {
      "text/plain": [
       "iteration934\t# current error = 0.00069574296770021\t\n"
      ]
     },
     "execution_count": 9,
     "metadata": {},
     "output_type": "execute_result"
    },
    {
     "data": {
      "text/plain": [
       "iteration935\t# current error = 0.00069493762978002\t\n"
      ]
     },
     "execution_count": 9,
     "metadata": {},
     "output_type": "execute_result"
    },
    {
     "data": {
      "text/plain": [
       "iteration936\t# current error = 0.00069389499819552\t\n"
      ]
     },
     "execution_count": 9,
     "metadata": {},
     "output_type": "execute_result"
    },
    {
     "data": {
      "text/plain": [
       "iteration937\t# current error = 0.00069290581593894\t\n"
      ]
     },
     "execution_count": 9,
     "metadata": {},
     "output_type": "execute_result"
    },
    {
     "data": {
      "text/plain": [
       "iteration938\t# current error = 0.00069203339901002\t\n"
      ]
     },
     "execution_count": 9,
     "metadata": {},
     "output_type": "execute_result"
    },
    {
     "data": {
      "text/plain": [
       "iteration939\t# current error = 0.00069100302679959\t\n"
      ]
     },
     "execution_count": 9,
     "metadata": {},
     "output_type": "execute_result"
    },
    {
     "data": {
      "text/plain": [
       "iteration940\t# current error = 0.00069000823233202\t\n"
      ]
     },
     "execution_count": 9,
     "metadata": {},
     "output_type": "execute_result"
    },
    {
     "data": {
      "text/plain": [
       "iteration941\t# current error = 0.00068908543601063\t\n"
      ]
     },
     "execution_count": 9,
     "metadata": {},
     "output_type": "execute_result"
    },
    {
     "data": {
      "text/plain": [
       "iteration942\t# current error = 0.00068815570248797\t\n"
      ]
     },
     "execution_count": 9,
     "metadata": {},
     "output_type": "execute_result"
    },
    {
     "data": {
      "text/plain": [
       "iteration943\t# current error = 0.00068714456890121\t\n"
      ]
     },
     "execution_count": 9,
     "metadata": {},
     "output_type": "execute_result"
    },
    {
     "data": {
      "text/plain": [
       "iteration944\t# current error = 0.0006862201927994\t\n"
      ]
     },
     "execution_count": 9,
     "metadata": {},
     "output_type": "execute_result"
    },
    {
     "data": {
      "text/plain": [
       "iteration945\t# current error = 0.00068527753429247\t\n"
      ]
     },
     "execution_count": 9,
     "metadata": {},
     "output_type": "execute_result"
    },
    {
     "data": {
      "text/plain": [
       "iteration946\t# current error = 0.00068432626499861\t\n"
      ]
     },
     "execution_count": 9,
     "metadata": {},
     "output_type": "execute_result"
    },
    {
     "data": {
      "text/plain": [
       "iteration947\t# current error = 0.00068345131570052\t\n"
      ]
     },
     "execution_count": 9,
     "metadata": {},
     "output_type": "execute_result"
    },
    {
     "data": {
      "text/plain": [
       "iteration948\t"
      ]
     },
     "execution_count": 9,
     "metadata": {},
     "output_type": "execute_result"
    },
    {
     "data": {
      "text/plain": [
       "# current error = 0.00068241158915554\t\n"
      ]
     },
     "execution_count": 9,
     "metadata": {},
     "output_type": "execute_result"
    },
    {
     "data": {
      "text/plain": [
       "iteration949\t# current error = 0.00068146673588062\t\n"
      ]
     },
     "execution_count": 9,
     "metadata": {},
     "output_type": "execute_result"
    },
    {
     "data": {
      "text/plain": [
       "iteration950\t# current error = 0.00068056114007204\t\n"
      ]
     },
     "execution_count": 9,
     "metadata": {},
     "output_type": "execute_result"
    },
    {
     "data": {
      "text/plain": [
       "iteration951\t# current error = 0.00067957049426789\t\n"
      ]
     },
     "execution_count": 9,
     "metadata": {},
     "output_type": "execute_result"
    },
    {
     "data": {
      "text/plain": [
       "iteration952\t# current error = 0.00067868960558839\t\n"
      ]
     },
     "execution_count": 9,
     "metadata": {},
     "output_type": "execute_result"
    },
    {
     "data": {
      "text/plain": [
       "iteration953\t# current error = 0.00067777873188126\t\n"
      ]
     },
     "execution_count": 9,
     "metadata": {},
     "output_type": "execute_result"
    },
    {
     "data": {
      "text/plain": [
       "iteration954\t# current error = 0.00067685651841118\t\n"
      ]
     },
     "execution_count": 9,
     "metadata": {},
     "output_type": "execute_result"
    },
    {
     "data": {
      "text/plain": [
       "iteration955\t# current error = 0.00067587815939158\t\n"
      ]
     },
     "execution_count": 9,
     "metadata": {},
     "output_type": "execute_result"
    },
    {
     "data": {
      "text/plain": [
       "iteration956\t# current error = 0.00067493325924034\t\n"
      ]
     },
     "execution_count": 9,
     "metadata": {},
     "output_type": "execute_result"
    },
    {
     "data": {
      "text/plain": [
       "iteration957\t# current error = 0.00067408102666626\t\n"
      ]
     },
     "execution_count": 9,
     "metadata": {},
     "output_type": "execute_result"
    },
    {
     "data": {
      "text/plain": [
       "iteration958\t# current error = 0.00067311871687922\t\n"
      ]
     },
     "execution_count": 9,
     "metadata": {},
     "output_type": "execute_result"
    },
    {
     "data": {
      "text/plain": [
       "iteration959\t# current error = 0.00067222152652044\t\n"
      ]
     },
     "execution_count": 9,
     "metadata": {},
     "output_type": "execute_result"
    },
    {
     "data": {
      "text/plain": [
       "iteration960\t# current error = 0.00067130414216583\t\n"
      ]
     },
     "execution_count": 9,
     "metadata": {},
     "output_type": "execute_result"
    },
    {
     "data": {
      "text/plain": [
       "iteration961\t# current error = 0.00067034326880418\t\n"
      ]
     },
     "execution_count": 9,
     "metadata": {},
     "output_type": "execute_result"
    },
    {
     "data": {
      "text/plain": [
       "iteration962\t# current error = 0.00066955759313933\t\n"
      ]
     },
     "execution_count": 9,
     "metadata": {},
     "output_type": "execute_result"
    },
    {
     "data": {
      "text/plain": [
       "iteration963\t# current error = 0.00066850073889011\t\n"
      ]
     },
     "execution_count": 9,
     "metadata": {},
     "output_type": "execute_result"
    },
    {
     "data": {
      "text/plain": [
       "iteration964\t# current error = 0.00066768327398808\t\n"
      ]
     },
     "execution_count": 9,
     "metadata": {},
     "output_type": "execute_result"
    },
    {
     "data": {
      "text/plain": [
       "iteration965\t# current error = 0.00066684524456185\t\n"
      ]
     },
     "execution_count": 9,
     "metadata": {},
     "output_type": "execute_result"
    },
    {
     "data": {
      "text/plain": [
       "iteration966\t# current error = 0.0006658034126453\t\n"
      ]
     },
     "execution_count": 9,
     "metadata": {},
     "output_type": "execute_result"
    },
    {
     "data": {
      "text/plain": [
       "iteration967\t# current error = 0.0006649700433316\t\n"
      ]
     },
     "execution_count": 9,
     "metadata": {},
     "output_type": "execute_result"
    },
    {
     "data": {
      "text/plain": [
       "iteration968\t# current error = 0.00066411408189768\t\n"
      ]
     },
     "execution_count": 9,
     "metadata": {},
     "output_type": "execute_result"
    },
    {
     "data": {
      "text/plain": [
       "iteration969\t# current error = 0.00066314608625282\t\n"
      ]
     },
     "execution_count": 9,
     "metadata": {},
     "output_type": "execute_result"
    },
    {
     "data": {
      "text/plain": [
       "iteration970\t# current error = 0.00066227367780748\t\n"
      ]
     },
     "execution_count": 9,
     "metadata": {},
     "output_type": "execute_result"
    },
    {
     "data": {
      "text/plain": [
       "iteration971\t# current error = 0.00066131352869921\t\n"
      ]
     },
     "execution_count": 9,
     "metadata": {},
     "output_type": "execute_result"
    },
    {
     "data": {
      "text/plain": [
       "iteration972\t# current error = 0.00066049170845762\t\n"
      ]
     },
     "execution_count": 9,
     "metadata": {},
     "output_type": "execute_result"
    },
    {
     "data": {
      "text/plain": [
       "iteration973\t# current error = 0.00065965092639653\t\n"
      ]
     },
     "execution_count": 9,
     "metadata": {},
     "output_type": "execute_result"
    },
    {
     "data": {
      "text/plain": [
       "iteration974\t# current error = 0.00065868515393597\t\n"
      ]
     },
     "execution_count": 9,
     "metadata": {},
     "output_type": "execute_result"
    },
    {
     "data": {
      "text/plain": [
       "iteration975\t# current error = 0.00065788435865756\t\n"
      ]
     },
     "execution_count": 9,
     "metadata": {},
     "output_type": "execute_result"
    },
    {
     "data": {
      "text/plain": [
       "iteration976\t# current error = 0.00065694236559171\t\n"
      ]
     },
     "execution_count": 9,
     "metadata": {},
     "output_type": "execute_result"
    },
    {
     "data": {
      "text/plain": [
       "iteration977\t# current error = 0.00065607729959515\t\n"
      ]
     },
     "execution_count": 9,
     "metadata": {},
     "output_type": "execute_result"
    },
    {
     "data": {
      "text/plain": [
       "iteration978\t# current error = 0.00065524493588914\t\n"
      ]
     },
     "execution_count": 9,
     "metadata": {},
     "output_type": "execute_result"
    },
    {
     "data": {
      "text/plain": [
       "iteration979\t# current error = 0.00065435980048644\t\n"
      ]
     },
     "execution_count": 9,
     "metadata": {},
     "output_type": "execute_result"
    },
    {
     "data": {
      "text/plain": [
       "iteration980\t# current error = 0.00065345967343976\t"
      ]
     },
     "execution_count": 9,
     "metadata": {},
     "output_type": "execute_result"
    },
    {
     "data": {
      "text/plain": [
       "\n"
      ]
     },
     "execution_count": 9,
     "metadata": {},
     "output_type": "execute_result"
    },
    {
     "data": {
      "text/plain": [
       "iteration981\t# current error = 0.00065262144251434\t\n"
      ]
     },
     "execution_count": 9,
     "metadata": {},
     "output_type": "execute_result"
    },
    {
     "data": {
      "text/plain": [
       "iteration982\t# current error = 0.00065174999400795\t\n"
      ]
     },
     "execution_count": 9,
     "metadata": {},
     "output_type": "execute_result"
    },
    {
     "data": {
      "text/plain": [
       "iteration983\t# current error = 0.00065084116552421\t\n"
      ]
     },
     "execution_count": 9,
     "metadata": {},
     "output_type": "execute_result"
    },
    {
     "data": {
      "text/plain": [
       "iteration984\t# current error = 0.00065007552648996\t\n"
      ]
     },
     "execution_count": 9,
     "metadata": {},
     "output_type": "execute_result"
    },
    {
     "data": {
      "text/plain": [
       "iteration985\t# current error = 0.00064909617816467\t\n"
      ]
     },
     "execution_count": 9,
     "metadata": {},
     "output_type": "execute_result"
    },
    {
     "data": {
      "text/plain": [
       "iteration986\t# current error = 0.00064833600100027\t\n"
      ]
     },
     "execution_count": 9,
     "metadata": {},
     "output_type": "execute_result"
    },
    {
     "data": {
      "text/plain": [
       "iteration987\t# current error = 0.00064745803678369\t\n"
      ]
     },
     "execution_count": 9,
     "metadata": {},
     "output_type": "execute_result"
    },
    {
     "data": {
      "text/plain": [
       "iteration988\t# current error = 0.00064658165070436\t\n"
      ]
     },
     "execution_count": 9,
     "metadata": {},
     "output_type": "execute_result"
    },
    {
     "data": {
      "text/plain": [
       "iteration989\t# current error = 0.00064566370736047\t\n"
      ]
     },
     "execution_count": 9,
     "metadata": {},
     "output_type": "execute_result"
    },
    {
     "data": {
      "text/plain": [
       "iteration990\t# current error = 0.00064498857625675\t\n"
      ]
     },
     "execution_count": 9,
     "metadata": {},
     "output_type": "execute_result"
    },
    {
     "data": {
      "text/plain": [
       "iteration991\t# current error = 0.00064400794118164\t\n"
      ]
     },
     "execution_count": 9,
     "metadata": {},
     "output_type": "execute_result"
    },
    {
     "data": {
      "text/plain": [
       "iteration992\t# current error = 0.0006432110217539\t\n"
      ]
     },
     "execution_count": 9,
     "metadata": {},
     "output_type": "execute_result"
    },
    {
     "data": {
      "text/plain": [
       "iteration993\t# current error = 0.00064232355679168\t\n"
      ]
     },
     "execution_count": 9,
     "metadata": {},
     "output_type": "execute_result"
    },
    {
     "data": {
      "text/plain": [
       "iteration994\t# current error = 0.00064152702022015\t\n"
      ]
     },
     "execution_count": 9,
     "metadata": {},
     "output_type": "execute_result"
    },
    {
     "data": {
      "text/plain": [
       "iteration995\t# current error = 0.00064063766851622\t\n"
      ]
     },
     "execution_count": 9,
     "metadata": {},
     "output_type": "execute_result"
    },
    {
     "data": {
      "text/plain": [
       "iteration996\t# current error = 0.00063981391163742\t\n"
      ]
     },
     "execution_count": 9,
     "metadata": {},
     "output_type": "execute_result"
    },
    {
     "data": {
      "text/plain": [
       "iteration997\t# current error = 0.00063901149701219\t\n"
      ]
     },
     "execution_count": 9,
     "metadata": {},
     "output_type": "execute_result"
    },
    {
     "data": {
      "text/plain": [
       "iteration998\t# current error = 0.0006382170554694\t\n"
      ]
     },
     "execution_count": 9,
     "metadata": {},
     "output_type": "execute_result"
    },
    {
     "data": {
      "text/plain": [
       "iteration999\t# current error = 0.00063730131212815\t\n"
      ]
     },
     "execution_count": 9,
     "metadata": {},
     "output_type": "execute_result"
    },
    {
     "data": {
      "text/plain": [
       "iteration1000\t# current error = 0.00063650283804607\t\n",
       "# StochasticGradient: you have reached the maximum number of iterations\t\n",
       "# training error = 0.00063650283804607\t\n"
      ]
     },
     "execution_count": 9,
     "metadata": {},
     "output_type": "execute_result"
    }
   ],
   "source": [
    "accuracy, loss = trainer:train(trainset)"
   ]
  },
  {
   "cell_type": "code",
   "execution_count": 10,
   "metadata": {
    "scrolled": true
   },
   "outputs": [
    {
     "data": {
      "text/html": [
       "<script type=\"text/javascript\">\n",
       "$(function() {\n",
       "    if (typeof (window._bokeh_onload_callbacks) === \"undefined\"){\n",
       "  window._bokeh_onload_callbacks = [];\n",
       "    }\n",
       "    function load_lib(url, callback){\n",
       "  window._bokeh_onload_callbacks.push(callback);\n",
       "  if (window._bokeh_is_loading){\n",
       "      console.log(\"Bokeh: BokehJS is being loaded, scheduling callback at\", new Date());\n",
       "      return null;\n",
       "  }\n",
       "  console.log(\"Bokeh: BokehJS not loaded, scheduling load and callback at\", new Date());\n",
       "  window._bokeh_is_loading = true;\n",
       "  var s = document.createElement('script');\n",
       "  s.src = url;\n",
       "  s.async = true;\n",
       "  s.onreadystatechange = s.onload = function(){\n",
       "      Bokeh.embed.inject_css(\"https://cdn.pydata.org/bokeh-0.7.0.min.css\");\n",
       "      window._bokeh_onload_callbacks.forEach(function(callback){callback()});\n",
       "  };\n",
       "  s.onerror = function(){\n",
       "      console.warn(\"failed to load library \" + url);\n",
       "  };\n",
       "  document.getElementsByTagName(\"head\")[0].appendChild(s);\n",
       "    }\n",
       "\n",
       "    bokehjs_url = \"https://cdn.pydata.org/bokeh-0.7.0.min.js\"\n",
       "\n",
       "    var elt = document.getElementById(\"648b2e60-e405-4c40-cc5b-fff61141078a\");\n",
       "    if(elt==null) {\n",
       "  console.log(\"Bokeh: ERROR: autoload.js configured with elementid '648b2e60-e405-4c40-cc5b-fff61141078a'\"\n",
       "        + \"but no matching script tag was found. \")\n",
       "  return false;\n",
       "    }\n",
       "\n",
       "    if(typeof(Bokeh) !== \"undefined\") {\n",
       "  console.log(\"Bokeh: BokehJS loaded, going straight to plotting\");\n",
       "  var modelid = \"bc15cc70-ce9e-41f7-c15e-cf43818825f6\";\n",
       "  var modeltype = \"Plot\";\n",
       "  var all_models = [{\"id\":\"f58a716c-0919-4ed1-ce81-4532f5591c71\",\"type\":\"ColumnDataSource\",\"attributes\":{\"data\":{\"y\":[3.1128925711266,2.912493295498,2.8650301761557,2.8254785689617,2.8039661918239,2.7686457895095,2.734403866871,2.7034799411076,2.6735739559431,2.6430089755746,2.6131788678119,2.5817720521516,2.5507255746036,2.5188159095503,2.4775478253851,2.4354073292974,2.3972654645016,2.3581455736151,2.3126970928724,2.2642546004211,2.2076535246238,2.1504646750158,2.0880198714018,2.0222172281134,1.9560982935921,1.8857559137054,1.8100047311522,1.7406707989361,1.6529193195279,1.5686069533806,1.4846193275475,1.4005830703845,1.3107294890436,1.2248932102158,1.1436170908868,1.0653703578462,0.98996251418879,0.92276735256347,0.86018515925481,0.80362432687173,0.74286118223103,0.69279218278648,0.64256330772003,0.5984072227248,0.55580158156444,0.51959487768525,0.48345261620593,0.44905891032212,0.41862053378235,0.39212853362005,0.36793000402089,0.3438730466457,0.32296946039713,0.30374415305833,0.2857664383805,0.26861623207302,0.25454683353277,0.23927030224231,0.22661066286526,0.21567809932349,0.20417240170477,0.19328533472462,0.18466804474465,0.17454881568608,0.16490496136499,0.15694043373648,0.14879410705732,0.1414231513389,0.13404832955783,0.12706341154721,0.12069607784421,0.1144184694703,0.10874848706691,0.10317087952771,0.098227172231839,0.093832507830901,0.089355239162933,0.085299422107348,0.081532963168448,0.077941044927631,0.074423430927352,0.071271620676787,0.068432109424689,0.065480457930608,0.062915451800856,0.060465287758038,0.058077576167699,0.055740424148099,0.053724672579244,0.051880750981291,0.049992117444051,0.048274321005768,0.046613671101192,0.045027381535345,0.04348930484682,0.041986415478301,0.040713937094576,0.039486959315472,0.038186445643363,0.036985906633258,0.036009118046435,0.034944416813165,0.033853356660809,0.032910378749454,0.032044064923801,0.031129732981338,0.03029564387866,0.029491724808472,0.028681286185099,0.027932453197296,0.027338521648817,0.026615557717627,0.025990055625901,0.025320713385503,0.024735610669913,0.024171767357546,0.023602746249479,0.023050454092794,0.022498703300859,0.02208520770169,0.021555844446024,0.021108748555805,0.020686477493942,0.020226590944914,0.019801894759197,0.019414898898229,0.01901369215136,0.018658450993041,0.018314434790668,0.017945785646043,0.017619128749694,0.017259427411256,0.016959684347896,0.016625046689422,0.016351845475152,0.016051127685282,0.01576949455709,0.015490583365357,0.015245771467971,0.015005497718609,0.014732358571941,0.014485654874023,0.014232863721781,0.014040761323943,0.013811542936832,0.013577652565276,0.013369035371759,0.013164054827392,0.012954849764945,0.01276500479487,0.01257685771509,0.012397365597986,0.012208619063191,0.01203127761065,0.011860106333822,0.011709735858689,0.011530430435425,0.011385083855983,0.011226862365619,0.011089436357731,0.010932859180677,0.010788173088409,0.010659338478698,0.0105177749934,0.010392783840393,0.010250946661692,0.010130497207589,0.010007746271527,0.0098774611060246,0.0097697967369386,0.0096546597723059,0.0095318493698074,0.0094282693533357,0.0093216706636235,0.0092078563938626,0.0091044948686697,0.0090158866593885,0.0089038153710658,0.0088078159431856,0.0087176928885455,0.0086079530593315,0.0085279186314283,0.0084406430971034,0.0083457585384151,0.008261713364463,0.0081773695771843,0.0080868161023841,0.0080077430604178,0.0079309498880908,0.0078441224878603,0.0077717762998387,0.0076897066385944,0.0076138248781686,0.0075424296576461,0.0074697656307059,0.0073969369300933,0.007329008669453,0.0072599442497408,0.0071883337896389,0.0071252560888301,0.0070519801509589,0.0069966542236909,0.0069264804666211,0.0068711293826898,0.0068045863394434,0.0067438847001372,0.0066849387911581,0.0066262840762086,0.006564959019313,0.0065101565658139,0.006456959951189,0.0063977339326344,0.006346999860914,0.0062950094757912,0.0062364953018503,0.0061845697857921,0.006136890368317,0.006085530678507,0.0060367529795184,0.0059859901198209,0.0059365666087468,0.0058914263833696,0.0058437513851757,0.0058011065906344,0.005752195000167,0.0057061173897419,0.0056629858273571,0.0056208806072461,0.0055781253761587,0.0055334905799061,0.0054914236754196,0.0054488490621736,0.0054105888876004,0.0053695140323197,0.005330739306083,0.0052926415883731,0.0052507030815215,0.0052117204941449,0.0051786679536158,0.0051375740027272,0.0051018083101592,0.0050666077870796,0.0050300265971145,0.0049940672393586,0.0049584009582988,0.0049275773309369,0.0048902065942521,0.0048565722748789,0.0048256906100862,0.0047902090352719,0.0047595727106162,0.004728718854871,0.0046945398250572,0.004665503012522,0.0046345679161529,0.004603716812609,0.0045736743741023,0.0045441282039872,0.004514103832785,0.0044830349595036,0.0044576125364604,0.0044299516605849,0.0044005322898711,0.0043700377937816,0.0043457311853045,0.0043167274202851,0.0042909140500993,0.0042619026422195,0.0042389816909075,0.0042102461889252,0.0041875291930888,0.0041598554592573,0.0041349043111457,0.004109458124451,0.0040900186233347,0.0040613733106507,0.0040367515833598,0.0040149437886429,0.0039892137014967,0.0039653766689804,0.0039447657249435,0.0039233745212801,0.0038980350519498,0.0038749039256817,0.003855179409401,0.0038304663105669,0.003811303989736,0.003789284620625,0.00376647938533,0.0037466081218251,0.0037261831527492,0.003707143165927,0.0036838055934895,0.0036654226728811,0.0036450953338555,0.0036247770947209,0.0036051267056841,0.0035846433386657,0.0035677276222118,0.003547697899346,0.0035293350860225,0.0035101684596485,0.0034920907498211,0.0034720352445387,0.0034557007536036,0.0034370805311985,0.003418474672554,0.0034002725788269,0.0033854300121901,0.0033667887027339,0.0033495165511769,0.0033337096444792,0.0033148686932158,0.003298831735786,0.0032815828031831,0.0032672191544244,0.0032485236727725,0.0032334463821534,0.003218073857376,0.0032032224458125,0.003185906078078,0.0031700073113247,0.0031554789014157,0.0031397925712232,0.0031257164220807,0.0031110881552075,0.0030946179466898,0.0030800842859244,0.003065984156265,0.0030517825349469,0.0030367522764113,0.0030225567676624,0.0030092801676435,0.0029956745834378,0.0029799256515513,0.0029663751679059,0.0029546230270657,0.0029388812696031,0.0029263173846247,0.0029142042158377,0.0029000929094729,0.0028871574174246,0.0028722708250062,0.0028614315723442,0.0028485308963816,0.0028365486381847,0.0028225090439836,0.0028092852133826,0.0027992801131435,0.0027858254981254,0.0027734424391987,0.0027627041997904,0.0027492865782994,0.0027377773473676,0.0027254549659616,0.002714164435758,0.0027027780968516,0.00269188071076,0.0026794763052436,0.0026679561125979,0.0026571290820907,0.0026460051373109,0.0026343635607465,0.0026244083349694,0.002612895534756,0.0026022980926466,0.0025911751924767,0.0025806145882307,0.0025696211190895,0.0025599018727379,0.0025485080339203,0.0025387457956476,0.0025286724200701,0.0025174952686779,0.0025076174859126,0.0024984913853218,0.0024871093315205,0.0024771683949041,0.0024682635593691,0.0024582603036906,0.0024485620351301,0.0024393316543543,0.002429752967121,0.0024201133897783,0.0024095452844271,0.0024009543523876,0.0023915490207293,0.0023829614829093,0.0023736324995623,0.0023643124984122,0.0023548392563191,0.0023456748524691,0.0023369663793934,0.0023286059369496,0.0023201827246868,0.002310794582926,0.0023024381093013,0.0022933104961443,0.0022847394748857,0.0022762724045988,0.0022680289695171,0.0022589790928335,0.0022505634280912,0.0022426592858292,0.0022333788016243,0.0022253845425279,0.0022178448790197,0.0022091915662875,0.00220068955305,0.0021929084165366,0.0021841891346662,0.0021767954459364,0.0021679547436957,0.0021611582978321,0.0021521966400448,0.0021451591110315,0.0021366354315962,0.0021299133411144,0.0021217597448783,0.0021138454844991,0.0021069672206687,0.0020993135577281,0.0020909187368872,0.0020843747572493,0.002077028115688,0.0020695940241305,0.0020618856391815,0.0020540207750346,0.0020480360226644,0.0020407156782886,0.0020330555057828,0.0020261868654316,0.0020187352335336,0.0020126056993424,0.0020055769280197,0.001998276978721,0.0019916479477674,0.0019852988849086,0.0019782955381011,0.0019712824956421,0.0019646822601688,0.0019578972979444,0.0019518764714718,0.0019447559352369,0.001938219114392,0.0019315179587762,0.0019259161823537,0.0019185995043063,0.0019129913364735,0.0019062960115178,0.001899931142279,0.0018939525039053,0.0018879047340356,0.0018816074382856,0.0018753027513231,0.0018693787849949,0.00186345555374,0.0018571663160594,0.001851342113315,0.0018450373758613,0.001839435932921,0.0018331963502519,0.0018277557890108,0.0018219914813136,0.0018162168818189,0.0018106671302672,0.001804438188732,0.0017988096031008,0.0017933237867351,0.0017874266105331,0.001782286536533,0.0017763257316903,0.0017709798623509,0.0017661525352385,0.0017595875689549,0.0017549102948923,0.0017495120262631,0.0017441750640518,0.0017381874414644,0.0017333995796892,0.0017278067371658,0.0017234519463698,0.00171745367785,0.00171241613566,0.0017072283624717,0.0017020061679489,0.0016972663460566,0.0016915440205558,0.0016870234751257,0.0016821709940205,0.0016768445253021,0.0016718269517529,0.0016673591506119,0.0016620682802584,0.0016569210371582,0.0016528746488945,0.0016475519772112,0.0016425279464319,0.0016380383200956,0.0016333915055789,0.0016280915601421,0.0016236413813029,0.0016187836419112,0.0016147467140918,0.0016100186062339,0.001605051610531,0.0016005630443914,0.00159576523402,0.0015916422495773,0.0015869840401772,0.0015821446351562,0.001578194071658,0.0015739255447,0.0015688724554242,0.0015648043009945,0.001560550483699,0.0015558623098407,0.0015516882242681,0.0015473282081897,0.0015434458085069,0.0015388934631209,0.0015346659854048,0.0015301849357273,0.0015260625768925,0.0015219137423265,0.0015178488528654,0.0015135802538441,0.0015096266860255,0.0015058203928349,0.0015008556549501,0.0014975617574553,0.001493549415212,0.001489326058483,0.0014853937413719,0.0014812394516405,0.0014775194286239,0.0014733233346447,0.0014695045101583,0.001465600934221,0.0014613680795707,0.0014578988840824,0.0014541795885045,0.0014499083842816,0.0014464464192166,0.001442727330462,0.0014388635982123,0.0014349663455062,0.0014313638322325,0.0014276781690177,0.0014243941419068,0.0014201974561239,0.0014168478949674,0.0014131004630672,0.001409564170892,0.0014059848184216,0.0014024703472399,0.0013988392674157,0.0013953879791504,0.0013918802624114,0.0013883543561762,0.0013847645490712,0.0013814917666383,0.0013779311961259,0.0013746383036206,0.001371353277439,0.0013676817738128,0.001364667582428,0.0013607054407879,0.0013579755911455,0.0013541042486851,0.0013510041523696,0.0013479455253005,0.0013444314244785,0.0013410017807499,0.0013378092133236,0.0013349025146362,0.0013314424016734,0.0013284605358499,0.0013247752872946,0.0013219053231371,0.0013187328220463,0.001315163987278,0.0013124468778147,0.0013092383559227,0.0013060175341295,0.0013030925258154,0.001299850240121,0.0012966356638459,0.0012936896021989,0.0012906507076812,0.0012877426497145,0.0012845341088561,0.001281663065466,0.0012786980240601,0.0012756474337608,0.0012725328564668,0.0012694501860721,0.0012671002412175,0.001263745532486,0.0012610586264391,0.0012579417495519,0.0012550113630621,0.0012522225620751,0.0012491069070748,0.0012464488303507,0.0012438395253803,0.0012405291233809,0.0012378958968906,0.0012353556782762,0.0012322658663247,0.0012294093514224,0.0012269923316812,0.001223843195505,0.001221070128961,0.0012187022183958,0.0012155782564187,0.0012128520614252,0.0012103918569335,0.0012075210511157,0.0012051222609673,0.0012023783990584,0.0011995499050841,0.0011968712102886,0.0011943700290015,0.0011914740289687,0.0011888338859691,0.0011866473377641,0.0011838384391484,0.0011811456955133,0.0011788444304371,0.0011760535023442,0.0011735129846464,0.0011706984170331,0.0011685959362671,0.0011659087711321,0.0011634699527863,0.0011610036691484,0.0011584154619168,0.0011559159720534,0.0011533332327995,0.001151158509994,0.0011485669321747,0.0011460471655073,0.0011437201706525,0.0011411659006763,0.001138901829059,0.0011364882471541,0.0011339356282462,0.0011317526895567,0.0011292357360503,0.0011269053156353,0.0011244688505727,0.0011222161118591,0.0011197023743427,0.0011176341449658,0.0011152227667842,0.0011130570732818,0.0011105168437662,0.0011082396935306,0.0011060737252636,0.0011038279958232,0.0011013336443759,0.0010992617823336,0.0010970419149707,0.001094532539607,0.0010924974169413,0.0010901947467507,0.0010880130678951,0.0010858384781272,0.0010837760648024,0.0010812857779871,0.0010792922316788,0.0010770430407405,0.0010748497883809,0.0010727260804498,0.0010706312404734,0.001068308951142,0.0010664120907457,0.0010641089765059,0.0010618586974727,0.0010599007419528,0.0010578166854172,0.0010556517449913,0.0010536485921627,0.001051536276589,0.0010492915974526,0.0010473449343865,0.0010454178572027,0.0010431931751847,0.0010412049758909,0.0010392629479339,0.0010368506484799,0.0010351931605862,0.0010331457461764,0.0010308703611455,0.0010291645239091,0.0010269963022749,0.0010251432450521,0.0010229069792428,0.001021268274958,0.0010190406940858,0.0010172814422481,0.0010152399551864,0.0010130877385731,0.0010113038887427,0.0010093487327193,0.0010075298807945,0.0010055218808441,0.0010035473622429,0.0010017276538118,0.00099986540361874,0.00099778124150488,0.00099614931160019,0.0009941718452463,0.00099224632260756,0.00099024911741646,0.00098858776729931,0.00098639310077894,0.00098491604483609,0.00098306221429527,0.00098091887698315,0.00097942355477461,0.00097744116526604,0.00097554398874546,0.00097389403822794,0.00097196018816378,0.00097012913882859,0.00096852235673104,0.00096648566735824,0.00096485839409365,0.00096307361570338,0.00096129335395647,0.00095942423897448,0.00095770729652201,0.00095615146393361,0.00095415507841638,0.00095237370981674,0.0009508087694484,0.00094893283327428,0.00094738417070711,0.00094573924496474,0.00094375925256976,0.00094226798965466,0.00094056204671339,0.00093870430767975,0.00093704510177566,0.00093557077534347,0.0009335916192346,0.00093200143884356,0.00093056569954605,0.000928630463395,0.00092697311650347,0.00092553061595066,0.00092362323957648,0.00092219324654828,0.00092030227763543,0.00091900559625641,0.00091723341283495,0.00091553279817007,0.00091409848915585,0.00091244648226636,0.00091085263070796,0.00090921789828524,0.00090770653919569,0.00090589538441113,0.00090449658195836,0.00090274298876567,0.00090124820381753,0.00089983867734409,0.00089811973193277,0.00089662086639332,0.00089514635662636,0.00089349657796881,0.00089180041113338,0.00089057125749764,0.00088887679065064,0.00088742038855827,0.0008858773417831,0.00088434791004331,0.00088280679612389,0.00088135902228181,0.00087979268917331,0.00087824309079708,0.00087686094909075,0.00087544785112306,0.00087374553338901,0.00087237660259544,0.0008710103574691,0.00086947174361032,0.00086790567691489,0.00086650576147906,0.00086502131082686,0.00086360478742222,0.0008621324840795,0.00086071338954641,0.00085929120026844,0.00085782284924077,0.0008564356608628,0.00085500410945486,0.00085357528116958,0.00085208647361583,0.00085065719952818,0.00084932041864909,0.00084788840511358,0.00084651012726469,0.00084515995628925,0.00084361979381401,0.00084243037273428,0.00084090279145819,0.00083958391069707,0.00083834647672391,0.00083673947689384,0.0008353568695356,0.00083426773829653,0.0008326531147923,0.00083146255258252,0.00083015351394683,0.00082856598820871,0.00082740578554009,0.0008260456703309,0.00082451150662842,0.00082348871994963,0.00082196014302127,0.00082073364760645,0.0008194223560538,0.00081815821505327,0.00081666310159001,0.00081547161298719,0.00081417608021282,0.00081283479362646,0.00081153501648947,0.00081028754092473,0.00080902831152751,0.00080769425550714,0.00080636830786316,0.00080521818282685,0.00080388340041348,0.00080259259800017,0.00080131402854299,0.00080008262709997,0.0007987623291656,0.00079763162543255,0.00079623799316023,0.00079505920086034,0.00079383038375197,0.00079250124301863,0.00079144420032304,0.00079017723943371,0.00078875256727312,0.00078769407994006,0.0007865359379315,0.00078509010581452,0.00078411797568823,0.00078280976217971,0.00078146332217045,0.00078041983865985,0.00077913928599968,0.00077793331844432,0.00077686076730914,0.00077555999914399,0.00077438987989045,0.00077320685297145,0.00077207354993323,0.0007708087784666,0.0007696517706623,0.0007684502863177,0.00076743736976027,0.00076615354366798,0.00076500864208627,0.00076391414642814,0.00076263599230897,0.00076146073215105,0.00076049854665967,0.00075924576616929,0.00075808435163139,0.00075693923476473,0.00075585967559034,0.00075462503461658,0.00075362458783904,0.00075245616814661,0.00075125664144412,0.00075024790951189,0.00074911874185532,0.00074790520896178,0.00074688395371372,0.00074570362028702,0.00074461411824286,0.00074358784481802,0.0007424504653315,0.00074135483789433,0.00074025376172126,0.00073909999757554,0.00073807435381677,0.00073691717583115,0.00073598820540907,0.00073483482911944,0.00073373033103977,0.00073271041770804,0.00073159893183937,0.00073054370314173,0.00072941452306387,0.00072838259599906,0.00072732558983235,0.00072633639620875,0.00072526569761015,0.00072413342340266,0.00072319887487698,0.00072215926724159,0.00072096667004845,0.0007200026426763,0.00071897078347587,0.00071786822618505,0.00071695691959254,0.00071591131305276,0.00071486201362672,0.00071385743194874,0.00071271659703063,0.00071184075662152,0.00071083575027568,0.00070965895699956,0.00070883771226536,0.00070775638860695,0.00070665440526133,0.00070574425318383,0.00070480043603166,0.00070376521164881,0.00070275273575453,0.00070176252847623,0.00070075855889514,0.00069977313663621,0.00069867054948544,0.00069793089938198,0.00069686120970828,0.00069574296770021,0.00069493762978002,0.00069389499819552,0.00069290581593894,0.00069203339901002,0.00069100302679959,0.00069000823233202,0.00068908543601063,0.00068815570248797,0.00068714456890121,0.0006862201927994,0.00068527753429247,0.00068432626499861,0.00068345131570052,0.00068241158915554,0.00068146673588062,0.00068056114007204,0.00067957049426789,0.00067868960558839,0.00067777873188126,0.00067685651841118,0.00067587815939158,0.00067493325924034,0.00067408102666626,0.00067311871687922,0.00067222152652044,0.00067130414216583,0.00067034326880418,0.00066955759313933,0.00066850073889011,0.00066768327398808,0.00066684524456185,0.0006658034126453,0.0006649700433316,0.00066411408189768,0.00066314608625282,0.00066227367780748,0.00066131352869921,0.00066049170845762,0.00065965092639653,0.00065868515393597,0.00065788435865756,0.00065694236559171,0.00065607729959515,0.00065524493588914,0.00065435980048644,0.00065345967343976,0.00065262144251434,0.00065174999400795,0.00065084116552421,0.00065007552648996,0.00064909617816467,0.00064833600100027,0.00064745803678369,0.00064658165070436,0.00064566370736047,0.00064498857625675,0.00064400794118164,0.0006432110217539,0.00064232355679168,0.00064152702022015,0.00064063766851622,0.00063981391163742,0.00063901149701219,0.0006382170554694,0.00063730131212815,0.00063650283804607],\"x\":[1,2,3,4,5,6,7,8,9,10,11,12,13,14,15,16,17,18,19,20,21,22,23,24,25,26,27,28,29,30,31,32,33,34,35,36,37,38,39,40,41,42,43,44,45,46,47,48,49,50,51,52,53,54,55,56,57,58,59,60,61,62,63,64,65,66,67,68,69,70,71,72,73,74,75,76,77,78,79,80,81,82,83,84,85,86,87,88,89,90,91,92,93,94,95,96,97,98,99,100,101,102,103,104,105,106,107,108,109,110,111,112,113,114,115,116,117,118,119,120,121,122,123,124,125,126,127,128,129,130,131,132,133,134,135,136,137,138,139,140,141,142,143,144,145,146,147,148,149,150,151,152,153,154,155,156,157,158,159,160,161,162,163,164,165,166,167,168,169,170,171,172,173,174,175,176,177,178,179,180,181,182,183,184,185,186,187,188,189,190,191,192,193,194,195,196,197,198,199,200,201,202,203,204,205,206,207,208,209,210,211,212,213,214,215,216,217,218,219,220,221,222,223,224,225,226,227,228,229,230,231,232,233,234,235,236,237,238,239,240,241,242,243,244,245,246,247,248,249,250,251,252,253,254,255,256,257,258,259,260,261,262,263,264,265,266,267,268,269,270,271,272,273,274,275,276,277,278,279,280,281,282,283,284,285,286,287,288,289,290,291,292,293,294,295,296,297,298,299,300,301,302,303,304,305,306,307,308,309,310,311,312,313,314,315,316,317,318,319,320,321,322,323,324,325,326,327,328,329,330,331,332,333,334,335,336,337,338,339,340,341,342,343,344,345,346,347,348,349,350,351,352,353,354,355,356,357,358,359,360,361,362,363,364,365,366,367,368,369,370,371,372,373,374,375,376,377,378,379,380,381,382,383,384,385,386,387,388,389,390,391,392,393,394,395,396,397,398,399,400,401,402,403,404,405,406,407,408,409,410,411,412,413,414,415,416,417,418,419,420,421,422,423,424,425,426,427,428,429,430,431,432,433,434,435,436,437,438,439,440,441,442,443,444,445,446,447,448,449,450,451,452,453,454,455,456,457,458,459,460,461,462,463,464,465,466,467,468,469,470,471,472,473,474,475,476,477,478,479,480,481,482,483,484,485,486,487,488,489,490,491,492,493,494,495,496,497,498,499,500,501,502,503,504,505,506,507,508,509,510,511,512,513,514,515,516,517,518,519,520,521,522,523,524,525,526,527,528,529,530,531,532,533,534,535,536,537,538,539,540,541,542,543,544,545,546,547,548,549,550,551,552,553,554,555,556,557,558,559,560,561,562,563,564,565,566,567,568,569,570,571,572,573,574,575,576,577,578,579,580,581,582,583,584,585,586,587,588,589,590,591,592,593,594,595,596,597,598,599,600,601,602,603,604,605,606,607,608,609,610,611,612,613,614,615,616,617,618,619,620,621,622,623,624,625,626,627,628,629,630,631,632,633,634,635,636,637,638,639,640,641,642,643,644,645,646,647,648,649,650,651,652,653,654,655,656,657,658,659,660,661,662,663,664,665,666,667,668,669,670,671,672,673,674,675,676,677,678,679,680,681,682,683,684,685,686,687,688,689,690,691,692,693,694,695,696,697,698,699,700,701,702,703,704,705,706,707,708,709,710,711,712,713,714,715,716,717,718,719,720,721,722,723,724,725,726,727,728,729,730,731,732,733,734,735,736,737,738,739,740,741,742,743,744,745,746,747,748,749,750,751,752,753,754,755,756,757,758,759,760,761,762,763,764,765,766,767,768,769,770,771,772,773,774,775,776,777,778,779,780,781,782,783,784,785,786,787,788,789,790,791,792,793,794,795,796,797,798,799,800,801,802,803,804,805,806,807,808,809,810,811,812,813,814,815,816,817,818,819,820,821,822,823,824,825,826,827,828,829,830,831,832,833,834,835,836,837,838,839,840,841,842,843,844,845,846,847,848,849,850,851,852,853,854,855,856,857,858,859,860,861,862,863,864,865,866,867,868,869,870,871,872,873,874,875,876,877,878,879,880,881,882,883,884,885,886,887,888,889,890,891,892,893,894,895,896,897,898,899,900,901,902,903,904,905,906,907,908,909,910,911,912,913,914,915,916,917,918,919,920,921,922,923,924,925,926,927,928,929,930,931,932,933,934,935,936,937,938,939,940,941,942,943,944,945,946,947,948,949,950,951,952,953,954,955,956,957,958,959,960,961,962,963,964,965,966,967,968,969,970,971,972,973,974,975,976,977,978,979,980,981,982,983,984,985,986,987,988,989,990,991,992,993,994,995,996,997,998,999,1000]},\"column_names\":[\"y\",\"x\"],\"cont_ranges\":{},\"discrete_ranges\":{},\"selected\":[],\"id\":\"f58a716c-0919-4ed1-ce81-4532f5591c71\",\"doc\":null,\"tags\":[]}},{\"id\":\"7d0e3034-00f9-433f-c303-8ee9f15f43eb\",\"type\":\"Line\",\"attributes\":{\"fill_alpha\":{\"units\":\"data\",\"value\":0.2},\"line_alpha\":{\"units\":\"data\",\"value\":1},\"doc\":null,\"size\":{\"units\":\"screen\",\"value\":10},\"fill_color\":{\"value\":\"red\"},\"line_color\":{\"value\":\"red\"},\"x\":{\"units\":\"data\",\"field\":\"x\"},\"id\":\"7d0e3034-00f9-433f-c303-8ee9f15f43eb\",\"y\":{\"units\":\"data\",\"field\":\"y\"},\"tags\":[]}},{\"id\":\"3f6751a2-733b-4934-c931-1d1d86374e94\",\"type\":\"Line\",\"attributes\":{\"fill_alpha\":{\"units\":\"data\",\"value\":0.2},\"line_alpha\":{\"units\":\"data\",\"value\":1},\"doc\":null,\"size\":{\"units\":\"screen\",\"value\":10},\"fill_color\":{\"value\":\"red\"},\"line_color\":{\"value\":\"red\"},\"x\":{\"units\":\"data\",\"field\":\"x\"},\"id\":\"3f6751a2-733b-4934-c931-1d1d86374e94\",\"y\":{\"units\":\"data\",\"field\":\"y\"},\"tags\":[]}},{\"id\":\"916b9db1-7745-489e-c89f-1f690cc20823\",\"type\":\"GlyphRenderer\",\"attributes\":{\"name\":null,\"nonselection_glyph\":{\"type\":\"Line\",\"id\":\"3f6751a2-733b-4934-c931-1d1d86374e94\"},\"doc\":null,\"server_data_source\":null,\"data_source\":{\"type\":\"ColumnDataSource\",\"id\":\"f58a716c-0919-4ed1-ce81-4532f5591c71\"},\"glyph\":{\"type\":\"Line\",\"id\":\"7d0e3034-00f9-433f-c303-8ee9f15f43eb\"},\"selection_glyph\":null,\"id\":\"916b9db1-7745-489e-c89f-1f690cc20823\",\"tags\":[]}},{\"id\":\"1abaa17f-bd72-4876-c83c-1f031df8990d\",\"type\":\"DataRange1d\",\"attributes\":{\"sources\":[{\"columns\":[\"x\"],\"source\":{\"type\":\"ColumnDataSource\",\"id\":\"f58a716c-0919-4ed1-ce81-4532f5591c71\"}}],\"id\":\"1abaa17f-bd72-4876-c83c-1f031df8990d\",\"tags\":[],\"doc\":null}},{\"id\":\"6b9474d1-8d60-4850-c806-e7a23f5fff7f\",\"type\":\"DataRange1d\",\"attributes\":{\"sources\":[{\"columns\":[\"y\"],\"source\":{\"type\":\"ColumnDataSource\",\"id\":\"f58a716c-0919-4ed1-ce81-4532f5591c71\"}}],\"id\":\"6b9474d1-8d60-4850-c806-e7a23f5fff7f\",\"tags\":[],\"doc\":null}},{\"id\":\"a49f8f88-172c-43fc-c36e-1e4be944b303\",\"type\":\"ToolEvents\",\"attributes\":{\"tags\":[],\"id\":\"a49f8f88-172c-43fc-c36e-1e4be944b303\",\"geometries\":[],\"doc\":null}},{\"id\":\"4c92973d-d7fe-41e5-c1dd-b80d028b6905\",\"type\":\"BasicTickFormatter\",\"attributes\":{\"id\":\"4c92973d-d7fe-41e5-c1dd-b80d028b6905\",\"tags\":[],\"doc\":null}},{\"id\":\"c1b533d8-3c18-4cdd-cc47-403647fe1018\",\"type\":\"BasicTicker\",\"attributes\":{\"num_minor_ticks\":5,\"id\":\"c1b533d8-3c18-4cdd-cc47-403647fe1018\",\"tags\":[],\"doc\":null}},{\"id\":\"f7004df0-ddf7-4d03-cdb8-4fa1de6e3bcf\",\"type\":\"LinearAxis\",\"attributes\":{\"formatter\":{\"type\":\"BasicTickFormatter\",\"id\":\"4c92973d-d7fe-41e5-c1dd-b80d028b6905\"},\"ticker\":{\"type\":\"BasicTicker\",\"id\":\"c1b533d8-3c18-4cdd-cc47-403647fe1018\"},\"plot\":{\"id\":\"bc15cc70-ce9e-41f7-c15e-cf43818825f6\",\"type\":\"Plot\",\"subtype\":\"Figure\"},\"axis_label\":null,\"id\":\"f7004df0-ddf7-4d03-cdb8-4fa1de6e3bcf\",\"doc\":null,\"tags\":[]}},{\"id\":\"fc73a7e6-7404-4f02-cf0e-21bbb4c021ef\",\"type\":\"Grid\",\"attributes\":{\"dimension\":0,\"plot\":{\"id\":\"bc15cc70-ce9e-41f7-c15e-cf43818825f6\",\"type\":\"Plot\",\"subtype\":\"Figure\"},\"ticker\":{\"type\":\"BasicTicker\",\"id\":\"c1b533d8-3c18-4cdd-cc47-403647fe1018\"},\"id\":\"fc73a7e6-7404-4f02-cf0e-21bbb4c021ef\",\"doc\":null,\"tags\":[]}},{\"id\":\"3341b4ae-cbb7-4b06-cb09-af6b68284b67\",\"type\":\"BasicTickFormatter\",\"attributes\":{\"id\":\"3341b4ae-cbb7-4b06-cb09-af6b68284b67\",\"tags\":[],\"doc\":null}},{\"id\":\"4790005a-184c-44cd-c430-d44d8e4487c9\",\"type\":\"BasicTicker\",\"attributes\":{\"num_minor_ticks\":5,\"id\":\"4790005a-184c-44cd-c430-d44d8e4487c9\",\"tags\":[],\"doc\":null}},{\"id\":\"851d1b8b-11ef-4d4f-cd56-15c4c5291a50\",\"type\":\"LinearAxis\",\"attributes\":{\"formatter\":{\"type\":\"BasicTickFormatter\",\"id\":\"3341b4ae-cbb7-4b06-cb09-af6b68284b67\"},\"ticker\":{\"type\":\"BasicTicker\",\"id\":\"4790005a-184c-44cd-c430-d44d8e4487c9\"},\"plot\":{\"id\":\"bc15cc70-ce9e-41f7-c15e-cf43818825f6\",\"type\":\"Plot\",\"subtype\":\"Figure\"},\"axis_label\":null,\"id\":\"851d1b8b-11ef-4d4f-cd56-15c4c5291a50\",\"doc\":null,\"tags\":[]}},{\"id\":\"edb83bf6-05e3-44b6-c4a2-4de8e78dc2eb\",\"type\":\"Grid\",\"attributes\":{\"dimension\":1,\"plot\":{\"id\":\"bc15cc70-ce9e-41f7-c15e-cf43818825f6\",\"type\":\"Plot\",\"subtype\":\"Figure\"},\"ticker\":{\"type\":\"BasicTicker\",\"id\":\"4790005a-184c-44cd-c430-d44d8e4487c9\"},\"id\":\"edb83bf6-05e3-44b6-c4a2-4de8e78dc2eb\",\"doc\":null,\"tags\":[]}},{\"id\":\"9ad64c8d-0dc1-490d-c9da-0dd82bac1e91\",\"type\":\"PanTool\",\"attributes\":{\"plot\":{\"id\":\"bc15cc70-ce9e-41f7-c15e-cf43818825f6\",\"type\":\"Plot\",\"subtype\":\"Figure\"},\"dimensions\":[\"width\",\"height\"],\"id\":\"9ad64c8d-0dc1-490d-c9da-0dd82bac1e91\",\"doc\":null,\"tags\":[]}},{\"id\":\"88fe02b4-c305-4443-c4bc-51a48e8ab53c\",\"type\":\"WheelZoomTool\",\"attributes\":{\"plot\":{\"id\":\"bc15cc70-ce9e-41f7-c15e-cf43818825f6\",\"type\":\"Plot\",\"subtype\":\"Figure\"},\"dimensions\":[\"width\",\"height\"],\"id\":\"88fe02b4-c305-4443-c4bc-51a48e8ab53c\",\"doc\":null,\"tags\":[]}},{\"id\":\"3de3aa81-2bc2-4514-c55b-552a597be5ee\",\"type\":\"BoxZoomTool\",\"attributes\":{\"plot\":{\"id\":\"bc15cc70-ce9e-41f7-c15e-cf43818825f6\",\"type\":\"Plot\",\"subtype\":\"Figure\"},\"id\":\"3de3aa81-2bc2-4514-c55b-552a597be5ee\",\"tags\":[],\"doc\":null}},{\"id\":\"30478146-1415-43bc-c354-2f11b7f63741\",\"type\":\"PreviewSaveTool\",\"attributes\":{\"plot\":{\"id\":\"bc15cc70-ce9e-41f7-c15e-cf43818825f6\",\"type\":\"Plot\",\"subtype\":\"Figure\"},\"id\":\"30478146-1415-43bc-c354-2f11b7f63741\",\"tags\":[],\"doc\":null}},{\"id\":\"67fedde7-77f3-4be4-cbee-f8d7e302e1f3\",\"type\":\"ResizeTool\",\"attributes\":{\"plot\":{\"id\":\"bc15cc70-ce9e-41f7-c15e-cf43818825f6\",\"type\":\"Plot\",\"subtype\":\"Figure\"},\"id\":\"67fedde7-77f3-4be4-cbee-f8d7e302e1f3\",\"tags\":[],\"doc\":null}},{\"id\":\"bf1c741c-5060-4927-c9b9-07391de6e8a4\",\"type\":\"ResetTool\",\"attributes\":{\"plot\":{\"id\":\"bc15cc70-ce9e-41f7-c15e-cf43818825f6\",\"type\":\"Plot\",\"subtype\":\"Figure\"},\"id\":\"bf1c741c-5060-4927-c9b9-07391de6e8a4\",\"tags\":[],\"doc\":null}},{\"id\":\"e4375cef-c895-46d0-c6a9-fab205519e72\",\"type\":\"Legend\",\"attributes\":{\"plot\":{\"id\":\"bc15cc70-ce9e-41f7-c15e-cf43818825f6\",\"type\":\"Plot\",\"subtype\":\"Figure\"},\"legends\":[[\"loss\",[{\"type\":\"GlyphRenderer\",\"id\":\"916b9db1-7745-489e-c89f-1f690cc20823\"}]]],\"id\":\"e4375cef-c895-46d0-c6a9-fab205519e72\",\"doc\":null,\"tags\":[]}},{\"id\":\"bc15cc70-ce9e-41f7-c15e-cf43818825f6\",\"type\":\"Plot\",\"attributes\":{\"x_range\":{\"type\":\"DataRange1d\",\"id\":\"1abaa17f-bd72-4876-c83c-1f031df8990d\"},\"tool_events\":{\"type\":\"ToolEvents\",\"id\":\"a49f8f88-172c-43fc-c36e-1e4be944b303\"},\"below\":[{\"type\":\"LinearAxis\",\"id\":\"f7004df0-ddf7-4d03-cdb8-4fa1de6e3bcf\"}],\"renderers\":[{\"type\":\"GlyphRenderer\",\"id\":\"916b9db1-7745-489e-c89f-1f690cc20823\"},{\"type\":\"LinearAxis\",\"id\":\"f7004df0-ddf7-4d03-cdb8-4fa1de6e3bcf\"},{\"type\":\"Grid\",\"id\":\"fc73a7e6-7404-4f02-cf0e-21bbb4c021ef\"},{\"type\":\"LinearAxis\",\"id\":\"851d1b8b-11ef-4d4f-cd56-15c4c5291a50\"},{\"type\":\"Grid\",\"id\":\"edb83bf6-05e3-44b6-c4a2-4de8e78dc2eb\"},{\"type\":\"Legend\",\"id\":\"e4375cef-c895-46d0-c6a9-fab205519e72\"}],\"above\":[],\"tools\":[{\"type\":\"PanTool\",\"id\":\"9ad64c8d-0dc1-490d-c9da-0dd82bac1e91\"},{\"type\":\"WheelZoomTool\",\"id\":\"88fe02b4-c305-4443-c4bc-51a48e8ab53c\"},{\"type\":\"BoxZoomTool\",\"id\":\"3de3aa81-2bc2-4514-c55b-552a597be5ee\"},{\"type\":\"PreviewSaveTool\",\"id\":\"30478146-1415-43bc-c354-2f11b7f63741\"},{\"type\":\"ResizeTool\",\"id\":\"67fedde7-77f3-4be4-cbee-f8d7e302e1f3\"},{\"type\":\"ResetTool\",\"id\":\"bf1c741c-5060-4927-c9b9-07391de6e8a4\"}],\"doc\":null,\"right\":[],\"title\":\"Loss\",\"extra_x_ranges\":{},\"left\":[{\"type\":\"LinearAxis\",\"id\":\"851d1b8b-11ef-4d4f-cd56-15c4c5291a50\"}],\"y_range\":{\"type\":\"DataRange1d\",\"id\":\"6b9474d1-8d60-4850-c806-e7a23f5fff7f\"},\"id\":\"bc15cc70-ce9e-41f7-c15e-cf43818825f6\",\"extra_y_ranges\":{},\"tags\":[]}}];\n",
       "  Bokeh.load_models(all_models);\n",
       "  var model = Bokeh.Collections(modeltype).get(modelid);\n",
       "  $(\"#648b2e60-e405-4c40-cc5b-fff61141078a\").html(''); // clear any previous plot in window_id\n",
       "  var view = new model.default_view({model: model, el: \"#648b2e60-e405-4c40-cc5b-fff61141078a\"});\n",
       "    } else {\n",
       "  load_lib(bokehjs_url, function() {\n",
       "      console.log(\"Bokeh: BokehJS plotting callback run at\", new Date())\n",
       "      var modelid = \"bc15cc70-ce9e-41f7-c15e-cf43818825f6\";\n",
       "      var modeltype = \"Plot\";\n",
       "      var all_models = [{\"id\":\"f58a716c-0919-4ed1-ce81-4532f5591c71\",\"type\":\"ColumnDataSource\",\"attributes\":{\"data\":{\"y\":[3.1128925711266,2.912493295498,2.8650301761557,2.8254785689617,2.8039661918239,2.7686457895095,2.734403866871,2.7034799411076,2.6735739559431,2.6430089755746,2.6131788678119,2.5817720521516,2.5507255746036,2.5188159095503,2.4775478253851,2.4354073292974,2.3972654645016,2.3581455736151,2.3126970928724,2.2642546004211,2.2076535246238,2.1504646750158,2.0880198714018,2.0222172281134,1.9560982935921,1.8857559137054,1.8100047311522,1.7406707989361,1.6529193195279,1.5686069533806,1.4846193275475,1.4005830703845,1.3107294890436,1.2248932102158,1.1436170908868,1.0653703578462,0.98996251418879,0.92276735256347,0.86018515925481,0.80362432687173,0.74286118223103,0.69279218278648,0.64256330772003,0.5984072227248,0.55580158156444,0.51959487768525,0.48345261620593,0.44905891032212,0.41862053378235,0.39212853362005,0.36793000402089,0.3438730466457,0.32296946039713,0.30374415305833,0.2857664383805,0.26861623207302,0.25454683353277,0.23927030224231,0.22661066286526,0.21567809932349,0.20417240170477,0.19328533472462,0.18466804474465,0.17454881568608,0.16490496136499,0.15694043373648,0.14879410705732,0.1414231513389,0.13404832955783,0.12706341154721,0.12069607784421,0.1144184694703,0.10874848706691,0.10317087952771,0.098227172231839,0.093832507830901,0.089355239162933,0.085299422107348,0.081532963168448,0.077941044927631,0.074423430927352,0.071271620676787,0.068432109424689,0.065480457930608,0.062915451800856,0.060465287758038,0.058077576167699,0.055740424148099,0.053724672579244,0.051880750981291,0.049992117444051,0.048274321005768,0.046613671101192,0.045027381535345,0.04348930484682,0.041986415478301,0.040713937094576,0.039486959315472,0.038186445643363,0.036985906633258,0.036009118046435,0.034944416813165,0.033853356660809,0.032910378749454,0.032044064923801,0.031129732981338,0.03029564387866,0.029491724808472,0.028681286185099,0.027932453197296,0.027338521648817,0.026615557717627,0.025990055625901,0.025320713385503,0.024735610669913,0.024171767357546,0.023602746249479,0.023050454092794,0.022498703300859,0.02208520770169,0.021555844446024,0.021108748555805,0.020686477493942,0.020226590944914,0.019801894759197,0.019414898898229,0.01901369215136,0.018658450993041,0.018314434790668,0.017945785646043,0.017619128749694,0.017259427411256,0.016959684347896,0.016625046689422,0.016351845475152,0.016051127685282,0.01576949455709,0.015490583365357,0.015245771467971,0.015005497718609,0.014732358571941,0.014485654874023,0.014232863721781,0.014040761323943,0.013811542936832,0.013577652565276,0.013369035371759,0.013164054827392,0.012954849764945,0.01276500479487,0.01257685771509,0.012397365597986,0.012208619063191,0.01203127761065,0.011860106333822,0.011709735858689,0.011530430435425,0.011385083855983,0.011226862365619,0.011089436357731,0.010932859180677,0.010788173088409,0.010659338478698,0.0105177749934,0.010392783840393,0.010250946661692,0.010130497207589,0.010007746271527,0.0098774611060246,0.0097697967369386,0.0096546597723059,0.0095318493698074,0.0094282693533357,0.0093216706636235,0.0092078563938626,0.0091044948686697,0.0090158866593885,0.0089038153710658,0.0088078159431856,0.0087176928885455,0.0086079530593315,0.0085279186314283,0.0084406430971034,0.0083457585384151,0.008261713364463,0.0081773695771843,0.0080868161023841,0.0080077430604178,0.0079309498880908,0.0078441224878603,0.0077717762998387,0.0076897066385944,0.0076138248781686,0.0075424296576461,0.0074697656307059,0.0073969369300933,0.007329008669453,0.0072599442497408,0.0071883337896389,0.0071252560888301,0.0070519801509589,0.0069966542236909,0.0069264804666211,0.0068711293826898,0.0068045863394434,0.0067438847001372,0.0066849387911581,0.0066262840762086,0.006564959019313,0.0065101565658139,0.006456959951189,0.0063977339326344,0.006346999860914,0.0062950094757912,0.0062364953018503,0.0061845697857921,0.006136890368317,0.006085530678507,0.0060367529795184,0.0059859901198209,0.0059365666087468,0.0058914263833696,0.0058437513851757,0.0058011065906344,0.005752195000167,0.0057061173897419,0.0056629858273571,0.0056208806072461,0.0055781253761587,0.0055334905799061,0.0054914236754196,0.0054488490621736,0.0054105888876004,0.0053695140323197,0.005330739306083,0.0052926415883731,0.0052507030815215,0.0052117204941449,0.0051786679536158,0.0051375740027272,0.0051018083101592,0.0050666077870796,0.0050300265971145,0.0049940672393586,0.0049584009582988,0.0049275773309369,0.0048902065942521,0.0048565722748789,0.0048256906100862,0.0047902090352719,0.0047595727106162,0.004728718854871,0.0046945398250572,0.004665503012522,0.0046345679161529,0.004603716812609,0.0045736743741023,0.0045441282039872,0.004514103832785,0.0044830349595036,0.0044576125364604,0.0044299516605849,0.0044005322898711,0.0043700377937816,0.0043457311853045,0.0043167274202851,0.0042909140500993,0.0042619026422195,0.0042389816909075,0.0042102461889252,0.0041875291930888,0.0041598554592573,0.0041349043111457,0.004109458124451,0.0040900186233347,0.0040613733106507,0.0040367515833598,0.0040149437886429,0.0039892137014967,0.0039653766689804,0.0039447657249435,0.0039233745212801,0.0038980350519498,0.0038749039256817,0.003855179409401,0.0038304663105669,0.003811303989736,0.003789284620625,0.00376647938533,0.0037466081218251,0.0037261831527492,0.003707143165927,0.0036838055934895,0.0036654226728811,0.0036450953338555,0.0036247770947209,0.0036051267056841,0.0035846433386657,0.0035677276222118,0.003547697899346,0.0035293350860225,0.0035101684596485,0.0034920907498211,0.0034720352445387,0.0034557007536036,0.0034370805311985,0.003418474672554,0.0034002725788269,0.0033854300121901,0.0033667887027339,0.0033495165511769,0.0033337096444792,0.0033148686932158,0.003298831735786,0.0032815828031831,0.0032672191544244,0.0032485236727725,0.0032334463821534,0.003218073857376,0.0032032224458125,0.003185906078078,0.0031700073113247,0.0031554789014157,0.0031397925712232,0.0031257164220807,0.0031110881552075,0.0030946179466898,0.0030800842859244,0.003065984156265,0.0030517825349469,0.0030367522764113,0.0030225567676624,0.0030092801676435,0.0029956745834378,0.0029799256515513,0.0029663751679059,0.0029546230270657,0.0029388812696031,0.0029263173846247,0.0029142042158377,0.0029000929094729,0.0028871574174246,0.0028722708250062,0.0028614315723442,0.0028485308963816,0.0028365486381847,0.0028225090439836,0.0028092852133826,0.0027992801131435,0.0027858254981254,0.0027734424391987,0.0027627041997904,0.0027492865782994,0.0027377773473676,0.0027254549659616,0.002714164435758,0.0027027780968516,0.00269188071076,0.0026794763052436,0.0026679561125979,0.0026571290820907,0.0026460051373109,0.0026343635607465,0.0026244083349694,0.002612895534756,0.0026022980926466,0.0025911751924767,0.0025806145882307,0.0025696211190895,0.0025599018727379,0.0025485080339203,0.0025387457956476,0.0025286724200701,0.0025174952686779,0.0025076174859126,0.0024984913853218,0.0024871093315205,0.0024771683949041,0.0024682635593691,0.0024582603036906,0.0024485620351301,0.0024393316543543,0.002429752967121,0.0024201133897783,0.0024095452844271,0.0024009543523876,0.0023915490207293,0.0023829614829093,0.0023736324995623,0.0023643124984122,0.0023548392563191,0.0023456748524691,0.0023369663793934,0.0023286059369496,0.0023201827246868,0.002310794582926,0.0023024381093013,0.0022933104961443,0.0022847394748857,0.0022762724045988,0.0022680289695171,0.0022589790928335,0.0022505634280912,0.0022426592858292,0.0022333788016243,0.0022253845425279,0.0022178448790197,0.0022091915662875,0.00220068955305,0.0021929084165366,0.0021841891346662,0.0021767954459364,0.0021679547436957,0.0021611582978321,0.0021521966400448,0.0021451591110315,0.0021366354315962,0.0021299133411144,0.0021217597448783,0.0021138454844991,0.0021069672206687,0.0020993135577281,0.0020909187368872,0.0020843747572493,0.002077028115688,0.0020695940241305,0.0020618856391815,0.0020540207750346,0.0020480360226644,0.0020407156782886,0.0020330555057828,0.0020261868654316,0.0020187352335336,0.0020126056993424,0.0020055769280197,0.001998276978721,0.0019916479477674,0.0019852988849086,0.0019782955381011,0.0019712824956421,0.0019646822601688,0.0019578972979444,0.0019518764714718,0.0019447559352369,0.001938219114392,0.0019315179587762,0.0019259161823537,0.0019185995043063,0.0019129913364735,0.0019062960115178,0.001899931142279,0.0018939525039053,0.0018879047340356,0.0018816074382856,0.0018753027513231,0.0018693787849949,0.00186345555374,0.0018571663160594,0.001851342113315,0.0018450373758613,0.001839435932921,0.0018331963502519,0.0018277557890108,0.0018219914813136,0.0018162168818189,0.0018106671302672,0.001804438188732,0.0017988096031008,0.0017933237867351,0.0017874266105331,0.001782286536533,0.0017763257316903,0.0017709798623509,0.0017661525352385,0.0017595875689549,0.0017549102948923,0.0017495120262631,0.0017441750640518,0.0017381874414644,0.0017333995796892,0.0017278067371658,0.0017234519463698,0.00171745367785,0.00171241613566,0.0017072283624717,0.0017020061679489,0.0016972663460566,0.0016915440205558,0.0016870234751257,0.0016821709940205,0.0016768445253021,0.0016718269517529,0.0016673591506119,0.0016620682802584,0.0016569210371582,0.0016528746488945,0.0016475519772112,0.0016425279464319,0.0016380383200956,0.0016333915055789,0.0016280915601421,0.0016236413813029,0.0016187836419112,0.0016147467140918,0.0016100186062339,0.001605051610531,0.0016005630443914,0.00159576523402,0.0015916422495773,0.0015869840401772,0.0015821446351562,0.001578194071658,0.0015739255447,0.0015688724554242,0.0015648043009945,0.001560550483699,0.0015558623098407,0.0015516882242681,0.0015473282081897,0.0015434458085069,0.0015388934631209,0.0015346659854048,0.0015301849357273,0.0015260625768925,0.0015219137423265,0.0015178488528654,0.0015135802538441,0.0015096266860255,0.0015058203928349,0.0015008556549501,0.0014975617574553,0.001493549415212,0.001489326058483,0.0014853937413719,0.0014812394516405,0.0014775194286239,0.0014733233346447,0.0014695045101583,0.001465600934221,0.0014613680795707,0.0014578988840824,0.0014541795885045,0.0014499083842816,0.0014464464192166,0.001442727330462,0.0014388635982123,0.0014349663455062,0.0014313638322325,0.0014276781690177,0.0014243941419068,0.0014201974561239,0.0014168478949674,0.0014131004630672,0.001409564170892,0.0014059848184216,0.0014024703472399,0.0013988392674157,0.0013953879791504,0.0013918802624114,0.0013883543561762,0.0013847645490712,0.0013814917666383,0.0013779311961259,0.0013746383036206,0.001371353277439,0.0013676817738128,0.001364667582428,0.0013607054407879,0.0013579755911455,0.0013541042486851,0.0013510041523696,0.0013479455253005,0.0013444314244785,0.0013410017807499,0.0013378092133236,0.0013349025146362,0.0013314424016734,0.0013284605358499,0.0013247752872946,0.0013219053231371,0.0013187328220463,0.001315163987278,0.0013124468778147,0.0013092383559227,0.0013060175341295,0.0013030925258154,0.001299850240121,0.0012966356638459,0.0012936896021989,0.0012906507076812,0.0012877426497145,0.0012845341088561,0.001281663065466,0.0012786980240601,0.0012756474337608,0.0012725328564668,0.0012694501860721,0.0012671002412175,0.001263745532486,0.0012610586264391,0.0012579417495519,0.0012550113630621,0.0012522225620751,0.0012491069070748,0.0012464488303507,0.0012438395253803,0.0012405291233809,0.0012378958968906,0.0012353556782762,0.0012322658663247,0.0012294093514224,0.0012269923316812,0.001223843195505,0.001221070128961,0.0012187022183958,0.0012155782564187,0.0012128520614252,0.0012103918569335,0.0012075210511157,0.0012051222609673,0.0012023783990584,0.0011995499050841,0.0011968712102886,0.0011943700290015,0.0011914740289687,0.0011888338859691,0.0011866473377641,0.0011838384391484,0.0011811456955133,0.0011788444304371,0.0011760535023442,0.0011735129846464,0.0011706984170331,0.0011685959362671,0.0011659087711321,0.0011634699527863,0.0011610036691484,0.0011584154619168,0.0011559159720534,0.0011533332327995,0.001151158509994,0.0011485669321747,0.0011460471655073,0.0011437201706525,0.0011411659006763,0.001138901829059,0.0011364882471541,0.0011339356282462,0.0011317526895567,0.0011292357360503,0.0011269053156353,0.0011244688505727,0.0011222161118591,0.0011197023743427,0.0011176341449658,0.0011152227667842,0.0011130570732818,0.0011105168437662,0.0011082396935306,0.0011060737252636,0.0011038279958232,0.0011013336443759,0.0010992617823336,0.0010970419149707,0.001094532539607,0.0010924974169413,0.0010901947467507,0.0010880130678951,0.0010858384781272,0.0010837760648024,0.0010812857779871,0.0010792922316788,0.0010770430407405,0.0010748497883809,0.0010727260804498,0.0010706312404734,0.001068308951142,0.0010664120907457,0.0010641089765059,0.0010618586974727,0.0010599007419528,0.0010578166854172,0.0010556517449913,0.0010536485921627,0.001051536276589,0.0010492915974526,0.0010473449343865,0.0010454178572027,0.0010431931751847,0.0010412049758909,0.0010392629479339,0.0010368506484799,0.0010351931605862,0.0010331457461764,0.0010308703611455,0.0010291645239091,0.0010269963022749,0.0010251432450521,0.0010229069792428,0.001021268274958,0.0010190406940858,0.0010172814422481,0.0010152399551864,0.0010130877385731,0.0010113038887427,0.0010093487327193,0.0010075298807945,0.0010055218808441,0.0010035473622429,0.0010017276538118,0.00099986540361874,0.00099778124150488,0.00099614931160019,0.0009941718452463,0.00099224632260756,0.00099024911741646,0.00098858776729931,0.00098639310077894,0.00098491604483609,0.00098306221429527,0.00098091887698315,0.00097942355477461,0.00097744116526604,0.00097554398874546,0.00097389403822794,0.00097196018816378,0.00097012913882859,0.00096852235673104,0.00096648566735824,0.00096485839409365,0.00096307361570338,0.00096129335395647,0.00095942423897448,0.00095770729652201,0.00095615146393361,0.00095415507841638,0.00095237370981674,0.0009508087694484,0.00094893283327428,0.00094738417070711,0.00094573924496474,0.00094375925256976,0.00094226798965466,0.00094056204671339,0.00093870430767975,0.00093704510177566,0.00093557077534347,0.0009335916192346,0.00093200143884356,0.00093056569954605,0.000928630463395,0.00092697311650347,0.00092553061595066,0.00092362323957648,0.00092219324654828,0.00092030227763543,0.00091900559625641,0.00091723341283495,0.00091553279817007,0.00091409848915585,0.00091244648226636,0.00091085263070796,0.00090921789828524,0.00090770653919569,0.00090589538441113,0.00090449658195836,0.00090274298876567,0.00090124820381753,0.00089983867734409,0.00089811973193277,0.00089662086639332,0.00089514635662636,0.00089349657796881,0.00089180041113338,0.00089057125749764,0.00088887679065064,0.00088742038855827,0.0008858773417831,0.00088434791004331,0.00088280679612389,0.00088135902228181,0.00087979268917331,0.00087824309079708,0.00087686094909075,0.00087544785112306,0.00087374553338901,0.00087237660259544,0.0008710103574691,0.00086947174361032,0.00086790567691489,0.00086650576147906,0.00086502131082686,0.00086360478742222,0.0008621324840795,0.00086071338954641,0.00085929120026844,0.00085782284924077,0.0008564356608628,0.00085500410945486,0.00085357528116958,0.00085208647361583,0.00085065719952818,0.00084932041864909,0.00084788840511358,0.00084651012726469,0.00084515995628925,0.00084361979381401,0.00084243037273428,0.00084090279145819,0.00083958391069707,0.00083834647672391,0.00083673947689384,0.0008353568695356,0.00083426773829653,0.0008326531147923,0.00083146255258252,0.00083015351394683,0.00082856598820871,0.00082740578554009,0.0008260456703309,0.00082451150662842,0.00082348871994963,0.00082196014302127,0.00082073364760645,0.0008194223560538,0.00081815821505327,0.00081666310159001,0.00081547161298719,0.00081417608021282,0.00081283479362646,0.00081153501648947,0.00081028754092473,0.00080902831152751,0.00080769425550714,0.00080636830786316,0.00080521818282685,0.00080388340041348,0.00080259259800017,0.00080131402854299,0.00080008262709997,0.0007987623291656,0.00079763162543255,0.00079623799316023,0.00079505920086034,0.00079383038375197,0.00079250124301863,0.00079144420032304,0.00079017723943371,0.00078875256727312,0.00078769407994006,0.0007865359379315,0.00078509010581452,0.00078411797568823,0.00078280976217971,0.00078146332217045,0.00078041983865985,0.00077913928599968,0.00077793331844432,0.00077686076730914,0.00077555999914399,0.00077438987989045,0.00077320685297145,0.00077207354993323,0.0007708087784666,0.0007696517706623,0.0007684502863177,0.00076743736976027,0.00076615354366798,0.00076500864208627,0.00076391414642814,0.00076263599230897,0.00076146073215105,0.00076049854665967,0.00075924576616929,0.00075808435163139,0.00075693923476473,0.00075585967559034,0.00075462503461658,0.00075362458783904,0.00075245616814661,0.00075125664144412,0.00075024790951189,0.00074911874185532,0.00074790520896178,0.00074688395371372,0.00074570362028702,0.00074461411824286,0.00074358784481802,0.0007424504653315,0.00074135483789433,0.00074025376172126,0.00073909999757554,0.00073807435381677,0.00073691717583115,0.00073598820540907,0.00073483482911944,0.00073373033103977,0.00073271041770804,0.00073159893183937,0.00073054370314173,0.00072941452306387,0.00072838259599906,0.00072732558983235,0.00072633639620875,0.00072526569761015,0.00072413342340266,0.00072319887487698,0.00072215926724159,0.00072096667004845,0.0007200026426763,0.00071897078347587,0.00071786822618505,0.00071695691959254,0.00071591131305276,0.00071486201362672,0.00071385743194874,0.00071271659703063,0.00071184075662152,0.00071083575027568,0.00070965895699956,0.00070883771226536,0.00070775638860695,0.00070665440526133,0.00070574425318383,0.00070480043603166,0.00070376521164881,0.00070275273575453,0.00070176252847623,0.00070075855889514,0.00069977313663621,0.00069867054948544,0.00069793089938198,0.00069686120970828,0.00069574296770021,0.00069493762978002,0.00069389499819552,0.00069290581593894,0.00069203339901002,0.00069100302679959,0.00069000823233202,0.00068908543601063,0.00068815570248797,0.00068714456890121,0.0006862201927994,0.00068527753429247,0.00068432626499861,0.00068345131570052,0.00068241158915554,0.00068146673588062,0.00068056114007204,0.00067957049426789,0.00067868960558839,0.00067777873188126,0.00067685651841118,0.00067587815939158,0.00067493325924034,0.00067408102666626,0.00067311871687922,0.00067222152652044,0.00067130414216583,0.00067034326880418,0.00066955759313933,0.00066850073889011,0.00066768327398808,0.00066684524456185,0.0006658034126453,0.0006649700433316,0.00066411408189768,0.00066314608625282,0.00066227367780748,0.00066131352869921,0.00066049170845762,0.00065965092639653,0.00065868515393597,0.00065788435865756,0.00065694236559171,0.00065607729959515,0.00065524493588914,0.00065435980048644,0.00065345967343976,0.00065262144251434,0.00065174999400795,0.00065084116552421,0.00065007552648996,0.00064909617816467,0.00064833600100027,0.00064745803678369,0.00064658165070436,0.00064566370736047,0.00064498857625675,0.00064400794118164,0.0006432110217539,0.00064232355679168,0.00064152702022015,0.00064063766851622,0.00063981391163742,0.00063901149701219,0.0006382170554694,0.00063730131212815,0.00063650283804607],\"x\":[1,2,3,4,5,6,7,8,9,10,11,12,13,14,15,16,17,18,19,20,21,22,23,24,25,26,27,28,29,30,31,32,33,34,35,36,37,38,39,40,41,42,43,44,45,46,47,48,49,50,51,52,53,54,55,56,57,58,59,60,61,62,63,64,65,66,67,68,69,70,71,72,73,74,75,76,77,78,79,80,81,82,83,84,85,86,87,88,89,90,91,92,93,94,95,96,97,98,99,100,101,102,103,104,105,106,107,108,109,110,111,112,113,114,115,116,117,118,119,120,121,122,123,124,125,126,127,128,129,130,131,132,133,134,135,136,137,138,139,140,141,142,143,144,145,146,147,148,149,150,151,152,153,154,155,156,157,158,159,160,161,162,163,164,165,166,167,168,169,170,171,172,173,174,175,176,177,178,179,180,181,182,183,184,185,186,187,188,189,190,191,192,193,194,195,196,197,198,199,200,201,202,203,204,205,206,207,208,209,210,211,212,213,214,215,216,217,218,219,220,221,222,223,224,225,226,227,228,229,230,231,232,233,234,235,236,237,238,239,240,241,242,243,244,245,246,247,248,249,250,251,252,253,254,255,256,257,258,259,260,261,262,263,264,265,266,267,268,269,270,271,272,273,274,275,276,277,278,279,280,281,282,283,284,285,286,287,288,289,290,291,292,293,294,295,296,297,298,299,300,301,302,303,304,305,306,307,308,309,310,311,312,313,314,315,316,317,318,319,320,321,322,323,324,325,326,327,328,329,330,331,332,333,334,335,336,337,338,339,340,341,342,343,344,345,346,347,348,349,350,351,352,353,354,355,356,357,358,359,360,361,362,363,364,365,366,367,368,369,370,371,372,373,374,375,376,377,378,379,380,381,382,383,384,385,386,387,388,389,390,391,392,393,394,395,396,397,398,399,400,401,402,403,404,405,406,407,408,409,410,411,412,413,414,415,416,417,418,419,420,421,422,423,424,425,426,427,428,429,430,431,432,433,434,435,436,437,438,439,440,441,442,443,444,445,446,447,448,449,450,451,452,453,454,455,456,457,458,459,460,461,462,463,464,465,466,467,468,469,470,471,472,473,474,475,476,477,478,479,480,481,482,483,484,485,486,487,488,489,490,491,492,493,494,495,496,497,498,499,500,501,502,503,504,505,506,507,508,509,510,511,512,513,514,515,516,517,518,519,520,521,522,523,524,525,526,527,528,529,530,531,532,533,534,535,536,537,538,539,540,541,542,543,544,545,546,547,548,549,550,551,552,553,554,555,556,557,558,559,560,561,562,563,564,565,566,567,568,569,570,571,572,573,574,575,576,577,578,579,580,581,582,583,584,585,586,587,588,589,590,591,592,593,594,595,596,597,598,599,600,601,602,603,604,605,606,607,608,609,610,611,612,613,614,615,616,617,618,619,620,621,622,623,624,625,626,627,628,629,630,631,632,633,634,635,636,637,638,639,640,641,642,643,644,645,646,647,648,649,650,651,652,653,654,655,656,657,658,659,660,661,662,663,664,665,666,667,668,669,670,671,672,673,674,675,676,677,678,679,680,681,682,683,684,685,686,687,688,689,690,691,692,693,694,695,696,697,698,699,700,701,702,703,704,705,706,707,708,709,710,711,712,713,714,715,716,717,718,719,720,721,722,723,724,725,726,727,728,729,730,731,732,733,734,735,736,737,738,739,740,741,742,743,744,745,746,747,748,749,750,751,752,753,754,755,756,757,758,759,760,761,762,763,764,765,766,767,768,769,770,771,772,773,774,775,776,777,778,779,780,781,782,783,784,785,786,787,788,789,790,791,792,793,794,795,796,797,798,799,800,801,802,803,804,805,806,807,808,809,810,811,812,813,814,815,816,817,818,819,820,821,822,823,824,825,826,827,828,829,830,831,832,833,834,835,836,837,838,839,840,841,842,843,844,845,846,847,848,849,850,851,852,853,854,855,856,857,858,859,860,861,862,863,864,865,866,867,868,869,870,871,872,873,874,875,876,877,878,879,880,881,882,883,884,885,886,887,888,889,890,891,892,893,894,895,896,897,898,899,900,901,902,903,904,905,906,907,908,909,910,911,912,913,914,915,916,917,918,919,920,921,922,923,924,925,926,927,928,929,930,931,932,933,934,935,936,937,938,939,940,941,942,943,944,945,946,947,948,949,950,951,952,953,954,955,956,957,958,959,960,961,962,963,964,965,966,967,968,969,970,971,972,973,974,975,976,977,978,979,980,981,982,983,984,985,986,987,988,989,990,991,992,993,994,995,996,997,998,999,1000]},\"column_names\":[\"y\",\"x\"],\"cont_ranges\":{},\"discrete_ranges\":{},\"selected\":[],\"id\":\"f58a716c-0919-4ed1-ce81-4532f5591c71\",\"doc\":null,\"tags\":[]}},{\"id\":\"7d0e3034-00f9-433f-c303-8ee9f15f43eb\",\"type\":\"Line\",\"attributes\":{\"fill_alpha\":{\"units\":\"data\",\"value\":0.2},\"line_alpha\":{\"units\":\"data\",\"value\":1},\"doc\":null,\"size\":{\"units\":\"screen\",\"value\":10},\"fill_color\":{\"value\":\"red\"},\"line_color\":{\"value\":\"red\"},\"x\":{\"units\":\"data\",\"field\":\"x\"},\"id\":\"7d0e3034-00f9-433f-c303-8ee9f15f43eb\",\"y\":{\"units\":\"data\",\"field\":\"y\"},\"tags\":[]}},{\"id\":\"3f6751a2-733b-4934-c931-1d1d86374e94\",\"type\":\"Line\",\"attributes\":{\"fill_alpha\":{\"units\":\"data\",\"value\":0.2},\"line_alpha\":{\"units\":\"data\",\"value\":1},\"doc\":null,\"size\":{\"units\":\"screen\",\"value\":10},\"fill_color\":{\"value\":\"red\"},\"line_color\":{\"value\":\"red\"},\"x\":{\"units\":\"data\",\"field\":\"x\"},\"id\":\"3f6751a2-733b-4934-c931-1d1d86374e94\",\"y\":{\"units\":\"data\",\"field\":\"y\"},\"tags\":[]}},{\"id\":\"916b9db1-7745-489e-c89f-1f690cc20823\",\"type\":\"GlyphRenderer\",\"attributes\":{\"name\":null,\"nonselection_glyph\":{\"type\":\"Line\",\"id\":\"3f6751a2-733b-4934-c931-1d1d86374e94\"},\"doc\":null,\"server_data_source\":null,\"data_source\":{\"type\":\"ColumnDataSource\",\"id\":\"f58a716c-0919-4ed1-ce81-4532f5591c71\"},\"glyph\":{\"type\":\"Line\",\"id\":\"7d0e3034-00f9-433f-c303-8ee9f15f43eb\"},\"selection_glyph\":null,\"id\":\"916b9db1-7745-489e-c89f-1f690cc20823\",\"tags\":[]}},{\"id\":\"1abaa17f-bd72-4876-c83c-1f031df8990d\",\"type\":\"DataRange1d\",\"attributes\":{\"sources\":[{\"columns\":[\"x\"],\"source\":{\"type\":\"ColumnDataSource\",\"id\":\"f58a716c-0919-4ed1-ce81-4532f5591c71\"}}],\"id\":\"1abaa17f-bd72-4876-c83c-1f031df8990d\",\"tags\":[],\"doc\":null}},{\"id\":\"6b9474d1-8d60-4850-c806-e7a23f5fff7f\",\"type\":\"DataRange1d\",\"attributes\":{\"sources\":[{\"columns\":[\"y\"],\"source\":{\"type\":\"ColumnDataSource\",\"id\":\"f58a716c-0919-4ed1-ce81-4532f5591c71\"}}],\"id\":\"6b9474d1-8d60-4850-c806-e7a23f5fff7f\",\"tags\":[],\"doc\":null}},{\"id\":\"a49f8f88-172c-43fc-c36e-1e4be944b303\",\"type\":\"ToolEvents\",\"attributes\":{\"tags\":[],\"id\":\"a49f8f88-172c-43fc-c36e-1e4be944b303\",\"geometries\":[],\"doc\":null}},{\"id\":\"4c92973d-d7fe-41e5-c1dd-b80d028b6905\",\"type\":\"BasicTickFormatter\",\"attributes\":{\"id\":\"4c92973d-d7fe-41e5-c1dd-b80d028b6905\",\"tags\":[],\"doc\":null}},{\"id\":\"c1b533d8-3c18-4cdd-cc47-403647fe1018\",\"type\":\"BasicTicker\",\"attributes\":{\"num_minor_ticks\":5,\"id\":\"c1b533d8-3c18-4cdd-cc47-403647fe1018\",\"tags\":[],\"doc\":null}},{\"id\":\"f7004df0-ddf7-4d03-cdb8-4fa1de6e3bcf\",\"type\":\"LinearAxis\",\"attributes\":{\"formatter\":{\"type\":\"BasicTickFormatter\",\"id\":\"4c92973d-d7fe-41e5-c1dd-b80d028b6905\"},\"ticker\":{\"type\":\"BasicTicker\",\"id\":\"c1b533d8-3c18-4cdd-cc47-403647fe1018\"},\"plot\":{\"id\":\"bc15cc70-ce9e-41f7-c15e-cf43818825f6\",\"type\":\"Plot\",\"subtype\":\"Figure\"},\"axis_label\":null,\"id\":\"f7004df0-ddf7-4d03-cdb8-4fa1de6e3bcf\",\"doc\":null,\"tags\":[]}},{\"id\":\"fc73a7e6-7404-4f02-cf0e-21bbb4c021ef\",\"type\":\"Grid\",\"attributes\":{\"dimension\":0,\"plot\":{\"id\":\"bc15cc70-ce9e-41f7-c15e-cf43818825f6\",\"type\":\"Plot\",\"subtype\":\"Figure\"},\"ticker\":{\"type\":\"BasicTicker\",\"id\":\"c1b533d8-3c18-4cdd-cc47-403647fe1018\"},\"id\":\"fc73a7e6-7404-4f02-cf0e-21bbb4c021ef\",\"doc\":null,\"tags\":[]}},{\"id\":\"3341b4ae-cbb7-4b06-cb09-af6b68284b67\",\"type\":\"BasicTickFormatter\",\"attributes\":{\"id\":\"3341b4ae-cbb7-4b06-cb09-af6b68284b67\",\"tags\":[],\"doc\":null}},{\"id\":\"4790005a-184c-44cd-c430-d44d8e4487c9\",\"type\":\"BasicTicker\",\"attributes\":{\"num_minor_ticks\":5,\"id\":\"4790005a-184c-44cd-c430-d44d8e4487c9\",\"tags\":[],\"doc\":null}},{\"id\":\"851d1b8b-11ef-4d4f-cd56-15c4c5291a50\",\"type\":\"LinearAxis\",\"attributes\":{\"formatter\":{\"type\":\"BasicTickFormatter\",\"id\":\"3341b4ae-cbb7-4b06-cb09-af6b68284b67\"},\"ticker\":{\"type\":\"BasicTicker\",\"id\":\"4790005a-184c-44cd-c430-d44d8e4487c9\"},\"plot\":{\"id\":\"bc15cc70-ce9e-41f7-c15e-cf43818825f6\",\"type\":\"Plot\",\"subtype\":\"Figure\"},\"axis_label\":null,\"id\":\"851d1b8b-11ef-4d4f-cd56-15c4c5291a50\",\"doc\":null,\"tags\":[]}},{\"id\":\"edb83bf6-05e3-44b6-c4a2-4de8e78dc2eb\",\"type\":\"Grid\",\"attributes\":{\"dimension\":1,\"plot\":{\"id\":\"bc15cc70-ce9e-41f7-c15e-cf43818825f6\",\"type\":\"Plot\",\"subtype\":\"Figure\"},\"ticker\":{\"type\":\"BasicTicker\",\"id\":\"4790005a-184c-44cd-c430-d44d8e4487c9\"},\"id\":\"edb83bf6-05e3-44b6-c4a2-4de8e78dc2eb\",\"doc\":null,\"tags\":[]}},{\"id\":\"9ad64c8d-0dc1-490d-c9da-0dd82bac1e91\",\"type\":\"PanTool\",\"attributes\":{\"plot\":{\"id\":\"bc15cc70-ce9e-41f7-c15e-cf43818825f6\",\"type\":\"Plot\",\"subtype\":\"Figure\"},\"dimensions\":[\"width\",\"height\"],\"id\":\"9ad64c8d-0dc1-490d-c9da-0dd82bac1e91\",\"doc\":null,\"tags\":[]}},{\"id\":\"88fe02b4-c305-4443-c4bc-51a48e8ab53c\",\"type\":\"WheelZoomTool\",\"attributes\":{\"plot\":{\"id\":\"bc15cc70-ce9e-41f7-c15e-cf43818825f6\",\"type\":\"Plot\",\"subtype\":\"Figure\"},\"dimensions\":[\"width\",\"height\"],\"id\":\"88fe02b4-c305-4443-c4bc-51a48e8ab53c\",\"doc\":null,\"tags\":[]}},{\"id\":\"3de3aa81-2bc2-4514-c55b-552a597be5ee\",\"type\":\"BoxZoomTool\",\"attributes\":{\"plot\":{\"id\":\"bc15cc70-ce9e-41f7-c15e-cf43818825f6\",\"type\":\"Plot\",\"subtype\":\"Figure\"},\"id\":\"3de3aa81-2bc2-4514-c55b-552a597be5ee\",\"tags\":[],\"doc\":null}},{\"id\":\"30478146-1415-43bc-c354-2f11b7f63741\",\"type\":\"PreviewSaveTool\",\"attributes\":{\"plot\":{\"id\":\"bc15cc70-ce9e-41f7-c15e-cf43818825f6\",\"type\":\"Plot\",\"subtype\":\"Figure\"},\"id\":\"30478146-1415-43bc-c354-2f11b7f63741\",\"tags\":[],\"doc\":null}},{\"id\":\"67fedde7-77f3-4be4-cbee-f8d7e302e1f3\",\"type\":\"ResizeTool\",\"attributes\":{\"plot\":{\"id\":\"bc15cc70-ce9e-41f7-c15e-cf43818825f6\",\"type\":\"Plot\",\"subtype\":\"Figure\"},\"id\":\"67fedde7-77f3-4be4-cbee-f8d7e302e1f3\",\"tags\":[],\"doc\":null}},{\"id\":\"bf1c741c-5060-4927-c9b9-07391de6e8a4\",\"type\":\"ResetTool\",\"attributes\":{\"plot\":{\"id\":\"bc15cc70-ce9e-41f7-c15e-cf43818825f6\",\"type\":\"Plot\",\"subtype\":\"Figure\"},\"id\":\"bf1c741c-5060-4927-c9b9-07391de6e8a4\",\"tags\":[],\"doc\":null}},{\"id\":\"e4375cef-c895-46d0-c6a9-fab205519e72\",\"type\":\"Legend\",\"attributes\":{\"plot\":{\"id\":\"bc15cc70-ce9e-41f7-c15e-cf43818825f6\",\"type\":\"Plot\",\"subtype\":\"Figure\"},\"legends\":[[\"loss\",[{\"type\":\"GlyphRenderer\",\"id\":\"916b9db1-7745-489e-c89f-1f690cc20823\"}]]],\"id\":\"e4375cef-c895-46d0-c6a9-fab205519e72\",\"doc\":null,\"tags\":[]}},{\"id\":\"bc15cc70-ce9e-41f7-c15e-cf43818825f6\",\"type\":\"Plot\",\"attributes\":{\"x_range\":{\"type\":\"DataRange1d\",\"id\":\"1abaa17f-bd72-4876-c83c-1f031df8990d\"},\"tool_events\":{\"type\":\"ToolEvents\",\"id\":\"a49f8f88-172c-43fc-c36e-1e4be944b303\"},\"below\":[{\"type\":\"LinearAxis\",\"id\":\"f7004df0-ddf7-4d03-cdb8-4fa1de6e3bcf\"}],\"renderers\":[{\"type\":\"GlyphRenderer\",\"id\":\"916b9db1-7745-489e-c89f-1f690cc20823\"},{\"type\":\"LinearAxis\",\"id\":\"f7004df0-ddf7-4d03-cdb8-4fa1de6e3bcf\"},{\"type\":\"Grid\",\"id\":\"fc73a7e6-7404-4f02-cf0e-21bbb4c021ef\"},{\"type\":\"LinearAxis\",\"id\":\"851d1b8b-11ef-4d4f-cd56-15c4c5291a50\"},{\"type\":\"Grid\",\"id\":\"edb83bf6-05e3-44b6-c4a2-4de8e78dc2eb\"},{\"type\":\"Legend\",\"id\":\"e4375cef-c895-46d0-c6a9-fab205519e72\"}],\"above\":[],\"tools\":[{\"type\":\"PanTool\",\"id\":\"9ad64c8d-0dc1-490d-c9da-0dd82bac1e91\"},{\"type\":\"WheelZoomTool\",\"id\":\"88fe02b4-c305-4443-c4bc-51a48e8ab53c\"},{\"type\":\"BoxZoomTool\",\"id\":\"3de3aa81-2bc2-4514-c55b-552a597be5ee\"},{\"type\":\"PreviewSaveTool\",\"id\":\"30478146-1415-43bc-c354-2f11b7f63741\"},{\"type\":\"ResizeTool\",\"id\":\"67fedde7-77f3-4be4-cbee-f8d7e302e1f3\"},{\"type\":\"ResetTool\",\"id\":\"bf1c741c-5060-4927-c9b9-07391de6e8a4\"}],\"doc\":null,\"right\":[],\"title\":\"Loss\",\"extra_x_ranges\":{},\"left\":[{\"type\":\"LinearAxis\",\"id\":\"851d1b8b-11ef-4d4f-cd56-15c4c5291a50\"}],\"y_range\":{\"type\":\"DataRange1d\",\"id\":\"6b9474d1-8d60-4850-c806-e7a23f5fff7f\"},\"id\":\"bc15cc70-ce9e-41f7-c15e-cf43818825f6\",\"extra_y_ranges\":{},\"tags\":[]}}];\n",
       "      Bokeh.load_models(all_models);\n",
       "      var model = Bokeh.Collections(modeltype).get(modelid);\n",
       "      $(\"#648b2e60-e405-4c40-cc5b-fff61141078a\").html(''); // clear any previous plot in window_id\n",
       "      var view = new model.default_view({model: model, el: \"#648b2e60-e405-4c40-cc5b-fff61141078a\"});\n",
       "  });\n",
       "    }\n",
       "});\n",
       "</script>\n",
       "<div class=\"plotdiv\" id=\"648b2e60-e405-4c40-cc5b-fff61141078a\"></div>\n"
      ]
     },
     "metadata": {},
     "output_type": "display_data"
    },
    {
     "data": {
      "text/html": [
       "<script type=\"text/javascript\">\n",
       "$(function() {\n",
       "    if (typeof (window._bokeh_onload_callbacks) === \"undefined\"){\n",
       "  window._bokeh_onload_callbacks = [];\n",
       "    }\n",
       "    function load_lib(url, callback){\n",
       "  window._bokeh_onload_callbacks.push(callback);\n",
       "  if (window._bokeh_is_loading){\n",
       "      console.log(\"Bokeh: BokehJS is being loaded, scheduling callback at\", new Date());\n",
       "      return null;\n",
       "  }\n",
       "  console.log(\"Bokeh: BokehJS not loaded, scheduling load and callback at\", new Date());\n",
       "  window._bokeh_is_loading = true;\n",
       "  var s = document.createElement('script');\n",
       "  s.src = url;\n",
       "  s.async = true;\n",
       "  s.onreadystatechange = s.onload = function(){\n",
       "      Bokeh.embed.inject_css(\"https://cdn.pydata.org/bokeh-0.7.0.min.css\");\n",
       "      window._bokeh_onload_callbacks.forEach(function(callback){callback()});\n",
       "  };\n",
       "  s.onerror = function(){\n",
       "      console.warn(\"failed to load library \" + url);\n",
       "  };\n",
       "  document.getElementsByTagName(\"head\")[0].appendChild(s);\n",
       "    }\n",
       "\n",
       "    bokehjs_url = \"https://cdn.pydata.org/bokeh-0.7.0.min.js\"\n",
       "\n",
       "    var elt = document.getElementById(\"ba89f1af-8906-4b2e-cb32-cc24feeefc78\");\n",
       "    if(elt==null) {\n",
       "  console.log(\"Bokeh: ERROR: autoload.js configured with elementid 'ba89f1af-8906-4b2e-cb32-cc24feeefc78'\"\n",
       "        + \"but no matching script tag was found. \")\n",
       "  return false;\n",
       "    }\n",
       "\n",
       "    if(typeof(Bokeh) !== \"undefined\") {\n",
       "  console.log(\"Bokeh: BokehJS loaded, going straight to plotting\");\n",
       "  var modelid = \"4323d333-fe4b-47ae-c720-624cf01f3eae\";\n",
       "  var modeltype = \"Plot\";\n",
       "  var all_models = [{\"id\":\"1aa638fb-0aeb-4e45-cebe-45eea8d8a6e4\",\"type\":\"ColumnDataSource\",\"attributes\":{\"data\":{\"y\":[8.8235294117647,8.8235294117647,7.3529411764706,13.235294117647,13.235294117647,14.705882352941,14.705882352941,14.705882352941,16.176470588235,16.176470588235,22.058823529412,25,26.470588235294,26.470588235294,26.470588235294,27.941176470588,29.411764705882,29.411764705882,29.411764705882,32.352941176471,32.352941176471,35.294117647059,36.764705882353,42.647058823529,50,60.294117647059,67.647058823529,70.588235294118,72.058823529412,72.058823529412,73.529411764706,77.941176470588,77.941176470588,83.823529411765,85.294117647059,86.764705882353,86.764705882353,86.764705882353,88.235294117647,91.176470588235,94.117647058824,95.588235294118,95.588235294118,95.588235294118,95.588235294118,95.588235294118,95.588235294118,95.588235294118,95.588235294118,95.588235294118,95.588235294118,95.588235294118,95.588235294118,95.588235294118,95.588235294118,95.588235294118,97.058823529412,97.058823529412,98.529411764706,98.529411764706,98.529411764706,98.529411764706,98.529411764706,98.529411764706,100,100,100,100,100,100,100,100,100,100,100,100,100,100,100,100,100,100,100,100,100,100,100,100,100,100,100,100,100,100,100,100,100,100,100,100,100,100,100,100,100,100,100,100,100,100,100,100,100,100,100,100,100,100,100,100,100,100,100,100,100,100,100,100,100,100,100,100,100,100,100,100,100,100,100,100,100,100,100,100,100,100,100,100,100,100,100,100,100,100,100,100,100,100,100,100,100,100,100,100,100,100,100,100,100,100,100,100,100,100,100,100,100,100,100,100,100,100,100,100,100,100,100,100,100,100,100,100,100,100,100,100,100,100,100,100,100,100,100,100,100,100,100,100,100,100,100,100,100,100,100,100,100,100,100,100,100,100,100,100,100,100,100,100,100,100,100,100,100,100,100,100,100,100,100,100,100,100,100,100,100,100,100,100,100,100,100,100,100,100,100,100,100,100,100,100,100,100,100,100,100,100,100,100,100,100,100,100,100,100,100,100,100,100,100,100,100,100,100,100,100,100,100,100,100,100,100,100,100,100,100,100,100,100,100,100,100,100,100,100,100,100,100,100,100,100,100,100,100,100,100,100,100,100,100,100,100,100,100,100,100,100,100,100,100,100,100,100,100,100,100,100,100,100,100,100,100,100,100,100,100,100,100,100,100,100,100,100,100,100,100,100,100,100,100,100,100,100,100,100,100,100,100,100,100,100,100,100,100,100,100,100,100,100,100,100,100,100,100,100,100,100,100,100,100,100,100,100,100,100,100,100,100,100,100,100,100,100,100,100,100,100,100,100,100,100,100,100,100,100,100,100,100,100,100,100,100,100,100,100,100,100,100,100,100,100,100,100,100,100,100,100,100,100,100,100,100,100,100,100,100,100,100,100,100,100,100,100,100,100,100,100,100,100,100,100,100,100,100,100,100,100,100,100,100,100,100,100,100,100,100,100,100,100,100,100,100,100,100,100,100,100,100,100,100,100,100,100,100,100,100,100,100,100,100,100,100,100,100,100,100,100,100,100,100,100,100,100,100,100,100,100,100,100,100,100,100,100,100,100,100,100,100,100,100,100,100,100,100,100,100,100,100,100,100,100,100,100,100,100,100,100,100,100,100,100,100,100,100,100,100,100,100,100,100,100,100,100,100,100,100,100,100,100,100,100,100,100,100,100,100,100,100,100,100,100,100,100,100,100,100,100,100,100,100,100,100,100,100,100,100,100,100,100,100,100,100,100,100,100,100,100,100,100,100,100,100,100,100,100,100,100,100,100,100,100,100,100,100,100,100,100,100,100,100,100,100,100,100,100,100,100,100,100,100,100,100,100,100,100,100,100,100,100,100,100,100,100,100,100,100,100,100,100,100,100,100,100,100,100,100,100,100,100,100,100,100,100,100,100,100,100,100,100,100,100,100,100,100,100,100,100,100,100,100,100,100,100,100,100,100,100,100,100,100,100,100,100,100,100,100,100,100,100,100,100,100,100,100,100,100,100,100,100,100,100,100,100,100,100,100,100,100,100,100,100,100,100,100,100,100,100,100,100,100,100,100,100,100,100,100,100,100,100,100,100,100,100,100,100,100,100,100,100,100,100,100,100,100,100,100,100,100,100,100,100,100,100,100,100,100,100,100,100,100,100,100,100,100,100,100,100,100,100,100,100,100,100,100,100,100,100,100,100,100,100,100,100,100,100,100,100,100,100,100,100,100,100,100,100,100,100,100,100,100,100,100,100,100,100,100,100,100,100,100,100,100,100,100,100,100,100,100,100,100,100,100,100,100,100,100,100,100,100,100,100,100,100,100,100,100,100,100,100,100,100,100,100,100,100,100,100,100,100,100,100,100,100,100,100,100,100,100,100,100,100,100,100,100,100,100,100,100,100,100,100,100,100,100,100,100,100,100,100,100,100,100,100,100,100,100,100,100,100,100,100,100,100,100,100,100,100,100,100,100,100,100,100,100,100,100,100,100,100,100,100,100,100,100,100,100,100,100,100,100,100,100,100,100,100,100,100,100,100,100,100,100,100,100,100,100,100,100,100,100,100,100,100,100,100,100,100,100,100,100,100,100,100,100,100,100,100,100,100,100,100,100,100,100,100,100,100,100,100,100,100,100,100,100,100,100,100,100,100,100,100],\"x\":[1,2,3,4,5,6,7,8,9,10,11,12,13,14,15,16,17,18,19,20,21,22,23,24,25,26,27,28,29,30,31,32,33,34,35,36,37,38,39,40,41,42,43,44,45,46,47,48,49,50,51,52,53,54,55,56,57,58,59,60,61,62,63,64,65,66,67,68,69,70,71,72,73,74,75,76,77,78,79,80,81,82,83,84,85,86,87,88,89,90,91,92,93,94,95,96,97,98,99,100,101,102,103,104,105,106,107,108,109,110,111,112,113,114,115,116,117,118,119,120,121,122,123,124,125,126,127,128,129,130,131,132,133,134,135,136,137,138,139,140,141,142,143,144,145,146,147,148,149,150,151,152,153,154,155,156,157,158,159,160,161,162,163,164,165,166,167,168,169,170,171,172,173,174,175,176,177,178,179,180,181,182,183,184,185,186,187,188,189,190,191,192,193,194,195,196,197,198,199,200,201,202,203,204,205,206,207,208,209,210,211,212,213,214,215,216,217,218,219,220,221,222,223,224,225,226,227,228,229,230,231,232,233,234,235,236,237,238,239,240,241,242,243,244,245,246,247,248,249,250,251,252,253,254,255,256,257,258,259,260,261,262,263,264,265,266,267,268,269,270,271,272,273,274,275,276,277,278,279,280,281,282,283,284,285,286,287,288,289,290,291,292,293,294,295,296,297,298,299,300,301,302,303,304,305,306,307,308,309,310,311,312,313,314,315,316,317,318,319,320,321,322,323,324,325,326,327,328,329,330,331,332,333,334,335,336,337,338,339,340,341,342,343,344,345,346,347,348,349,350,351,352,353,354,355,356,357,358,359,360,361,362,363,364,365,366,367,368,369,370,371,372,373,374,375,376,377,378,379,380,381,382,383,384,385,386,387,388,389,390,391,392,393,394,395,396,397,398,399,400,401,402,403,404,405,406,407,408,409,410,411,412,413,414,415,416,417,418,419,420,421,422,423,424,425,426,427,428,429,430,431,432,433,434,435,436,437,438,439,440,441,442,443,444,445,446,447,448,449,450,451,452,453,454,455,456,457,458,459,460,461,462,463,464,465,466,467,468,469,470,471,472,473,474,475,476,477,478,479,480,481,482,483,484,485,486,487,488,489,490,491,492,493,494,495,496,497,498,499,500,501,502,503,504,505,506,507,508,509,510,511,512,513,514,515,516,517,518,519,520,521,522,523,524,525,526,527,528,529,530,531,532,533,534,535,536,537,538,539,540,541,542,543,544,545,546,547,548,549,550,551,552,553,554,555,556,557,558,559,560,561,562,563,564,565,566,567,568,569,570,571,572,573,574,575,576,577,578,579,580,581,582,583,584,585,586,587,588,589,590,591,592,593,594,595,596,597,598,599,600,601,602,603,604,605,606,607,608,609,610,611,612,613,614,615,616,617,618,619,620,621,622,623,624,625,626,627,628,629,630,631,632,633,634,635,636,637,638,639,640,641,642,643,644,645,646,647,648,649,650,651,652,653,654,655,656,657,658,659,660,661,662,663,664,665,666,667,668,669,670,671,672,673,674,675,676,677,678,679,680,681,682,683,684,685,686,687,688,689,690,691,692,693,694,695,696,697,698,699,700,701,702,703,704,705,706,707,708,709,710,711,712,713,714,715,716,717,718,719,720,721,722,723,724,725,726,727,728,729,730,731,732,733,734,735,736,737,738,739,740,741,742,743,744,745,746,747,748,749,750,751,752,753,754,755,756,757,758,759,760,761,762,763,764,765,766,767,768,769,770,771,772,773,774,775,776,777,778,779,780,781,782,783,784,785,786,787,788,789,790,791,792,793,794,795,796,797,798,799,800,801,802,803,804,805,806,807,808,809,810,811,812,813,814,815,816,817,818,819,820,821,822,823,824,825,826,827,828,829,830,831,832,833,834,835,836,837,838,839,840,841,842,843,844,845,846,847,848,849,850,851,852,853,854,855,856,857,858,859,860,861,862,863,864,865,866,867,868,869,870,871,872,873,874,875,876,877,878,879,880,881,882,883,884,885,886,887,888,889,890,891,892,893,894,895,896,897,898,899,900,901,902,903,904,905,906,907,908,909,910,911,912,913,914,915,916,917,918,919,920,921,922,923,924,925,926,927,928,929,930,931,932,933,934,935,936,937,938,939,940,941,942,943,944,945,946,947,948,949,950,951,952,953,954,955,956,957,958,959,960,961,962,963,964,965,966,967,968,969,970,971,972,973,974,975,976,977,978,979,980,981,982,983,984,985,986,987,988,989,990,991,992,993,994,995,996,997,998,999,1000]},\"column_names\":[\"y\",\"x\"],\"cont_ranges\":{},\"discrete_ranges\":{},\"selected\":[],\"id\":\"1aa638fb-0aeb-4e45-cebe-45eea8d8a6e4\",\"doc\":null,\"tags\":[]}},{\"id\":\"a5b6de1d-d2b3-4e39-ce5e-d76a30234d47\",\"type\":\"Line\",\"attributes\":{\"fill_alpha\":{\"units\":\"data\",\"value\":0.2},\"line_alpha\":{\"units\":\"data\",\"value\":1},\"doc\":null,\"size\":{\"units\":\"screen\",\"value\":10},\"fill_color\":{\"value\":\"green\"},\"line_color\":{\"value\":\"green\"},\"x\":{\"units\":\"data\",\"field\":\"x\"},\"id\":\"a5b6de1d-d2b3-4e39-ce5e-d76a30234d47\",\"y\":{\"units\":\"data\",\"field\":\"y\"},\"tags\":[]}},{\"id\":\"d8769ff3-60c1-4be2-cbef-3376017c54e6\",\"type\":\"Line\",\"attributes\":{\"fill_alpha\":{\"units\":\"data\",\"value\":0.2},\"line_alpha\":{\"units\":\"data\",\"value\":1},\"doc\":null,\"size\":{\"units\":\"screen\",\"value\":10},\"fill_color\":{\"value\":\"green\"},\"line_color\":{\"value\":\"green\"},\"x\":{\"units\":\"data\",\"field\":\"x\"},\"id\":\"d8769ff3-60c1-4be2-cbef-3376017c54e6\",\"y\":{\"units\":\"data\",\"field\":\"y\"},\"tags\":[]}},{\"id\":\"5cff97a7-73c3-432a-c325-b8d3f3c8984a\",\"type\":\"GlyphRenderer\",\"attributes\":{\"name\":null,\"nonselection_glyph\":{\"type\":\"Line\",\"id\":\"d8769ff3-60c1-4be2-cbef-3376017c54e6\"},\"doc\":null,\"server_data_source\":null,\"data_source\":{\"type\":\"ColumnDataSource\",\"id\":\"1aa638fb-0aeb-4e45-cebe-45eea8d8a6e4\"},\"glyph\":{\"type\":\"Line\",\"id\":\"a5b6de1d-d2b3-4e39-ce5e-d76a30234d47\"},\"selection_glyph\":null,\"id\":\"5cff97a7-73c3-432a-c325-b8d3f3c8984a\",\"tags\":[]}},{\"id\":\"8fece7b3-34f4-4a7d-ca00-df339eec392a\",\"type\":\"DataRange1d\",\"attributes\":{\"sources\":[{\"columns\":[\"x\"],\"source\":{\"type\":\"ColumnDataSource\",\"id\":\"1aa638fb-0aeb-4e45-cebe-45eea8d8a6e4\"}}],\"id\":\"8fece7b3-34f4-4a7d-ca00-df339eec392a\",\"tags\":[],\"doc\":null}},{\"id\":\"51b3bdeb-9054-46ac-c68b-ae4a6f851315\",\"type\":\"DataRange1d\",\"attributes\":{\"sources\":[{\"columns\":[\"y\"],\"source\":{\"type\":\"ColumnDataSource\",\"id\":\"1aa638fb-0aeb-4e45-cebe-45eea8d8a6e4\"}}],\"id\":\"51b3bdeb-9054-46ac-c68b-ae4a6f851315\",\"tags\":[],\"doc\":null}},{\"id\":\"4e5f4750-9a88-4fca-cf9f-cd4ce3b7a203\",\"type\":\"ToolEvents\",\"attributes\":{\"tags\":[],\"id\":\"4e5f4750-9a88-4fca-cf9f-cd4ce3b7a203\",\"geometries\":[],\"doc\":null}},{\"id\":\"49fd7e0a-99e4-42c9-c230-569e198fd904\",\"type\":\"BasicTickFormatter\",\"attributes\":{\"id\":\"49fd7e0a-99e4-42c9-c230-569e198fd904\",\"tags\":[],\"doc\":null}},{\"id\":\"71c762a4-7339-4c46-cc34-a9cde1830045\",\"type\":\"BasicTicker\",\"attributes\":{\"num_minor_ticks\":5,\"id\":\"71c762a4-7339-4c46-cc34-a9cde1830045\",\"tags\":[],\"doc\":null}},{\"id\":\"c743e878-2950-4f7e-cfc8-7835840a558a\",\"type\":\"LinearAxis\",\"attributes\":{\"formatter\":{\"type\":\"BasicTickFormatter\",\"id\":\"49fd7e0a-99e4-42c9-c230-569e198fd904\"},\"ticker\":{\"type\":\"BasicTicker\",\"id\":\"71c762a4-7339-4c46-cc34-a9cde1830045\"},\"plot\":{\"id\":\"4323d333-fe4b-47ae-c720-624cf01f3eae\",\"type\":\"Plot\",\"subtype\":\"Figure\"},\"axis_label\":null,\"id\":\"c743e878-2950-4f7e-cfc8-7835840a558a\",\"doc\":null,\"tags\":[]}},{\"id\":\"80916607-4ec3-4111-c1ce-45221464354c\",\"type\":\"Grid\",\"attributes\":{\"dimension\":0,\"plot\":{\"id\":\"4323d333-fe4b-47ae-c720-624cf01f3eae\",\"type\":\"Plot\",\"subtype\":\"Figure\"},\"ticker\":{\"type\":\"BasicTicker\",\"id\":\"71c762a4-7339-4c46-cc34-a9cde1830045\"},\"id\":\"80916607-4ec3-4111-c1ce-45221464354c\",\"doc\":null,\"tags\":[]}},{\"id\":\"38bd9b0b-8d2c-432c-c33c-6353b5ddd497\",\"type\":\"BasicTickFormatter\",\"attributes\":{\"id\":\"38bd9b0b-8d2c-432c-c33c-6353b5ddd497\",\"tags\":[],\"doc\":null}},{\"id\":\"38e71985-908a-4f41-cfdb-a4f2127a8589\",\"type\":\"BasicTicker\",\"attributes\":{\"num_minor_ticks\":5,\"id\":\"38e71985-908a-4f41-cfdb-a4f2127a8589\",\"tags\":[],\"doc\":null}},{\"id\":\"fb1c0a8c-3974-4ba7-cb54-d027d9fce98f\",\"type\":\"LinearAxis\",\"attributes\":{\"formatter\":{\"type\":\"BasicTickFormatter\",\"id\":\"38bd9b0b-8d2c-432c-c33c-6353b5ddd497\"},\"ticker\":{\"type\":\"BasicTicker\",\"id\":\"38e71985-908a-4f41-cfdb-a4f2127a8589\"},\"plot\":{\"id\":\"4323d333-fe4b-47ae-c720-624cf01f3eae\",\"type\":\"Plot\",\"subtype\":\"Figure\"},\"axis_label\":null,\"id\":\"fb1c0a8c-3974-4ba7-cb54-d027d9fce98f\",\"doc\":null,\"tags\":[]}},{\"id\":\"3d45818a-b5bc-48e0-c871-129881dfe385\",\"type\":\"Grid\",\"attributes\":{\"dimension\":1,\"plot\":{\"id\":\"4323d333-fe4b-47ae-c720-624cf01f3eae\",\"type\":\"Plot\",\"subtype\":\"Figure\"},\"ticker\":{\"type\":\"BasicTicker\",\"id\":\"38e71985-908a-4f41-cfdb-a4f2127a8589\"},\"id\":\"3d45818a-b5bc-48e0-c871-129881dfe385\",\"doc\":null,\"tags\":[]}},{\"id\":\"bb20367c-45be-4187-c160-91a65e1b87ee\",\"type\":\"PanTool\",\"attributes\":{\"plot\":{\"id\":\"4323d333-fe4b-47ae-c720-624cf01f3eae\",\"type\":\"Plot\",\"subtype\":\"Figure\"},\"dimensions\":[\"width\",\"height\"],\"id\":\"bb20367c-45be-4187-c160-91a65e1b87ee\",\"doc\":null,\"tags\":[]}},{\"id\":\"75deb4e1-de4b-4277-c2b6-03402a290f7d\",\"type\":\"WheelZoomTool\",\"attributes\":{\"plot\":{\"id\":\"4323d333-fe4b-47ae-c720-624cf01f3eae\",\"type\":\"Plot\",\"subtype\":\"Figure\"},\"dimensions\":[\"width\",\"height\"],\"id\":\"75deb4e1-de4b-4277-c2b6-03402a290f7d\",\"doc\":null,\"tags\":[]}},{\"id\":\"c77fc70e-c027-4bdd-cb74-9efe64b30c3f\",\"type\":\"BoxZoomTool\",\"attributes\":{\"plot\":{\"id\":\"4323d333-fe4b-47ae-c720-624cf01f3eae\",\"type\":\"Plot\",\"subtype\":\"Figure\"},\"id\":\"c77fc70e-c027-4bdd-cb74-9efe64b30c3f\",\"tags\":[],\"doc\":null}},{\"id\":\"6761a806-b16f-4d65-cdfb-ac8a32d052d3\",\"type\":\"PreviewSaveTool\",\"attributes\":{\"plot\":{\"id\":\"4323d333-fe4b-47ae-c720-624cf01f3eae\",\"type\":\"Plot\",\"subtype\":\"Figure\"},\"id\":\"6761a806-b16f-4d65-cdfb-ac8a32d052d3\",\"tags\":[],\"doc\":null}},{\"id\":\"94195310-aa19-4ca4-ccff-ddd71d30ae2e\",\"type\":\"ResizeTool\",\"attributes\":{\"plot\":{\"id\":\"4323d333-fe4b-47ae-c720-624cf01f3eae\",\"type\":\"Plot\",\"subtype\":\"Figure\"},\"id\":\"94195310-aa19-4ca4-ccff-ddd71d30ae2e\",\"tags\":[],\"doc\":null}},{\"id\":\"1a51a132-5544-45d0-c517-c7413397c262\",\"type\":\"ResetTool\",\"attributes\":{\"plot\":{\"id\":\"4323d333-fe4b-47ae-c720-624cf01f3eae\",\"type\":\"Plot\",\"subtype\":\"Figure\"},\"id\":\"1a51a132-5544-45d0-c517-c7413397c262\",\"tags\":[],\"doc\":null}},{\"id\":\"bb1614d0-945b-49bc-c939-478134e839e5\",\"type\":\"Legend\",\"attributes\":{\"plot\":{\"id\":\"4323d333-fe4b-47ae-c720-624cf01f3eae\",\"type\":\"Plot\",\"subtype\":\"Figure\"},\"legends\":[[\"accuracy\",[{\"type\":\"GlyphRenderer\",\"id\":\"5cff97a7-73c3-432a-c325-b8d3f3c8984a\"}]]],\"id\":\"bb1614d0-945b-49bc-c939-478134e839e5\",\"doc\":null,\"tags\":[]}},{\"id\":\"4323d333-fe4b-47ae-c720-624cf01f3eae\",\"type\":\"Plot\",\"attributes\":{\"x_range\":{\"type\":\"DataRange1d\",\"id\":\"8fece7b3-34f4-4a7d-ca00-df339eec392a\"},\"tool_events\":{\"type\":\"ToolEvents\",\"id\":\"4e5f4750-9a88-4fca-cf9f-cd4ce3b7a203\"},\"below\":[{\"type\":\"LinearAxis\",\"id\":\"c743e878-2950-4f7e-cfc8-7835840a558a\"}],\"renderers\":[{\"type\":\"GlyphRenderer\",\"id\":\"5cff97a7-73c3-432a-c325-b8d3f3c8984a\"},{\"type\":\"LinearAxis\",\"id\":\"c743e878-2950-4f7e-cfc8-7835840a558a\"},{\"type\":\"Grid\",\"id\":\"80916607-4ec3-4111-c1ce-45221464354c\"},{\"type\":\"LinearAxis\",\"id\":\"fb1c0a8c-3974-4ba7-cb54-d027d9fce98f\"},{\"type\":\"Grid\",\"id\":\"3d45818a-b5bc-48e0-c871-129881dfe385\"},{\"type\":\"Legend\",\"id\":\"bb1614d0-945b-49bc-c939-478134e839e5\"}],\"above\":[],\"tools\":[{\"type\":\"PanTool\",\"id\":\"bb20367c-45be-4187-c160-91a65e1b87ee\"},{\"type\":\"WheelZoomTool\",\"id\":\"75deb4e1-de4b-4277-c2b6-03402a290f7d\"},{\"type\":\"BoxZoomTool\",\"id\":\"c77fc70e-c027-4bdd-cb74-9efe64b30c3f\"},{\"type\":\"PreviewSaveTool\",\"id\":\"6761a806-b16f-4d65-cdfb-ac8a32d052d3\"},{\"type\":\"ResizeTool\",\"id\":\"94195310-aa19-4ca4-ccff-ddd71d30ae2e\"},{\"type\":\"ResetTool\",\"id\":\"1a51a132-5544-45d0-c517-c7413397c262\"}],\"doc\":null,\"right\":[],\"title\":\"Accuacy\",\"extra_x_ranges\":{},\"left\":[{\"type\":\"LinearAxis\",\"id\":\"fb1c0a8c-3974-4ba7-cb54-d027d9fce98f\"}],\"y_range\":{\"type\":\"DataRange1d\",\"id\":\"51b3bdeb-9054-46ac-c68b-ae4a6f851315\"},\"id\":\"4323d333-fe4b-47ae-c720-624cf01f3eae\",\"extra_y_ranges\":{},\"tags\":[]}}];\n",
       "  Bokeh.load_models(all_models);\n",
       "  var model = Bokeh.Collections(modeltype).get(modelid);\n",
       "  $(\"#ba89f1af-8906-4b2e-cb32-cc24feeefc78\").html(''); // clear any previous plot in window_id\n",
       "  var view = new model.default_view({model: model, el: \"#ba89f1af-8906-4b2e-cb32-cc24feeefc78\"});\n",
       "    } else {\n",
       "  load_lib(bokehjs_url, function() {\n",
       "      console.log(\"Bokeh: BokehJS plotting callback run at\", new Date())\n",
       "      var modelid = \"4323d333-fe4b-47ae-c720-624cf01f3eae\";\n",
       "      var modeltype = \"Plot\";\n",
       "      var all_models = [{\"id\":\"1aa638fb-0aeb-4e45-cebe-45eea8d8a6e4\",\"type\":\"ColumnDataSource\",\"attributes\":{\"data\":{\"y\":[8.8235294117647,8.8235294117647,7.3529411764706,13.235294117647,13.235294117647,14.705882352941,14.705882352941,14.705882352941,16.176470588235,16.176470588235,22.058823529412,25,26.470588235294,26.470588235294,26.470588235294,27.941176470588,29.411764705882,29.411764705882,29.411764705882,32.352941176471,32.352941176471,35.294117647059,36.764705882353,42.647058823529,50,60.294117647059,67.647058823529,70.588235294118,72.058823529412,72.058823529412,73.529411764706,77.941176470588,77.941176470588,83.823529411765,85.294117647059,86.764705882353,86.764705882353,86.764705882353,88.235294117647,91.176470588235,94.117647058824,95.588235294118,95.588235294118,95.588235294118,95.588235294118,95.588235294118,95.588235294118,95.588235294118,95.588235294118,95.588235294118,95.588235294118,95.588235294118,95.588235294118,95.588235294118,95.588235294118,95.588235294118,97.058823529412,97.058823529412,98.529411764706,98.529411764706,98.529411764706,98.529411764706,98.529411764706,98.529411764706,100,100,100,100,100,100,100,100,100,100,100,100,100,100,100,100,100,100,100,100,100,100,100,100,100,100,100,100,100,100,100,100,100,100,100,100,100,100,100,100,100,100,100,100,100,100,100,100,100,100,100,100,100,100,100,100,100,100,100,100,100,100,100,100,100,100,100,100,100,100,100,100,100,100,100,100,100,100,100,100,100,100,100,100,100,100,100,100,100,100,100,100,100,100,100,100,100,100,100,100,100,100,100,100,100,100,100,100,100,100,100,100,100,100,100,100,100,100,100,100,100,100,100,100,100,100,100,100,100,100,100,100,100,100,100,100,100,100,100,100,100,100,100,100,100,100,100,100,100,100,100,100,100,100,100,100,100,100,100,100,100,100,100,100,100,100,100,100,100,100,100,100,100,100,100,100,100,100,100,100,100,100,100,100,100,100,100,100,100,100,100,100,100,100,100,100,100,100,100,100,100,100,100,100,100,100,100,100,100,100,100,100,100,100,100,100,100,100,100,100,100,100,100,100,100,100,100,100,100,100,100,100,100,100,100,100,100,100,100,100,100,100,100,100,100,100,100,100,100,100,100,100,100,100,100,100,100,100,100,100,100,100,100,100,100,100,100,100,100,100,100,100,100,100,100,100,100,100,100,100,100,100,100,100,100,100,100,100,100,100,100,100,100,100,100,100,100,100,100,100,100,100,100,100,100,100,100,100,100,100,100,100,100,100,100,100,100,100,100,100,100,100,100,100,100,100,100,100,100,100,100,100,100,100,100,100,100,100,100,100,100,100,100,100,100,100,100,100,100,100,100,100,100,100,100,100,100,100,100,100,100,100,100,100,100,100,100,100,100,100,100,100,100,100,100,100,100,100,100,100,100,100,100,100,100,100,100,100,100,100,100,100,100,100,100,100,100,100,100,100,100,100,100,100,100,100,100,100,100,100,100,100,100,100,100,100,100,100,100,100,100,100,100,100,100,100,100,100,100,100,100,100,100,100,100,100,100,100,100,100,100,100,100,100,100,100,100,100,100,100,100,100,100,100,100,100,100,100,100,100,100,100,100,100,100,100,100,100,100,100,100,100,100,100,100,100,100,100,100,100,100,100,100,100,100,100,100,100,100,100,100,100,100,100,100,100,100,100,100,100,100,100,100,100,100,100,100,100,100,100,100,100,100,100,100,100,100,100,100,100,100,100,100,100,100,100,100,100,100,100,100,100,100,100,100,100,100,100,100,100,100,100,100,100,100,100,100,100,100,100,100,100,100,100,100,100,100,100,100,100,100,100,100,100,100,100,100,100,100,100,100,100,100,100,100,100,100,100,100,100,100,100,100,100,100,100,100,100,100,100,100,100,100,100,100,100,100,100,100,100,100,100,100,100,100,100,100,100,100,100,100,100,100,100,100,100,100,100,100,100,100,100,100,100,100,100,100,100,100,100,100,100,100,100,100,100,100,100,100,100,100,100,100,100,100,100,100,100,100,100,100,100,100,100,100,100,100,100,100,100,100,100,100,100,100,100,100,100,100,100,100,100,100,100,100,100,100,100,100,100,100,100,100,100,100,100,100,100,100,100,100,100,100,100,100,100,100,100,100,100,100,100,100,100,100,100,100,100,100,100,100,100,100,100,100,100,100,100,100,100,100,100,100,100,100,100,100,100,100,100,100,100,100,100,100,100,100,100,100,100,100,100,100,100,100,100,100,100,100,100,100,100,100,100,100,100,100,100,100,100,100,100,100,100,100,100,100,100,100,100,100,100,100,100,100,100,100,100,100,100,100,100,100,100,100,100,100,100,100,100,100,100,100,100,100,100,100,100,100,100,100,100,100,100,100,100,100,100,100,100,100,100,100,100,100,100,100,100,100,100,100,100,100,100,100,100,100,100,100,100,100,100,100,100,100,100,100,100,100,100,100,100,100,100,100,100,100,100,100,100,100,100,100,100,100,100,100,100,100,100,100,100,100,100,100,100,100,100,100,100,100,100,100,100,100,100,100,100,100,100,100,100,100,100,100,100,100,100,100,100,100,100,100,100,100,100,100,100,100,100,100,100,100,100,100,100,100,100,100,100,100,100,100,100,100,100,100,100,100,100,100,100,100,100,100,100,100,100,100,100,100,100,100,100,100,100],\"x\":[1,2,3,4,5,6,7,8,9,10,11,12,13,14,15,16,17,18,19,20,21,22,23,24,25,26,27,28,29,30,31,32,33,34,35,36,37,38,39,40,41,42,43,44,45,46,47,48,49,50,51,52,53,54,55,56,57,58,59,60,61,62,63,64,65,66,67,68,69,70,71,72,73,74,75,76,77,78,79,80,81,82,83,84,85,86,87,88,89,90,91,92,93,94,95,96,97,98,99,100,101,102,103,104,105,106,107,108,109,110,111,112,113,114,115,116,117,118,119,120,121,122,123,124,125,126,127,128,129,130,131,132,133,134,135,136,137,138,139,140,141,142,143,144,145,146,147,148,149,150,151,152,153,154,155,156,157,158,159,160,161,162,163,164,165,166,167,168,169,170,171,172,173,174,175,176,177,178,179,180,181,182,183,184,185,186,187,188,189,190,191,192,193,194,195,196,197,198,199,200,201,202,203,204,205,206,207,208,209,210,211,212,213,214,215,216,217,218,219,220,221,222,223,224,225,226,227,228,229,230,231,232,233,234,235,236,237,238,239,240,241,242,243,244,245,246,247,248,249,250,251,252,253,254,255,256,257,258,259,260,261,262,263,264,265,266,267,268,269,270,271,272,273,274,275,276,277,278,279,280,281,282,283,284,285,286,287,288,289,290,291,292,293,294,295,296,297,298,299,300,301,302,303,304,305,306,307,308,309,310,311,312,313,314,315,316,317,318,319,320,321,322,323,324,325,326,327,328,329,330,331,332,333,334,335,336,337,338,339,340,341,342,343,344,345,346,347,348,349,350,351,352,353,354,355,356,357,358,359,360,361,362,363,364,365,366,367,368,369,370,371,372,373,374,375,376,377,378,379,380,381,382,383,384,385,386,387,388,389,390,391,392,393,394,395,396,397,398,399,400,401,402,403,404,405,406,407,408,409,410,411,412,413,414,415,416,417,418,419,420,421,422,423,424,425,426,427,428,429,430,431,432,433,434,435,436,437,438,439,440,441,442,443,444,445,446,447,448,449,450,451,452,453,454,455,456,457,458,459,460,461,462,463,464,465,466,467,468,469,470,471,472,473,474,475,476,477,478,479,480,481,482,483,484,485,486,487,488,489,490,491,492,493,494,495,496,497,498,499,500,501,502,503,504,505,506,507,508,509,510,511,512,513,514,515,516,517,518,519,520,521,522,523,524,525,526,527,528,529,530,531,532,533,534,535,536,537,538,539,540,541,542,543,544,545,546,547,548,549,550,551,552,553,554,555,556,557,558,559,560,561,562,563,564,565,566,567,568,569,570,571,572,573,574,575,576,577,578,579,580,581,582,583,584,585,586,587,588,589,590,591,592,593,594,595,596,597,598,599,600,601,602,603,604,605,606,607,608,609,610,611,612,613,614,615,616,617,618,619,620,621,622,623,624,625,626,627,628,629,630,631,632,633,634,635,636,637,638,639,640,641,642,643,644,645,646,647,648,649,650,651,652,653,654,655,656,657,658,659,660,661,662,663,664,665,666,667,668,669,670,671,672,673,674,675,676,677,678,679,680,681,682,683,684,685,686,687,688,689,690,691,692,693,694,695,696,697,698,699,700,701,702,703,704,705,706,707,708,709,710,711,712,713,714,715,716,717,718,719,720,721,722,723,724,725,726,727,728,729,730,731,732,733,734,735,736,737,738,739,740,741,742,743,744,745,746,747,748,749,750,751,752,753,754,755,756,757,758,759,760,761,762,763,764,765,766,767,768,769,770,771,772,773,774,775,776,777,778,779,780,781,782,783,784,785,786,787,788,789,790,791,792,793,794,795,796,797,798,799,800,801,802,803,804,805,806,807,808,809,810,811,812,813,814,815,816,817,818,819,820,821,822,823,824,825,826,827,828,829,830,831,832,833,834,835,836,837,838,839,840,841,842,843,844,845,846,847,848,849,850,851,852,853,854,855,856,857,858,859,860,861,862,863,864,865,866,867,868,869,870,871,872,873,874,875,876,877,878,879,880,881,882,883,884,885,886,887,888,889,890,891,892,893,894,895,896,897,898,899,900,901,902,903,904,905,906,907,908,909,910,911,912,913,914,915,916,917,918,919,920,921,922,923,924,925,926,927,928,929,930,931,932,933,934,935,936,937,938,939,940,941,942,943,944,945,946,947,948,949,950,951,952,953,954,955,956,957,958,959,960,961,962,963,964,965,966,967,968,969,970,971,972,973,974,975,976,977,978,979,980,981,982,983,984,985,986,987,988,989,990,991,992,993,994,995,996,997,998,999,1000]},\"column_names\":[\"y\",\"x\"],\"cont_ranges\":{},\"discrete_ranges\":{},\"selected\":[],\"id\":\"1aa638fb-0aeb-4e45-cebe-45eea8d8a6e4\",\"doc\":null,\"tags\":[]}},{\"id\":\"a5b6de1d-d2b3-4e39-ce5e-d76a30234d47\",\"type\":\"Line\",\"attributes\":{\"fill_alpha\":{\"units\":\"data\",\"value\":0.2},\"line_alpha\":{\"units\":\"data\",\"value\":1},\"doc\":null,\"size\":{\"units\":\"screen\",\"value\":10},\"fill_color\":{\"value\":\"green\"},\"line_color\":{\"value\":\"green\"},\"x\":{\"units\":\"data\",\"field\":\"x\"},\"id\":\"a5b6de1d-d2b3-4e39-ce5e-d76a30234d47\",\"y\":{\"units\":\"data\",\"field\":\"y\"},\"tags\":[]}},{\"id\":\"d8769ff3-60c1-4be2-cbef-3376017c54e6\",\"type\":\"Line\",\"attributes\":{\"fill_alpha\":{\"units\":\"data\",\"value\":0.2},\"line_alpha\":{\"units\":\"data\",\"value\":1},\"doc\":null,\"size\":{\"units\":\"screen\",\"value\":10},\"fill_color\":{\"value\":\"green\"},\"line_color\":{\"value\":\"green\"},\"x\":{\"units\":\"data\",\"field\":\"x\"},\"id\":\"d8769ff3-60c1-4be2-cbef-3376017c54e6\",\"y\":{\"units\":\"data\",\"field\":\"y\"},\"tags\":[]}},{\"id\":\"5cff97a7-73c3-432a-c325-b8d3f3c8984a\",\"type\":\"GlyphRenderer\",\"attributes\":{\"name\":null,\"nonselection_glyph\":{\"type\":\"Line\",\"id\":\"d8769ff3-60c1-4be2-cbef-3376017c54e6\"},\"doc\":null,\"server_data_source\":null,\"data_source\":{\"type\":\"ColumnDataSource\",\"id\":\"1aa638fb-0aeb-4e45-cebe-45eea8d8a6e4\"},\"glyph\":{\"type\":\"Line\",\"id\":\"a5b6de1d-d2b3-4e39-ce5e-d76a30234d47\"},\"selection_glyph\":null,\"id\":\"5cff97a7-73c3-432a-c325-b8d3f3c8984a\",\"tags\":[]}},{\"id\":\"8fece7b3-34f4-4a7d-ca00-df339eec392a\",\"type\":\"DataRange1d\",\"attributes\":{\"sources\":[{\"columns\":[\"x\"],\"source\":{\"type\":\"ColumnDataSource\",\"id\":\"1aa638fb-0aeb-4e45-cebe-45eea8d8a6e4\"}}],\"id\":\"8fece7b3-34f4-4a7d-ca00-df339eec392a\",\"tags\":[],\"doc\":null}},{\"id\":\"51b3bdeb-9054-46ac-c68b-ae4a6f851315\",\"type\":\"DataRange1d\",\"attributes\":{\"sources\":[{\"columns\":[\"y\"],\"source\":{\"type\":\"ColumnDataSource\",\"id\":\"1aa638fb-0aeb-4e45-cebe-45eea8d8a6e4\"}}],\"id\":\"51b3bdeb-9054-46ac-c68b-ae4a6f851315\",\"tags\":[],\"doc\":null}},{\"id\":\"4e5f4750-9a88-4fca-cf9f-cd4ce3b7a203\",\"type\":\"ToolEvents\",\"attributes\":{\"tags\":[],\"id\":\"4e5f4750-9a88-4fca-cf9f-cd4ce3b7a203\",\"geometries\":[],\"doc\":null}},{\"id\":\"49fd7e0a-99e4-42c9-c230-569e198fd904\",\"type\":\"BasicTickFormatter\",\"attributes\":{\"id\":\"49fd7e0a-99e4-42c9-c230-569e198fd904\",\"tags\":[],\"doc\":null}},{\"id\":\"71c762a4-7339-4c46-cc34-a9cde1830045\",\"type\":\"BasicTicker\",\"attributes\":{\"num_minor_ticks\":5,\"id\":\"71c762a4-7339-4c46-cc34-a9cde1830045\",\"tags\":[],\"doc\":null}},{\"id\":\"c743e878-2950-4f7e-cfc8-7835840a558a\",\"type\":\"LinearAxis\",\"attributes\":{\"formatter\":{\"type\":\"BasicTickFormatter\",\"id\":\"49fd7e0a-99e4-42c9-c230-569e198fd904\"},\"ticker\":{\"type\":\"BasicTicker\",\"id\":\"71c762a4-7339-4c46-cc34-a9cde1830045\"},\"plot\":{\"id\":\"4323d333-fe4b-47ae-c720-624cf01f3eae\",\"type\":\"Plot\",\"subtype\":\"Figure\"},\"axis_label\":null,\"id\":\"c743e878-2950-4f7e-cfc8-7835840a558a\",\"doc\":null,\"tags\":[]}},{\"id\":\"80916607-4ec3-4111-c1ce-45221464354c\",\"type\":\"Grid\",\"attributes\":{\"dimension\":0,\"plot\":{\"id\":\"4323d333-fe4b-47ae-c720-624cf01f3eae\",\"type\":\"Plot\",\"subtype\":\"Figure\"},\"ticker\":{\"type\":\"BasicTicker\",\"id\":\"71c762a4-7339-4c46-cc34-a9cde1830045\"},\"id\":\"80916607-4ec3-4111-c1ce-45221464354c\",\"doc\":null,\"tags\":[]}},{\"id\":\"38bd9b0b-8d2c-432c-c33c-6353b5ddd497\",\"type\":\"BasicTickFormatter\",\"attributes\":{\"id\":\"38bd9b0b-8d2c-432c-c33c-6353b5ddd497\",\"tags\":[],\"doc\":null}},{\"id\":\"38e71985-908a-4f41-cfdb-a4f2127a8589\",\"type\":\"BasicTicker\",\"attributes\":{\"num_minor_ticks\":5,\"id\":\"38e71985-908a-4f41-cfdb-a4f2127a8589\",\"tags\":[],\"doc\":null}},{\"id\":\"fb1c0a8c-3974-4ba7-cb54-d027d9fce98f\",\"type\":\"LinearAxis\",\"attributes\":{\"formatter\":{\"type\":\"BasicTickFormatter\",\"id\":\"38bd9b0b-8d2c-432c-c33c-6353b5ddd497\"},\"ticker\":{\"type\":\"BasicTicker\",\"id\":\"38e71985-908a-4f41-cfdb-a4f2127a8589\"},\"plot\":{\"id\":\"4323d333-fe4b-47ae-c720-624cf01f3eae\",\"type\":\"Plot\",\"subtype\":\"Figure\"},\"axis_label\":null,\"id\":\"fb1c0a8c-3974-4ba7-cb54-d027d9fce98f\",\"doc\":null,\"tags\":[]}},{\"id\":\"3d45818a-b5bc-48e0-c871-129881dfe385\",\"type\":\"Grid\",\"attributes\":{\"dimension\":1,\"plot\":{\"id\":\"4323d333-fe4b-47ae-c720-624cf01f3eae\",\"type\":\"Plot\",\"subtype\":\"Figure\"},\"ticker\":{\"type\":\"BasicTicker\",\"id\":\"38e71985-908a-4f41-cfdb-a4f2127a8589\"},\"id\":\"3d45818a-b5bc-48e0-c871-129881dfe385\",\"doc\":null,\"tags\":[]}},{\"id\":\"bb20367c-45be-4187-c160-91a65e1b87ee\",\"type\":\"PanTool\",\"attributes\":{\"plot\":{\"id\":\"4323d333-fe4b-47ae-c720-624cf01f3eae\",\"type\":\"Plot\",\"subtype\":\"Figure\"},\"dimensions\":[\"width\",\"height\"],\"id\":\"bb20367c-45be-4187-c160-91a65e1b87ee\",\"doc\":null,\"tags\":[]}},{\"id\":\"75deb4e1-de4b-4277-c2b6-03402a290f7d\",\"type\":\"WheelZoomTool\",\"attributes\":{\"plot\":{\"id\":\"4323d333-fe4b-47ae-c720-624cf01f3eae\",\"type\":\"Plot\",\"subtype\":\"Figure\"},\"dimensions\":[\"width\",\"height\"],\"id\":\"75deb4e1-de4b-4277-c2b6-03402a290f7d\",\"doc\":null,\"tags\":[]}},{\"id\":\"c77fc70e-c027-4bdd-cb74-9efe64b30c3f\",\"type\":\"BoxZoomTool\",\"attributes\":{\"plot\":{\"id\":\"4323d333-fe4b-47ae-c720-624cf01f3eae\",\"type\":\"Plot\",\"subtype\":\"Figure\"},\"id\":\"c77fc70e-c027-4bdd-cb74-9efe64b30c3f\",\"tags\":[],\"doc\":null}},{\"id\":\"6761a806-b16f-4d65-cdfb-ac8a32d052d3\",\"type\":\"PreviewSaveTool\",\"attributes\":{\"plot\":{\"id\":\"4323d333-fe4b-47ae-c720-624cf01f3eae\",\"type\":\"Plot\",\"subtype\":\"Figure\"},\"id\":\"6761a806-b16f-4d65-cdfb-ac8a32d052d3\",\"tags\":[],\"doc\":null}},{\"id\":\"94195310-aa19-4ca4-ccff-ddd71d30ae2e\",\"type\":\"ResizeTool\",\"attributes\":{\"plot\":{\"id\":\"4323d333-fe4b-47ae-c720-624cf01f3eae\",\"type\":\"Plot\",\"subtype\":\"Figure\"},\"id\":\"94195310-aa19-4ca4-ccff-ddd71d30ae2e\",\"tags\":[],\"doc\":null}},{\"id\":\"1a51a132-5544-45d0-c517-c7413397c262\",\"type\":\"ResetTool\",\"attributes\":{\"plot\":{\"id\":\"4323d333-fe4b-47ae-c720-624cf01f3eae\",\"type\":\"Plot\",\"subtype\":\"Figure\"},\"id\":\"1a51a132-5544-45d0-c517-c7413397c262\",\"tags\":[],\"doc\":null}},{\"id\":\"bb1614d0-945b-49bc-c939-478134e839e5\",\"type\":\"Legend\",\"attributes\":{\"plot\":{\"id\":\"4323d333-fe4b-47ae-c720-624cf01f3eae\",\"type\":\"Plot\",\"subtype\":\"Figure\"},\"legends\":[[\"accuracy\",[{\"type\":\"GlyphRenderer\",\"id\":\"5cff97a7-73c3-432a-c325-b8d3f3c8984a\"}]]],\"id\":\"bb1614d0-945b-49bc-c939-478134e839e5\",\"doc\":null,\"tags\":[]}},{\"id\":\"4323d333-fe4b-47ae-c720-624cf01f3eae\",\"type\":\"Plot\",\"attributes\":{\"x_range\":{\"type\":\"DataRange1d\",\"id\":\"8fece7b3-34f4-4a7d-ca00-df339eec392a\"},\"tool_events\":{\"type\":\"ToolEvents\",\"id\":\"4e5f4750-9a88-4fca-cf9f-cd4ce3b7a203\"},\"below\":[{\"type\":\"LinearAxis\",\"id\":\"c743e878-2950-4f7e-cfc8-7835840a558a\"}],\"renderers\":[{\"type\":\"GlyphRenderer\",\"id\":\"5cff97a7-73c3-432a-c325-b8d3f3c8984a\"},{\"type\":\"LinearAxis\",\"id\":\"c743e878-2950-4f7e-cfc8-7835840a558a\"},{\"type\":\"Grid\",\"id\":\"80916607-4ec3-4111-c1ce-45221464354c\"},{\"type\":\"LinearAxis\",\"id\":\"fb1c0a8c-3974-4ba7-cb54-d027d9fce98f\"},{\"type\":\"Grid\",\"id\":\"3d45818a-b5bc-48e0-c871-129881dfe385\"},{\"type\":\"Legend\",\"id\":\"bb1614d0-945b-49bc-c939-478134e839e5\"}],\"above\":[],\"tools\":[{\"type\":\"PanTool\",\"id\":\"bb20367c-45be-4187-c160-91a65e1b87ee\"},{\"type\":\"WheelZoomTool\",\"id\":\"75deb4e1-de4b-4277-c2b6-03402a290f7d\"},{\"type\":\"BoxZoomTool\",\"id\":\"c77fc70e-c027-4bdd-cb74-9efe64b30c3f\"},{\"type\":\"PreviewSaveTool\",\"id\":\"6761a806-b16f-4d65-cdfb-ac8a32d052d3\"},{\"type\":\"ResizeTool\",\"id\":\"94195310-aa19-4ca4-ccff-ddd71d30ae2e\"},{\"type\":\"ResetTool\",\"id\":\"1a51a132-5544-45d0-c517-c7413397c262\"}],\"doc\":null,\"right\":[],\"title\":\"Accuacy\",\"extra_x_ranges\":{},\"left\":[{\"type\":\"LinearAxis\",\"id\":\"fb1c0a8c-3974-4ba7-cb54-d027d9fce98f\"}],\"y_range\":{\"type\":\"DataRange1d\",\"id\":\"51b3bdeb-9054-46ac-c68b-ae4a6f851315\"},\"id\":\"4323d333-fe4b-47ae-c720-624cf01f3eae\",\"extra_y_ranges\":{},\"tags\":[]}}];\n",
       "      Bokeh.load_models(all_models);\n",
       "      var model = Bokeh.Collections(modeltype).get(modelid);\n",
       "      $(\"#ba89f1af-8906-4b2e-cb32-cc24feeefc78\").html(''); // clear any previous plot in window_id\n",
       "      var view = new model.default_view({model: model, el: \"#ba89f1af-8906-4b2e-cb32-cc24feeefc78\"});\n",
       "  });\n",
       "    }\n",
       "});\n",
       "</script>\n",
       "<div class=\"plotdiv\" id=\"ba89f1af-8906-4b2e-cb32-cc24feeefc78\"></div>\n"
      ]
     },
     "metadata": {},
     "output_type": "display_data"
    }
   ],
   "source": [
    "x = {}\n",
    "for i = 1,1000 do\n",
    "    x[i] = i\n",
    "end\n",
    "Plot = require 'itorch.Plot'\n",
    "plot = Plot():line(x, loss,'red','loss'):legend(true):title('Loss'):draw()\n",
    "plot1 = Plot():line(x, accuracy,'green','accuracy'):legend(true):title('Accuacy'):draw()\n"
   ]
  },
  {
   "cell_type": "code",
   "execution_count": 21,
   "metadata": {
    "collapsed": true
   },
   "outputs": [],
   "source": [
    "eval = function(dataset)\n",
    "    correct = 0\n",
    "    for i=1,76 do\n",
    "        local target = dataset.label[i]\n",
    "        local prediction = model:forward(dataset.data[i])\n",
    "        local confidences, indices = torch.sort(prediction, true)  \n",
    "        if target == indices[1] then\n",
    "            correct = correct + 1\n",
    "        end\n",
    "    end\n",
    "    return correct/76*100\n",
    "end"
   ]
  },
  {
   "cell_type": "code",
   "execution_count": 22,
   "metadata": {},
   "outputs": [
    {
     "data": {
      "text/plain": [
       "100\t\n"
      ]
     },
     "execution_count": 22,
     "metadata": {},
     "output_type": "execute_result"
    }
   ],
   "source": [
    "eval(trainset)"
   ]
  },
  {
   "cell_type": "code",
   "execution_count": 23,
   "metadata": {},
   "outputs": [
    {
     "data": {
      "text/plain": [
       "1\tcorrect :1\t\n"
      ]
     },
     "execution_count": 23,
     "metadata": {},
     "output_type": "execute_result"
    },
    {
     "data": {
      "text/plain": [
       "2\tcorrect :2\t\n"
      ]
     },
     "execution_count": 23,
     "metadata": {},
     "output_type": "execute_result"
    },
    {
     "data": {
      "text/plain": [
       "3\tcorrect :3\t\n"
      ]
     },
     "execution_count": 23,
     "metadata": {},
     "output_type": "execute_result"
    },
    {
     "data": {
      "text/plain": [
       "4\tcorrect :4\t\n",
       "5\tcorrect :5\t\n"
      ]
     },
     "execution_count": 23,
     "metadata": {},
     "output_type": "execute_result"
    },
    {
     "data": {
      "text/plain": [
       "6\tcorrect :6\t\n"
      ]
     },
     "execution_count": 23,
     "metadata": {},
     "output_type": "execute_result"
    },
    {
     "data": {
      "text/plain": [
       "7\tcorrect :7\t\n"
      ]
     },
     "execution_count": 23,
     "metadata": {},
     "output_type": "execute_result"
    },
    {
     "data": {
      "text/plain": [
       "8\tcorrect :8\t\n"
      ]
     },
     "execution_count": 23,
     "metadata": {},
     "output_type": "execute_result"
    },
    {
     "data": {
      "text/plain": [
       "9\tcorrect :9\t\n"
      ]
     },
     "execution_count": 23,
     "metadata": {},
     "output_type": "execute_result"
    },
    {
     "data": {
      "text/plain": [
       "10\tcorrect :10\t\n",
       "11\tcorrect :11\t\n"
      ]
     },
     "execution_count": 23,
     "metadata": {},
     "output_type": "execute_result"
    },
    {
     "data": {
      "text/plain": [
       "12\tcorrect :12\t\n"
      ]
     },
     "execution_count": 23,
     "metadata": {},
     "output_type": "execute_result"
    },
    {
     "data": {
      "text/plain": [
       "13\tcorrect :13\t\n"
      ]
     },
     "execution_count": 23,
     "metadata": {},
     "output_type": "execute_result"
    },
    {
     "data": {
      "text/plain": [
       "14\tcorrect :14\t\n"
      ]
     },
     "execution_count": 23,
     "metadata": {},
     "output_type": "execute_result"
    },
    {
     "data": {
      "text/plain": [
       "15\tcorrect :15\t\n",
       "16\tcorrect :16\t\n"
      ]
     },
     "execution_count": 23,
     "metadata": {},
     "output_type": "execute_result"
    },
    {
     "data": {
      "text/plain": [
       "17\tcorrect :17\t\n",
       "18\tcorrect :18\t\n",
       "19\tcorrect :19\t\n"
      ]
     },
     "execution_count": 23,
     "metadata": {},
     "output_type": "execute_result"
    },
    {
     "data": {
      "text/plain": [
       "1\tcorrect :1\t\n",
       "2\tcorrect :2\t\n"
      ]
     },
     "execution_count": 23,
     "metadata": {},
     "output_type": "execute_result"
    },
    {
     "data": {
      "text/plain": [
       "3\tcorrect :3\t\n"
      ]
     },
     "execution_count": 23,
     "metadata": {},
     "output_type": "execute_result"
    },
    {
     "data": {
      "text/plain": [
       "4\tcorrect :4\t\n"
      ]
     },
     "execution_count": 23,
     "metadata": {},
     "output_type": "execute_result"
    },
    {
     "data": {
      "text/plain": [
       "5\tcorrect :5\t\n",
       "6\tcorrect :6\t\n"
      ]
     },
     "execution_count": 23,
     "metadata": {},
     "output_type": "execute_result"
    },
    {
     "data": {
      "text/plain": [
       "7\tcorrect :7\t\n"
      ]
     },
     "execution_count": 23,
     "metadata": {},
     "output_type": "execute_result"
    },
    {
     "data": {
      "text/plain": [
       "8\tcorrect :8\t\n"
      ]
     },
     "execution_count": 23,
     "metadata": {},
     "output_type": "execute_result"
    },
    {
     "data": {
      "text/plain": [
       "9\tcorrect :9\t\n"
      ]
     },
     "execution_count": 23,
     "metadata": {},
     "output_type": "execute_result"
    },
    {
     "data": {
      "text/plain": [
       "10\tcorrect :10\t\n"
      ]
     },
     "execution_count": 23,
     "metadata": {},
     "output_type": "execute_result"
    },
    {
     "data": {
      "text/plain": [
       "11\tcorrect :11\t\n"
      ]
     },
     "execution_count": 23,
     "metadata": {},
     "output_type": "execute_result"
    },
    {
     "data": {
      "text/plain": [
       "12\tcorrect :12\t\n",
       "13\tcorrect :13\t\n"
      ]
     },
     "execution_count": 23,
     "metadata": {},
     "output_type": "execute_result"
    },
    {
     "data": {
      "text/plain": [
       "14\tcorrect :14\t\n"
      ]
     },
     "execution_count": 23,
     "metadata": {},
     "output_type": "execute_result"
    },
    {
     "data": {
      "text/plain": [
       "15\tcorrect :15\t\n"
      ]
     },
     "execution_count": 23,
     "metadata": {},
     "output_type": "execute_result"
    },
    {
     "data": {
      "text/plain": [
       "16\tcorrect :16\t\n"
      ]
     },
     "execution_count": 23,
     "metadata": {},
     "output_type": "execute_result"
    },
    {
     "data": {
      "text/plain": [
       "17\tcorrect :17\t\n"
      ]
     },
     "execution_count": 23,
     "metadata": {},
     "output_type": "execute_result"
    },
    {
     "data": {
      "text/plain": [
       "18\tcorrect :18\t\n"
      ]
     },
     "execution_count": 23,
     "metadata": {},
     "output_type": "execute_result"
    },
    {
     "data": {
      "text/plain": [
       "19\tcorrect :19\t\n"
      ]
     },
     "execution_count": 23,
     "metadata": {},
     "output_type": "execute_result"
    },
    {
     "data": {
      "text/plain": [
       "1\tcorrect :1\t\n",
       "2\tcorrect :2\t\n",
       "3\tcorrect :3\t\n",
       "4\tcorrect :4\t\n"
      ]
     },
     "execution_count": 23,
     "metadata": {},
     "output_type": "execute_result"
    },
    {
     "data": {
      "text/plain": [
       "5\tcorrect :5\t\n"
      ]
     },
     "execution_count": 23,
     "metadata": {},
     "output_type": "execute_result"
    },
    {
     "data": {
      "text/plain": [
       "6\tcorrect :6\t\n"
      ]
     },
     "execution_count": 23,
     "metadata": {},
     "output_type": "execute_result"
    },
    {
     "data": {
      "text/plain": [
       "7\tcorrect :7\t\n"
      ]
     },
     "execution_count": 23,
     "metadata": {},
     "output_type": "execute_result"
    },
    {
     "data": {
      "text/plain": [
       "8\tcorrect :8\t\n",
       "9\tcorrect :9\t\n"
      ]
     },
     "execution_count": 23,
     "metadata": {},
     "output_type": "execute_result"
    },
    {
     "data": {
      "text/plain": [
       "10\tcorrect :10\t\n"
      ]
     },
     "execution_count": 23,
     "metadata": {},
     "output_type": "execute_result"
    },
    {
     "data": {
      "text/plain": [
       "11\tcorrect :11\t\n"
      ]
     },
     "execution_count": 23,
     "metadata": {},
     "output_type": "execute_result"
    },
    {
     "data": {
      "text/plain": [
       "12\tcorrect :12\t\n"
      ]
     },
     "execution_count": 23,
     "metadata": {},
     "output_type": "execute_result"
    },
    {
     "data": {
      "text/plain": [
       "13\tcorrect :13\t\n",
       "14\tcorrect :14\t\n",
       "15\tcorrect :15\t\n",
       "16\tcorrect :16\t\n",
       "17\tcorrect :17\t\n"
      ]
     },
     "execution_count": 23,
     "metadata": {},
     "output_type": "execute_result"
    },
    {
     "data": {
      "text/plain": [
       "18\tcorrect :18\t\n"
      ]
     },
     "execution_count": 23,
     "metadata": {},
     "output_type": "execute_result"
    },
    {
     "data": {
      "text/plain": [
       "19\tcorrect :19\t\n"
      ]
     },
     "execution_count": 23,
     "metadata": {},
     "output_type": "execute_result"
    },
    {
     "data": {
      "text/plain": [
       "1\tcorrect :1\t\n",
       "2\tcorrect :2\t\n",
       "3\tcorrect :3\t\n"
      ]
     },
     "execution_count": 23,
     "metadata": {},
     "output_type": "execute_result"
    },
    {
     "data": {
      "text/plain": [
       "4\tcorrect :4\t\n"
      ]
     },
     "execution_count": 23,
     "metadata": {},
     "output_type": "execute_result"
    },
    {
     "data": {
      "text/plain": [
       "5\tcorrect :5\t\n"
      ]
     },
     "execution_count": 23,
     "metadata": {},
     "output_type": "execute_result"
    },
    {
     "data": {
      "text/plain": [
       "6\tcorrect :6\t\n"
      ]
     },
     "execution_count": 23,
     "metadata": {},
     "output_type": "execute_result"
    },
    {
     "data": {
      "text/plain": [
       "7\tcorrect :7\t\n"
      ]
     },
     "execution_count": 23,
     "metadata": {},
     "output_type": "execute_result"
    },
    {
     "data": {
      "text/plain": [
       "8\tcorrect :8\t\n"
      ]
     },
     "execution_count": 23,
     "metadata": {},
     "output_type": "execute_result"
    },
    {
     "data": {
      "text/plain": [
       "9\tcorrect :9\t\n"
      ]
     },
     "execution_count": 23,
     "metadata": {},
     "output_type": "execute_result"
    },
    {
     "data": {
      "text/plain": [
       "10\tcorrect :10\t\n",
       "11\tcorrect :11\t\n",
       "12\tcorrect :12\t\n"
      ]
     },
     "execution_count": 23,
     "metadata": {},
     "output_type": "execute_result"
    },
    {
     "data": {
      "text/plain": [
       "13\tcorrect :13\t\n"
      ]
     },
     "execution_count": 23,
     "metadata": {},
     "output_type": "execute_result"
    },
    {
     "data": {
      "text/plain": [
       "14\tcorrect :14\t\n"
      ]
     },
     "execution_count": 23,
     "metadata": {},
     "output_type": "execute_result"
    },
    {
     "data": {
      "text/plain": [
       "15\tcorrect :15\t\n"
      ]
     },
     "execution_count": 23,
     "metadata": {},
     "output_type": "execute_result"
    },
    {
     "data": {
      "text/plain": [
       "16\tcorrect :16\t\n"
      ]
     },
     "execution_count": 23,
     "metadata": {},
     "output_type": "execute_result"
    },
    {
     "data": {
      "text/plain": [
       "17\tcorrect :17\t\n"
      ]
     },
     "execution_count": 23,
     "metadata": {},
     "output_type": "execute_result"
    },
    {
     "data": {
      "text/plain": [
       "18\tcorrect :18\t\n"
      ]
     },
     "execution_count": 23,
     "metadata": {},
     "output_type": "execute_result"
    },
    {
     "data": {
      "text/plain": [
       "19\tcorrect :19\t\n"
      ]
     },
     "execution_count": 23,
     "metadata": {},
     "output_type": "execute_result"
    }
   ],
   "source": [
    "for i=1,76 do\n",
    "    prediction = model:forward(trainset.data[i])\n",
    "    confidences, indices = torch.sort(prediction, true) \n",
    "    print(indices[1], 'correct :' .. trainset.label[i] )\n",
    "end"
   ]
  },
  {
   "cell_type": "code",
   "execution_count": 19,
   "metadata": {},
   "outputs": [
    {
     "data": {
      "text/plain": [
       "\n"
      ]
     },
     "execution_count": 19,
     "metadata": {},
     "output_type": "execute_result"
    }
   ],
   "source": [
    "torch.save('fullmodel_box.net', model)"
   ]
  },
  {
   "cell_type": "code",
   "execution_count": null,
   "metadata": {
    "collapsed": true
   },
   "outputs": [],
   "source": []
  }
 ],
 "metadata": {
  "kernelspec": {
   "display_name": "iTorch",
   "language": "lua",
   "name": "itorch"
  },
  "language_info": {
   "name": "lua",
   "version": "5.1"
  }
 },
 "nbformat": 4,
 "nbformat_minor": 2
}
