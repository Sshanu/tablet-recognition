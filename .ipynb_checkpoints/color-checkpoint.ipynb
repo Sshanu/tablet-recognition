{
 "cells": [
  {
   "cell_type": "code",
   "execution_count": null,
   "metadata": {
    "collapsed": true
   },
   "outputs": [],
   "source": [
    "a1 = image.load('images/diff/back/img_2.jpg',3,'byte')\n",
    "a2=image.scale(a1,500,500):double()\n",
    "b = torch.Tensor(1,500,500):fill(20)\n",
    "c = torch.Tensor(1,500,500):fill(20)\n",
    "d = torch.Tensor(1,500,500):fill(10)\n",
    "a2[1] = a2[1]+b\n",
    "a2[2] = a2[2]+c\n",
    "a2[3] = a2[3]+d\n",
    "itorch.image(a2)"
   ]
  }
 ],
 "metadata": {
  "kernelspec": {
   "display_name": "iTorch",
   "language": "lua",
   "name": "itorch"
  },
  "language_info": {
   "name": "lua",
   "version": "5.1"
  }
 },
 "nbformat": 4,
 "nbformat_minor": 2
}
