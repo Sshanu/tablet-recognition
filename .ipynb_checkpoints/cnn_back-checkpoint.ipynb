{
 "cells": [
  {
   "cell_type": "code",
   "execution_count": 1,
   "metadata": {
    "collapsed": true
   },
   "outputs": [],
   "source": [
    "optim = require 'optim'"
   ]
  },
  {
   "cell_type": "code",
   "execution_count": 2,
   "metadata": {
    "collapsed": true
   },
   "outputs": [],
   "source": [
    "trainset = torch.load('full_back.dat')"
   ]
  },
  {
   "cell_type": "code",
   "execution_count": 3,
   "metadata": {},
   "outputs": [
    {
     "data": {
      "text/plain": [
       "{\n",
       "  data : ByteTensor - size: 68x3x20x20\n",
       "  label : ByteTensor - size: 68\n",
       "}\n"
      ]
     },
     "execution_count": 3,
     "metadata": {},
     "output_type": "execute_result"
    }
   ],
   "source": [
    "trainset"
   ]
  },
  {
   "cell_type": "code",
   "execution_count": 4,
   "metadata": {},
   "outputs": [
    {
     "data": {
      "image/png": "[encoded data removed]",
      "text/plain": [
       "Console does not support images"
      ]
     },
     "metadata": {
      "image/png": {
       "height": 20,
       "width": 20
      }
     },
     "output_type": "display_data"
    },
    {
     "data": {
      "text/plain": [
       "\n"
      ]
     },
     "execution_count": 4,
     "metadata": {},
     "output_type": "execute_result"
    }
   ],
   "source": [
    "itorch.image(trainset.data[1])"
   ]
  },
  {
   "cell_type": "code",
   "execution_count": 5,
   "metadata": {
    "collapsed": true
   },
   "outputs": [],
   "source": [
    "setmetatable(trainset, \n",
    "    {__index = function(t, i) \n",
    "                    return {t.data[i], t.label[i]} \n",
    "                end}\n",
    ");\n",
    "trainset.data = trainset.data:double() -- convert the data from a ByteTensor to a DoubleTensor.\n",
    "\n",
    "function trainset:size() \n",
    "    return self.data:size(1) \n",
    "end"
   ]
  },
  {
   "cell_type": "code",
   "execution_count": 6,
   "metadata": {
    "collapsed": true
   },
   "outputs": [],
   "source": [
    "nn = require 'nn'\n",
    "model = nn.Sequential()\n",
    "model:add(nn.SpatialConvolution(3,6,5,5))\n",
    "model:add(nn.SpatialMaxPooling(2,2,2,2))\n",
    "model:add(nn.ReLU())\n",
    "model:add(nn.SpatialConvolution(6,16,5,5))\n",
    "model:add(nn.SpatialMaxPooling(2,2,2,2))\n",
    "model:add(nn.ReLU())\n",
    "model:add(nn.View(16*2*2))\n",
    "model:add(nn.Linear(16*2*2,120))\n",
    "model:add(nn.ReLU())\n",
    "model:add(nn.Linear(120,80))\n",
    "model:add(nn.ReLU())\n",
    "model:add(nn.Linear(80,17))\n",
    "model:add(nn.LogSoftMax())\n",
    "-- model = torch.load('model.net')"
   ]
  },
  {
   "cell_type": "code",
   "execution_count": 7,
   "metadata": {
    "collapsed": true
   },
   "outputs": [],
   "source": [
    "criterion = nn.ClassNLLCriterion()"
   ]
  },
  {
   "cell_type": "code",
   "execution_count": 8,
   "metadata": {
    "collapsed": true
   },
   "outputs": [],
   "source": [
    "trainer = nn.StochasticGradient(model, criterion)\n",
    "trainer.learningRate = 0.0001\n",
    "trainer.maxIteration = 1000"
   ]
  },
  {
   "cell_type": "code",
   "execution_count": 21,
   "metadata": {},
   "outputs": [
    {
     "data": {
      "text/plain": [
       "# StochasticGradient: training\t\n"
      ]
     },
     "execution_count": 21,
     "metadata": {},
     "output_type": "execute_result"
    },
    {
     "data": {
      "text/plain": [
       "iteration1\t# current error = 3.621341284783\t\n"
      ]
     },
     "execution_count": 21,
     "metadata": {},
     "output_type": "execute_result"
    },
    {
     "data": {
      "text/plain": [
       "iteration2\t# current error = 2.871077730291\t\n"
      ]
     },
     "execution_count": 21,
     "metadata": {},
     "output_type": "execute_result"
    },
    {
     "data": {
      "text/plain": [
       "iteration3\t# current error = 2.7292952299165\t\n"
      ]
     },
     "execution_count": 21,
     "metadata": {},
     "output_type": "execute_result"
    },
    {
     "data": {
      "text/plain": [
       "iteration4\t# current error = 2.6051526812212\t\n"
      ]
     },
     "execution_count": 21,
     "metadata": {},
     "output_type": "execute_result"
    },
    {
     "data": {
      "text/plain": [
       "iteration5\t# current error = 2.5249319281463\t\n"
      ]
     },
     "execution_count": 21,
     "metadata": {},
     "output_type": "execute_result"
    },
    {
     "data": {
      "text/plain": [
       "iteration6\t# current error = 2.4231398289955\t\n"
      ]
     },
     "execution_count": 21,
     "metadata": {},
     "output_type": "execute_result"
    },
    {
     "data": {
      "text/plain": [
       "iteration7\t# current error = 2.3097348572736\t\n"
      ]
     },
     "execution_count": 21,
     "metadata": {},
     "output_type": "execute_result"
    },
    {
     "data": {
      "text/plain": [
       "iteration8\t# current error = 2.2036338534915\t\n"
      ]
     },
     "execution_count": 21,
     "metadata": {},
     "output_type": "execute_result"
    },
    {
     "data": {
      "text/plain": [
       "iteration9\t# current error = 2.1120390205886\t\n"
      ]
     },
     "execution_count": 21,
     "metadata": {},
     "output_type": "execute_result"
    },
    {
     "data": {
      "text/plain": [
       "iteration10\t# current error = 2.012088883716\t\n"
      ]
     },
     "execution_count": 21,
     "metadata": {},
     "output_type": "execute_result"
    },
    {
     "data": {
      "text/plain": [
       "iteration11\t# current error = 1.9173132317788\t\n"
      ]
     },
     "execution_count": 21,
     "metadata": {},
     "output_type": "execute_result"
    },
    {
     "data": {
      "text/plain": [
       "iteration12\t# current error = 1.8054463010174\t\n"
      ]
     },
     "execution_count": 21,
     "metadata": {},
     "output_type": "execute_result"
    },
    {
     "data": {
      "text/plain": [
       "iteration13\t# current error = 1.6963745707014\t\n"
      ]
     },
     "execution_count": 21,
     "metadata": {},
     "output_type": "execute_result"
    },
    {
     "data": {
      "text/plain": [
       "iteration14\t# current error = 1.589074822393\t\n"
      ]
     },
     "execution_count": 21,
     "metadata": {},
     "output_type": "execute_result"
    },
    {
     "data": {
      "text/plain": [
       "iteration15\t# current error = 1.4811153591373\t\n"
      ]
     },
     "execution_count": 21,
     "metadata": {},
     "output_type": "execute_result"
    },
    {
     "data": {
      "text/plain": [
       "iteration16\t# current error = 1.3760892177017\t\n"
      ]
     },
     "execution_count": 21,
     "metadata": {},
     "output_type": "execute_result"
    },
    {
     "data": {
      "text/plain": [
       "iteration17\t# current error = 1.2812438825934\t\n"
      ]
     },
     "execution_count": 21,
     "metadata": {},
     "output_type": "execute_result"
    },
    {
     "data": {
      "text/plain": [
       "iteration18\t# current error = 1.1770974967933\t\n"
      ]
     },
     "execution_count": 21,
     "metadata": {},
     "output_type": "execute_result"
    },
    {
     "data": {
      "text/plain": [
       "iteration19\t# current error = 1.0923775810159\t\n"
      ]
     },
     "execution_count": 21,
     "metadata": {},
     "output_type": "execute_result"
    },
    {
     "data": {
      "text/plain": [
       "iteration20\t# current error = 1.0061690533371\t\n"
      ]
     },
     "execution_count": 21,
     "metadata": {},
     "output_type": "execute_result"
    },
    {
     "data": {
      "text/plain": [
       "iteration21\t# current error = 0.92740813205799\t\n"
      ]
     },
     "execution_count": 21,
     "metadata": {},
     "output_type": "execute_result"
    },
    {
     "data": {
      "text/plain": [
       "iteration22\t# current error = 0.86248622824051\t\n"
      ]
     },
     "execution_count": 21,
     "metadata": {},
     "output_type": "execute_result"
    },
    {
     "data": {
      "text/plain": [
       "iteration23\t# current error = 0.78859374428462\t\n"
      ]
     },
     "execution_count": 21,
     "metadata": {},
     "output_type": "execute_result"
    },
    {
     "data": {
      "text/plain": [
       "iteration24\t# current error = 0.73423686731145\t\n"
      ]
     },
     "execution_count": 21,
     "metadata": {},
     "output_type": "execute_result"
    },
    {
     "data": {
      "text/plain": [
       "iteration25\t# current error = 0.67505887803657\t\n"
      ]
     },
     "execution_count": 21,
     "metadata": {},
     "output_type": "execute_result"
    },
    {
     "data": {
      "text/plain": [
       "iteration26\t# current error = 0.62200239609302\t\n"
      ]
     },
     "execution_count": 21,
     "metadata": {},
     "output_type": "execute_result"
    },
    {
     "data": {
      "text/plain": [
       "iteration27\t# current error = 0.57078784055175\t\n"
      ]
     },
     "execution_count": 21,
     "metadata": {},
     "output_type": "execute_result"
    },
    {
     "data": {
      "text/plain": [
       "iteration28\t# current error = 0.52925954944499\t\n"
      ]
     },
     "execution_count": 21,
     "metadata": {},
     "output_type": "execute_result"
    },
    {
     "data": {
      "text/plain": [
       "iteration29\t# current error = 0.49174160719561\t\n"
      ]
     },
     "execution_count": 21,
     "metadata": {},
     "output_type": "execute_result"
    },
    {
     "data": {
      "text/plain": [
       "iteration30\t# current error = 0.45454566370686\t\n"
      ]
     },
     "execution_count": 21,
     "metadata": {},
     "output_type": "execute_result"
    },
    {
     "data": {
      "text/plain": [
       "iteration31\t# current error = 0.41937077731556\t\n"
      ]
     },
     "execution_count": 21,
     "metadata": {},
     "output_type": "execute_result"
    },
    {
     "data": {
      "text/plain": [
       "iteration32\t# current error = 0.38730021655889\t\n"
      ]
     },
     "execution_count": 21,
     "metadata": {},
     "output_type": "execute_result"
    },
    {
     "data": {
      "text/plain": [
       "iteration33\t# current error = 0.35932286139347\t\n"
      ]
     },
     "execution_count": 21,
     "metadata": {},
     "output_type": "execute_result"
    },
    {
     "data": {
      "text/plain": [
       "iteration34\t# current error = 0.33408755400171\t\n"
      ]
     },
     "execution_count": 21,
     "metadata": {},
     "output_type": "execute_result"
    },
    {
     "data": {
      "text/plain": [
       "iteration35\t# current error = 0.30788704028072\t\n"
      ]
     },
     "execution_count": 21,
     "metadata": {},
     "output_type": "execute_result"
    },
    {
     "data": {
      "text/plain": [
       "iteration36\t# current error = 0.28647928003422\t\n"
      ]
     },
     "execution_count": 21,
     "metadata": {},
     "output_type": "execute_result"
    },
    {
     "data": {
      "text/plain": [
       "iteration37\t# current error = 0.26897158008898\t\n"
      ]
     },
     "execution_count": 21,
     "metadata": {},
     "output_type": "execute_result"
    },
    {
     "data": {
      "text/plain": [
       "iteration38\t# current error = 0.24961290993484\t\n"
      ]
     },
     "execution_count": 21,
     "metadata": {},
     "output_type": "execute_result"
    },
    {
     "data": {
      "text/plain": [
       "iteration39\t# current error = 0.23515297093615\t\n"
      ]
     },
     "execution_count": 21,
     "metadata": {},
     "output_type": "execute_result"
    },
    {
     "data": {
      "text/plain": [
       "iteration40\t# current error = 0.22071272665097\t\n"
      ]
     },
     "execution_count": 21,
     "metadata": {},
     "output_type": "execute_result"
    },
    {
     "data": {
      "text/plain": [
       "iteration41\t# current error = 0.20800067682989\t\n"
      ]
     },
     "execution_count": 21,
     "metadata": {},
     "output_type": "execute_result"
    },
    {
     "data": {
      "text/plain": [
       "iteration42\t# current error = 0.19380008149818\t\n"
      ]
     },
     "execution_count": 21,
     "metadata": {},
     "output_type": "execute_result"
    },
    {
     "data": {
      "text/plain": [
       "iteration43\t# current error = 0.18151647727595\t\n"
      ]
     },
     "execution_count": 21,
     "metadata": {},
     "output_type": "execute_result"
    },
    {
     "data": {
      "text/plain": [
       "iteration44\t# current error = 0.172574189976\t\n"
      ]
     },
     "execution_count": 21,
     "metadata": {},
     "output_type": "execute_result"
    },
    {
     "data": {
      "text/plain": [
       "iteration45\t# current error = 0.16051053372938\t\n"
      ]
     },
     "execution_count": 21,
     "metadata": {},
     "output_type": "execute_result"
    },
    {
     "data": {
      "text/plain": [
       "iteration46\t# current error = 0.15156790581576\t\n"
      ]
     },
     "execution_count": 21,
     "metadata": {},
     "output_type": "execute_result"
    },
    {
     "data": {
      "text/plain": [
       "iteration47\t# current error = 0.14503244146501\t\n"
      ]
     },
     "execution_count": 21,
     "metadata": {},
     "output_type": "execute_result"
    },
    {
     "data": {
      "text/plain": [
       "iteration48\t# current error = 0.13583687364532\t\n"
      ]
     },
     "execution_count": 21,
     "metadata": {},
     "output_type": "execute_result"
    },
    {
     "data": {
      "text/plain": [
       "iteration49\t# current error = 0.12902067163016\t\n"
      ]
     },
     "execution_count": 21,
     "metadata": {},
     "output_type": "execute_result"
    },
    {
     "data": {
      "text/plain": [
       "iteration50\t# current error = 0.12283781024924\t\n"
      ]
     },
     "execution_count": 21,
     "metadata": {},
     "output_type": "execute_result"
    },
    {
     "data": {
      "text/plain": [
       "iteration51\t# current error = 0.11643738790962\t\n"
      ]
     },
     "execution_count": 21,
     "metadata": {},
     "output_type": "execute_result"
    },
    {
     "data": {
      "text/plain": [
       "iteration52\t# current error = 0.11088141118464\t\n"
      ]
     },
     "execution_count": 21,
     "metadata": {},
     "output_type": "execute_result"
    },
    {
     "data": {
      "text/plain": [
       "iteration53\t# current error = 0.10580165668226\t\n"
      ]
     },
     "execution_count": 21,
     "metadata": {},
     "output_type": "execute_result"
    },
    {
     "data": {
      "text/plain": [
       "iteration54\t# current error = 0.1003816849931\t\n"
      ]
     },
     "execution_count": 21,
     "metadata": {},
     "output_type": "execute_result"
    },
    {
     "data": {
      "text/plain": [
       "iteration55\t# current error = 0.095886092484627\t\n"
      ]
     },
     "execution_count": 21,
     "metadata": {},
     "output_type": "execute_result"
    },
    {
     "data": {
      "text/plain": [
       "iteration56\t# current error = 0.09186529696761\t\n"
      ]
     },
     "execution_count": 21,
     "metadata": {},
     "output_type": "execute_result"
    },
    {
     "data": {
      "text/plain": [
       "iteration57\t# current error = 0.088265288635958\t\n"
      ]
     },
     "execution_count": 21,
     "metadata": {},
     "output_type": "execute_result"
    },
    {
     "data": {
      "text/plain": [
       "iteration58\t# current error = 0.083788921137381\t\n"
      ]
     },
     "execution_count": 21,
     "metadata": {},
     "output_type": "execute_result"
    },
    {
     "data": {
      "text/plain": [
       "iteration59\t# current error = 0.080173559692028\t\n"
      ]
     },
     "execution_count": 21,
     "metadata": {},
     "output_type": "execute_result"
    },
    {
     "data": {
      "text/plain": [
       "iteration60\t# current error = 0.077045389171163\t\n"
      ]
     },
     "execution_count": 21,
     "metadata": {},
     "output_type": "execute_result"
    },
    {
     "data": {
      "text/plain": [
       "iteration61\t# current error = 0.073390024740902\t\n"
      ]
     },
     "execution_count": 21,
     "metadata": {},
     "output_type": "execute_result"
    },
    {
     "data": {
      "text/plain": [
       "iteration62\t# current error = 0.070724101195138\t\n"
      ]
     },
     "execution_count": 21,
     "metadata": {},
     "output_type": "execute_result"
    },
    {
     "data": {
      "text/plain": [
       "iteration63\t# current error = 0.067709526604624\t\n"
      ]
     },
     "execution_count": 21,
     "metadata": {},
     "output_type": "execute_result"
    },
    {
     "data": {
      "text/plain": [
       "iteration64\t# current error = 0.065025438034414\t\n"
      ]
     },
     "execution_count": 21,
     "metadata": {},
     "output_type": "execute_result"
    },
    {
     "data": {
      "text/plain": [
       "iteration65\t# current error = 0.063012009787636\t\n"
      ]
     },
     "execution_count": 21,
     "metadata": {},
     "output_type": "execute_result"
    },
    {
     "data": {
      "text/plain": [
       "iteration66\t# current error = 0.060581825594646\t\n"
      ]
     },
     "execution_count": 21,
     "metadata": {},
     "output_type": "execute_result"
    },
    {
     "data": {
      "text/plain": [
       "iteration67\t# current error = 0.058035807817661\t\n"
      ]
     },
     "execution_count": 21,
     "metadata": {},
     "output_type": "execute_result"
    },
    {
     "data": {
      "text/plain": [
       "iteration68\t# current error = 0.05587909881606\t\n"
      ]
     },
     "execution_count": 21,
     "metadata": {},
     "output_type": "execute_result"
    },
    {
     "data": {
      "text/plain": [
       "iteration69\t# current error = 0.05412605732046\t\n"
      ]
     },
     "execution_count": 21,
     "metadata": {},
     "output_type": "execute_result"
    },
    {
     "data": {
      "text/plain": [
       "iteration70\t# current error = 0.051351992175434\t\n"
      ]
     },
     "execution_count": 21,
     "metadata": {},
     "output_type": "execute_result"
    },
    {
     "data": {
      "text/plain": [
       "iteration71\t# current error = 0.050260341702464\t\n"
      ]
     },
     "execution_count": 21,
     "metadata": {},
     "output_type": "execute_result"
    },
    {
     "data": {
      "text/plain": [
       "iteration72\t# current error = 0.048124298296703\t\n"
      ]
     },
     "execution_count": 21,
     "metadata": {},
     "output_type": "execute_result"
    },
    {
     "data": {
      "text/plain": [
       "iteration73\t# current error = 0.046544463433009\t\n"
      ]
     },
     "execution_count": 21,
     "metadata": {},
     "output_type": "execute_result"
    },
    {
     "data": {
      "text/plain": [
       "iteration74\t# current error = 0.04484396333466\t\n"
      ]
     },
     "execution_count": 21,
     "metadata": {},
     "output_type": "execute_result"
    },
    {
     "data": {
      "text/plain": [
       "iteration75\t# current error = 0.04353233644828\t\n"
      ]
     },
     "execution_count": 21,
     "metadata": {},
     "output_type": "execute_result"
    },
    {
     "data": {
      "text/plain": [
       "iteration76\t# current error = 0.042329133573553\t\n"
      ]
     },
     "execution_count": 21,
     "metadata": {},
     "output_type": "execute_result"
    },
    {
     "data": {
      "text/plain": [
       "iteration77\t# current error = 0.040898464947778\t\n"
      ]
     },
     "execution_count": 21,
     "metadata": {},
     "output_type": "execute_result"
    },
    {
     "data": {
      "text/plain": [
       "iteration78\t# current error = 0.03990623677734\t\n"
      ]
     },
     "execution_count": 21,
     "metadata": {},
     "output_type": "execute_result"
    },
    {
     "data": {
      "text/plain": [
       "iteration79\t# current error = 0.038595874829422\t\n"
      ]
     },
     "execution_count": 21,
     "metadata": {},
     "output_type": "execute_result"
    },
    {
     "data": {
      "text/plain": [
       "iteration80\t# current error = 0.037463304361412\t\n"
      ]
     },
     "execution_count": 21,
     "metadata": {},
     "output_type": "execute_result"
    },
    {
     "data": {
      "text/plain": [
       "iteration81\t# current error = 0.036276725290912\t\n"
      ]
     },
     "execution_count": 21,
     "metadata": {},
     "output_type": "execute_result"
    },
    {
     "data": {
      "text/plain": [
       "iteration82\t# current error = 0.035299901227796\t\n"
      ]
     },
     "execution_count": 21,
     "metadata": {},
     "output_type": "execute_result"
    },
    {
     "data": {
      "text/plain": [
       "iteration83\t# current error = 0.034531301199964\t\n"
      ]
     },
     "execution_count": 21,
     "metadata": {},
     "output_type": "execute_result"
    },
    {
     "data": {
      "text/plain": [
       "iteration84\t# current error = 0.033512494567565\t\n"
      ]
     },
     "execution_count": 21,
     "metadata": {},
     "output_type": "execute_result"
    },
    {
     "data": {
      "text/plain": [
       "iteration85\t"
      ]
     },
     "execution_count": 21,
     "metadata": {},
     "output_type": "execute_result"
    },
    {
     "data": {
      "text/plain": [
       "# current error = 0.032623823660204\t\n"
      ]
     },
     "execution_count": 21,
     "metadata": {},
     "output_type": "execute_result"
    },
    {
     "data": {
      "text/plain": [
       "iteration86\t# current error = 0.031649438499079\t\n"
      ]
     },
     "execution_count": 21,
     "metadata": {},
     "output_type": "execute_result"
    },
    {
     "data": {
      "text/plain": [
       "iteration87\t# current error = 0.031030665757176\t\n"
      ]
     },
     "execution_count": 21,
     "metadata": {},
     "output_type": "execute_result"
    },
    {
     "data": {
      "text/plain": [
       "iteration88\t# current error = 0.030170547294505\t\n"
      ]
     },
     "execution_count": 21,
     "metadata": {},
     "output_type": "execute_result"
    },
    {
     "data": {
      "text/plain": [
       "iteration89\t# current error = 0.029508007183114\t\n"
      ]
     },
     "execution_count": 21,
     "metadata": {},
     "output_type": "execute_result"
    },
    {
     "data": {
      "text/plain": [
       "iteration90\t# current error = 0.028671859580005\t\n"
      ]
     },
     "execution_count": 21,
     "metadata": {},
     "output_type": "execute_result"
    },
    {
     "data": {
      "text/plain": [
       "iteration91\t# current error = 0.028000393577487\t\n"
      ]
     },
     "execution_count": 21,
     "metadata": {},
     "output_type": "execute_result"
    },
    {
     "data": {
      "text/plain": [
       "iteration92\t# current error = 0.027392873171898\t\n"
      ]
     },
     "execution_count": 21,
     "metadata": {},
     "output_type": "execute_result"
    },
    {
     "data": {
      "text/plain": [
       "iteration93\t# current error = 0.026698361339796\t\n"
      ]
     },
     "execution_count": 21,
     "metadata": {},
     "output_type": "execute_result"
    },
    {
     "data": {
      "text/plain": [
       "iteration94\t# current error = 0.026217061424425\t\n"
      ]
     },
     "execution_count": 21,
     "metadata": {},
     "output_type": "execute_result"
    },
    {
     "data": {
      "text/plain": [
       "iteration95\t# current error = 0.025660852413327\t\n"
      ]
     },
     "execution_count": 21,
     "metadata": {},
     "output_type": "execute_result"
    },
    {
     "data": {
      "text/plain": [
       "iteration96\t# current error = 0.025088042205099\t\n"
      ]
     },
     "execution_count": 21,
     "metadata": {},
     "output_type": "execute_result"
    },
    {
     "data": {
      "text/plain": [
       "iteration97\t# current error = 0.024449561924161\t\n"
      ]
     },
     "execution_count": 21,
     "metadata": {},
     "output_type": "execute_result"
    },
    {
     "data": {
      "text/plain": [
       "iteration98\t# current error = 0.023958476001327\t\n"
      ]
     },
     "execution_count": 21,
     "metadata": {},
     "output_type": "execute_result"
    },
    {
     "data": {
      "text/plain": [
       "iteration99\t# current error = 0.023484192103217\t\n"
      ]
     },
     "execution_count": 21,
     "metadata": {},
     "output_type": "execute_result"
    },
    {
     "data": {
      "text/plain": [
       "iteration100\t# current error = 0.022989728727271\t\n"
      ]
     },
     "execution_count": 21,
     "metadata": {},
     "output_type": "execute_result"
    },
    {
     "data": {
      "text/plain": [
       "iteration101\t# current error = 0.022516564524749\t\n"
      ]
     },
     "execution_count": 21,
     "metadata": {},
     "output_type": "execute_result"
    },
    {
     "data": {
      "text/plain": [
       "iteration102\t# current error = 0.022068747059813\t\n"
      ]
     },
     "execution_count": 21,
     "metadata": {},
     "output_type": "execute_result"
    },
    {
     "data": {
      "text/plain": [
       "iteration103\t# current error = 0.02167869110787\t\n"
      ]
     },
     "execution_count": 21,
     "metadata": {},
     "output_type": "execute_result"
    },
    {
     "data": {
      "text/plain": [
       "iteration104\t# current error = 0.021271366166385\t\n"
      ]
     },
     "execution_count": 21,
     "metadata": {},
     "output_type": "execute_result"
    },
    {
     "data": {
      "text/plain": [
       "iteration105\t# current error = 0.020878826793043\t\n"
      ]
     },
     "execution_count": 21,
     "metadata": {},
     "output_type": "execute_result"
    },
    {
     "data": {
      "text/plain": [
       "iteration106\t# current error = 0.020413299902404\t\n"
      ]
     },
     "execution_count": 21,
     "metadata": {},
     "output_type": "execute_result"
    },
    {
     "data": {
      "text/plain": [
       "iteration107\t# current error = 0.020100620508565\t\n"
      ]
     },
     "execution_count": 21,
     "metadata": {},
     "output_type": "execute_result"
    },
    {
     "data": {
      "text/plain": [
       "iteration108\t# current error = 0.01970335356009\t\n"
      ]
     },
     "execution_count": 21,
     "metadata": {},
     "output_type": "execute_result"
    },
    {
     "data": {
      "text/plain": [
       "iteration109\t# current error = 0.019336714217715\t\n"
      ]
     },
     "execution_count": 21,
     "metadata": {},
     "output_type": "execute_result"
    },
    {
     "data": {
      "text/plain": [
       "iteration110\t# current error = 0.019006092151665\t\n"
      ]
     },
     "execution_count": 21,
     "metadata": {},
     "output_type": "execute_result"
    },
    {
     "data": {
      "text/plain": [
       "iteration111\t# current error = 0.018611193504764\t\n"
      ]
     },
     "execution_count": 21,
     "metadata": {},
     "output_type": "execute_result"
    },
    {
     "data": {
      "text/plain": [
       "iteration112\t# current error = 0.018348481063159\t\n"
      ]
     },
     "execution_count": 21,
     "metadata": {},
     "output_type": "execute_result"
    },
    {
     "data": {
      "text/plain": [
       "iteration113\t# current error = 0.018014634086701\t\n"
      ]
     },
     "execution_count": 21,
     "metadata": {},
     "output_type": "execute_result"
    },
    {
     "data": {
      "text/plain": [
       "iteration114\t# current error = 0.017710379309288\t\n"
      ]
     },
     "execution_count": 21,
     "metadata": {},
     "output_type": "execute_result"
    },
    {
     "data": {
      "text/plain": [
       "iteration115\t# current error = 0.017431043903324\t\n"
      ]
     },
     "execution_count": 21,
     "metadata": {},
     "output_type": "execute_result"
    },
    {
     "data": {
      "text/plain": [
       "iteration116\t# current error = 0.017134466517025\t\n"
      ]
     },
     "execution_count": 21,
     "metadata": {},
     "output_type": "execute_result"
    },
    {
     "data": {
      "text/plain": [
       "iteration117\t# current error = 0.01682942777557\t\n"
      ]
     },
     "execution_count": 21,
     "metadata": {},
     "output_type": "execute_result"
    },
    {
     "data": {
      "text/plain": [
       "iteration118\t# current error = 0.016538367492815\t\n"
      ]
     },
     "execution_count": 21,
     "metadata": {},
     "output_type": "execute_result"
    },
    {
     "data": {
      "text/plain": [
       "iteration119\t# current error = 0.016293420794539\t\n"
      ]
     },
     "execution_count": 21,
     "metadata": {},
     "output_type": "execute_result"
    },
    {
     "data": {
      "text/plain": [
       "iteration120\t# current error = 0.016048022640196\t\n"
      ]
     },
     "execution_count": 21,
     "metadata": {},
     "output_type": "execute_result"
    },
    {
     "data": {
      "text/plain": [
       "iteration121\t# current error = 0.015777300728601\t\n"
      ]
     },
     "execution_count": 21,
     "metadata": {},
     "output_type": "execute_result"
    },
    {
     "data": {
      "text/plain": [
       "iteration122\t# current error = 0.015520889349269\t\n"
      ]
     },
     "execution_count": 21,
     "metadata": {},
     "output_type": "execute_result"
    },
    {
     "data": {
      "text/plain": [
       "iteration123\t# current error = 0.015308559320919\t\n"
      ]
     },
     "execution_count": 21,
     "metadata": {},
     "output_type": "execute_result"
    },
    {
     "data": {
      "text/plain": [
       "iteration124\t# current error = 0.015062044719278\t\n"
      ]
     },
     "execution_count": 21,
     "metadata": {},
     "output_type": "execute_result"
    },
    {
     "data": {
      "text/plain": [
       "iteration125\t# current error = 0.014826812635867\t\n"
      ]
     },
     "execution_count": 21,
     "metadata": {},
     "output_type": "execute_result"
    },
    {
     "data": {
      "text/plain": [
       "iteration126\t# current error = 0.014589039034881\t\n"
      ]
     },
     "execution_count": 21,
     "metadata": {},
     "output_type": "execute_result"
    },
    {
     "data": {
      "text/plain": [
       "iteration127\t# current error = 0.01440296976694\t\n"
      ]
     },
     "execution_count": 21,
     "metadata": {},
     "output_type": "execute_result"
    },
    {
     "data": {
      "text/plain": [
       "iteration128\t# current error = 0.014148516334747\t\n"
      ]
     },
     "execution_count": 21,
     "metadata": {},
     "output_type": "execute_result"
    },
    {
     "data": {
      "text/plain": [
       "iteration129\t# current error = 0.013979050638892\t\n"
      ]
     },
     "execution_count": 21,
     "metadata": {},
     "output_type": "execute_result"
    },
    {
     "data": {
      "text/plain": [
       "iteration130\t# current error = 0.013785886183102\t\n"
      ]
     },
     "execution_count": 21,
     "metadata": {},
     "output_type": "execute_result"
    },
    {
     "data": {
      "text/plain": [
       "iteration131\t# current error = 0.013599894713674\t\n"
      ]
     },
     "execution_count": 21,
     "metadata": {},
     "output_type": "execute_result"
    },
    {
     "data": {
      "text/plain": [
       "iteration132\t# current error = 0.013384348603299\t\n"
      ]
     },
     "execution_count": 21,
     "metadata": {},
     "output_type": "execute_result"
    },
    {
     "data": {
      "text/plain": [
       "iteration133\t# current error = 0.013205561781124\t\n"
      ]
     },
     "execution_count": 21,
     "metadata": {},
     "output_type": "execute_result"
    },
    {
     "data": {
      "text/plain": [
       "iteration134\t# current error = 0.013005384514892\t\n"
      ]
     },
     "execution_count": 21,
     "metadata": {},
     "output_type": "execute_result"
    },
    {
     "data": {
      "text/plain": [
       "iteration135\t# current error = 0.012873780251195\t\n"
      ]
     },
     "execution_count": 21,
     "metadata": {},
     "output_type": "execute_result"
    },
    {
     "data": {
      "text/plain": [
       "iteration136\t# current error = 0.012663936732606\t\n"
      ]
     },
     "execution_count": 21,
     "metadata": {},
     "output_type": "execute_result"
    },
    {
     "data": {
      "text/plain": [
       "iteration137\t# current error = 0.01250838862951\t\n"
      ]
     },
     "execution_count": 21,
     "metadata": {},
     "output_type": "execute_result"
    },
    {
     "data": {
      "text/plain": [
       "iteration138\t# current error = 0.012352020977103\t\n"
      ]
     },
     "execution_count": 21,
     "metadata": {},
     "output_type": "execute_result"
    },
    {
     "data": {
      "text/plain": [
       "iteration139\t# current error = 0.012178760284708\t\n"
      ]
     },
     "execution_count": 21,
     "metadata": {},
     "output_type": "execute_result"
    },
    {
     "data": {
      "text/plain": [
       "iteration140\t# current error = 0.012028941266951\t\n"
      ]
     },
     "execution_count": 21,
     "metadata": {},
     "output_type": "execute_result"
    },
    {
     "data": {
      "text/plain": [
       "iteration141\t# current error = 0.011866703294396\t\n"
      ]
     },
     "execution_count": 21,
     "metadata": {},
     "output_type": "execute_result"
    },
    {
     "data": {
      "text/plain": [
       "iteration142\t# current error = 0.011728258888286\t\n"
      ]
     },
     "execution_count": 21,
     "metadata": {},
     "output_type": "execute_result"
    },
    {
     "data": {
      "text/plain": [
       "iteration143\t# current error = 0.011583077715143\t\n"
      ]
     },
     "execution_count": 21,
     "metadata": {},
     "output_type": "execute_result"
    },
    {
     "data": {
      "text/plain": [
       "iteration144\t# current error = 0.011413059678495\t\n"
      ]
     },
     "execution_count": 21,
     "metadata": {},
     "output_type": "execute_result"
    },
    {
     "data": {
      "text/plain": [
       "iteration145\t# current error = 0.011289652490934\t\n"
      ]
     },
     "execution_count": 21,
     "metadata": {},
     "output_type": "execute_result"
    },
    {
     "data": {
      "text/plain": [
       "iteration146\t# current error = 0.011160126293791\t\n"
      ]
     },
     "execution_count": 21,
     "metadata": {},
     "output_type": "execute_result"
    },
    {
     "data": {
      "text/plain": [
       "iteration147\t# current error = 0.011020341308178\t\n"
      ]
     },
     "execution_count": 21,
     "metadata": {},
     "output_type": "execute_result"
    },
    {
     "data": {
      "text/plain": [
       "iteration148\t# current error = 0.010893389913668\t\n"
      ]
     },
     "execution_count": 21,
     "metadata": {},
     "output_type": "execute_result"
    },
    {
     "data": {
      "text/plain": [
       "iteration149\t# current error = 0.010761230750053\t\n"
      ]
     },
     "execution_count": 21,
     "metadata": {},
     "output_type": "execute_result"
    },
    {
     "data": {
      "text/plain": [
       "iteration150\t# current error = 0.010624464823706\t\n"
      ]
     },
     "execution_count": 21,
     "metadata": {},
     "output_type": "execute_result"
    },
    {
     "data": {
      "text/plain": [
       "iteration151\t# current error = 0.010491464321054\t\n"
      ]
     },
     "execution_count": 21,
     "metadata": {},
     "output_type": "execute_result"
    },
    {
     "data": {
      "text/plain": [
       "iteration152\t# current error = 0.01038848400906\t\n"
      ]
     },
     "execution_count": 21,
     "metadata": {},
     "output_type": "execute_result"
    },
    {
     "data": {
      "text/plain": [
       "iteration153\t# current error = 0.010261762769626\t\n"
      ]
     },
     "execution_count": 21,
     "metadata": {},
     "output_type": "execute_result"
    },
    {
     "data": {
      "text/plain": [
       "iteration154\t# current error = 0.010167780610292\t\n"
      ]
     },
     "execution_count": 21,
     "metadata": {},
     "output_type": "execute_result"
    },
    {
     "data": {
      "text/plain": [
       "iteration155\t# current error = 0.01003062920852\t\n"
      ]
     },
     "execution_count": 21,
     "metadata": {},
     "output_type": "execute_result"
    },
    {
     "data": {
      "text/plain": [
       "iteration156\t# current error = 0.009904122824304\t\n"
      ]
     },
     "execution_count": 21,
     "metadata": {},
     "output_type": "execute_result"
    },
    {
     "data": {
      "text/plain": [
       "iteration157\t# current error = 0.0098183693040065\t\n"
      ]
     },
     "execution_count": 21,
     "metadata": {},
     "output_type": "execute_result"
    },
    {
     "data": {
      "text/plain": [
       "iteration158\t# current error = 0.0097155442772259\t\n"
      ]
     },
     "execution_count": 21,
     "metadata": {},
     "output_type": "execute_result"
    },
    {
     "data": {
      "text/plain": [
       "iteration159\t# current error = 0.0095939713962839\t\n"
      ]
     },
     "execution_count": 21,
     "metadata": {},
     "output_type": "execute_result"
    },
    {
     "data": {
      "text/plain": [
       "iteration160\t# current error = 0.0094960438209123\t\n"
      ]
     },
     "execution_count": 21,
     "metadata": {},
     "output_type": "execute_result"
    },
    {
     "data": {
      "text/plain": [
       "iteration161\t# current error = 0.0094153548312761\t\n"
      ]
     },
     "execution_count": 21,
     "metadata": {},
     "output_type": "execute_result"
    },
    {
     "data": {
      "text/plain": [
       "iteration162\t# current error = 0.0092897951001858\t\n"
      ]
     },
     "execution_count": 21,
     "metadata": {},
     "output_type": "execute_result"
    },
    {
     "data": {
      "text/plain": [
       "iteration163\t# current error = 0.0091955132197472\t\n"
      ]
     },
     "execution_count": 21,
     "metadata": {},
     "output_type": "execute_result"
    },
    {
     "data": {
      "text/plain": [
       "iteration164\t# current error = 0.0090932575759202\t\n"
      ]
     },
     "execution_count": 21,
     "metadata": {},
     "output_type": "execute_result"
    },
    {
     "data": {
      "text/plain": [
       "iteration165\t# current error = 0.0090200646674066\t\n"
      ]
     },
     "execution_count": 21,
     "metadata": {},
     "output_type": "execute_result"
    },
    {
     "data": {
      "text/plain": [
       "iteration166\t# current error = 0.008896625664876\t\n"
      ]
     },
     "execution_count": 21,
     "metadata": {},
     "output_type": "execute_result"
    },
    {
     "data": {
      "text/plain": [
       "iteration167\t# current error = 0.0088206057074237\t\n"
      ]
     },
     "execution_count": 21,
     "metadata": {},
     "output_type": "execute_result"
    },
    {
     "data": {
      "text/plain": [
       "iteration168\t# current error = 0.0087419573525479\t\n"
      ]
     },
     "execution_count": 21,
     "metadata": {},
     "output_type": "execute_result"
    },
    {
     "data": {
      "text/plain": [
       "iteration169\t# current error = 0.0086254270607841\t\n"
      ]
     },
     "execution_count": 21,
     "metadata": {},
     "output_type": "execute_result"
    },
    {
     "data": {
      "text/plain": [
       "iteration170\t# current error = 0.0085629413654621\t\n"
      ]
     },
     "execution_count": 21,
     "metadata": {},
     "output_type": "execute_result"
    },
    {
     "data": {
      "text/plain": [
       "iteration171\t# current error = 0.0084798936614655\t\n"
      ]
     },
     "execution_count": 21,
     "metadata": {},
     "output_type": "execute_result"
    },
    {
     "data": {
      "text/plain": [
       "iteration172\t# current error = 0.008388865633064\t\n"
      ]
     },
     "execution_count": 21,
     "metadata": {},
     "output_type": "execute_result"
    },
    {
     "data": {
      "text/plain": [
       "iteration173\t# current error = 0.0083044314537958\t\n"
      ]
     },
     "execution_count": 21,
     "metadata": {},
     "output_type": "execute_result"
    },
    {
     "data": {
      "text/plain": [
       "iteration174\t# current error = 0.0082059055945393\t\n"
      ]
     },
     "execution_count": 21,
     "metadata": {},
     "output_type": "execute_result"
    },
    {
     "data": {
      "text/plain": [
       "iteration175\t# current error = 0.0081350819246645\t\n"
      ]
     },
     "execution_count": 21,
     "metadata": {},
     "output_type": "execute_result"
    },
    {
     "data": {
      "text/plain": [
       "iteration176\t# current error = 0.0080674366084053\t\n"
      ]
     },
     "execution_count": 21,
     "metadata": {},
     "output_type": "execute_result"
    },
    {
     "data": {
      "text/plain": [
       "iteration177\t# current error = 0.0079792005243321\t\n"
      ]
     },
     "execution_count": 21,
     "metadata": {},
     "output_type": "execute_result"
    },
    {
     "data": {
      "text/plain": [
       "iteration178\t# current error = 0.0079202904114137\t\n"
      ]
     },
     "execution_count": 21,
     "metadata": {},
     "output_type": "execute_result"
    },
    {
     "data": {
      "text/plain": [
       "iteration179\t# current error = 0.0078283150176922\t\n"
      ]
     },
     "execution_count": 21,
     "metadata": {},
     "output_type": "execute_result"
    },
    {
     "data": {
      "text/plain": [
       "iteration180\t# current error = 0.0077735798571054\t\n"
      ]
     },
     "execution_count": 21,
     "metadata": {},
     "output_type": "execute_result"
    },
    {
     "data": {
      "text/plain": [
       "iteration181\t# current error = 0.0077003383776227\t\n"
      ]
     },
     "execution_count": 21,
     "metadata": {},
     "output_type": "execute_result"
    },
    {
     "data": {
      "text/plain": [
       "iteration182\t# current error = 0.007619187620546\t\n"
      ]
     },
     "execution_count": 21,
     "metadata": {},
     "output_type": "execute_result"
    },
    {
     "data": {
      "text/plain": [
       "iteration183\t# current error = 0.0075348590395028\t\n"
      ]
     },
     "execution_count": 21,
     "metadata": {},
     "output_type": "execute_result"
    },
    {
     "data": {
      "text/plain": [
       "iteration184\t# current error = 0.0074968802528977\t\n"
      ]
     },
     "execution_count": 21,
     "metadata": {},
     "output_type": "execute_result"
    },
    {
     "data": {
      "text/plain": [
       "iteration185\t# current error = 0.0074102303532742\t\n"
      ]
     },
     "execution_count": 21,
     "metadata": {},
     "output_type": "execute_result"
    },
    {
     "data": {
      "text/plain": [
       "iteration186\t# current error = 0.0073523047254555\t\n"
      ]
     },
     "execution_count": 21,
     "metadata": {},
     "output_type": "execute_result"
    },
    {
     "data": {
      "text/plain": [
       "iteration187\t# current error = 0.0072736493565079\t\n"
      ]
     },
     "execution_count": 21,
     "metadata": {},
     "output_type": "execute_result"
    },
    {
     "data": {
      "text/plain": [
       "iteration188\t# current error = 0.0072331856820378\t\n"
      ]
     },
     "execution_count": 21,
     "metadata": {},
     "output_type": "execute_result"
    },
    {
     "data": {
      "text/plain": [
       "iteration189\t# current error = 0.0071527983824431\t\n"
      ]
     },
     "execution_count": 21,
     "metadata": {},
     "output_type": "execute_result"
    },
    {
     "data": {
      "text/plain": [
       "iteration190\t# current error = 0.0070873766933109\t\n"
      ]
     },
     "execution_count": 21,
     "metadata": {},
     "output_type": "execute_result"
    },
    {
     "data": {
      "text/plain": [
       "iteration191\t# current error = 0.0070449786417887\t\n"
      ]
     },
     "execution_count": 21,
     "metadata": {},
     "output_type": "execute_result"
    },
    {
     "data": {
      "text/plain": [
       "iteration192\t# current error = 0.0069727959151451\t\n"
      ]
     },
     "execution_count": 21,
     "metadata": {},
     "output_type": "execute_result"
    },
    {
     "data": {
      "text/plain": [
       "iteration193\t# current error = 0.0069193044949484\t\n"
      ]
     },
     "execution_count": 21,
     "metadata": {},
     "output_type": "execute_result"
    },
    {
     "data": {
      "text/plain": [
       "iteration194\t# current error = 0.0068525613954473\t\n"
      ]
     },
     "execution_count": 21,
     "metadata": {},
     "output_type": "execute_result"
    },
    {
     "data": {
      "text/plain": [
       "iteration195\t# current error = 0.0068159571430856\t\n"
      ]
     },
     "execution_count": 21,
     "metadata": {},
     "output_type": "execute_result"
    },
    {
     "data": {
      "text/plain": [
       "iteration196\t# current error = 0.0067418828976566\t\n"
      ]
     },
     "execution_count": 21,
     "metadata": {},
     "output_type": "execute_result"
    },
    {
     "data": {
      "text/plain": [
       "iteration197\t# current error = 0.0066945101634749\t\n"
      ]
     },
     "execution_count": 21,
     "metadata": {},
     "output_type": "execute_result"
    },
    {
     "data": {
      "text/plain": [
       "iteration198\t# current error = 0.0066329653848229\t\n"
      ]
     },
     "execution_count": 21,
     "metadata": {},
     "output_type": "execute_result"
    },
    {
     "data": {
      "text/plain": [
       "iteration199\t# current error = 0.00657974629567\t\n"
      ]
     },
     "execution_count": 21,
     "metadata": {},
     "output_type": "execute_result"
    },
    {
     "data": {
      "text/plain": [
       "iteration200\t# current error = 0.0065259239394299\t\n"
      ]
     },
     "execution_count": 21,
     "metadata": {},
     "output_type": "execute_result"
    },
    {
     "data": {
      "text/plain": [
       "iteration201\t# current error = 0.0064722056958527\t\n"
      ]
     },
     "execution_count": 21,
     "metadata": {},
     "output_type": "execute_result"
    },
    {
     "data": {
      "text/plain": [
       "iteration202\t# current error = 0.0064273269194416\t\n"
      ]
     },
     "execution_count": 21,
     "metadata": {},
     "output_type": "execute_result"
    },
    {
     "data": {
      "text/plain": [
       "iteration203\t# current error = 0.0063732400547799\t\n"
      ]
     },
     "execution_count": 21,
     "metadata": {},
     "output_type": "execute_result"
    },
    {
     "data": {
      "text/plain": [
       "iteration204\t# current error = 0.0063151435191792\t\n"
      ]
     },
     "execution_count": 21,
     "metadata": {},
     "output_type": "execute_result"
    },
    {
     "data": {
      "text/plain": [
       "iteration205\t# current error = 0.0062794226814479\t\n"
      ]
     },
     "execution_count": 21,
     "metadata": {},
     "output_type": "execute_result"
    },
    {
     "data": {
      "text/plain": [
       "iteration206\t# current error = 0.0062248305356859\t\n"
      ]
     },
     "execution_count": 21,
     "metadata": {},
     "output_type": "execute_result"
    },
    {
     "data": {
      "text/plain": [
       "iteration207\t# current error = 0.0061689682102596\t\n"
      ]
     },
     "execution_count": 21,
     "metadata": {},
     "output_type": "execute_result"
    },
    {
     "data": {
      "text/plain": [
       "iteration208\t# current error = 0.0061306260438577\t\n"
      ]
     },
     "execution_count": 21,
     "metadata": {},
     "output_type": "execute_result"
    },
    {
     "data": {
      "text/plain": [
       "iteration209\t# current error = 0.0060727187324565\t\n"
      ]
     },
     "execution_count": 21,
     "metadata": {},
     "output_type": "execute_result"
    },
    {
     "data": {
      "text/plain": [
       "iteration210\t# current error = 0.0060393736090022\t\n"
      ]
     },
     "execution_count": 21,
     "metadata": {},
     "output_type": "execute_result"
    },
    {
     "data": {
      "text/plain": [
       "iteration211\t# current error = 0.0059909310957969\t\n"
      ]
     },
     "execution_count": 21,
     "metadata": {},
     "output_type": "execute_result"
    },
    {
     "data": {
      "text/plain": [
       "iteration212\t# current error = 0.0059426274382536\t\n"
      ]
     },
     "execution_count": 21,
     "metadata": {},
     "output_type": "execute_result"
    },
    {
     "data": {
      "text/plain": [
       "iteration213\t# current error = 0.0058998718387516\t\n"
      ]
     },
     "execution_count": 21,
     "metadata": {},
     "output_type": "execute_result"
    },
    {
     "data": {
      "text/plain": [
       "iteration214\t# current error = 0.0058551808375579\t\n"
      ]
     },
     "execution_count": 21,
     "metadata": {},
     "output_type": "execute_result"
    },
    {
     "data": {
      "text/plain": [
       "iteration215\t# current error = 0.0058126884274337\t\n"
      ]
     },
     "execution_count": 21,
     "metadata": {},
     "output_type": "execute_result"
    },
    {
     "data": {
      "text/plain": [
       "iteration216\t# current error = 0.0057634882044897\t\n"
      ]
     },
     "execution_count": 21,
     "metadata": {},
     "output_type": "execute_result"
    },
    {
     "data": {
      "text/plain": [
       "iteration217\t# current error = 0.0057306379260045\t\n"
      ]
     },
     "execution_count": 21,
     "metadata": {},
     "output_type": "execute_result"
    },
    {
     "data": {
      "text/plain": [
       "iteration218\t# current error = 0.0056874979835617\t\n"
      ]
     },
     "execution_count": 21,
     "metadata": {},
     "output_type": "execute_result"
    },
    {
     "data": {
      "text/plain": [
       "iteration219\t# current error = 0.0056420439471807\t\n"
      ]
     },
     "execution_count": 21,
     "metadata": {},
     "output_type": "execute_result"
    },
    {
     "data": {
      "text/plain": [
       "iteration220\t# current error = 0.005602820698493\t\n"
      ]
     },
     "execution_count": 21,
     "metadata": {},
     "output_type": "execute_result"
    },
    {
     "data": {
      "text/plain": [
       "iteration221\t# current error = 0.0055678189777417\t\n"
      ]
     },
     "execution_count": 21,
     "metadata": {},
     "output_type": "execute_result"
    },
    {
     "data": {
      "text/plain": [
       "iteration222\t# current error = 0.0055231009854509\t\n"
      ]
     },
     "execution_count": 21,
     "metadata": {},
     "output_type": "execute_result"
    },
    {
     "data": {
      "text/plain": [
       "iteration223\t# current error = 0.0054840424508938\t\n"
      ]
     },
     "execution_count": 21,
     "metadata": {},
     "output_type": "execute_result"
    },
    {
     "data": {
      "text/plain": [
       "iteration224\t# current error = 0.0054433367092579\t\n"
      ]
     },
     "execution_count": 21,
     "metadata": {},
     "output_type": "execute_result"
    },
    {
     "data": {
      "text/plain": [
       "iteration225\t# current error = 0.0054069205460564\t\n"
      ]
     },
     "execution_count": 21,
     "metadata": {},
     "output_type": "execute_result"
    },
    {
     "data": {
      "text/plain": [
       "iteration226\t# current error = 0.0053708499721015\t\n"
      ]
     },
     "execution_count": 21,
     "metadata": {},
     "output_type": "execute_result"
    },
    {
     "data": {
      "text/plain": [
       "iteration227\t# current error = 0.0053356136410648\t\n"
      ]
     },
     "execution_count": 21,
     "metadata": {},
     "output_type": "execute_result"
    },
    {
     "data": {
      "text/plain": [
       "iteration228\t# current error = 0.005296016939494\t\n"
      ]
     },
     "execution_count": 21,
     "metadata": {},
     "output_type": "execute_result"
    },
    {
     "data": {
      "text/plain": [
       "iteration229\t# current error = 0.0052644330488053\t\n"
      ]
     },
     "execution_count": 21,
     "metadata": {},
     "output_type": "execute_result"
    },
    {
     "data": {
      "text/plain": [
       "iteration230\t# current error = 0.0052213459425093\t\n"
      ]
     },
     "execution_count": 21,
     "metadata": {},
     "output_type": "execute_result"
    },
    {
     "data": {
      "text/plain": [
       "iteration231\t# current error = 0.0051878179983433\t\n"
      ]
     },
     "execution_count": 21,
     "metadata": {},
     "output_type": "execute_result"
    },
    {
     "data": {
      "text/plain": [
       "iteration232\t# current error = 0.0051594076733169\t\n"
      ]
     },
     "execution_count": 21,
     "metadata": {},
     "output_type": "execute_result"
    },
    {
     "data": {
      "text/plain": [
       "iteration233\t# current error = 0.0051205749648901\t\n"
      ]
     },
     "execution_count": 21,
     "metadata": {},
     "output_type": "execute_result"
    },
    {
     "data": {
      "text/plain": [
       "iteration234\t# current error = 0.0050797650495339\t\n"
      ]
     },
     "execution_count": 21,
     "metadata": {},
     "output_type": "execute_result"
    },
    {
     "data": {
      "text/plain": [
       "iteration235\t# current error = 0.005053551974947\t\n"
      ]
     },
     "execution_count": 21,
     "metadata": {},
     "output_type": "execute_result"
    },
    {
     "data": {
      "text/plain": [
       "iteration236\t# current error = 0.0050149390543462\t\n"
      ]
     },
     "execution_count": 21,
     "metadata": {},
     "output_type": "execute_result"
    },
    {
     "data": {
      "text/plain": [
       "iteration237\t# current error = 0.0049853851638129\t\n"
      ]
     },
     "execution_count": 21,
     "metadata": {},
     "output_type": "execute_result"
    },
    {
     "data": {
      "text/plain": [
       "iteration238\t# current error = 0.0049540197997743\t\n"
      ]
     },
     "execution_count": 21,
     "metadata": {},
     "output_type": "execute_result"
    },
    {
     "data": {
      "text/plain": [
       "iteration239\t# current error = 0.0049181946103384\t\n"
      ]
     },
     "execution_count": 21,
     "metadata": {},
     "output_type": "execute_result"
    },
    {
     "data": {
      "text/plain": [
       "iteration240\t# current error = 0.0048919341840281\t\n"
      ]
     },
     "execution_count": 21,
     "metadata": {},
     "output_type": "execute_result"
    },
    {
     "data": {
      "text/plain": [
       "iteration241\t# current error = 0.0048609825824926\t\n"
      ]
     },
     "execution_count": 21,
     "metadata": {},
     "output_type": "execute_result"
    },
    {
     "data": {
      "text/plain": [
       "iteration242\t# current error = 0.0048266560620285\t\n"
      ]
     },
     "execution_count": 21,
     "metadata": {},
     "output_type": "execute_result"
    },
    {
     "data": {
      "text/plain": [
       "iteration243\t"
      ]
     },
     "execution_count": 21,
     "metadata": {},
     "output_type": "execute_result"
    },
    {
     "data": {
      "text/plain": [
       "# current error = 0.0047959979831586\t\n"
      ]
     },
     "execution_count": 21,
     "metadata": {},
     "output_type": "execute_result"
    },
    {
     "data": {
      "text/plain": [
       "iteration244\t# current error = 0.0047622955504968\t\n"
      ]
     },
     "execution_count": 21,
     "metadata": {},
     "output_type": "execute_result"
    },
    {
     "data": {
      "text/plain": [
       "iteration245\t# current error = 0.0047320092343357\t\n"
      ]
     },
     "execution_count": 21,
     "metadata": {},
     "output_type": "execute_result"
    },
    {
     "data": {
      "text/plain": [
       "iteration246\t# current error = 0.0047062069781973\t\n"
      ]
     },
     "execution_count": 21,
     "metadata": {},
     "output_type": "execute_result"
    },
    {
     "data": {
      "text/plain": [
       "iteration247\t# current error = 0.0046747790198449\t\n"
      ]
     },
     "execution_count": 21,
     "metadata": {},
     "output_type": "execute_result"
    },
    {
     "data": {
      "text/plain": [
       "iteration248\t# current error = 0.0046473686526384\t\n"
      ]
     },
     "execution_count": 21,
     "metadata": {},
     "output_type": "execute_result"
    },
    {
     "data": {
      "text/plain": [
       "iteration249\t# current error = 0.0046187056040773\t\n"
      ]
     },
     "execution_count": 21,
     "metadata": {},
     "output_type": "execute_result"
    },
    {
     "data": {
      "text/plain": [
       "iteration250\t# current error = 0.0045849356719773\t\n"
      ]
     },
     "execution_count": 21,
     "metadata": {},
     "output_type": "execute_result"
    },
    {
     "data": {
      "text/plain": [
       "iteration251\t# current error = 0.0045637924917676\t\n"
      ]
     },
     "execution_count": 21,
     "metadata": {},
     "output_type": "execute_result"
    },
    {
     "data": {
      "text/plain": [
       "iteration252\t# current error = 0.0045348180385502\t\n"
      ]
     },
     "execution_count": 21,
     "metadata": {},
     "output_type": "execute_result"
    },
    {
     "data": {
      "text/plain": [
       "iteration253\t# current error = 0.0045051789830967\t\n"
      ]
     },
     "execution_count": 21,
     "metadata": {},
     "output_type": "execute_result"
    },
    {
     "data": {
      "text/plain": [
       "iteration254\t# current error = 0.0044773495222647\t\n"
      ]
     },
     "execution_count": 21,
     "metadata": {},
     "output_type": "execute_result"
    },
    {
     "data": {
      "text/plain": [
       "iteration255\t# current error = 0.0044512392077852\t\n"
      ]
     },
     "execution_count": 21,
     "metadata": {},
     "output_type": "execute_result"
    },
    {
     "data": {
      "text/plain": [
       "iteration256\t# current error = 0.00442382195504\t\n"
      ]
     },
     "execution_count": 21,
     "metadata": {},
     "output_type": "execute_result"
    },
    {
     "data": {
      "text/plain": [
       "iteration257\t# current error = 0.004399284059984\t\n"
      ]
     },
     "execution_count": 21,
     "metadata": {},
     "output_type": "execute_result"
    },
    {
     "data": {
      "text/plain": [
       "iteration258\t# current error = 0.0043744028783384\t\n"
      ]
     },
     "execution_count": 21,
     "metadata": {},
     "output_type": "execute_result"
    },
    {
     "data": {
      "text/plain": [
       "iteration259\t# current error = 0.0043490522654347\t\n"
      ]
     },
     "execution_count": 21,
     "metadata": {},
     "output_type": "execute_result"
    },
    {
     "data": {
      "text/plain": [
       "iteration260\t# current error = 0.0043254235097992\t\n"
      ]
     },
     "execution_count": 21,
     "metadata": {},
     "output_type": "execute_result"
    },
    {
     "data": {
      "text/plain": [
       "iteration261\t# current error = 0.0042967333636688\t\n"
      ]
     },
     "execution_count": 21,
     "metadata": {},
     "output_type": "execute_result"
    },
    {
     "data": {
      "text/plain": [
       "iteration262\t# current error = 0.0042697315957283\t\n"
      ]
     },
     "execution_count": 21,
     "metadata": {},
     "output_type": "execute_result"
    },
    {
     "data": {
      "text/plain": [
       "iteration263\t# current error = 0.0042450569685579\t\n"
      ]
     },
     "execution_count": 21,
     "metadata": {},
     "output_type": "execute_result"
    },
    {
     "data": {
      "text/plain": [
       "iteration264\t# current error = 0.004223317334395\t\n"
      ]
     },
     "execution_count": 21,
     "metadata": {},
     "output_type": "execute_result"
    },
    {
     "data": {
      "text/plain": [
       "iteration265\t# current error = 0.0041970302894685\t\n"
      ]
     },
     "execution_count": 21,
     "metadata": {},
     "output_type": "execute_result"
    },
    {
     "data": {
      "text/plain": [
       "iteration266\t# current error = 0.0041731695979351\t\n"
      ]
     },
     "execution_count": 21,
     "metadata": {},
     "output_type": "execute_result"
    },
    {
     "data": {
      "text/plain": [
       "iteration267\t# current error = 0.0041533819039932\t\n"
      ]
     },
     "execution_count": 21,
     "metadata": {},
     "output_type": "execute_result"
    },
    {
     "data": {
      "text/plain": [
       "iteration268\t# current error = 0.0041291995311318\t\n"
      ]
     },
     "execution_count": 21,
     "metadata": {},
     "output_type": "execute_result"
    },
    {
     "data": {
      "text/plain": [
       "iteration269\t# current error = 0.0041021237232157\t\n"
      ]
     },
     "execution_count": 21,
     "metadata": {},
     "output_type": "execute_result"
    },
    {
     "data": {
      "text/plain": [
       "iteration270\t# current error = 0.0040790163963683\t\n"
      ]
     },
     "execution_count": 21,
     "metadata": {},
     "output_type": "execute_result"
    },
    {
     "data": {
      "text/plain": [
       "iteration271\t# current error = 0.0040562896922112\t\n"
      ]
     },
     "execution_count": 21,
     "metadata": {},
     "output_type": "execute_result"
    },
    {
     "data": {
      "text/plain": [
       "iteration272\t# current error = 0.0040376228525283\t\n"
      ]
     },
     "execution_count": 21,
     "metadata": {},
     "output_type": "execute_result"
    },
    {
     "data": {
      "text/plain": [
       "iteration273\t# current error = 0.00401893082208\t\n"
      ]
     },
     "execution_count": 21,
     "metadata": {},
     "output_type": "execute_result"
    },
    {
     "data": {
      "text/plain": [
       "iteration274\t# current error = 0.0039882138837085\t\n"
      ]
     },
     "execution_count": 21,
     "metadata": {},
     "output_type": "execute_result"
    },
    {
     "data": {
      "text/plain": [
       "iteration275\t# current error = 0.003971646179709\t\n"
      ]
     },
     "execution_count": 21,
     "metadata": {},
     "output_type": "execute_result"
    },
    {
     "data": {
      "text/plain": [
       "iteration276\t# current error = 0.0039492093073593\t\n"
      ]
     },
     "execution_count": 21,
     "metadata": {},
     "output_type": "execute_result"
    },
    {
     "data": {
      "text/plain": [
       "iteration277\t# current error = 0.0039265647795485\t\n"
      ]
     },
     "execution_count": 21,
     "metadata": {},
     "output_type": "execute_result"
    },
    {
     "data": {
      "text/plain": [
       "iteration278\t# current error = 0.0039064496823769\t\n"
      ]
     },
     "execution_count": 21,
     "metadata": {},
     "output_type": "execute_result"
    },
    {
     "data": {
      "text/plain": [
       "iteration279\t# current error = 0.0038842193516107\t\n"
      ]
     },
     "execution_count": 21,
     "metadata": {},
     "output_type": "execute_result"
    },
    {
     "data": {
      "text/plain": [
       "iteration280\t# current error = 0.0038663725339784\t\n"
      ]
     },
     "execution_count": 21,
     "metadata": {},
     "output_type": "execute_result"
    },
    {
     "data": {
      "text/plain": [
       "iteration281\t# current error = 0.0038404313092843\t\n"
      ]
     },
     "execution_count": 21,
     "metadata": {},
     "output_type": "execute_result"
    },
    {
     "data": {
      "text/plain": [
       "iteration282\t# current error = 0.0038267704128074\t\n"
      ]
     },
     "execution_count": 21,
     "metadata": {},
     "output_type": "execute_result"
    },
    {
     "data": {
      "text/plain": [
       "iteration283\t# current error = 0.0038060597498043\t\n"
      ]
     },
     "execution_count": 21,
     "metadata": {},
     "output_type": "execute_result"
    },
    {
     "data": {
      "text/plain": [
       "iteration284\t# current error = 0.0037799707660171\t\n"
      ]
     },
     "execution_count": 21,
     "metadata": {},
     "output_type": "execute_result"
    },
    {
     "data": {
      "text/plain": [
       "iteration285\t# current error = 0.0037647554038561\t\n"
      ]
     },
     "execution_count": 21,
     "metadata": {},
     "output_type": "execute_result"
    },
    {
     "data": {
      "text/plain": [
       "iteration286\t# current error = 0.0037461725891238\t\n"
      ]
     },
     "execution_count": 21,
     "metadata": {},
     "output_type": "execute_result"
    },
    {
     "data": {
      "text/plain": [
       "iteration287\t"
      ]
     },
     "execution_count": 21,
     "metadata": {},
     "output_type": "execute_result"
    },
    {
     "data": {
      "text/plain": [
       "# current error = 0.0037217165237291\t\n"
      ]
     },
     "execution_count": 21,
     "metadata": {},
     "output_type": "execute_result"
    },
    {
     "data": {
      "text/plain": [
       "iteration288\t# current error = 0.0037039942686773\t\n"
      ]
     },
     "execution_count": 21,
     "metadata": {},
     "output_type": "execute_result"
    },
    {
     "data": {
      "text/plain": [
       "iteration289\t# current error = 0.0036860719178777\t\n"
      ]
     },
     "execution_count": 21,
     "metadata": {},
     "output_type": "execute_result"
    },
    {
     "data": {
      "text/plain": [
       "iteration290\t# current error = 0.0036673744624937\t\n"
      ]
     },
     "execution_count": 21,
     "metadata": {},
     "output_type": "execute_result"
    },
    {
     "data": {
      "text/plain": [
       "iteration291\t# current error = 0.0036496291952336\t\n"
      ]
     },
     "execution_count": 21,
     "metadata": {},
     "output_type": "execute_result"
    },
    {
     "data": {
      "text/plain": [
       "iteration292\t# current error = 0.0036297886033884\t\n"
      ]
     },
     "execution_count": 21,
     "metadata": {},
     "output_type": "execute_result"
    },
    {
     "data": {
      "text/plain": [
       "iteration293\t# current error = 0.0036114284448617\t\n"
      ]
     },
     "execution_count": 21,
     "metadata": {},
     "output_type": "execute_result"
    },
    {
     "data": {
      "text/plain": [
       "iteration294\t# current error = 0.0035937867760172\t\n"
      ]
     },
     "execution_count": 21,
     "metadata": {},
     "output_type": "execute_result"
    },
    {
     "data": {
      "text/plain": [
       "iteration295\t# current error = 0.0035699778723628\t\n"
      ]
     },
     "execution_count": 21,
     "metadata": {},
     "output_type": "execute_result"
    },
    {
     "data": {
      "text/plain": [
       "iteration296\t# current error = 0.0035600177904854\t\n"
      ]
     },
     "execution_count": 21,
     "metadata": {},
     "output_type": "execute_result"
    },
    {
     "data": {
      "text/plain": [
       "iteration297\t# current error = 0.0035383535681184\t\n"
      ]
     },
     "execution_count": 21,
     "metadata": {},
     "output_type": "execute_result"
    },
    {
     "data": {
      "text/plain": [
       "iteration298\t# current error = 0.0035222120733546\t\n"
      ]
     },
     "execution_count": 21,
     "metadata": {},
     "output_type": "execute_result"
    },
    {
     "data": {
      "text/plain": [
       "iteration299\t# current error = 0.003505329913101\t\n"
      ]
     },
     "execution_count": 21,
     "metadata": {},
     "output_type": "execute_result"
    },
    {
     "data": {
      "text/plain": [
       "iteration300\t# current error = 0.0034880684257499\t\n"
      ]
     },
     "execution_count": 21,
     "metadata": {},
     "output_type": "execute_result"
    },
    {
     "data": {
      "text/plain": [
       "iteration301\t# current error = 0.0034693317599735\t\n"
      ]
     },
     "execution_count": 21,
     "metadata": {},
     "output_type": "execute_result"
    },
    {
     "data": {
      "text/plain": [
       "iteration302\t# current error = 0.0034523011100557\t\n"
      ]
     },
     "execution_count": 21,
     "metadata": {},
     "output_type": "execute_result"
    },
    {
     "data": {
      "text/plain": [
       "iteration303\t# current error = 0.0034354855775596\t\n"
      ]
     },
     "execution_count": 21,
     "metadata": {},
     "output_type": "execute_result"
    },
    {
     "data": {
      "text/plain": [
       "iteration304\t# current error = 0.0034194878351106\t\n"
      ]
     },
     "execution_count": 21,
     "metadata": {},
     "output_type": "execute_result"
    },
    {
     "data": {
      "text/plain": [
       "iteration305\t# current error = 0.003401018603353\t\n"
      ]
     },
     "execution_count": 21,
     "metadata": {},
     "output_type": "execute_result"
    },
    {
     "data": {
      "text/plain": [
       "iteration306\t# current error = 0.0033870179169804\t\n"
      ]
     },
     "execution_count": 21,
     "metadata": {},
     "output_type": "execute_result"
    },
    {
     "data": {
      "text/plain": [
       "iteration307\t# current error = 0.0033679563707487\t\n"
      ]
     },
     "execution_count": 21,
     "metadata": {},
     "output_type": "execute_result"
    },
    {
     "data": {
      "text/plain": [
       "iteration308\t# current error = 0.0033546693757888\t\n"
      ]
     },
     "execution_count": 21,
     "metadata": {},
     "output_type": "execute_result"
    },
    {
     "data": {
      "text/plain": [
       "iteration309\t# current error = 0.0033389409993102\t\n"
      ]
     },
     "execution_count": 21,
     "metadata": {},
     "output_type": "execute_result"
    },
    {
     "data": {
      "text/plain": [
       "iteration310\t# current error = 0.0033207473532102\t\n"
      ]
     },
     "execution_count": 21,
     "metadata": {},
     "output_type": "execute_result"
    },
    {
     "data": {
      "text/plain": [
       "iteration311\t# current error = 0.0033055732233708\t\n"
      ]
     },
     "execution_count": 21,
     "metadata": {},
     "output_type": "execute_result"
    },
    {
     "data": {
      "text/plain": [
       "iteration312\t# current error = 0.0032893879499896\t\n"
      ]
     },
     "execution_count": 21,
     "metadata": {},
     "output_type": "execute_result"
    },
    {
     "data": {
      "text/plain": [
       "iteration313\t# current error = 0.0032752936450296\t\n"
      ]
     },
     "execution_count": 21,
     "metadata": {},
     "output_type": "execute_result"
    },
    {
     "data": {
      "text/plain": [
       "iteration314\t# current error = 0.0032616901027891\t\n"
      ]
     },
     "execution_count": 21,
     "metadata": {},
     "output_type": "execute_result"
    },
    {
     "data": {
      "text/plain": [
       "iteration315\t# current error = 0.0032439981627864\t\n"
      ]
     },
     "execution_count": 21,
     "metadata": {},
     "output_type": "execute_result"
    },
    {
     "data": {
      "text/plain": [
       "iteration316\t# current error = 0.0032277799843248\t\n"
      ]
     },
     "execution_count": 21,
     "metadata": {},
     "output_type": "execute_result"
    },
    {
     "data": {
      "text/plain": [
       "iteration317\t# current error = 0.0032157183585011\t\n"
      ]
     },
     "execution_count": 21,
     "metadata": {},
     "output_type": "execute_result"
    },
    {
     "data": {
      "text/plain": [
       "iteration318\t# current error = 0.003200412095114\t\n"
      ]
     },
     "execution_count": 21,
     "metadata": {},
     "output_type": "execute_result"
    },
    {
     "data": {
      "text/plain": [
       "iteration319\t# current error = 0.0031845115814256\t\n"
      ]
     },
     "execution_count": 21,
     "metadata": {},
     "output_type": "execute_result"
    },
    {
     "data": {
      "text/plain": [
       "iteration320\t# current error = 0.0031714609601375\t\n"
      ]
     },
     "execution_count": 21,
     "metadata": {},
     "output_type": "execute_result"
    },
    {
     "data": {
      "text/plain": [
       "iteration321\t# current error = 0.0031548966245343\t\n"
      ]
     },
     "execution_count": 21,
     "metadata": {},
     "output_type": "execute_result"
    },
    {
     "data": {
      "text/plain": [
       "iteration322\t"
      ]
     },
     "execution_count": 21,
     "metadata": {},
     "output_type": "execute_result"
    },
    {
     "data": {
      "text/plain": [
       "# current error = 0.0031431281416448\t\n"
      ]
     },
     "execution_count": 21,
     "metadata": {},
     "output_type": "execute_result"
    },
    {
     "data": {
      "text/plain": [
       "iteration323\t# current error = 0.0031280214465806\t\n"
      ]
     },
     "execution_count": 21,
     "metadata": {},
     "output_type": "execute_result"
    },
    {
     "data": {
      "text/plain": [
       "iteration324\t# current error = 0.0031127096598184\t\n"
      ]
     },
     "execution_count": 21,
     "metadata": {},
     "output_type": "execute_result"
    },
    {
     "data": {
      "text/plain": [
       "iteration325\t# current error = 0.0030999408389637\t\n"
      ]
     },
     "execution_count": 21,
     "metadata": {},
     "output_type": "execute_result"
    },
    {
     "data": {
      "text/plain": [
       "iteration326\t# current error = 0.0030851605926231\t\n"
      ]
     },
     "execution_count": 21,
     "metadata": {},
     "output_type": "execute_result"
    },
    {
     "data": {
      "text/plain": [
       "iteration327\t# current error = 0.0030725624930135\t\n"
      ]
     },
     "execution_count": 21,
     "metadata": {},
     "output_type": "execute_result"
    },
    {
     "data": {
      "text/plain": [
       "iteration328\t# current error = 0.0030569381784137\t\n"
      ]
     },
     "execution_count": 21,
     "metadata": {},
     "output_type": "execute_result"
    },
    {
     "data": {
      "text/plain": [
       "iteration329\t# current error = 0.0030461335590241\t\n"
      ]
     },
     "execution_count": 21,
     "metadata": {},
     "output_type": "execute_result"
    },
    {
     "data": {
      "text/plain": [
       "iteration330\t# current error = 0.0030320879531571\t\n"
      ]
     },
     "execution_count": 21,
     "metadata": {},
     "output_type": "execute_result"
    },
    {
     "data": {
      "text/plain": [
       "iteration331\t# current error = 0.0030163061159272\t\n"
      ]
     },
     "execution_count": 21,
     "metadata": {},
     "output_type": "execute_result"
    },
    {
     "data": {
      "text/plain": [
       "iteration332\t# current error = 0.0030071839777033\t\n"
      ]
     },
     "execution_count": 21,
     "metadata": {},
     "output_type": "execute_result"
    },
    {
     "data": {
      "text/plain": [
       "iteration333\t# current error = 0.0029913429645072\t\n"
      ]
     },
     "execution_count": 21,
     "metadata": {},
     "output_type": "execute_result"
    },
    {
     "data": {
      "text/plain": [
       "iteration334\t# current error = 0.0029756687293626\t\n"
      ]
     },
     "execution_count": 21,
     "metadata": {},
     "output_type": "execute_result"
    },
    {
     "data": {
      "text/plain": [
       "iteration335\t# current error = 0.0029647854632497\t\n"
      ]
     },
     "execution_count": 21,
     "metadata": {},
     "output_type": "execute_result"
    },
    {
     "data": {
      "text/plain": [
       "iteration336\t# current error = 0.0029529231292661\t\n"
      ]
     },
     "execution_count": 21,
     "metadata": {},
     "output_type": "execute_result"
    },
    {
     "data": {
      "text/plain": [
       "iteration337\t# current error = 0.0029394852993138\t\n"
      ]
     },
     "execution_count": 21,
     "metadata": {},
     "output_type": "execute_result"
    },
    {
     "data": {
      "text/plain": [
       "iteration338\t# current error = 0.0029293240843831\t\n"
      ]
     },
     "execution_count": 21,
     "metadata": {},
     "output_type": "execute_result"
    },
    {
     "data": {
      "text/plain": [
       "iteration339\t# current error = 0.0029135151390905\t\n"
      ]
     },
     "execution_count": 21,
     "metadata": {},
     "output_type": "execute_result"
    },
    {
     "data": {
      "text/plain": [
       "iteration340\t# current error = 0.0029028833625955\t\n"
      ]
     },
     "execution_count": 21,
     "metadata": {},
     "output_type": "execute_result"
    },
    {
     "data": {
      "text/plain": [
       "iteration341\t# current error = 0.0028879609130741\t\n"
      ]
     },
     "execution_count": 21,
     "metadata": {},
     "output_type": "execute_result"
    },
    {
     "data": {
      "text/plain": [
       "iteration342\t# current error = 0.0028783565069954\t\n"
      ]
     },
     "execution_count": 21,
     "metadata": {},
     "output_type": "execute_result"
    },
    {
     "data": {
      "text/plain": [
       "iteration343\t# current error = 0.002866116689661\t\n"
      ]
     },
     "execution_count": 21,
     "metadata": {},
     "output_type": "execute_result"
    },
    {
     "data": {
      "text/plain": [
       "iteration344\t# current error = 0.0028532062827089\t\n"
      ]
     },
     "execution_count": 21,
     "metadata": {},
     "output_type": "execute_result"
    },
    {
     "data": {
      "text/plain": [
       "iteration345\t# current error = 0.0028416269330423\t\n"
      ]
     },
     "execution_count": 21,
     "metadata": {},
     "output_type": "execute_result"
    },
    {
     "data": {
      "text/plain": [
       "iteration346\t# current error = 0.0028306371294916\t\n"
      ]
     },
     "execution_count": 21,
     "metadata": {},
     "output_type": "execute_result"
    },
    {
     "data": {
      "text/plain": [
       "iteration347\t# current error = 0.0028175367428818\t\n"
      ]
     },
     "execution_count": 21,
     "metadata": {},
     "output_type": "execute_result"
    },
    {
     "data": {
      "text/plain": [
       "iteration348\t# current error = 0.0028069240973967\t\n"
      ]
     },
     "execution_count": 21,
     "metadata": {},
     "output_type": "execute_result"
    },
    {
     "data": {
      "text/plain": [
       "iteration349\t# current error = 0.002793570071399\t\n"
      ]
     },
     "execution_count": 21,
     "metadata": {},
     "output_type": "execute_result"
    },
    {
     "data": {
      "text/plain": [
       "iteration350\t# current error = 0.0027843007419102\t\n"
      ]
     },
     "execution_count": 21,
     "metadata": {},
     "output_type": "execute_result"
    },
    {
     "data": {
      "text/plain": [
       "iteration351\t# current error = 0.0027713871766684\t\n"
      ]
     },
     "execution_count": 21,
     "metadata": {},
     "output_type": "execute_result"
    },
    {
     "data": {
      "text/plain": [
       "iteration352\t# current error = 0.0027594771393993\t\n"
      ]
     },
     "execution_count": 21,
     "metadata": {},
     "output_type": "execute_result"
    },
    {
     "data": {
      "text/plain": [
       "iteration353\t# current error = 0.0027503914076706\t\n"
      ]
     },
     "execution_count": 21,
     "metadata": {},
     "output_type": "execute_result"
    },
    {
     "data": {
      "text/plain": [
       "iteration354\t# current error = 0.0027373523470883\t\n"
      ]
     },
     "execution_count": 21,
     "metadata": {},
     "output_type": "execute_result"
    },
    {
     "data": {
      "text/plain": [
       "iteration355\t# current error = 0.0027253899067458\t\n"
      ]
     },
     "execution_count": 21,
     "metadata": {},
     "output_type": "execute_result"
    },
    {
     "data": {
      "text/plain": [
       "iteration356\t# current error = 0.0027167454533348\t\n"
      ]
     },
     "execution_count": 21,
     "metadata": {},
     "output_type": "execute_result"
    },
    {
     "data": {
      "text/plain": [
       "iteration357\t# current error = 0.0027042043164582\t\n"
      ]
     },
     "execution_count": 21,
     "metadata": {},
     "output_type": "execute_result"
    },
    {
     "data": {
      "text/plain": [
       "iteration358\t# current error = 0.0026936928636999\t\n"
      ]
     },
     "execution_count": 21,
     "metadata": {},
     "output_type": "execute_result"
    },
    {
     "data": {
      "text/plain": [
       "iteration359\t# current error = 0.0026836920574393\t\n"
      ]
     },
     "execution_count": 21,
     "metadata": {},
     "output_type": "execute_result"
    },
    {
     "data": {
      "text/plain": [
       "iteration360\t# current error = 0.002672761700012\t\n"
      ]
     },
     "execution_count": 21,
     "metadata": {},
     "output_type": "execute_result"
    },
    {
     "data": {
      "text/plain": [
       "iteration361\t# current error = 0.0026617410031992\t\n"
      ]
     },
     "execution_count": 21,
     "metadata": {},
     "output_type": "execute_result"
    },
    {
     "data": {
      "text/plain": [
       "iteration362\t# current error = 0.0026518418989087\t\n"
      ]
     },
     "execution_count": 21,
     "metadata": {},
     "output_type": "execute_result"
    },
    {
     "data": {
      "text/plain": [
       "iteration363\t# current error = 0.002639510910685\t\n"
      ]
     },
     "execution_count": 21,
     "metadata": {},
     "output_type": "execute_result"
    },
    {
     "data": {
      "text/plain": [
       "iteration364\t# current error = 0.0026300156357158\t\n"
      ]
     },
     "execution_count": 21,
     "metadata": {},
     "output_type": "execute_result"
    },
    {
     "data": {
      "text/plain": [
       "iteration365\t# current error = 0.0026209872242914\t\n"
      ]
     },
     "execution_count": 21,
     "metadata": {},
     "output_type": "execute_result"
    },
    {
     "data": {
      "text/plain": [
       "iteration366\t# current error = 0.0026108104195059\t\n"
      ]
     },
     "execution_count": 21,
     "metadata": {},
     "output_type": "execute_result"
    },
    {
     "data": {
      "text/plain": [
       "iteration367\t# current error = 0.0025988921560593\t\n"
      ]
     },
     "execution_count": 21,
     "metadata": {},
     "output_type": "execute_result"
    },
    {
     "data": {
      "text/plain": [
       "iteration368\t# current error = 0.0025885410937313\t\n"
      ]
     },
     "execution_count": 21,
     "metadata": {},
     "output_type": "execute_result"
    },
    {
     "data": {
      "text/plain": [
       "iteration369\t# current error = 0.0025788098250069\t\n"
      ]
     },
     "execution_count": 21,
     "metadata": {},
     "output_type": "execute_result"
    },
    {
     "data": {
      "text/plain": [
       "iteration370\t# current error = 0.0025699008506178\t\n"
      ]
     },
     "execution_count": 21,
     "metadata": {},
     "output_type": "execute_result"
    },
    {
     "data": {
      "text/plain": [
       "iteration371\t# current error = 0.0025612975303706\t\n"
      ]
     },
     "execution_count": 21,
     "metadata": {},
     "output_type": "execute_result"
    },
    {
     "data": {
      "text/plain": [
       "iteration372\t# current error = 0.002548795907881\t\n"
      ]
     },
     "execution_count": 21,
     "metadata": {},
     "output_type": "execute_result"
    },
    {
     "data": {
      "text/plain": [
       "iteration373\t# current error = 0.0025397958837572\t\n"
      ]
     },
     "execution_count": 21,
     "metadata": {},
     "output_type": "execute_result"
    },
    {
     "data": {
      "text/plain": [
       "iteration374\t# current error = 0.0025313559770847\t\n"
      ]
     },
     "execution_count": 21,
     "metadata": {},
     "output_type": "execute_result"
    },
    {
     "data": {
      "text/plain": [
       "iteration375\t# current error = 0.0025206076071438\t\n"
      ]
     },
     "execution_count": 21,
     "metadata": {},
     "output_type": "execute_result"
    },
    {
     "data": {
      "text/plain": [
       "iteration376\t# current error = 0.0025115988500575\t\n"
      ]
     },
     "execution_count": 21,
     "metadata": {},
     "output_type": "execute_result"
    },
    {
     "data": {
      "text/plain": [
       "iteration377\t# current error = 0.0025015821341029\t\n"
      ]
     },
     "execution_count": 21,
     "metadata": {},
     "output_type": "execute_result"
    },
    {
     "data": {
      "text/plain": [
       "iteration378\t# current error = 0.0024918440913025\t\n"
      ]
     },
     "execution_count": 21,
     "metadata": {},
     "output_type": "execute_result"
    },
    {
     "data": {
      "text/plain": [
       "iteration379\t# current error = 0.0024814174861007\t\n"
      ]
     },
     "execution_count": 21,
     "metadata": {},
     "output_type": "execute_result"
    },
    {
     "data": {
      "text/plain": [
       "iteration380\t# current error = 0.0024738463646831\t\n"
      ]
     },
     "execution_count": 21,
     "metadata": {},
     "output_type": "execute_result"
    },
    {
     "data": {
      "text/plain": [
       "iteration381\t# current error = 0.0024631560969124\t\n"
      ]
     },
     "execution_count": 21,
     "metadata": {},
     "output_type": "execute_result"
    },
    {
     "data": {
      "text/plain": [
       "iteration382\t# current error = 0.0024557562353579\t\n"
      ]
     },
     "execution_count": 21,
     "metadata": {},
     "output_type": "execute_result"
    },
    {
     "data": {
      "text/plain": [
       "iteration383\t# current error = 0.0024465074627375\t\n"
      ]
     },
     "execution_count": 21,
     "metadata": {},
     "output_type": "execute_result"
    },
    {
     "data": {
      "text/plain": [
       "iteration384\t# current error = 0.0024377130523208\t\n"
      ]
     },
     "execution_count": 21,
     "metadata": {},
     "output_type": "execute_result"
    },
    {
     "data": {
      "text/plain": [
       "iteration385\t# current error = 0.0024279084555657\t\n"
      ]
     },
     "execution_count": 21,
     "metadata": {},
     "output_type": "execute_result"
    },
    {
     "data": {
      "text/plain": [
       "iteration386\t# current error = 0.0024177373977468\t\n"
      ]
     },
     "execution_count": 21,
     "metadata": {},
     "output_type": "execute_result"
    },
    {
     "data": {
      "text/plain": [
       "iteration387\t# current error = 0.0024096805895618\t\n"
      ]
     },
     "execution_count": 21,
     "metadata": {},
     "output_type": "execute_result"
    },
    {
     "data": {
      "text/plain": [
       "iteration388\t# current error = 0.0024024668680028\t\n"
      ]
     },
     "execution_count": 21,
     "metadata": {},
     "output_type": "execute_result"
    },
    {
     "data": {
      "text/plain": [
       "iteration389\t# current error = 0.0023923185945143\t\n"
      ]
     },
     "execution_count": 21,
     "metadata": {},
     "output_type": "execute_result"
    },
    {
     "data": {
      "text/plain": [
       "iteration390\t# current error = 0.0023847037532374\t\n"
      ]
     },
     "execution_count": 21,
     "metadata": {},
     "output_type": "execute_result"
    },
    {
     "data": {
      "text/plain": [
       "iteration391\t# current error = 0.0023742549130242\t\n"
      ]
     },
     "execution_count": 21,
     "metadata": {},
     "output_type": "execute_result"
    },
    {
     "data": {
      "text/plain": [
       "iteration392\t# current error = 0.0023678331940056\t\n"
      ]
     },
     "execution_count": 21,
     "metadata": {},
     "output_type": "execute_result"
    },
    {
     "data": {
      "text/plain": [
       "iteration393\t# current error = 0.0023584350023291\t\n"
      ]
     },
     "execution_count": 21,
     "metadata": {},
     "output_type": "execute_result"
    },
    {
     "data": {
      "text/plain": [
       "iteration394\t# current error = 0.0023493386132902\t\n"
      ]
     },
     "execution_count": 21,
     "metadata": {},
     "output_type": "execute_result"
    },
    {
     "data": {
      "text/plain": [
       "iteration395\t# current error = 0.0023405728940955\t\n"
      ]
     },
     "execution_count": 21,
     "metadata": {},
     "output_type": "execute_result"
    },
    {
     "data": {
      "text/plain": [
       "iteration396\t# current error = 0.0023322245437943\t\n"
      ]
     },
     "execution_count": 21,
     "metadata": {},
     "output_type": "execute_result"
    },
    {
     "data": {
      "text/plain": [
       "iteration397\t# current error = 0.0023260625356705\t\n"
      ]
     },
     "execution_count": 21,
     "metadata": {},
     "output_type": "execute_result"
    },
    {
     "data": {
      "text/plain": [
       "iteration398\t# current error = 0.0023162495183831\t\n"
      ]
     },
     "execution_count": 21,
     "metadata": {},
     "output_type": "execute_result"
    },
    {
     "data": {
      "text/plain": [
       "iteration399\t# current error = 0.0023076626765195\t\n"
      ]
     },
     "execution_count": 21,
     "metadata": {},
     "output_type": "execute_result"
    },
    {
     "data": {
      "text/plain": [
       "iteration400\t# current error = 0.0022999779020664\t\n"
      ]
     },
     "execution_count": 21,
     "metadata": {},
     "output_type": "execute_result"
    },
    {
     "data": {
      "text/plain": [
       "iteration401\t# current error = 0.002292059567875\t\n"
      ]
     },
     "execution_count": 21,
     "metadata": {},
     "output_type": "execute_result"
    },
    {
     "data": {
      "text/plain": [
       "iteration402\t# current error = 0.0022829803625589\t\n"
      ]
     },
     "execution_count": 21,
     "metadata": {},
     "output_type": "execute_result"
    },
    {
     "data": {
      "text/plain": [
       "iteration403\t# current error = 0.0022757397448344\t\n"
      ]
     },
     "execution_count": 21,
     "metadata": {},
     "output_type": "execute_result"
    },
    {
     "data": {
      "text/plain": [
       "iteration404\t# current error = 0.0022677748718921\t\n"
      ]
     },
     "execution_count": 21,
     "metadata": {},
     "output_type": "execute_result"
    },
    {
     "data": {
      "text/plain": [
       "iteration405\t# current error = 0.0022596933416978\t\n"
      ]
     },
     "execution_count": 21,
     "metadata": {},
     "output_type": "execute_result"
    },
    {
     "data": {
      "text/plain": [
       "iteration406\t# current error = 0.0022533371744344\t\n"
      ]
     },
     "execution_count": 21,
     "metadata": {},
     "output_type": "execute_result"
    },
    {
     "data": {
      "text/plain": [
       "iteration407\t# current error = 0.0022440131608585\t\n"
      ]
     },
     "execution_count": 21,
     "metadata": {},
     "output_type": "execute_result"
    },
    {
     "data": {
      "text/plain": [
       "iteration408\t# current error = 0.0022369256947989\t\n"
      ]
     },
     "execution_count": 21,
     "metadata": {},
     "output_type": "execute_result"
    },
    {
     "data": {
      "text/plain": [
       "iteration409\t# current error = 0.0022276303755374\t\n"
      ]
     },
     "execution_count": 21,
     "metadata": {},
     "output_type": "execute_result"
    },
    {
     "data": {
      "text/plain": [
       "iteration410\t# current error = 0.0022209127248888\t\n"
      ]
     },
     "execution_count": 21,
     "metadata": {},
     "output_type": "execute_result"
    },
    {
     "data": {
      "text/plain": [
       "iteration411\t# current error = 0.0022141616085487\t\n"
      ]
     },
     "execution_count": 21,
     "metadata": {},
     "output_type": "execute_result"
    },
    {
     "data": {
      "text/plain": [
       "iteration412\t# current error = 0.0022053627491222\t\n"
      ]
     },
     "execution_count": 21,
     "metadata": {},
     "output_type": "execute_result"
    },
    {
     "data": {
      "text/plain": [
       "iteration413\t# current error = 0.002197775660534\t\n"
      ]
     },
     "execution_count": 21,
     "metadata": {},
     "output_type": "execute_result"
    },
    {
     "data": {
      "text/plain": [
       "iteration414\t# current error = 0.0021929841485755\t\n"
      ]
     },
     "execution_count": 21,
     "metadata": {},
     "output_type": "execute_result"
    },
    {
     "data": {
      "text/plain": [
       "iteration415\t# current error = 0.0021833806286195\t\n"
      ]
     },
     "execution_count": 21,
     "metadata": {},
     "output_type": "execute_result"
    },
    {
     "data": {
      "text/plain": [
       "iteration416\t# current error = 0.0021759913908237\t\n"
      ]
     },
     "execution_count": 21,
     "metadata": {},
     "output_type": "execute_result"
    },
    {
     "data": {
      "text/plain": [
       "iteration417\t# current error = 0.0021694447711648\t\n"
      ]
     },
     "execution_count": 21,
     "metadata": {},
     "output_type": "execute_result"
    },
    {
     "data": {
      "text/plain": [
       "iteration418\t# current error = 0.0021613038257706\t\n"
      ]
     },
     "execution_count": 21,
     "metadata": {},
     "output_type": "execute_result"
    },
    {
     "data": {
      "text/plain": [
       "iteration419\t# current error = 0.0021534567383997\t\n"
      ]
     },
     "execution_count": 21,
     "metadata": {},
     "output_type": "execute_result"
    },
    {
     "data": {
      "text/plain": [
       "iteration420\t# current error = 0.0021474601741018\t\n"
      ]
     },
     "execution_count": 21,
     "metadata": {},
     "output_type": "execute_result"
    },
    {
     "data": {
      "text/plain": [
       "iteration421\t"
      ]
     },
     "execution_count": 21,
     "metadata": {},
     "output_type": "execute_result"
    },
    {
     "data": {
      "text/plain": [
       "# current error = 0.0021405005102207\t\n"
      ]
     },
     "execution_count": 21,
     "metadata": {},
     "output_type": "execute_result"
    },
    {
     "data": {
      "text/plain": [
       "iteration422\t# current error = 0.0021319307615443\t\n"
      ]
     },
     "execution_count": 21,
     "metadata": {},
     "output_type": "execute_result"
    },
    {
     "data": {
      "text/plain": [
       "iteration423\t"
      ]
     },
     "execution_count": 21,
     "metadata": {},
     "output_type": "execute_result"
    },
    {
     "data": {
      "text/plain": [
       "# current error = 0.0021258799732663\t\n"
      ]
     },
     "execution_count": 21,
     "metadata": {},
     "output_type": "execute_result"
    },
    {
     "data": {
      "text/plain": [
       "iteration424\t# current error = 0.0021196812844294\t\n"
      ]
     },
     "execution_count": 21,
     "metadata": {},
     "output_type": "execute_result"
    },
    {
     "data": {
      "text/plain": [
       "iteration425\t# current error = 0.0021116073326463\t\n"
      ]
     },
     "execution_count": 21,
     "metadata": {},
     "output_type": "execute_result"
    },
    {
     "data": {
      "text/plain": [
       "iteration426\t# current error = 0.0021041589222714\t\n"
      ]
     },
     "execution_count": 21,
     "metadata": {},
     "output_type": "execute_result"
    },
    {
     "data": {
      "text/plain": [
       "iteration427\t# current error = 0.0020975811237747\t\n"
      ]
     },
     "execution_count": 21,
     "metadata": {},
     "output_type": "execute_result"
    },
    {
     "data": {
      "text/plain": [
       "iteration428\t# current error = 0.0020910302091097\t\n"
      ]
     },
     "execution_count": 21,
     "metadata": {},
     "output_type": "execute_result"
    },
    {
     "data": {
      "text/plain": [
       "iteration429\t# current error = 0.0020846364002224\t\n"
      ]
     },
     "execution_count": 21,
     "metadata": {},
     "output_type": "execute_result"
    },
    {
     "data": {
      "text/plain": [
       "iteration430\t# current error = 0.0020778427848274\t\n"
      ]
     },
     "execution_count": 21,
     "metadata": {},
     "output_type": "execute_result"
    },
    {
     "data": {
      "text/plain": [
       "iteration431\t# current error = 0.0020722055601558\t\n"
      ]
     },
     "execution_count": 21,
     "metadata": {},
     "output_type": "execute_result"
    },
    {
     "data": {
      "text/plain": [
       "iteration432\t# current error = 0.0020638096002109\t\n"
      ]
     },
     "execution_count": 21,
     "metadata": {},
     "output_type": "execute_result"
    },
    {
     "data": {
      "text/plain": [
       "iteration433\t# current error = 0.002057064485461\t\n"
      ]
     },
     "execution_count": 21,
     "metadata": {},
     "output_type": "execute_result"
    },
    {
     "data": {
      "text/plain": [
       "iteration434\t# current error = 0.0020513231540942\t\n"
      ]
     },
     "execution_count": 21,
     "metadata": {},
     "output_type": "execute_result"
    },
    {
     "data": {
      "text/plain": [
       "iteration435\t# current error = 0.0020441600725805\t\n"
      ]
     },
     "execution_count": 21,
     "metadata": {},
     "output_type": "execute_result"
    },
    {
     "data": {
      "text/plain": [
       "iteration436\t# current error = 0.002037231905355\t\n"
      ]
     },
     "execution_count": 21,
     "metadata": {},
     "output_type": "execute_result"
    },
    {
     "data": {
      "text/plain": [
       "iteration437\t# current error = 0.0020322904263739\t\n"
      ]
     },
     "execution_count": 21,
     "metadata": {},
     "output_type": "execute_result"
    },
    {
     "data": {
      "text/plain": [
       "iteration438\t# current error = 0.0020243379571683\t\n"
      ]
     },
     "execution_count": 21,
     "metadata": {},
     "output_type": "execute_result"
    },
    {
     "data": {
      "text/plain": [
       "iteration439\t# current error = 0.0020182937893101\t\n"
      ]
     },
     "execution_count": 21,
     "metadata": {},
     "output_type": "execute_result"
    },
    {
     "data": {
      "text/plain": [
       "iteration440\t# current error = 0.0020123518065274\t\n"
      ]
     },
     "execution_count": 21,
     "metadata": {},
     "output_type": "execute_result"
    },
    {
     "data": {
      "text/plain": [
       "iteration441\t# current error = 0.0020055933841556\t\n"
      ]
     },
     "execution_count": 21,
     "metadata": {},
     "output_type": "execute_result"
    },
    {
     "data": {
      "text/plain": [
       "iteration442\t# current error = 0.0019997679307731\t\n"
      ]
     },
     "execution_count": 21,
     "metadata": {},
     "output_type": "execute_result"
    },
    {
     "data": {
      "text/plain": [
       "iteration443\t# current error = 0.0019928430022743\t\n"
      ]
     },
     "execution_count": 21,
     "metadata": {},
     "output_type": "execute_result"
    },
    {
     "data": {
      "text/plain": [
       "iteration444\t# current error = 0.0019871443737699\t\n"
      ]
     },
     "execution_count": 21,
     "metadata": {},
     "output_type": "execute_result"
    },
    {
     "data": {
      "text/plain": [
       "iteration445\t# current error = 0.0019802832854053\t\n"
      ]
     },
     "execution_count": 21,
     "metadata": {},
     "output_type": "execute_result"
    },
    {
     "data": {
      "text/plain": [
       "iteration446\t# current error = 0.0019744074612378\t\n"
      ]
     },
     "execution_count": 21,
     "metadata": {},
     "output_type": "execute_result"
    },
    {
     "data": {
      "text/plain": [
       "iteration447\t# current error = 0.0019681397337132\t\n"
      ]
     },
     "execution_count": 21,
     "metadata": {},
     "output_type": "execute_result"
    },
    {
     "data": {
      "text/plain": [
       "iteration448\t# current error = 0.0019621372712302\t\n"
      ]
     },
     "execution_count": 21,
     "metadata": {},
     "output_type": "execute_result"
    },
    {
     "data": {
      "text/plain": [
       "iteration449\t# current error = 0.0019566672760919\t\n"
      ]
     },
     "execution_count": 21,
     "metadata": {},
     "output_type": "execute_result"
    },
    {
     "data": {
      "text/plain": [
       "iteration450\t# current error = 0.0019495276316592\t\n"
      ]
     },
     "execution_count": 21,
     "metadata": {},
     "output_type": "execute_result"
    },
    {
     "data": {
      "text/plain": [
       "iteration451\t# current error = 0.0019453996136565\t\n"
      ]
     },
     "execution_count": 21,
     "metadata": {},
     "output_type": "execute_result"
    },
    {
     "data": {
      "text/plain": [
       "iteration452\t# current error = 0.0019380025388357\t\n"
      ]
     },
     "execution_count": 21,
     "metadata": {},
     "output_type": "execute_result"
    },
    {
     "data": {
      "text/plain": [
       "iteration453\t# current error = 0.0019312458682006\t\n"
      ]
     },
     "execution_count": 21,
     "metadata": {},
     "output_type": "execute_result"
    },
    {
     "data": {
      "text/plain": [
       "iteration454\t# current error = 0.0019275476930564\t\n"
      ]
     },
     "execution_count": 21,
     "metadata": {},
     "output_type": "execute_result"
    },
    {
     "data": {
      "text/plain": [
       "iteration455\t# current error = 0.0019213638298422\t\n"
      ]
     },
     "execution_count": 21,
     "metadata": {},
     "output_type": "execute_result"
    },
    {
     "data": {
      "text/plain": [
       "iteration456\t# current error = 0.001913857806692\t\n"
      ]
     },
     "execution_count": 21,
     "metadata": {},
     "output_type": "execute_result"
    },
    {
     "data": {
      "text/plain": [
       "iteration457\t# current error = 0.0019085570535842\t\n"
      ]
     },
     "execution_count": 21,
     "metadata": {},
     "output_type": "execute_result"
    },
    {
     "data": {
      "text/plain": [
       "iteration458\t# current error = 0.0019027885711857\t\n"
      ]
     },
     "execution_count": 21,
     "metadata": {},
     "output_type": "execute_result"
    },
    {
     "data": {
      "text/plain": [
       "iteration459\t# current error = 0.0018976224976635\t\n"
      ]
     },
     "execution_count": 21,
     "metadata": {},
     "output_type": "execute_result"
    },
    {
     "data": {
      "text/plain": [
       "iteration460\t# current error = 0.0018918460626213\t\n"
      ]
     },
     "execution_count": 21,
     "metadata": {},
     "output_type": "execute_result"
    },
    {
     "data": {
      "text/plain": [
       "iteration461\t# current error = 0.0018867003649623\t\n"
      ]
     },
     "execution_count": 21,
     "metadata": {},
     "output_type": "execute_result"
    },
    {
     "data": {
      "text/plain": [
       "iteration462\t# current error = 0.0018804484618428\t\n"
      ]
     },
     "execution_count": 21,
     "metadata": {},
     "output_type": "execute_result"
    },
    {
     "data": {
      "text/plain": [
       "iteration463\t# current error = 0.0018740124611663\t\n"
      ]
     },
     "execution_count": 21,
     "metadata": {},
     "output_type": "execute_result"
    },
    {
     "data": {
      "text/plain": [
       "iteration464\t# current error = 0.0018692507675911\t\n"
      ]
     },
     "execution_count": 21,
     "metadata": {},
     "output_type": "execute_result"
    },
    {
     "data": {
      "text/plain": [
       "iteration465\t# current error = 0.0018623905425811\t\n"
      ]
     },
     "execution_count": 21,
     "metadata": {},
     "output_type": "execute_result"
    },
    {
     "data": {
      "text/plain": [
       "iteration466\t# current error = 0.0018575065428557\t\n"
      ]
     },
     "execution_count": 21,
     "metadata": {},
     "output_type": "execute_result"
    },
    {
     "data": {
      "text/plain": [
       "iteration467\t# current error = 0.0018527693390145\t\n"
      ]
     },
     "execution_count": 21,
     "metadata": {},
     "output_type": "execute_result"
    },
    {
     "data": {
      "text/plain": [
       "iteration468\t# current error = 0.0018456185239882\t\n"
      ]
     },
     "execution_count": 21,
     "metadata": {},
     "output_type": "execute_result"
    },
    {
     "data": {
      "text/plain": [
       "iteration469\t# current error = 0.001842021656207\t\n"
      ]
     },
     "execution_count": 21,
     "metadata": {},
     "output_type": "execute_result"
    },
    {
     "data": {
      "text/plain": [
       "iteration470\t# current error = 0.0018347847266723\t\n"
      ]
     },
     "execution_count": 21,
     "metadata": {},
     "output_type": "execute_result"
    },
    {
     "data": {
      "text/plain": [
       "iteration471\t# current error = 0.0018296916103346\t\n"
      ]
     },
     "execution_count": 21,
     "metadata": {},
     "output_type": "execute_result"
    },
    {
     "data": {
      "text/plain": [
       "iteration472\t# current error = 0.0018251059331017\t\n"
      ]
     },
     "execution_count": 21,
     "metadata": {},
     "output_type": "execute_result"
    },
    {
     "data": {
      "text/plain": [
       "iteration473\t# current error = 0.0018202797529404\t\n"
      ]
     },
     "execution_count": 21,
     "metadata": {},
     "output_type": "execute_result"
    },
    {
     "data": {
      "text/plain": [
       "iteration474\t# current error = 0.0018132271319314\t\n"
      ]
     },
     "execution_count": 21,
     "metadata": {},
     "output_type": "execute_result"
    },
    {
     "data": {
      "text/plain": [
       "iteration475\t# current error = 0.001808861484946\t\n"
      ]
     },
     "execution_count": 21,
     "metadata": {},
     "output_type": "execute_result"
    },
    {
     "data": {
      "text/plain": [
       "iteration476\t# current error = 0.0018027475079782\t\n"
      ]
     },
     "execution_count": 21,
     "metadata": {},
     "output_type": "execute_result"
    },
    {
     "data": {
      "text/plain": [
       "iteration477\t# current error = 0.0017982236404768\t\n"
      ]
     },
     "execution_count": 21,
     "metadata": {},
     "output_type": "execute_result"
    },
    {
     "data": {
      "text/plain": [
       "iteration478\t# current error = 0.0017932991825578\t\n"
      ]
     },
     "execution_count": 21,
     "metadata": {},
     "output_type": "execute_result"
    },
    {
     "data": {
      "text/plain": [
       "iteration479\t# current error = 0.0017866598114163\t\n"
      ]
     },
     "execution_count": 21,
     "metadata": {},
     "output_type": "execute_result"
    },
    {
     "data": {
      "text/plain": [
       "iteration480\t# current error = 0.0017822891584239\t\n"
      ]
     },
     "execution_count": 21,
     "metadata": {},
     "output_type": "execute_result"
    },
    {
     "data": {
      "text/plain": [
       "iteration481\t# current error = 0.0017767915427302\t\n"
      ]
     },
     "execution_count": 21,
     "metadata": {},
     "output_type": "execute_result"
    },
    {
     "data": {
      "text/plain": [
       "iteration482\t# current error = 0.0017721750806938\t\n"
      ]
     },
     "execution_count": 21,
     "metadata": {},
     "output_type": "execute_result"
    },
    {
     "data": {
      "text/plain": [
       "iteration483\t# current error = 0.001767204112046\t\n"
      ]
     },
     "execution_count": 21,
     "metadata": {},
     "output_type": "execute_result"
    },
    {
     "data": {
      "text/plain": [
       "iteration484\t# current error = 0.0017619512413258\t\n"
      ]
     },
     "execution_count": 21,
     "metadata": {},
     "output_type": "execute_result"
    },
    {
     "data": {
      "text/plain": [
       "iteration485\t# current error = 0.0017567038721598\t\n"
      ]
     },
     "execution_count": 21,
     "metadata": {},
     "output_type": "execute_result"
    },
    {
     "data": {
      "text/plain": [
       "iteration486\t# current error = 0.0017519268516935\t\n"
      ]
     },
     "execution_count": 21,
     "metadata": {},
     "output_type": "execute_result"
    },
    {
     "data": {
      "text/plain": [
       "iteration487\t# current error = 0.0017470282056054\t\n"
      ]
     },
     "execution_count": 21,
     "metadata": {},
     "output_type": "execute_result"
    },
    {
     "data": {
      "text/plain": [
       "iteration488\t# current error = 0.0017425074849754\t\n"
      ]
     },
     "execution_count": 21,
     "metadata": {},
     "output_type": "execute_result"
    },
    {
     "data": {
      "text/plain": [
       "iteration489\t# current error = 0.0017369676890846\t\n"
      ]
     },
     "execution_count": 21,
     "metadata": {},
     "output_type": "execute_result"
    },
    {
     "data": {
      "text/plain": [
       "iteration490\t# current error = 0.0017313713662917\t\n"
      ]
     },
     "execution_count": 21,
     "metadata": {},
     "output_type": "execute_result"
    },
    {
     "data": {
      "text/plain": [
       "iteration491\t# current error = 0.0017276768758403\t\n"
      ]
     },
     "execution_count": 21,
     "metadata": {},
     "output_type": "execute_result"
    },
    {
     "data": {
      "text/plain": [
       "iteration492\t# current error = 0.0017222102016382\t\n"
      ]
     },
     "execution_count": 21,
     "metadata": {},
     "output_type": "execute_result"
    },
    {
     "data": {
      "text/plain": [
       "iteration493\t"
      ]
     },
     "execution_count": 21,
     "metadata": {},
     "output_type": "execute_result"
    },
    {
     "data": {
      "text/plain": [
       "# current error = 0.0017177205635509\t\n"
      ]
     },
     "execution_count": 21,
     "metadata": {},
     "output_type": "execute_result"
    },
    {
     "data": {
      "text/plain": [
       "iteration494\t# current error = 0.0017128169054676\t\n"
      ]
     },
     "execution_count": 21,
     "metadata": {},
     "output_type": "execute_result"
    },
    {
     "data": {
      "text/plain": [
       "iteration495\t# current error = 0.0017075274566797\t\n"
      ]
     },
     "execution_count": 21,
     "metadata": {},
     "output_type": "execute_result"
    },
    {
     "data": {
      "text/plain": [
       "iteration496\t# current error = 0.0017032500990322\t\n"
      ]
     },
     "execution_count": 21,
     "metadata": {},
     "output_type": "execute_result"
    },
    {
     "data": {
      "text/plain": [
       "iteration497\t# current error = 0.0016978779941913\t\n"
      ]
     },
     "execution_count": 21,
     "metadata": {},
     "output_type": "execute_result"
    },
    {
     "data": {
      "text/plain": [
       "iteration498\t# current error = 0.001694595727568\t\n"
      ]
     },
     "execution_count": 21,
     "metadata": {},
     "output_type": "execute_result"
    },
    {
     "data": {
      "text/plain": [
       "iteration499\t# current error = 0.0016898735440736\t\n"
      ]
     },
     "execution_count": 21,
     "metadata": {},
     "output_type": "execute_result"
    },
    {
     "data": {
      "text/plain": [
       "iteration500\t# current error = 0.0016853027159889\t\n"
      ]
     },
     "execution_count": 21,
     "metadata": {},
     "output_type": "execute_result"
    },
    {
     "data": {
      "text/plain": [
       "iteration501\t# current error = 0.0016801028761795\t\n"
      ]
     },
     "execution_count": 21,
     "metadata": {},
     "output_type": "execute_result"
    },
    {
     "data": {
      "text/plain": [
       "iteration502\t# current error = 0.0016763427054239\t\n"
      ]
     },
     "execution_count": 21,
     "metadata": {},
     "output_type": "execute_result"
    },
    {
     "data": {
      "text/plain": [
       "iteration503\t# current error = 0.0016709732196669\t\n"
      ]
     },
     "execution_count": 21,
     "metadata": {},
     "output_type": "execute_result"
    },
    {
     "data": {
      "text/plain": [
       "iteration504\t# current error = 0.001666455569778\t\n"
      ]
     },
     "execution_count": 21,
     "metadata": {},
     "output_type": "execute_result"
    },
    {
     "data": {
      "text/plain": [
       "iteration505\t# current error = 0.0016619155254503\t\n"
      ]
     },
     "execution_count": 21,
     "metadata": {},
     "output_type": "execute_result"
    },
    {
     "data": {
      "text/plain": [
       "iteration506\t# current error = 0.0016587418822436\t\n"
      ]
     },
     "execution_count": 21,
     "metadata": {},
     "output_type": "execute_result"
    },
    {
     "data": {
      "text/plain": [
       "iteration507\t# current error = 0.001652377341355\t\n"
      ]
     },
     "execution_count": 21,
     "metadata": {},
     "output_type": "execute_result"
    },
    {
     "data": {
      "text/plain": [
       "iteration508\t# current error = 0.0016493352738573\t\n"
      ]
     },
     "execution_count": 21,
     "metadata": {},
     "output_type": "execute_result"
    },
    {
     "data": {
      "text/plain": [
       "iteration509\t# current error = 0.0016441311395116\t\n"
      ]
     },
     "execution_count": 21,
     "metadata": {},
     "output_type": "execute_result"
    },
    {
     "data": {
      "text/plain": [
       "iteration510\t# current error = 0.0016394770235682\t\n"
      ]
     },
     "execution_count": 21,
     "metadata": {},
     "output_type": "execute_result"
    },
    {
     "data": {
      "text/plain": [
       "iteration511\t# current error = 0.0016349475841848\t\n"
      ]
     },
     "execution_count": 21,
     "metadata": {},
     "output_type": "execute_result"
    },
    {
     "data": {
      "text/plain": [
       "iteration512\t# current error = 0.0016314113762932\t\n"
      ]
     },
     "execution_count": 21,
     "metadata": {},
     "output_type": "execute_result"
    },
    {
     "data": {
      "text/plain": [
       "iteration513\t# current error = 0.0016269012955968\t\n"
      ]
     },
     "execution_count": 21,
     "metadata": {},
     "output_type": "execute_result"
    },
    {
     "data": {
      "text/plain": [
       "iteration514\t# current error = 0.0016228191503695\t\n"
      ]
     },
     "execution_count": 21,
     "metadata": {},
     "output_type": "execute_result"
    },
    {
     "data": {
      "text/plain": [
       "iteration515\t# current error = 0.0016175454477604\t\n"
      ]
     },
     "execution_count": 21,
     "metadata": {},
     "output_type": "execute_result"
    },
    {
     "data": {
      "text/plain": [
       "iteration516\t# current error = 0.0016139127210547\t\n"
      ]
     },
     "execution_count": 21,
     "metadata": {},
     "output_type": "execute_result"
    },
    {
     "data": {
      "text/plain": [
       "iteration517\t# current error = 0.0016095410086359\t\n"
      ]
     },
     "execution_count": 21,
     "metadata": {},
     "output_type": "execute_result"
    },
    {
     "data": {
      "text/plain": [
       "iteration518\t# current error = 0.0016058473130578\t\n"
      ]
     },
     "execution_count": 21,
     "metadata": {},
     "output_type": "execute_result"
    },
    {
     "data": {
      "text/plain": [
       "iteration519\t# current error = 0.0016004778750618\t\n"
      ]
     },
     "execution_count": 21,
     "metadata": {},
     "output_type": "execute_result"
    },
    {
     "data": {
      "text/plain": [
       "iteration520\t# current error = 0.0015976714778445\t\n"
      ]
     },
     "execution_count": 21,
     "metadata": {},
     "output_type": "execute_result"
    },
    {
     "data": {
      "text/plain": [
       "iteration521\t# current error = 0.0015930482902363\t\n"
      ]
     },
     "execution_count": 21,
     "metadata": {},
     "output_type": "execute_result"
    },
    {
     "data": {
      "text/plain": [
       "iteration522\t# current error = 0.0015884429789763\t\n"
      ]
     },
     "execution_count": 21,
     "metadata": {},
     "output_type": "execute_result"
    },
    {
     "data": {
      "text/plain": [
       "iteration523\t# current error = 0.0015841960624488\t\n"
      ]
     },
     "execution_count": 21,
     "metadata": {},
     "output_type": "execute_result"
    },
    {
     "data": {
      "text/plain": [
       "iteration524\t# current error = 0.0015801806388687\t\n"
      ]
     },
     "execution_count": 21,
     "metadata": {},
     "output_type": "execute_result"
    },
    {
     "data": {
      "text/plain": [
       "iteration525\t# current error = 0.0015763139529321\t\n"
      ]
     },
     "execution_count": 21,
     "metadata": {},
     "output_type": "execute_result"
    },
    {
     "data": {
      "text/plain": [
       "iteration526\t# current error = 0.0015721738721769\t\n"
      ]
     },
     "execution_count": 21,
     "metadata": {},
     "output_type": "execute_result"
    },
    {
     "data": {
      "text/plain": [
       "iteration527\t# current error = 0.0015676516235109\t\n"
      ]
     },
     "execution_count": 21,
     "metadata": {},
     "output_type": "execute_result"
    },
    {
     "data": {
      "text/plain": [
       "iteration528\t# current error = 0.0015641759604893\t\n"
      ]
     },
     "execution_count": 21,
     "metadata": {},
     "output_type": "execute_result"
    },
    {
     "data": {
      "text/plain": [
       "iteration529\t# current error = 0.001559739356366\t\n"
      ]
     },
     "execution_count": 21,
     "metadata": {},
     "output_type": "execute_result"
    },
    {
     "data": {
      "text/plain": [
       "iteration530\t# current error = 0.0015561395785635\t\n"
      ]
     },
     "execution_count": 21,
     "metadata": {},
     "output_type": "execute_result"
    },
    {
     "data": {
      "text/plain": [
       "iteration531\t# current error = 0.0015520981872695\t\n"
      ]
     },
     "execution_count": 21,
     "metadata": {},
     "output_type": "execute_result"
    },
    {
     "data": {
      "text/plain": [
       "iteration532\t# current error = 0.001548711692131\t\n"
      ]
     },
     "execution_count": 21,
     "metadata": {},
     "output_type": "execute_result"
    },
    {
     "data": {
      "text/plain": [
       "iteration533\t# current error = 0.0015442592945042\t\n"
      ]
     },
     "execution_count": 21,
     "metadata": {},
     "output_type": "execute_result"
    },
    {
     "data": {
      "text/plain": [
       "iteration534\t# current error = 0.0015395785499638\t\n"
      ]
     },
     "execution_count": 21,
     "metadata": {},
     "output_type": "execute_result"
    },
    {
     "data": {
      "text/plain": [
       "iteration535\t# current error = 0.0015366360592396\t\n"
      ]
     },
     "execution_count": 21,
     "metadata": {},
     "output_type": "execute_result"
    },
    {
     "data": {
      "text/plain": [
       "iteration536\t# current error = 0.0015324921159595\t\n"
      ]
     },
     "execution_count": 21,
     "metadata": {},
     "output_type": "execute_result"
    },
    {
     "data": {
      "text/plain": [
       "iteration537\t# current error = 0.0015281053380558\t\n"
      ]
     },
     "execution_count": 21,
     "metadata": {},
     "output_type": "execute_result"
    },
    {
     "data": {
      "text/plain": [
       "iteration538\t# current error = 0.0015247155304655\t\n"
      ]
     },
     "execution_count": 21,
     "metadata": {},
     "output_type": "execute_result"
    },
    {
     "data": {
      "text/plain": [
       "iteration539\t# current error = 0.0015204567820302\t\n"
      ]
     },
     "execution_count": 21,
     "metadata": {},
     "output_type": "execute_result"
    },
    {
     "data": {
      "text/plain": [
       "iteration540\t# current error = 0.0015173495402598\t\n"
      ]
     },
     "execution_count": 21,
     "metadata": {},
     "output_type": "execute_result"
    },
    {
     "data": {
      "text/plain": [
       "iteration541\t# current error = 0.001513544543086\t\n"
      ]
     },
     "execution_count": 21,
     "metadata": {},
     "output_type": "execute_result"
    },
    {
     "data": {
      "text/plain": [
       "iteration542\t# current error = 0.0015089616834632\t\n"
      ]
     },
     "execution_count": 21,
     "metadata": {},
     "output_type": "execute_result"
    },
    {
     "data": {
      "text/plain": [
       "iteration543\t# current error = 0.0015051515825329\t\n"
      ]
     },
     "execution_count": 21,
     "metadata": {},
     "output_type": "execute_result"
    },
    {
     "data": {
      "text/plain": [
       "iteration544\t# current error = 0.0015022276561946\t\n"
      ]
     },
     "execution_count": 21,
     "metadata": {},
     "output_type": "execute_result"
    },
    {
     "data": {
      "text/plain": [
       "iteration545\t# current error = 0.0014982831802677\t\n"
      ]
     },
     "execution_count": 21,
     "metadata": {},
     "output_type": "execute_result"
    },
    {
     "data": {
      "text/plain": [
       "iteration546\t# current error = 0.0014946153439409\t\n"
      ]
     },
     "execution_count": 21,
     "metadata": {},
     "output_type": "execute_result"
    },
    {
     "data": {
      "text/plain": [
       "iteration547\t# current error = 0.0014903650471267\t\n"
      ]
     },
     "execution_count": 21,
     "metadata": {},
     "output_type": "execute_result"
    },
    {
     "data": {
      "text/plain": [
       "iteration548\t# current error = 0.0014872680334756\t\n"
      ]
     },
     "execution_count": 21,
     "metadata": {},
     "output_type": "execute_result"
    },
    {
     "data": {
      "text/plain": [
       "iteration549\t# current error = 0.001483180539509\t\n"
      ]
     },
     "execution_count": 21,
     "metadata": {},
     "output_type": "execute_result"
    },
    {
     "data": {
      "text/plain": [
       "iteration550\t# current error = 0.0014793403490082\t\n"
      ]
     },
     "execution_count": 21,
     "metadata": {},
     "output_type": "execute_result"
    },
    {
     "data": {
      "text/plain": [
       "iteration551\t# current error = 0.0014757167202717\t\n"
      ]
     },
     "execution_count": 21,
     "metadata": {},
     "output_type": "execute_result"
    },
    {
     "data": {
      "text/plain": [
       "iteration552\t# current error = 0.0014727390604498\t\n"
      ]
     },
     "execution_count": 21,
     "metadata": {},
     "output_type": "execute_result"
    },
    {
     "data": {
      "text/plain": [
       "iteration553\t# current error = 0.0014687086313472\t\n"
      ]
     },
     "execution_count": 21,
     "metadata": {},
     "output_type": "execute_result"
    },
    {
     "data": {
      "text/plain": [
       "iteration554\t# current error = 0.0014651618356568\t\n"
      ]
     },
     "execution_count": 21,
     "metadata": {},
     "output_type": "execute_result"
    },
    {
     "data": {
      "text/plain": [
       "iteration555\t# current error = 0.0014610270930518\t\n"
      ]
     },
     "execution_count": 21,
     "metadata": {},
     "output_type": "execute_result"
    },
    {
     "data": {
      "text/plain": [
       "iteration556\t# current error = 0.0014578637291413\t\n"
      ]
     },
     "execution_count": 21,
     "metadata": {},
     "output_type": "execute_result"
    },
    {
     "data": {
      "text/plain": [
       "iteration557\t# current error = 0.0014547969916447\t\n"
      ]
     },
     "execution_count": 21,
     "metadata": {},
     "output_type": "execute_result"
    },
    {
     "data": {
      "text/plain": [
       "iteration558\t# current error = 0.0014507004305883\t\n"
      ]
     },
     "execution_count": 21,
     "metadata": {},
     "output_type": "execute_result"
    },
    {
     "data": {
      "text/plain": [
       "iteration559\t# current error = 0.0014471185689323\t\n"
      ]
     },
     "execution_count": 21,
     "metadata": {},
     "output_type": "execute_result"
    },
    {
     "data": {
      "text/plain": [
       "iteration560\t# current error = 0.0014439155027181\t\n"
      ]
     },
     "execution_count": 21,
     "metadata": {},
     "output_type": "execute_result"
    },
    {
     "data": {
      "text/plain": [
       "iteration561\t# current error = 0.0014404642245406\t\n"
      ]
     },
     "execution_count": 21,
     "metadata": {},
     "output_type": "execute_result"
    },
    {
     "data": {
      "text/plain": [
       "iteration562\t# current error = 0.001436889828948\t\n"
      ]
     },
     "execution_count": 21,
     "metadata": {},
     "output_type": "execute_result"
    },
    {
     "data": {
      "text/plain": [
       "iteration563\t# current error = 0.0014334502468971\t\n"
      ]
     },
     "execution_count": 21,
     "metadata": {},
     "output_type": "execute_result"
    },
    {
     "data": {
      "text/plain": [
       "iteration564\t# current error = 0.0014302275536691\t\n"
      ]
     },
     "execution_count": 21,
     "metadata": {},
     "output_type": "execute_result"
    },
    {
     "data": {
      "text/plain": [
       "iteration565\t# current error = 0.0014264856926586\t\n"
      ]
     },
     "execution_count": 21,
     "metadata": {},
     "output_type": "execute_result"
    },
    {
     "data": {
      "text/plain": [
       "iteration566\t# current error = 0.0014233542037306\t\n"
      ]
     },
     "execution_count": 21,
     "metadata": {},
     "output_type": "execute_result"
    },
    {
     "data": {
      "text/plain": [
       "iteration567\t# current error = 0.0014198225507286\t\n"
      ]
     },
     "execution_count": 21,
     "metadata": {},
     "output_type": "execute_result"
    },
    {
     "data": {
      "text/plain": [
       "iteration568\t# current error = 0.0014167006860155\t\n"
      ]
     },
     "execution_count": 21,
     "metadata": {},
     "output_type": "execute_result"
    },
    {
     "data": {
      "text/plain": [
       "iteration569\t# current error = 0.0014134320733466\t\n"
      ]
     },
     "execution_count": 21,
     "metadata": {},
     "output_type": "execute_result"
    },
    {
     "data": {
      "text/plain": [
       "iteration570\t# current error = 0.0014094979749813\t\n"
      ]
     },
     "execution_count": 21,
     "metadata": {},
     "output_type": "execute_result"
    },
    {
     "data": {
      "text/plain": [
       "iteration571\t# current error = 0.0014064826831443\t\n"
      ]
     },
     "execution_count": 21,
     "metadata": {},
     "output_type": "execute_result"
    },
    {
     "data": {
      "text/plain": [
       "iteration572\t# current error = 0.0014030385783974\t\n"
      ]
     },
     "execution_count": 21,
     "metadata": {},
     "output_type": "execute_result"
    },
    {
     "data": {
      "text/plain": [
       "iteration573\t# current error = 0.0013992581186951\t\n"
      ]
     },
     "execution_count": 21,
     "metadata": {},
     "output_type": "execute_result"
    },
    {
     "data": {
      "text/plain": [
       "iteration574\t# current error = 0.0013969875890081\t\n"
      ]
     },
     "execution_count": 21,
     "metadata": {},
     "output_type": "execute_result"
    },
    {
     "data": {
      "text/plain": [
       "iteration575\t# current error = 0.001393690612446\t\n"
      ]
     },
     "execution_count": 21,
     "metadata": {},
     "output_type": "execute_result"
    },
    {
     "data": {
      "text/plain": [
       "iteration576\t# current error = 0.0013893453163419\t\n"
      ]
     },
     "execution_count": 21,
     "metadata": {},
     "output_type": "execute_result"
    },
    {
     "data": {
      "text/plain": [
       "iteration577\t# current error = 0.0013863779336345\t"
      ]
     },
     "execution_count": 21,
     "metadata": {},
     "output_type": "execute_result"
    },
    {
     "data": {
      "text/plain": [
       "\n"
      ]
     },
     "execution_count": 21,
     "metadata": {},
     "output_type": "execute_result"
    },
    {
     "data": {
      "text/plain": [
       "iteration578\t# current error = 0.0013832053448516\t\n"
      ]
     },
     "execution_count": 21,
     "metadata": {},
     "output_type": "execute_result"
    },
    {
     "data": {
      "text/plain": [
       "iteration579\t# current error = 0.001380227309296\t\n"
      ]
     },
     "execution_count": 21,
     "metadata": {},
     "output_type": "execute_result"
    },
    {
     "data": {
      "text/plain": [
       "iteration580\t# current error = 0.0013775088355213\t\n"
      ]
     },
     "execution_count": 21,
     "metadata": {},
     "output_type": "execute_result"
    },
    {
     "data": {
      "text/plain": [
       "iteration581\t# current error = 0.0013740926484154\t\n"
      ]
     },
     "execution_count": 21,
     "metadata": {},
     "output_type": "execute_result"
    },
    {
     "data": {
      "text/plain": [
       "iteration582\t# current error = 0.0013704311362319\t\n"
      ]
     },
     "execution_count": 21,
     "metadata": {},
     "output_type": "execute_result"
    },
    {
     "data": {
      "text/plain": [
       "iteration583\t# current error = 0.0013671178202249\t\n"
      ]
     },
     "execution_count": 21,
     "metadata": {},
     "output_type": "execute_result"
    },
    {
     "data": {
      "text/plain": [
       "iteration584\t# current error = 0.0013638659151878\t\n"
      ]
     },
     "execution_count": 21,
     "metadata": {},
     "output_type": "execute_result"
    },
    {
     "data": {
      "text/plain": [
       "iteration585\t# current error = 0.0013608656364541\t\n"
      ]
     },
     "execution_count": 21,
     "metadata": {},
     "output_type": "execute_result"
    },
    {
     "data": {
      "text/plain": [
       "iteration586\t# current error = 0.0013582221176035\t\n"
      ]
     },
     "execution_count": 21,
     "metadata": {},
     "output_type": "execute_result"
    },
    {
     "data": {
      "text/plain": [
       "iteration587\t# current error = 0.0013552189788399\t\n"
      ]
     },
     "execution_count": 21,
     "metadata": {},
     "output_type": "execute_result"
    },
    {
     "data": {
      "text/plain": [
       "iteration588\t# current error = 0.0013520057075803\t\n"
      ]
     },
     "execution_count": 21,
     "metadata": {},
     "output_type": "execute_result"
    },
    {
     "data": {
      "text/plain": [
       "iteration589\t# current error = 0.001348425037898\t\n"
      ]
     },
     "execution_count": 21,
     "metadata": {},
     "output_type": "execute_result"
    },
    {
     "data": {
      "text/plain": [
       "iteration590\t"
      ]
     },
     "execution_count": 21,
     "metadata": {},
     "output_type": "execute_result"
    },
    {
     "data": {
      "text/plain": [
       "# current error = 0.001345101455303\t\n"
      ]
     },
     "execution_count": 21,
     "metadata": {},
     "output_type": "execute_result"
    },
    {
     "data": {
      "text/plain": [
       "iteration591\t# current error = 0.0013423796151599\t\n"
      ]
     },
     "execution_count": 21,
     "metadata": {},
     "output_type": "execute_result"
    },
    {
     "data": {
      "text/plain": [
       "iteration592\t# current error = 0.0013397090396563\t\n"
      ]
     },
     "execution_count": 21,
     "metadata": {},
     "output_type": "execute_result"
    },
    {
     "data": {
      "text/plain": [
       "iteration593\t# current error = 0.0013368173328548\t\n"
      ]
     },
     "execution_count": 21,
     "metadata": {},
     "output_type": "execute_result"
    },
    {
     "data": {
      "text/plain": [
       "iteration594\t# current error = 0.0013331467709433\t\n"
      ]
     },
     "execution_count": 21,
     "metadata": {},
     "output_type": "execute_result"
    },
    {
     "data": {
      "text/plain": [
       "iteration595\t# current error = 0.001330128674448\t\n"
      ]
     },
     "execution_count": 21,
     "metadata": {},
     "output_type": "execute_result"
    },
    {
     "data": {
      "text/plain": [
       "iteration596\t# current error = 0.0013276206092513\t\n"
      ]
     },
     "execution_count": 21,
     "metadata": {},
     "output_type": "execute_result"
    },
    {
     "data": {
      "text/plain": [
       "iteration597\t# current error = 0.0013244678294769\t\n"
      ]
     },
     "execution_count": 21,
     "metadata": {},
     "output_type": "execute_result"
    },
    {
     "data": {
      "text/plain": [
       "iteration598\t# current error = 0.0013209722354018\t\n"
      ]
     },
     "execution_count": 21,
     "metadata": {},
     "output_type": "execute_result"
    },
    {
     "data": {
      "text/plain": [
       "iteration599\t# current error = 0.0013187614508151\t\n"
      ]
     },
     "execution_count": 21,
     "metadata": {},
     "output_type": "execute_result"
    },
    {
     "data": {
      "text/plain": [
       "iteration600\t# current error = 0.0013149548925133\t\n"
      ]
     },
     "execution_count": 21,
     "metadata": {},
     "output_type": "execute_result"
    },
    {
     "data": {
      "text/plain": [
       "iteration601\t# current error = 0.0013128045966254\t\n"
      ]
     },
     "execution_count": 21,
     "metadata": {},
     "output_type": "execute_result"
    },
    {
     "data": {
      "text/plain": [
       "iteration602\t# current error = 0.0013093767535351\t\n"
      ]
     },
     "execution_count": 21,
     "metadata": {},
     "output_type": "execute_result"
    },
    {
     "data": {
      "text/plain": [
       "iteration603\t# current error = 0.0013069018413951\t\n"
      ]
     },
     "execution_count": 21,
     "metadata": {},
     "output_type": "execute_result"
    },
    {
     "data": {
      "text/plain": [
       "iteration604\t# current error = 0.0013037834382507\t\n"
      ]
     },
     "execution_count": 21,
     "metadata": {},
     "output_type": "execute_result"
    },
    {
     "data": {
      "text/plain": [
       "iteration605\t# current error = 0.0013007602112297\t\n"
      ]
     },
     "execution_count": 21,
     "metadata": {},
     "output_type": "execute_result"
    },
    {
     "data": {
      "text/plain": [
       "iteration606\t# current error = 0.0012978069590485\t\n"
      ]
     },
     "execution_count": 21,
     "metadata": {},
     "output_type": "execute_result"
    },
    {
     "data": {
      "text/plain": [
       "iteration607\t# current error = 0.0012946094442346\t\n"
      ]
     },
     "execution_count": 21,
     "metadata": {},
     "output_type": "execute_result"
    },
    {
     "data": {
      "text/plain": [
       "iteration608\t# current error = 0.0012924294365555\t\n"
      ]
     },
     "execution_count": 21,
     "metadata": {},
     "output_type": "execute_result"
    },
    {
     "data": {
      "text/plain": [
       "iteration609\t# current error = 0.0012893275903512\t\n"
      ]
     },
     "execution_count": 21,
     "metadata": {},
     "output_type": "execute_result"
    },
    {
     "data": {
      "text/plain": [
       "iteration610\t# current error = 0.001286634801299\t\n"
      ]
     },
     "execution_count": 21,
     "metadata": {},
     "output_type": "execute_result"
    },
    {
     "data": {
      "text/plain": [
       "iteration611\t# current error = 0.0012837699780693\t\n"
      ]
     },
     "execution_count": 21,
     "metadata": {},
     "output_type": "execute_result"
    },
    {
     "data": {
      "text/plain": [
       "iteration612\t# current error = 0.001280646393816\t\n"
      ]
     },
     "execution_count": 21,
     "metadata": {},
     "output_type": "execute_result"
    },
    {
     "data": {
      "text/plain": [
       "iteration613\t# current error = 0.0012771656015235\t\n"
      ]
     },
     "execution_count": 21,
     "metadata": {},
     "output_type": "execute_result"
    },
    {
     "data": {
      "text/plain": [
       "iteration614\t# current error = 0.0012755182597787\t\n"
      ]
     },
     "execution_count": 21,
     "metadata": {},
     "output_type": "execute_result"
    },
    {
     "data": {
      "text/plain": [
       "iteration615\t# current error = 0.001272630073324\t\n"
      ]
     },
     "execution_count": 21,
     "metadata": {},
     "output_type": "execute_result"
    },
    {
     "data": {
      "text/plain": [
       "iteration616\t# current error = 0.0012698163961176\t\n"
      ]
     },
     "execution_count": 21,
     "metadata": {},
     "output_type": "execute_result"
    },
    {
     "data": {
      "text/plain": [
       "iteration617\t# current error = 0.0012667433116175\t\n"
      ]
     },
     "execution_count": 21,
     "metadata": {},
     "output_type": "execute_result"
    },
    {
     "data": {
      "text/plain": [
       "iteration618\t# current error = 0.0012638138949049\t\n"
      ]
     },
     "execution_count": 21,
     "metadata": {},
     "output_type": "execute_result"
    },
    {
     "data": {
      "text/plain": [
       "iteration619\t# current error = 0.0012615663993207\t\n"
      ]
     },
     "execution_count": 21,
     "metadata": {},
     "output_type": "execute_result"
    },
    {
     "data": {
      "text/plain": [
       "iteration620\t# current error = 0.0012589560776426\t\n"
      ]
     },
     "execution_count": 21,
     "metadata": {},
     "output_type": "execute_result"
    },
    {
     "data": {
      "text/plain": [
       "iteration621\t# current error = 0.0012554290854368\t\n"
      ]
     },
     "execution_count": 21,
     "metadata": {},
     "output_type": "execute_result"
    },
    {
     "data": {
      "text/plain": [
       "iteration622\t# current error = 0.0012532282577963\t\n"
      ]
     },
     "execution_count": 21,
     "metadata": {},
     "output_type": "execute_result"
    },
    {
     "data": {
      "text/plain": [
       "iteration623\t# current error = 0.0012510641400237\t\n"
      ]
     },
     "execution_count": 21,
     "metadata": {},
     "output_type": "execute_result"
    },
    {
     "data": {
      "text/plain": [
       "iteration624\t# current error = 0.0012476325913246\t\n"
      ]
     },
     "execution_count": 21,
     "metadata": {},
     "output_type": "execute_result"
    },
    {
     "data": {
      "text/plain": [
       "iteration625\t# current error = 0.0012447490204346\t\n"
      ]
     },
     "execution_count": 21,
     "metadata": {},
     "output_type": "execute_result"
    },
    {
     "data": {
      "text/plain": [
       "iteration626\t# current error = 0.0012429879064288\t\n"
      ]
     },
     "execution_count": 21,
     "metadata": {},
     "output_type": "execute_result"
    },
    {
     "data": {
      "text/plain": [
       "iteration627\t# current error = 0.0012397527266101\t\n"
      ]
     },
     "execution_count": 21,
     "metadata": {},
     "output_type": "execute_result"
    },
    {
     "data": {
      "text/plain": [
       "iteration628\t# current error = 0.001236975094693\t\n"
      ]
     },
     "execution_count": 21,
     "metadata": {},
     "output_type": "execute_result"
    },
    {
     "data": {
      "text/plain": [
       "iteration629\t# current error = 0.0012347696588581\t\n"
      ]
     },
     "execution_count": 21,
     "metadata": {},
     "output_type": "execute_result"
    },
    {
     "data": {
      "text/plain": [
       "iteration630\t# current error = 0.0012317826489997\t\n"
      ]
     },
     "execution_count": 21,
     "metadata": {},
     "output_type": "execute_result"
    },
    {
     "data": {
      "text/plain": [
       "iteration631\t# current error = 0.001229396494331\t\n"
      ]
     },
     "execution_count": 21,
     "metadata": {},
     "output_type": "execute_result"
    },
    {
     "data": {
      "text/plain": [
       "iteration632\t# current error = 0.0012268324825069\t\n"
      ]
     },
     "execution_count": 21,
     "metadata": {},
     "output_type": "execute_result"
    },
    {
     "data": {
      "text/plain": [
       "iteration633\t# current error = 0.0012237640693939\t\n"
      ]
     },
     "execution_count": 21,
     "metadata": {},
     "output_type": "execute_result"
    },
    {
     "data": {
      "text/plain": [
       "iteration634\t# current error = 0.0012215540244335\t\n"
      ]
     },
     "execution_count": 21,
     "metadata": {},
     "output_type": "execute_result"
    },
    {
     "data": {
      "text/plain": [
       "iteration635\t# current error = 0.0012193846268538\t\n"
      ]
     },
     "execution_count": 21,
     "metadata": {},
     "output_type": "execute_result"
    },
    {
     "data": {
      "text/plain": [
       "iteration636\t# current error = 0.0012161006343841\t\n"
      ]
     },
     "execution_count": 21,
     "metadata": {},
     "output_type": "execute_result"
    },
    {
     "data": {
      "text/plain": [
       "iteration637\t# current error = 0.0012130414011082\t\n"
      ]
     },
     "execution_count": 21,
     "metadata": {},
     "output_type": "execute_result"
    },
    {
     "data": {
      "text/plain": [
       "iteration638\t# current error = 0.001211347588603\t\n"
      ]
     },
     "execution_count": 21,
     "metadata": {},
     "output_type": "execute_result"
    },
    {
     "data": {
      "text/plain": [
       "iteration639\t# current error = 0.0012088567282561\t\n"
      ]
     },
     "execution_count": 21,
     "metadata": {},
     "output_type": "execute_result"
    },
    {
     "data": {
      "text/plain": [
       "iteration640\t# current error = 0.001206361787778\t\n"
      ]
     },
     "execution_count": 21,
     "metadata": {},
     "output_type": "execute_result"
    },
    {
     "data": {
      "text/plain": [
       "iteration641\t# current error = 0.0012038339744505\t\n"
      ]
     },
     "execution_count": 21,
     "metadata": {},
     "output_type": "execute_result"
    },
    {
     "data": {
      "text/plain": [
       "iteration642\t# current error = 0.0012006333599025\t\n"
      ]
     },
     "execution_count": 21,
     "metadata": {},
     "output_type": "execute_result"
    },
    {
     "data": {
      "text/plain": [
       "iteration643\t# current error = 0.0011987363657612\t\n"
      ]
     },
     "execution_count": 21,
     "metadata": {},
     "output_type": "execute_result"
    },
    {
     "data": {
      "text/plain": [
       "iteration644\t# current error = 0.0011966645187028\t\n"
      ]
     },
     "execution_count": 21,
     "metadata": {},
     "output_type": "execute_result"
    },
    {
     "data": {
      "text/plain": [
       "iteration645\t# current error = 0.0011932720822837\t\n"
      ]
     },
     "execution_count": 21,
     "metadata": {},
     "output_type": "execute_result"
    },
    {
     "data": {
      "text/plain": [
       "iteration646\t# current error = 0.001191107670044\t\n"
      ]
     },
     "execution_count": 21,
     "metadata": {},
     "output_type": "execute_result"
    },
    {
     "data": {
      "text/plain": [
       "iteration647\t# current error = 0.0011888025442582\t\n"
      ]
     },
     "execution_count": 21,
     "metadata": {},
     "output_type": "execute_result"
    },
    {
     "data": {
      "text/plain": [
       "iteration648\t# current error = 0.0011857033229502\t\n"
      ]
     },
     "execution_count": 21,
     "metadata": {},
     "output_type": "execute_result"
    },
    {
     "data": {
      "text/plain": [
       "iteration649\t# current error = 0.0011843302742669\t\n"
      ]
     },
     "execution_count": 21,
     "metadata": {},
     "output_type": "execute_result"
    },
    {
     "data": {
      "text/plain": [
       "iteration650\t# current error = 0.0011811246237734\t\n"
      ]
     },
     "execution_count": 21,
     "metadata": {},
     "output_type": "execute_result"
    },
    {
     "data": {
      "text/plain": [
       "iteration651\t# current error = 0.0011794665339149\t\n"
      ]
     },
     "execution_count": 21,
     "metadata": {},
     "output_type": "execute_result"
    },
    {
     "data": {
      "text/plain": [
       "iteration652\t# current error = 0.0011769047541127\t\n"
      ]
     },
     "execution_count": 21,
     "metadata": {},
     "output_type": "execute_result"
    },
    {
     "data": {
      "text/plain": [
       "iteration653\t# current error = 0.0011744014750267\t\n"
      ]
     },
     "execution_count": 21,
     "metadata": {},
     "output_type": "execute_result"
    },
    {
     "data": {
      "text/plain": [
       "iteration654\t# current error = 0.0011715937561033\t\n"
      ]
     },
     "execution_count": 21,
     "metadata": {},
     "output_type": "execute_result"
    },
    {
     "data": {
      "text/plain": [
       "iteration655\t# current error = 0.0011691800266793\t\n"
      ]
     },
     "execution_count": 21,
     "metadata": {},
     "output_type": "execute_result"
    },
    {
     "data": {
      "text/plain": [
       "iteration656\t# current error = 0.0011673409631099\t\n"
      ]
     },
     "execution_count": 21,
     "metadata": {},
     "output_type": "execute_result"
    },
    {
     "data": {
      "text/plain": [
       "iteration657\t# current error = 0.001164923617806\t\n"
      ]
     },
     "execution_count": 21,
     "metadata": {},
     "output_type": "execute_result"
    },
    {
     "data": {
      "text/plain": [
       "iteration658\t# current error = 0.0011623430311305\t\n"
      ]
     },
     "execution_count": 21,
     "metadata": {},
     "output_type": "execute_result"
    },
    {
     "data": {
      "text/plain": [
       "iteration659\t# current error = 0.0011598441771526\t\n"
      ]
     },
     "execution_count": 21,
     "metadata": {},
     "output_type": "execute_result"
    },
    {
     "data": {
      "text/plain": [
       "iteration660\t# current error = 0.0011574649880815\t\n"
      ]
     },
     "execution_count": 21,
     "metadata": {},
     "output_type": "execute_result"
    },
    {
     "data": {
      "text/plain": [
       "iteration661\t# current error = 0.0011549054513807\t\n"
      ]
     },
     "execution_count": 21,
     "metadata": {},
     "output_type": "execute_result"
    },
    {
     "data": {
      "text/plain": [
       "iteration662\t# current error = 0.0011529322602446\t\n"
      ]
     },
     "execution_count": 21,
     "metadata": {},
     "output_type": "execute_result"
    },
    {
     "data": {
      "text/plain": [
       "iteration663\t# current error = 0.0011500727501341\t\n"
      ]
     },
     "execution_count": 21,
     "metadata": {},
     "output_type": "execute_result"
    },
    {
     "data": {
      "text/plain": [
       "iteration664\t# current error = 0.001148337259335\t\n"
      ]
     },
     "execution_count": 21,
     "metadata": {},
     "output_type": "execute_result"
    },
    {
     "data": {
      "text/plain": [
       "iteration665\t# current error = 0.0011456034427188\t\n"
      ]
     },
     "execution_count": 21,
     "metadata": {},
     "output_type": "execute_result"
    },
    {
     "data": {
      "text/plain": [
       "iteration666\t# current error = 0.0011435582794444\t\n"
      ]
     },
     "execution_count": 21,
     "metadata": {},
     "output_type": "execute_result"
    },
    {
     "data": {
      "text/plain": [
       "iteration667\t# current error = 0.0011413309175342\t\n"
      ]
     },
     "execution_count": 21,
     "metadata": {},
     "output_type": "execute_result"
    },
    {
     "data": {
      "text/plain": [
       "iteration668\t# current error = 0.0011389761394586\t\n"
      ]
     },
     "execution_count": 21,
     "metadata": {},
     "output_type": "execute_result"
    },
    {
     "data": {
      "text/plain": [
       "iteration669\t# current error = 0.0011368560227832\t\n"
      ]
     },
     "execution_count": 21,
     "metadata": {},
     "output_type": "execute_result"
    },
    {
     "data": {
      "text/plain": [
       "iteration670\t# current error = 0.0011342969820839\t\n"
      ]
     },
     "execution_count": 21,
     "metadata": {},
     "output_type": "execute_result"
    },
    {
     "data": {
      "text/plain": [
       "iteration671\t# current error = 0.0011322865725706\t\n"
      ]
     },
     "execution_count": 21,
     "metadata": {},
     "output_type": "execute_result"
    },
    {
     "data": {
      "text/plain": [
       "iteration672\t# current error = 0.0011298385490972\t\n"
      ]
     },
     "execution_count": 21,
     "metadata": {},
     "output_type": "execute_result"
    },
    {
     "data": {
      "text/plain": [
       "iteration673\t# current error = 0.0011272291728833\t\n"
      ]
     },
     "execution_count": 21,
     "metadata": {},
     "output_type": "execute_result"
    },
    {
     "data": {
      "text/plain": [
       "iteration674\t# current error = 0.0011252889067276\t\n"
      ]
     },
     "execution_count": 21,
     "metadata": {},
     "output_type": "execute_result"
    },
    {
     "data": {
      "text/plain": [
       "iteration675\t# current error = 0.0011231512710317\t\n"
      ]
     },
     "execution_count": 21,
     "metadata": {},
     "output_type": "execute_result"
    },
    {
     "data": {
      "text/plain": [
       "iteration676\t# current error = 0.0011207847245927\t\n"
      ]
     },
     "execution_count": 21,
     "metadata": {},
     "output_type": "execute_result"
    },
    {
     "data": {
      "text/plain": [
       "iteration677\t# current error = 0.0011189927270713\t\n"
      ]
     },
     "execution_count": 21,
     "metadata": {},
     "output_type": "execute_result"
    },
    {
     "data": {
      "text/plain": [
       "iteration678\t# current error = 0.001116670501371\t\n"
      ]
     },
     "execution_count": 21,
     "metadata": {},
     "output_type": "execute_result"
    },
    {
     "data": {
      "text/plain": [
       "iteration679\t# current error = 0.001114080163113\t\n"
      ]
     },
     "execution_count": 21,
     "metadata": {},
     "output_type": "execute_result"
    },
    {
     "data": {
      "text/plain": [
       "iteration680\t# current error = 0.0011119811546288\t\n"
      ]
     },
     "execution_count": 21,
     "metadata": {},
     "output_type": "execute_result"
    },
    {
     "data": {
      "text/plain": [
       "iteration681\t# current error = 0.0011097707717671\t\n"
      ]
     },
     "execution_count": 21,
     "metadata": {},
     "output_type": "execute_result"
    },
    {
     "data": {
      "text/plain": [
       "iteration682\t# current error = 0.0011078313065752\t\n"
      ]
     },
     "execution_count": 21,
     "metadata": {},
     "output_type": "execute_result"
    },
    {
     "data": {
      "text/plain": [
       "iteration683\t# current error = 0.0011053663231701\t\n"
      ]
     },
     "execution_count": 21,
     "metadata": {},
     "output_type": "execute_result"
    },
    {
     "data": {
      "text/plain": [
       "iteration684\t# current error = 0.0011036721442221\t\n"
      ]
     },
     "execution_count": 21,
     "metadata": {},
     "output_type": "execute_result"
    },
    {
     "data": {
      "text/plain": [
       "iteration685\t# current error = 0.0011016553747429\t\n"
      ]
     },
     "execution_count": 21,
     "metadata": {},
     "output_type": "execute_result"
    },
    {
     "data": {
      "text/plain": [
       "iteration686\t# current error = 0.001098691031445\t\n"
      ]
     },
     "execution_count": 21,
     "metadata": {},
     "output_type": "execute_result"
    },
    {
     "data": {
      "text/plain": [
       "iteration687\t# current error = 0.0010971077297293\t\n"
      ]
     },
     "execution_count": 21,
     "metadata": {},
     "output_type": "execute_result"
    },
    {
     "data": {
      "text/plain": [
       "iteration688\t# current error = 0.0010951901046586\t\n"
      ]
     },
     "execution_count": 21,
     "metadata": {},
     "output_type": "execute_result"
    },
    {
     "data": {
      "text/plain": [
       "iteration689\t# current error = 0.0010924926780962\t\n"
      ]
     },
     "execution_count": 21,
     "metadata": {},
     "output_type": "execute_result"
    },
    {
     "data": {
      "text/plain": [
       "iteration690\t# current error = 0.0010905989837346\t\n"
      ]
     },
     "execution_count": 21,
     "metadata": {},
     "output_type": "execute_result"
    },
    {
     "data": {
      "text/plain": [
       "iteration691\t# current error = 0.0010886088999156\t\n"
      ]
     },
     "execution_count": 21,
     "metadata": {},
     "output_type": "execute_result"
    },
    {
     "data": {
      "text/plain": [
       "iteration692\t# current error = 0.0010867215715157\t\n"
      ]
     },
     "execution_count": 21,
     "metadata": {},
     "output_type": "execute_result"
    },
    {
     "data": {
      "text/plain": [
       "iteration693\t# current error = 0.0010843196618956\t\n"
      ]
     },
     "execution_count": 21,
     "metadata": {},
     "output_type": "execute_result"
    },
    {
     "data": {
      "text/plain": [
       "iteration694\t# current error = 0.001082864513941\t\n"
      ]
     },
     "execution_count": 21,
     "metadata": {},
     "output_type": "execute_result"
    },
    {
     "data": {
      "text/plain": [
       "iteration695\t# current error = 0.0010801381523509\t\n"
      ]
     },
     "execution_count": 21,
     "metadata": {},
     "output_type": "execute_result"
    },
    {
     "data": {
      "text/plain": [
       "iteration696\t# current error = 0.0010781561553854\t\n"
      ]
     },
     "execution_count": 21,
     "metadata": {},
     "output_type": "execute_result"
    },
    {
     "data": {
      "text/plain": [
       "iteration697\t# current error = 0.0010763735875077\t\n"
      ]
     },
     "execution_count": 21,
     "metadata": {},
     "output_type": "execute_result"
    },
    {
     "data": {
      "text/plain": [
       "iteration698\t# current error = 0.0010738880309057\t\n"
      ]
     },
     "execution_count": 21,
     "metadata": {},
     "output_type": "execute_result"
    },
    {
     "data": {
      "text/plain": [
       "iteration699\t# current error = 0.0010719882809931\t\n"
      ]
     },
     "execution_count": 21,
     "metadata": {},
     "output_type": "execute_result"
    },
    {
     "data": {
      "text/plain": [
       "iteration700\t# current error = 0.0010699473259042\t\n"
      ]
     },
     "execution_count": 21,
     "metadata": {},
     "output_type": "execute_result"
    },
    {
     "data": {
      "text/plain": [
       "iteration701\t# current error = 0.0010679339469201\t\n"
      ]
     },
     "execution_count": 21,
     "metadata": {},
     "output_type": "execute_result"
    },
    {
     "data": {
      "text/plain": [
       "iteration702\t# current error = 0.0010658714445345\t\n"
      ]
     },
     "execution_count": 21,
     "metadata": {},
     "output_type": "execute_result"
    },
    {
     "data": {
      "text/plain": [
       "iteration703\t# current error = 0.0010641398953928\t\n"
      ]
     },
     "execution_count": 21,
     "metadata": {},
     "output_type": "execute_result"
    },
    {
     "data": {
      "text/plain": [
       "iteration704\t# current error = 0.0010623698793053\t\n"
      ]
     },
     "execution_count": 21,
     "metadata": {},
     "output_type": "execute_result"
    },
    {
     "data": {
      "text/plain": [
       "iteration705\t# current error = 0.0010597495266331\t\n"
      ]
     },
     "execution_count": 21,
     "metadata": {},
     "output_type": "execute_result"
    },
    {
     "data": {
      "text/plain": [
       "iteration706\t# current error = 0.0010578315241612\t\n"
      ]
     },
     "execution_count": 21,
     "metadata": {},
     "output_type": "execute_result"
    },
    {
     "data": {
      "text/plain": [
       "iteration707\t# current error = 0.0010556696573185\t\n"
      ]
     },
     "execution_count": 21,
     "metadata": {},
     "output_type": "execute_result"
    },
    {
     "data": {
      "text/plain": [
       "iteration708\t# current error = 0.0010540886426771\t\n"
      ]
     },
     "execution_count": 21,
     "metadata": {},
     "output_type": "execute_result"
    },
    {
     "data": {
      "text/plain": [
       "iteration709\t# current error = 0.0010520356867534\t\n"
      ]
     },
     "execution_count": 21,
     "metadata": {},
     "output_type": "execute_result"
    },
    {
     "data": {
      "text/plain": [
       "iteration710\t# current error = 0.0010500568130625\t\n"
      ]
     },
     "execution_count": 21,
     "metadata": {},
     "output_type": "execute_result"
    },
    {
     "data": {
      "text/plain": [
       "iteration711\t# current error = 0.0010481968408962\t\n"
      ]
     },
     "execution_count": 21,
     "metadata": {},
     "output_type": "execute_result"
    },
    {
     "data": {
      "text/plain": [
       "iteration712\t# current error = 0.0010460797104849\t\n"
      ]
     },
     "execution_count": 21,
     "metadata": {},
     "output_type": "execute_result"
    },
    {
     "data": {
      "text/plain": [
       "iteration713\t# current error = 0.0010441231036346\t\n"
      ]
     },
     "execution_count": 21,
     "metadata": {},
     "output_type": "execute_result"
    },
    {
     "data": {
      "text/plain": [
       "iteration714\t# current error = 0.0010428358397144\t\n"
      ]
     },
     "execution_count": 21,
     "metadata": {},
     "output_type": "execute_result"
    },
    {
     "data": {
      "text/plain": [
       "iteration715\t# current error = 0.001039854831998\t\n"
      ]
     },
     "execution_count": 21,
     "metadata": {},
     "output_type": "execute_result"
    },
    {
     "data": {
      "text/plain": [
       "iteration716\t# current error = 0.0010383769172736\t\n"
      ]
     },
     "execution_count": 21,
     "metadata": {},
     "output_type": "execute_result"
    },
    {
     "data": {
      "text/plain": [
       "iteration717\t# current error = 0.0010367351639398\t\n"
      ]
     },
     "execution_count": 21,
     "metadata": {},
     "output_type": "execute_result"
    },
    {
     "data": {
      "text/plain": [
       "iteration718\t# current error = 0.0010342130319652\t\n"
      ]
     },
     "execution_count": 21,
     "metadata": {},
     "output_type": "execute_result"
    },
    {
     "data": {
      "text/plain": [
       "iteration719\t# current error = 0.0010327311760915\t\n"
      ]
     },
     "execution_count": 21,
     "metadata": {},
     "output_type": "execute_result"
    },
    {
     "data": {
      "text/plain": [
       "iteration720\t# current error = 0.0010308981898334\t\n"
      ]
     },
     "execution_count": 21,
     "metadata": {},
     "output_type": "execute_result"
    },
    {
     "data": {
      "text/plain": [
       "iteration721\t# current error = 0.0010287115596171\t\n"
      ]
     },
     "execution_count": 21,
     "metadata": {},
     "output_type": "execute_result"
    },
    {
     "data": {
      "text/plain": [
       "iteration722\t# current error = 0.0010269848484655\t\n"
      ]
     },
     "execution_count": 21,
     "metadata": {},
     "output_type": "execute_result"
    },
    {
     "data": {
      "text/plain": [
       "iteration723\t# current error = 0.0010251277498684\t\n"
      ]
     },
     "execution_count": 21,
     "metadata": {},
     "output_type": "execute_result"
    },
    {
     "data": {
      "text/plain": [
       "iteration724\t# current error = 0.001023398803094\t\n"
      ]
     },
     "execution_count": 21,
     "metadata": {},
     "output_type": "execute_result"
    },
    {
     "data": {
      "text/plain": [
       "iteration725\t# current error = 0.0010212296081735\t\n"
      ]
     },
     "execution_count": 21,
     "metadata": {},
     "output_type": "execute_result"
    },
    {
     "data": {
      "text/plain": [
       "iteration726\t# current error = 0.0010192990972188\t\n"
      ]
     },
     "execution_count": 21,
     "metadata": {},
     "output_type": "execute_result"
    },
    {
     "data": {
      "text/plain": [
       "iteration727\t# current error = 0.0010180911963594\t\n"
      ]
     },
     "execution_count": 21,
     "metadata": {},
     "output_type": "execute_result"
    },
    {
     "data": {
      "text/plain": [
       "iteration728\t# current error = 0.0010156033720435\t\n"
      ]
     },
     "execution_count": 21,
     "metadata": {},
     "output_type": "execute_result"
    },
    {
     "data": {
      "text/plain": [
       "iteration729\t# current error = 0.0010139565155294\t\n"
      ]
     },
     "execution_count": 21,
     "metadata": {},
     "output_type": "execute_result"
    },
    {
     "data": {
      "text/plain": [
       "iteration730\t# current error = 0.0010119978657127\t\n"
      ]
     },
     "execution_count": 21,
     "metadata": {},
     "output_type": "execute_result"
    },
    {
     "data": {
      "text/plain": [
       "iteration731\t# current error = 0.0010102726584275\t\n"
      ]
     },
     "execution_count": 21,
     "metadata": {},
     "output_type": "execute_result"
    },
    {
     "data": {
      "text/plain": [
       "iteration732\t# current error = 0.0010085759635599\t\n"
      ]
     },
     "execution_count": 21,
     "metadata": {},
     "output_type": "execute_result"
    },
    {
     "data": {
      "text/plain": [
       "iteration733\t# current error = 0.0010066141609421\t\n"
      ]
     },
     "execution_count": 21,
     "metadata": {},
     "output_type": "execute_result"
    },
    {
     "data": {
      "text/plain": [
       "iteration734\t# current error = 0.001004799753109\t\n"
      ]
     },
     "execution_count": 21,
     "metadata": {},
     "output_type": "execute_result"
    },
    {
     "data": {
      "text/plain": [
       "iteration735\t# current error = 0.0010031428129282\t\n"
      ]
     },
     "execution_count": 21,
     "metadata": {},
     "output_type": "execute_result"
    },
    {
     "data": {
      "text/plain": [
       "iteration736\t# current error = 0.001000834914469\t\n"
      ]
     },
     "execution_count": 21,
     "metadata": {},
     "output_type": "execute_result"
    },
    {
     "data": {
      "text/plain": [
       "iteration737\t# current error = 0.00099933254506994\t\n"
      ]
     },
     "execution_count": 21,
     "metadata": {},
     "output_type": "execute_result"
    },
    {
     "data": {
      "text/plain": [
       "iteration738\t# current error = 0.00099770781069416\t\n"
      ]
     },
     "execution_count": 21,
     "metadata": {},
     "output_type": "execute_result"
    },
    {
     "data": {
      "text/plain": [
       "iteration739\t# current error = 0.00099582917025272\t\n"
      ]
     },
     "execution_count": 21,
     "metadata": {},
     "output_type": "execute_result"
    },
    {
     "data": {
      "text/plain": [
       "iteration740\t# current error = 0.00099392926814835\t\n"
      ]
     },
     "execution_count": 21,
     "metadata": {},
     "output_type": "execute_result"
    },
    {
     "data": {
      "text/plain": [
       "iteration741\t# current error = 0.00099259804412139\t\n"
      ]
     },
     "execution_count": 21,
     "metadata": {},
     "output_type": "execute_result"
    },
    {
     "data": {
      "text/plain": [
       "iteration742\t# current error = 0.00099054402460437\t\n"
      ]
     },
     "execution_count": 21,
     "metadata": {},
     "output_type": "execute_result"
    },
    {
     "data": {
      "text/plain": [
       "iteration743\t# current error = 0.00098866091928137\t\n"
      ]
     },
     "execution_count": 21,
     "metadata": {},
     "output_type": "execute_result"
    },
    {
     "data": {
      "text/plain": [
       "iteration744\t# current error = 0.00098675497379306\t\n"
      ]
     },
     "execution_count": 21,
     "metadata": {},
     "output_type": "execute_result"
    },
    {
     "data": {
      "text/plain": [
       "iteration745\t# current error = 0.00098528760776042\t\n"
      ]
     },
     "execution_count": 21,
     "metadata": {},
     "output_type": "execute_result"
    },
    {
     "data": {
      "text/plain": [
       "iteration746\t# current error = 0.00098385957225298\t\n"
      ]
     },
     "execution_count": 21,
     "metadata": {},
     "output_type": "execute_result"
    },
    {
     "data": {
      "text/plain": [
       "iteration747\t# current error = 0.00098176357117852\t\n"
      ]
     },
     "execution_count": 21,
     "metadata": {},
     "output_type": "execute_result"
    },
    {
     "data": {
      "text/plain": [
       "iteration748\t# current error = 0.00097979393961121\t\n"
      ]
     },
     "execution_count": 21,
     "metadata": {},
     "output_type": "execute_result"
    },
    {
     "data": {
      "text/plain": [
       "iteration749\t# current error = 0.00097837840954753\t\n"
      ]
     },
     "execution_count": 21,
     "metadata": {},
     "output_type": "execute_result"
    },
    {
     "data": {
      "text/plain": [
       "iteration750\t# current error = 0.000976522117605\t\n"
      ]
     },
     "execution_count": 21,
     "metadata": {},
     "output_type": "execute_result"
    },
    {
     "data": {
      "text/plain": [
       "iteration751\t# current error = 0.00097479657154121\t\n"
      ]
     },
     "execution_count": 21,
     "metadata": {},
     "output_type": "execute_result"
    },
    {
     "data": {
      "text/plain": [
       "iteration752\t"
      ]
     },
     "execution_count": 21,
     "metadata": {},
     "output_type": "execute_result"
    },
    {
     "data": {
      "text/plain": [
       "# current error = 0.00097329801275616\t\n"
      ]
     },
     "execution_count": 21,
     "metadata": {},
     "output_type": "execute_result"
    },
    {
     "data": {
      "text/plain": [
       "iteration753\t# current error = 0.00097151735435095\t\n"
      ]
     },
     "execution_count": 21,
     "metadata": {},
     "output_type": "execute_result"
    },
    {
     "data": {
      "text/plain": [
       "iteration754\t# current error = 0.00096955206311913\t\n"
      ]
     },
     "execution_count": 21,
     "metadata": {},
     "output_type": "execute_result"
    },
    {
     "data": {
      "text/plain": [
       "iteration755\t# current error = 0.00096807690371199\t\n"
      ]
     },
     "execution_count": 21,
     "metadata": {},
     "output_type": "execute_result"
    },
    {
     "data": {
      "text/plain": [
       "iteration756\t# current error = 0.00096646147953744\t\n"
      ]
     },
     "execution_count": 21,
     "metadata": {},
     "output_type": "execute_result"
    },
    {
     "data": {
      "text/plain": [
       "iteration757\t# current error = 0.00096449953667342\t\n"
      ]
     },
     "execution_count": 21,
     "metadata": {},
     "output_type": "execute_result"
    },
    {
     "data": {
      "text/plain": [
       "iteration758\t# current error = 0.00096293710933419\t\n"
      ]
     },
     "execution_count": 21,
     "metadata": {},
     "output_type": "execute_result"
    },
    {
     "data": {
      "text/plain": [
       "iteration759\t# current error = 0.0009611407217609\t\n"
      ]
     },
     "execution_count": 21,
     "metadata": {},
     "output_type": "execute_result"
    },
    {
     "data": {
      "text/plain": [
       "iteration760\t# current error = 0.00095972152173386\t\n"
      ]
     },
     "execution_count": 21,
     "metadata": {},
     "output_type": "execute_result"
    },
    {
     "data": {
      "text/plain": [
       "iteration761\t# current error = 0.00095827048958262\t\n"
      ]
     },
     "execution_count": 21,
     "metadata": {},
     "output_type": "execute_result"
    },
    {
     "data": {
      "text/plain": [
       "iteration762\t# current error = 0.00095609548828887\t\n"
      ]
     },
     "execution_count": 21,
     "metadata": {},
     "output_type": "execute_result"
    },
    {
     "data": {
      "text/plain": [
       "iteration763\t# current error = 0.00095474610750364\t\n"
      ]
     },
     "execution_count": 21,
     "metadata": {},
     "output_type": "execute_result"
    },
    {
     "data": {
      "text/plain": [
       "iteration764\t# current error = 0.00095311790804108\t\n"
      ]
     },
     "execution_count": 21,
     "metadata": {},
     "output_type": "execute_result"
    },
    {
     "data": {
      "text/plain": [
       "iteration765\t# current error = 0.0009513469837481\t\n"
      ]
     },
     "execution_count": 21,
     "metadata": {},
     "output_type": "execute_result"
    },
    {
     "data": {
      "text/plain": [
       "iteration766\t# current error = 0.00094963594722594\t\n"
      ]
     },
     "execution_count": 21,
     "metadata": {},
     "output_type": "execute_result"
    },
    {
     "data": {
      "text/plain": [
       "iteration767\t# current error = 0.00094814414810179\t\n"
      ]
     },
     "execution_count": 21,
     "metadata": {},
     "output_type": "execute_result"
    },
    {
     "data": {
      "text/plain": [
       "iteration768\t# current error = 0.00094651845232885\t\n"
      ]
     },
     "execution_count": 21,
     "metadata": {},
     "output_type": "execute_result"
    },
    {
     "data": {
      "text/plain": [
       "iteration769\t# current error = 0.00094495518593109\t\n"
      ]
     },
     "execution_count": 21,
     "metadata": {},
     "output_type": "execute_result"
    },
    {
     "data": {
      "text/plain": [
       "iteration770\t# current error = 0.00094319855897863\t\n"
      ]
     },
     "execution_count": 21,
     "metadata": {},
     "output_type": "execute_result"
    },
    {
     "data": {
      "text/plain": [
       "iteration771\t# current error = 0.00094144244965601\t\n"
      ]
     },
     "execution_count": 21,
     "metadata": {},
     "output_type": "execute_result"
    },
    {
     "data": {
      "text/plain": [
       "iteration772\t# current error = 0.00094021427879168\t\n"
      ]
     },
     "execution_count": 21,
     "metadata": {},
     "output_type": "execute_result"
    },
    {
     "data": {
      "text/plain": [
       "iteration773\t# current error = 0.0009383459859082\t\n"
      ]
     },
     "execution_count": 21,
     "metadata": {},
     "output_type": "execute_result"
    },
    {
     "data": {
      "text/plain": [
       "iteration774\t# current error = 0.0009367582275548\t\n"
      ]
     },
     "execution_count": 21,
     "metadata": {},
     "output_type": "execute_result"
    },
    {
     "data": {
      "text/plain": [
       "iteration775\t# current error = 0.00093541079462606\t\n"
      ]
     },
     "execution_count": 21,
     "metadata": {},
     "output_type": "execute_result"
    },
    {
     "data": {
      "text/plain": [
       "iteration776\t# current error = 0.00093366776505967\t\n"
      ]
     },
     "execution_count": 21,
     "metadata": {},
     "output_type": "execute_result"
    },
    {
     "data": {
      "text/plain": [
       "iteration777\t# current error = 0.0009319921344134\t\n"
      ]
     },
     "execution_count": 21,
     "metadata": {},
     "output_type": "execute_result"
    },
    {
     "data": {
      "text/plain": [
       "iteration778\t# current error = 0.00093064621432025\t\n"
      ]
     },
     "execution_count": 21,
     "metadata": {},
     "output_type": "execute_result"
    },
    {
     "data": {
      "text/plain": [
       "iteration779\t# current error = 0.00092896545977068\t\n"
      ]
     },
     "execution_count": 21,
     "metadata": {},
     "output_type": "execute_result"
    },
    {
     "data": {
      "text/plain": [
       "iteration780\t# current error = 0.00092730110443984\t\n"
      ]
     },
     "execution_count": 21,
     "metadata": {},
     "output_type": "execute_result"
    },
    {
     "data": {
      "text/plain": [
       "iteration781\t# current error = 0.00092552406486254\t\n"
      ]
     },
     "execution_count": 21,
     "metadata": {},
     "output_type": "execute_result"
    },
    {
     "data": {
      "text/plain": [
       "iteration782\t# current error = 0.00092408030242729\t\n"
      ]
     },
     "execution_count": 21,
     "metadata": {},
     "output_type": "execute_result"
    },
    {
     "data": {
      "text/plain": [
       "iteration783\t# current error = 0.00092274314725469\t\n"
      ]
     },
     "execution_count": 21,
     "metadata": {},
     "output_type": "execute_result"
    },
    {
     "data": {
      "text/plain": [
       "iteration784\t# current error = 0.00092122469886625\t\n"
      ]
     },
     "execution_count": 21,
     "metadata": {},
     "output_type": "execute_result"
    },
    {
     "data": {
      "text/plain": [
       "iteration785\t# current error = 0.00091951874979514\t\n"
      ]
     },
     "execution_count": 21,
     "metadata": {},
     "output_type": "execute_result"
    },
    {
     "data": {
      "text/plain": [
       "iteration786\t# current error = 0.00091755255992627\t\n"
      ]
     },
     "execution_count": 21,
     "metadata": {},
     "output_type": "execute_result"
    },
    {
     "data": {
      "text/plain": [
       "iteration787\t# current error = 0.00091664026458273\t\n"
      ]
     },
     "execution_count": 21,
     "metadata": {},
     "output_type": "execute_result"
    },
    {
     "data": {
      "text/plain": [
       "iteration788\t# current error = 0.00091502323538284\t\n"
      ]
     },
     "execution_count": 21,
     "metadata": {},
     "output_type": "execute_result"
    },
    {
     "data": {
      "text/plain": [
       "iteration789\t# current error = 0.00091339629740779\t\n"
      ]
     },
     "execution_count": 21,
     "metadata": {},
     "output_type": "execute_result"
    },
    {
     "data": {
      "text/plain": [
       "iteration790\t# current error = 0.00091182019696259\t\n"
      ]
     },
     "execution_count": 21,
     "metadata": {},
     "output_type": "execute_result"
    },
    {
     "data": {
      "text/plain": [
       "iteration791\t# current error = 0.00091028600881467\t\n"
      ]
     },
     "execution_count": 21,
     "metadata": {},
     "output_type": "execute_result"
    },
    {
     "data": {
      "text/plain": [
       "iteration792\t# current error = 0.00090906891732033\t\n"
      ]
     },
     "execution_count": 21,
     "metadata": {},
     "output_type": "execute_result"
    },
    {
     "data": {
      "text/plain": [
       "iteration793\t# current error = 0.00090755271181973\t\n"
      ]
     },
     "execution_count": 21,
     "metadata": {},
     "output_type": "execute_result"
    },
    {
     "data": {
      "text/plain": [
       "iteration794\t# current error = 0.00090588229389043\t\n"
      ]
     },
     "execution_count": 21,
     "metadata": {},
     "output_type": "execute_result"
    },
    {
     "data": {
      "text/plain": [
       "iteration795\t# current error = 0.0009042036881736\t\n"
      ]
     },
     "execution_count": 21,
     "metadata": {},
     "output_type": "execute_result"
    },
    {
     "data": {
      "text/plain": [
       "iteration796\t# current error = 0.00090321261275701\t\n"
      ]
     },
     "execution_count": 21,
     "metadata": {},
     "output_type": "execute_result"
    },
    {
     "data": {
      "text/plain": [
       "iteration797\t# current error = 0.00090120445844212\t\n"
      ]
     },
     "execution_count": 21,
     "metadata": {},
     "output_type": "execute_result"
    },
    {
     "data": {
      "text/plain": [
       "iteration798\t# current error = 0.00089997036621774\t\n"
      ]
     },
     "execution_count": 21,
     "metadata": {},
     "output_type": "execute_result"
    },
    {
     "data": {
      "text/plain": [
       "iteration799\t# current error = 0.00089861714774043\t\n"
      ]
     },
     "execution_count": 21,
     "metadata": {},
     "output_type": "execute_result"
    },
    {
     "data": {
      "text/plain": [
       "iteration800\t# current error = 0.00089664492348053\t\n"
      ]
     },
     "execution_count": 21,
     "metadata": {},
     "output_type": "execute_result"
    },
    {
     "data": {
      "text/plain": [
       "iteration801\t# current error = 0.00089536629509896\t\n"
      ]
     },
     "execution_count": 21,
     "metadata": {},
     "output_type": "execute_result"
    },
    {
     "data": {
      "text/plain": [
       "iteration802\t# current error = 0.00089412248538301\t\n"
      ]
     },
     "execution_count": 21,
     "metadata": {},
     "output_type": "execute_result"
    },
    {
     "data": {
      "text/plain": [
       "iteration803\t# current error = 0.00089247289829421\t\n"
      ]
     },
     "execution_count": 21,
     "metadata": {},
     "output_type": "execute_result"
    },
    {
     "data": {
      "text/plain": [
       "iteration804\t# current error = 0.00089116647326947\t\n"
      ]
     },
     "execution_count": 21,
     "metadata": {},
     "output_type": "execute_result"
    },
    {
     "data": {
      "text/plain": [
       "iteration805\t# current error = 0.00088960791414176\t\n"
      ]
     },
     "execution_count": 21,
     "metadata": {},
     "output_type": "execute_result"
    },
    {
     "data": {
      "text/plain": [
       "iteration806\t# current error = 0.00088816314000532\t\n"
      ]
     },
     "execution_count": 21,
     "metadata": {},
     "output_type": "execute_result"
    },
    {
     "data": {
      "text/plain": [
       "iteration807\t# current error = 0.00088691667472284\t\n"
      ]
     },
     "execution_count": 21,
     "metadata": {},
     "output_type": "execute_result"
    },
    {
     "data": {
      "text/plain": [
       "iteration808\t# current error = 0.00088530803962894\t\n"
      ]
     },
     "execution_count": 21,
     "metadata": {},
     "output_type": "execute_result"
    },
    {
     "data": {
      "text/plain": [
       "iteration809\t# current error = 0.00088410665923666\t\n"
      ]
     },
     "execution_count": 21,
     "metadata": {},
     "output_type": "execute_result"
    },
    {
     "data": {
      "text/plain": [
       "iteration810\t# current error = 0.00088251474962488\t\n"
      ]
     },
     "execution_count": 21,
     "metadata": {},
     "output_type": "execute_result"
    },
    {
     "data": {
      "text/plain": [
       "iteration811\t# current error = 0.00088130325720325\t\n"
      ]
     },
     "execution_count": 21,
     "metadata": {},
     "output_type": "execute_result"
    },
    {
     "data": {
      "text/plain": [
       "iteration812\t# current error = 0.00087962196150615\t\n"
      ]
     },
     "execution_count": 21,
     "metadata": {},
     "output_type": "execute_result"
    },
    {
     "data": {
      "text/plain": [
       "iteration813\t# current error = 0.00087812554326235\t\n"
      ]
     },
     "execution_count": 21,
     "metadata": {},
     "output_type": "execute_result"
    },
    {
     "data": {
      "text/plain": [
       "iteration814\t# current error = 0.0008767104632022\t\n"
      ]
     },
     "execution_count": 21,
     "metadata": {},
     "output_type": "execute_result"
    },
    {
     "data": {
      "text/plain": [
       "iteration815\t# current error = 0.00087525969020737\t\n"
      ]
     },
     "execution_count": 21,
     "metadata": {},
     "output_type": "execute_result"
    },
    {
     "data": {
      "text/plain": [
       "iteration816\t# current error = 0.00087433761255317\t\n"
      ]
     },
     "execution_count": 21,
     "metadata": {},
     "output_type": "execute_result"
    },
    {
     "data": {
      "text/plain": [
       "iteration817\t# current error = 0.00087243214563253\t\n"
      ]
     },
     "execution_count": 21,
     "metadata": {},
     "output_type": "execute_result"
    },
    {
     "data": {
      "text/plain": [
       "iteration818\t# current error = 0.00087107050639766\t\n"
      ]
     },
     "execution_count": 21,
     "metadata": {},
     "output_type": "execute_result"
    },
    {
     "data": {
      "text/plain": [
       "iteration819\t# current error = 0.00086964757728957\t\n"
      ]
     },
     "execution_count": 21,
     "metadata": {},
     "output_type": "execute_result"
    },
    {
     "data": {
      "text/plain": [
       "iteration820\t# current error = 0.00086862442534705\t\n"
      ]
     },
     "execution_count": 21,
     "metadata": {},
     "output_type": "execute_result"
    },
    {
     "data": {
      "text/plain": [
       "iteration821\t# current error = 0.0008669779809586\t\n"
      ]
     },
     "execution_count": 21,
     "metadata": {},
     "output_type": "execute_result"
    },
    {
     "data": {
      "text/plain": [
       "iteration822\t# current error = 0.00086577087010786\t\n"
      ]
     },
     "execution_count": 21,
     "metadata": {},
     "output_type": "execute_result"
    },
    {
     "data": {
      "text/plain": [
       "iteration823\t"
      ]
     },
     "execution_count": 21,
     "metadata": {},
     "output_type": "execute_result"
    },
    {
     "data": {
      "text/plain": [
       "# current error = 0.00086424819606882\t\n"
      ]
     },
     "execution_count": 21,
     "metadata": {},
     "output_type": "execute_result"
    },
    {
     "data": {
      "text/plain": [
       "iteration824\t# current error = 0.00086242281375139\t\n"
      ]
     },
     "execution_count": 21,
     "metadata": {},
     "output_type": "execute_result"
    },
    {
     "data": {
      "text/plain": [
       "iteration825\t# current error = 0.00086163242574973\t\n"
      ]
     },
     "execution_count": 21,
     "metadata": {},
     "output_type": "execute_result"
    },
    {
     "data": {
      "text/plain": [
       "iteration826\t# current error = 0.0008600155879937\t\n"
      ]
     },
     "execution_count": 21,
     "metadata": {},
     "output_type": "execute_result"
    },
    {
     "data": {
      "text/plain": [
       "iteration827\t# current error = 0.00085866393659659\t\n"
      ]
     },
     "execution_count": 21,
     "metadata": {},
     "output_type": "execute_result"
    },
    {
     "data": {
      "text/plain": [
       "iteration828\t# current error = 0.00085768030050849\t\n"
      ]
     },
     "execution_count": 21,
     "metadata": {},
     "output_type": "execute_result"
    },
    {
     "data": {
      "text/plain": [
       "iteration829\t# current error = 0.00085588173706163\t\n"
      ]
     },
     "execution_count": 21,
     "metadata": {},
     "output_type": "execute_result"
    },
    {
     "data": {
      "text/plain": [
       "iteration830\t# current error = 0.00085470807195898\t\n"
      ]
     },
     "execution_count": 21,
     "metadata": {},
     "output_type": "execute_result"
    },
    {
     "data": {
      "text/plain": [
       "iteration831\t# current error = 0.00085334255389191\t\n"
      ]
     },
     "execution_count": 21,
     "metadata": {},
     "output_type": "execute_result"
    },
    {
     "data": {
      "text/plain": [
       "iteration832\t# current error = 0.00085195785252479\t\n"
      ]
     },
     "execution_count": 21,
     "metadata": {},
     "output_type": "execute_result"
    },
    {
     "data": {
      "text/plain": [
       "iteration833\t# current error = 0.00085073732439858\t\n"
      ]
     },
     "execution_count": 21,
     "metadata": {},
     "output_type": "execute_result"
    },
    {
     "data": {
      "text/plain": [
       "iteration834\t# current error = 0.00084943798740887\t\n"
      ]
     },
     "execution_count": 21,
     "metadata": {},
     "output_type": "execute_result"
    },
    {
     "data": {
      "text/plain": [
       "iteration835\t# current error = 0.00084776815526799\t\n"
      ]
     },
     "execution_count": 21,
     "metadata": {},
     "output_type": "execute_result"
    },
    {
     "data": {
      "text/plain": [
       "iteration836\t# current error = 0.00084656226942753\t\n"
      ]
     },
     "execution_count": 21,
     "metadata": {},
     "output_type": "execute_result"
    },
    {
     "data": {
      "text/plain": [
       "iteration837\t# current error = 0.00084547316758234\t\n"
      ]
     },
     "execution_count": 21,
     "metadata": {},
     "output_type": "execute_result"
    },
    {
     "data": {
      "text/plain": [
       "iteration838\t# current error = 0.00084423349067181\t\n"
      ]
     },
     "execution_count": 21,
     "metadata": {},
     "output_type": "execute_result"
    },
    {
     "data": {
      "text/plain": [
       "iteration839\t# current error = 0.0008427829568391\t\n"
      ]
     },
     "execution_count": 21,
     "metadata": {},
     "output_type": "execute_result"
    },
    {
     "data": {
      "text/plain": [
       "iteration840\t# current error = 0.00084116141932826\t\n"
      ]
     },
     "execution_count": 21,
     "metadata": {},
     "output_type": "execute_result"
    },
    {
     "data": {
      "text/plain": [
       "iteration841\t# current error = 0.0008401880724234\t\n"
      ]
     },
     "execution_count": 21,
     "metadata": {},
     "output_type": "execute_result"
    },
    {
     "data": {
      "text/plain": [
       "iteration842\t# current error = 0.00083880939401417\t\n"
      ]
     },
     "execution_count": 21,
     "metadata": {},
     "output_type": "execute_result"
    },
    {
     "data": {
      "text/plain": [
       "iteration843\t# current error = 0.00083744198470404\t\n"
      ]
     },
     "execution_count": 21,
     "metadata": {},
     "output_type": "execute_result"
    },
    {
     "data": {
      "text/plain": [
       "iteration844\t# current error = 0.00083606457251697\t\n"
      ]
     },
     "execution_count": 21,
     "metadata": {},
     "output_type": "execute_result"
    },
    {
     "data": {
      "text/plain": [
       "iteration845\t# current error = 0.00083486426080963\t\n"
      ]
     },
     "execution_count": 21,
     "metadata": {},
     "output_type": "execute_result"
    },
    {
     "data": {
      "text/plain": [
       "iteration846\t# current error = 0.00083364316015272\t\n"
      ]
     },
     "execution_count": 21,
     "metadata": {},
     "output_type": "execute_result"
    },
    {
     "data": {
      "text/plain": [
       "iteration847\t# current error = 0.00083219714536497\t\n"
      ]
     },
     "execution_count": 21,
     "metadata": {},
     "output_type": "execute_result"
    },
    {
     "data": {
      "text/plain": [
       "iteration848\t# current error = 0.0008311855798451\t\n"
      ]
     },
     "execution_count": 21,
     "metadata": {},
     "output_type": "execute_result"
    },
    {
     "data": {
      "text/plain": [
       "iteration849\t# current error = 0.0008295275487904\t\n"
      ]
     },
     "execution_count": 21,
     "metadata": {},
     "output_type": "execute_result"
    },
    {
     "data": {
      "text/plain": [
       "iteration850\t# current error = 0.00082854360202617\t\n"
      ]
     },
     "execution_count": 21,
     "metadata": {},
     "output_type": "execute_result"
    },
    {
     "data": {
      "text/plain": [
       "iteration851\t# current error = 0.0008271409105347\t\n"
      ]
     },
     "execution_count": 21,
     "metadata": {},
     "output_type": "execute_result"
    },
    {
     "data": {
      "text/plain": [
       "iteration852\t# current error = 0.00082583895024736\t\n"
      ]
     },
     "execution_count": 21,
     "metadata": {},
     "output_type": "execute_result"
    },
    {
     "data": {
      "text/plain": [
       "iteration853\t# current error = 0.00082474239151373\t\n"
      ]
     },
     "execution_count": 21,
     "metadata": {},
     "output_type": "execute_result"
    },
    {
     "data": {
      "text/plain": [
       "iteration854\t# current error = 0.00082320880471084\t\n"
      ]
     },
     "execution_count": 21,
     "metadata": {},
     "output_type": "execute_result"
    },
    {
     "data": {
      "text/plain": [
       "iteration855\t# current error = 0.00082206747512023\t\n"
      ]
     },
     "execution_count": 21,
     "metadata": {},
     "output_type": "execute_result"
    },
    {
     "data": {
      "text/plain": [
       "iteration856\t# current error = 0.0008208673667943\t\n"
      ]
     },
     "execution_count": 21,
     "metadata": {},
     "output_type": "execute_result"
    },
    {
     "data": {
      "text/plain": [
       "iteration857\t# current error = 0.00081950456453708\t\n"
      ]
     },
     "execution_count": 21,
     "metadata": {},
     "output_type": "execute_result"
    },
    {
     "data": {
      "text/plain": [
       "iteration858\t# current error = 0.00081850052031787\t\n"
      ]
     },
     "execution_count": 21,
     "metadata": {},
     "output_type": "execute_result"
    },
    {
     "data": {
      "text/plain": [
       "iteration859\t# current error = 0.00081688652742888\t\n"
      ]
     },
     "execution_count": 21,
     "metadata": {},
     "output_type": "execute_result"
    },
    {
     "data": {
      "text/plain": [
       "iteration860\t# current error = 0.00081595306548429\t\n"
      ]
     },
     "execution_count": 21,
     "metadata": {},
     "output_type": "execute_result"
    },
    {
     "data": {
      "text/plain": [
       "iteration861\t# current error = 0.00081469371674011\t\n"
      ]
     },
     "execution_count": 21,
     "metadata": {},
     "output_type": "execute_result"
    },
    {
     "data": {
      "text/plain": [
       "iteration862\t# current error = 0.00081330532800851\t\n"
      ]
     },
     "execution_count": 21,
     "metadata": {},
     "output_type": "execute_result"
    },
    {
     "data": {
      "text/plain": [
       "iteration863\t# current error = 0.00081210541391722\t\n"
      ]
     },
     "execution_count": 21,
     "metadata": {},
     "output_type": "execute_result"
    },
    {
     "data": {
      "text/plain": [
       "iteration864\t# current error = 0.0008109654134414\t\n"
      ]
     },
     "execution_count": 21,
     "metadata": {},
     "output_type": "execute_result"
    },
    {
     "data": {
      "text/plain": [
       "iteration865\t# current error = 0.00080946962414187\t\n"
      ]
     },
     "execution_count": 21,
     "metadata": {},
     "output_type": "execute_result"
    },
    {
     "data": {
      "text/plain": [
       "iteration866\t# current error = 0.00080859365976256\t\n"
      ]
     },
     "execution_count": 21,
     "metadata": {},
     "output_type": "execute_result"
    },
    {
     "data": {
      "text/plain": [
       "iteration867\t# current error = 0.00080728712458266\t\n"
      ]
     },
     "execution_count": 21,
     "metadata": {},
     "output_type": "execute_result"
    },
    {
     "data": {
      "text/plain": [
       "iteration868\t# current error = 0.00080598554624101\t\n"
      ]
     },
     "execution_count": 21,
     "metadata": {},
     "output_type": "execute_result"
    },
    {
     "data": {
      "text/plain": [
       "iteration869\t# current error = 0.00080469788141707\t\n"
      ]
     },
     "execution_count": 21,
     "metadata": {},
     "output_type": "execute_result"
    },
    {
     "data": {
      "text/plain": [
       "iteration870\t# current error = 0.00080349296225424\t\n"
      ]
     },
     "execution_count": 21,
     "metadata": {},
     "output_type": "execute_result"
    },
    {
     "data": {
      "text/plain": [
       "iteration871\t# current error = 0.00080246878503612\t\n"
      ]
     },
     "execution_count": 21,
     "metadata": {},
     "output_type": "execute_result"
    },
    {
     "data": {
      "text/plain": [
       "iteration872\t# current error = 0.00080131590270142\t\n"
      ]
     },
     "execution_count": 21,
     "metadata": {},
     "output_type": "execute_result"
    },
    {
     "data": {
      "text/plain": [
       "iteration873\t# current error = 0.00079986866939565\t\n"
      ]
     },
     "execution_count": 21,
     "metadata": {},
     "output_type": "execute_result"
    },
    {
     "data": {
      "text/plain": [
       "iteration874\t# current error = 0.00079852870917086\t\n"
      ]
     },
     "execution_count": 21,
     "metadata": {},
     "output_type": "execute_result"
    },
    {
     "data": {
      "text/plain": [
       "iteration875\t# current error = 0.00079780825263337\t\n"
      ]
     },
     "execution_count": 21,
     "metadata": {},
     "output_type": "execute_result"
    },
    {
     "data": {
      "text/plain": [
       "iteration876\t# current error = 0.00079630609145275\t\n"
      ]
     },
     "execution_count": 21,
     "metadata": {},
     "output_type": "execute_result"
    },
    {
     "data": {
      "text/plain": [
       "iteration877\t# current error = 0.00079505328213805\t\n"
      ]
     },
     "execution_count": 21,
     "metadata": {},
     "output_type": "execute_result"
    },
    {
     "data": {
      "text/plain": [
       "iteration878\t# current error = 0.00079416758900894\t\n"
      ]
     },
     "execution_count": 21,
     "metadata": {},
     "output_type": "execute_result"
    },
    {
     "data": {
      "text/plain": [
       "iteration879\t# current error = 0.00079275052346662\t\n"
      ]
     },
     "execution_count": 21,
     "metadata": {},
     "output_type": "execute_result"
    },
    {
     "data": {
      "text/plain": [
       "iteration880\t# current error = 0.00079157291148405\t\n"
      ]
     },
     "execution_count": 21,
     "metadata": {},
     "output_type": "execute_result"
    },
    {
     "data": {
      "text/plain": [
       "iteration881\t# current error = 0.00079044208365588\t\n"
      ]
     },
     "execution_count": 21,
     "metadata": {},
     "output_type": "execute_result"
    },
    {
     "data": {
      "text/plain": [
       "iteration882\t# current error = 0.00078918680692685\t\n"
      ]
     },
     "execution_count": 21,
     "metadata": {},
     "output_type": "execute_result"
    },
    {
     "data": {
      "text/plain": [
       "iteration883\t# current error = 0.00078819607187079\t\n"
      ]
     },
     "execution_count": 21,
     "metadata": {},
     "output_type": "execute_result"
    },
    {
     "data": {
      "text/plain": [
       "iteration884\t# current error = 0.00078701760911522\t\n"
      ]
     },
     "execution_count": 21,
     "metadata": {},
     "output_type": "execute_result"
    },
    {
     "data": {
      "text/plain": [
       "iteration885\t# current error = 0.00078580294320044\t\n"
      ]
     },
     "execution_count": 21,
     "metadata": {},
     "output_type": "execute_result"
    },
    {
     "data": {
      "text/plain": [
       "iteration886\t# current error = 0.00078487722135747\t\n"
      ]
     },
     "execution_count": 21,
     "metadata": {},
     "output_type": "execute_result"
    },
    {
     "data": {
      "text/plain": [
       "iteration887\t# current error = 0.0007835653733369\t\n"
      ]
     },
     "execution_count": 21,
     "metadata": {},
     "output_type": "execute_result"
    },
    {
     "data": {
      "text/plain": [
       "iteration888\t# current error = 0.00078212193105725\t\n"
      ]
     },
     "execution_count": 21,
     "metadata": {},
     "output_type": "execute_result"
    },
    {
     "data": {
      "text/plain": [
       "iteration889\t# current error = 0.00078125399324069\t\n"
      ]
     },
     "execution_count": 21,
     "metadata": {},
     "output_type": "execute_result"
    },
    {
     "data": {
      "text/plain": [
       "iteration890\t# current error = 0.00078000508114103\t\n"
      ]
     },
     "execution_count": 21,
     "metadata": {},
     "output_type": "execute_result"
    },
    {
     "data": {
      "text/plain": [
       "iteration891\t# current error = 0.00077908355169225\t\n"
      ]
     },
     "execution_count": 21,
     "metadata": {},
     "output_type": "execute_result"
    },
    {
     "data": {
      "text/plain": [
       "iteration892\t# current error = 0.0007776571848328\t\n"
      ]
     },
     "execution_count": 21,
     "metadata": {},
     "output_type": "execute_result"
    },
    {
     "data": {
      "text/plain": [
       "iteration893\t# current error = 0.00077662527895147\t\n"
      ]
     },
     "execution_count": 21,
     "metadata": {},
     "output_type": "execute_result"
    },
    {
     "data": {
      "text/plain": [
       "iteration894\t# current error = 0.00077532281883861\t\n"
      ]
     },
     "execution_count": 21,
     "metadata": {},
     "output_type": "execute_result"
    },
    {
     "data": {
      "text/plain": [
       "iteration895\t# current error = 0.00077428040853868\t\n"
      ]
     },
     "execution_count": 21,
     "metadata": {},
     "output_type": "execute_result"
    },
    {
     "data": {
      "text/plain": [
       "iteration896\t# current error = 0.00077339573687898\t\n"
      ]
     },
     "execution_count": 21,
     "metadata": {},
     "output_type": "execute_result"
    },
    {
     "data": {
      "text/plain": [
       "iteration897\t# current error = 0.00077224613724445\t\n"
      ]
     },
     "execution_count": 21,
     "metadata": {},
     "output_type": "execute_result"
    },
    {
     "data": {
      "text/plain": [
       "iteration898\t# current error = 0.00077093804873636\t\n"
      ]
     },
     "execution_count": 21,
     "metadata": {},
     "output_type": "execute_result"
    },
    {
     "data": {
      "text/plain": [
       "iteration899\t# current error = 0.00076973898208242\t\n"
      ]
     },
     "execution_count": 21,
     "metadata": {},
     "output_type": "execute_result"
    },
    {
     "data": {
      "text/plain": [
       "iteration900\t# current error = 0.00076891569241012\t\n"
      ]
     },
     "execution_count": 21,
     "metadata": {},
     "output_type": "execute_result"
    },
    {
     "data": {
      "text/plain": [
       "iteration901\t# current error = 0.00076746922131916\t\n"
      ]
     },
     "execution_count": 21,
     "metadata": {},
     "output_type": "execute_result"
    },
    {
     "data": {
      "text/plain": [
       "iteration902\t# current error = 0.00076664386393428\t\n"
      ]
     },
     "execution_count": 21,
     "metadata": {},
     "output_type": "execute_result"
    },
    {
     "data": {
      "text/plain": [
       "iteration903\t# current error = 0.00076546642411548\t\n"
      ]
     },
     "execution_count": 21,
     "metadata": {},
     "output_type": "execute_result"
    },
    {
     "data": {
      "text/plain": [
       "iteration904\t# current error = 0.00076424452039781\t\n"
      ]
     },
     "execution_count": 21,
     "metadata": {},
     "output_type": "execute_result"
    },
    {
     "data": {
      "text/plain": [
       "iteration905\t# current error = 0.00076327698417494\t\n"
      ]
     },
     "execution_count": 21,
     "metadata": {},
     "output_type": "execute_result"
    },
    {
     "data": {
      "text/plain": [
       "iteration906\t# current error = 0.00076228638942402\t\n"
      ]
     },
     "execution_count": 21,
     "metadata": {},
     "output_type": "execute_result"
    },
    {
     "data": {
      "text/plain": [
       "iteration907\t# current error = 0.00076102539138445\t\n"
      ]
     },
     "execution_count": 21,
     "metadata": {},
     "output_type": "execute_result"
    },
    {
     "data": {
      "text/plain": [
       "iteration908\t# current error = 0.00075995357105279\t\n"
      ]
     },
     "execution_count": 21,
     "metadata": {},
     "output_type": "execute_result"
    },
    {
     "data": {
      "text/plain": [
       "iteration909\t# current error = 0.00075883273833984\t\n"
      ]
     },
     "execution_count": 21,
     "metadata": {},
     "output_type": "execute_result"
    },
    {
     "data": {
      "text/plain": [
       "iteration910\t# current error = 0.00075783431046974\t\n"
      ]
     },
     "execution_count": 21,
     "metadata": {},
     "output_type": "execute_result"
    },
    {
     "data": {
      "text/plain": [
       "iteration911\t# current error = 0.00075667623977266\t\n"
      ]
     },
     "execution_count": 21,
     "metadata": {},
     "output_type": "execute_result"
    },
    {
     "data": {
      "text/plain": [
       "iteration912\t# current error = 0.00075555556478346\t\n"
      ]
     },
     "execution_count": 21,
     "metadata": {},
     "output_type": "execute_result"
    },
    {
     "data": {
      "text/plain": [
       "iteration913\t# current error = 0.00075455402385339\t\n"
      ]
     },
     "execution_count": 21,
     "metadata": {},
     "output_type": "execute_result"
    },
    {
     "data": {
      "text/plain": [
       "iteration914\t# current error = 0.00075345766815092\t\n"
      ]
     },
     "execution_count": 21,
     "metadata": {},
     "output_type": "execute_result"
    },
    {
     "data": {
      "text/plain": [
       "iteration915\t# current error = 0.00075232602921324\t\n"
      ]
     },
     "execution_count": 21,
     "metadata": {},
     "output_type": "execute_result"
    },
    {
     "data": {
      "text/plain": [
       "iteration916\t# current error = 0.00075122804306402\t\n"
      ]
     },
     "execution_count": 21,
     "metadata": {},
     "output_type": "execute_result"
    },
    {
     "data": {
      "text/plain": [
       "iteration917\t# current error = 0.00075018964105997\t\n"
      ]
     },
     "execution_count": 21,
     "metadata": {},
     "output_type": "execute_result"
    },
    {
     "data": {
      "text/plain": [
       "iteration918\t# current error = 0.00074928273321821\t\n"
      ]
     },
     "execution_count": 21,
     "metadata": {},
     "output_type": "execute_result"
    },
    {
     "data": {
      "text/plain": [
       "iteration919\t# current error = 0.00074817362746548\t\n"
      ]
     },
     "execution_count": 21,
     "metadata": {},
     "output_type": "execute_result"
    },
    {
     "data": {
      "text/plain": [
       "iteration920\t# current error = 0.00074703663875427\t\n"
      ]
     },
     "execution_count": 21,
     "metadata": {},
     "output_type": "execute_result"
    },
    {
     "data": {
      "text/plain": [
       "iteration921\t# current error = 0.00074598764731061\t\n"
      ]
     },
     "execution_count": 21,
     "metadata": {},
     "output_type": "execute_result"
    },
    {
     "data": {
      "text/plain": [
       "iteration922\t# current error = 0.00074481206132853\t\n"
      ]
     },
     "execution_count": 21,
     "metadata": {},
     "output_type": "execute_result"
    },
    {
     "data": {
      "text/plain": [
       "iteration923\t# current error = 0.00074394787471412\t\n"
      ]
     },
     "execution_count": 21,
     "metadata": {},
     "output_type": "execute_result"
    },
    {
     "data": {
      "text/plain": [
       "iteration924\t# current error = 0.00074281058738466\t\n"
      ]
     },
     "execution_count": 21,
     "metadata": {},
     "output_type": "execute_result"
    },
    {
     "data": {
      "text/plain": [
       "iteration925\t# current error = 0.00074176524892068\t\n"
      ]
     },
     "execution_count": 21,
     "metadata": {},
     "output_type": "execute_result"
    },
    {
     "data": {
      "text/plain": [
       "iteration926\t# current error = 0.00074077566711327\t\n"
      ]
     },
     "execution_count": 21,
     "metadata": {},
     "output_type": "execute_result"
    },
    {
     "data": {
      "text/plain": [
       "iteration927\t# current error = 0.00073988927966891\t\n"
      ]
     },
     "execution_count": 21,
     "metadata": {},
     "output_type": "execute_result"
    },
    {
     "data": {
      "text/plain": [
       "iteration928\t# current error = 0.00073868443559259\t\n"
      ]
     },
     "execution_count": 21,
     "metadata": {},
     "output_type": "execute_result"
    },
    {
     "data": {
      "text/plain": [
       "iteration929\t# current error = 0.00073757017001985\t\n"
      ]
     },
     "execution_count": 21,
     "metadata": {},
     "output_type": "execute_result"
    },
    {
     "data": {
      "text/plain": [
       "iteration930\t# current error = 0.00073657263169267\t\n"
      ]
     },
     "execution_count": 21,
     "metadata": {},
     "output_type": "execute_result"
    },
    {
     "data": {
      "text/plain": [
       "iteration931\t# current error = 0.0007355142683349\t\n"
      ]
     },
     "execution_count": 21,
     "metadata": {},
     "output_type": "execute_result"
    },
    {
     "data": {
      "text/plain": [
       "iteration932\t# current error = 0.0007346794095546\t\n"
      ]
     },
     "execution_count": 21,
     "metadata": {},
     "output_type": "execute_result"
    },
    {
     "data": {
      "text/plain": [
       "iteration933\t# current error = 0.00073368463342823\t\n"
      ]
     },
     "execution_count": 21,
     "metadata": {},
     "output_type": "execute_result"
    },
    {
     "data": {
      "text/plain": [
       "iteration934\t# current error = 0.00073238758614505\t\n"
      ]
     },
     "execution_count": 21,
     "metadata": {},
     "output_type": "execute_result"
    },
    {
     "data": {
      "text/plain": [
       "iteration935\t# current error = 0.00073151429331224\t\n"
      ]
     },
     "execution_count": 21,
     "metadata": {},
     "output_type": "execute_result"
    },
    {
     "data": {
      "text/plain": [
       "iteration936\t# current error = 0.00073049204706453\t\n"
      ]
     },
     "execution_count": 21,
     "metadata": {},
     "output_type": "execute_result"
    },
    {
     "data": {
      "text/plain": [
       "iteration937\t# current error = 0.00072950461462093\t\n"
      ]
     },
     "execution_count": 21,
     "metadata": {},
     "output_type": "execute_result"
    },
    {
     "data": {
      "text/plain": [
       "iteration938\t# current error = 0.00072851005967851\t\n"
      ]
     },
     "execution_count": 21,
     "metadata": {},
     "output_type": "execute_result"
    },
    {
     "data": {
      "text/plain": [
       "iteration939\t# current error = 0.00072748426457473\t\n"
      ]
     },
     "execution_count": 21,
     "metadata": {},
     "output_type": "execute_result"
    },
    {
     "data": {
      "text/plain": [
       "iteration940\t# current error = 0.00072634851573618\t\n"
      ]
     },
     "execution_count": 21,
     "metadata": {},
     "output_type": "execute_result"
    },
    {
     "data": {
      "text/plain": [
       "iteration941\t# current error = 0.00072542393084481\t\n"
      ]
     },
     "execution_count": 21,
     "metadata": {},
     "output_type": "execute_result"
    },
    {
     "data": {
      "text/plain": [
       "iteration942\t# current error = 0.00072446807692991\t\n"
      ]
     },
     "execution_count": 21,
     "metadata": {},
     "output_type": "execute_result"
    },
    {
     "data": {
      "text/plain": [
       "iteration943\t# current error = 0.00072343386719964\t\n"
      ]
     },
     "execution_count": 21,
     "metadata": {},
     "output_type": "execute_result"
    },
    {
     "data": {
      "text/plain": [
       "iteration944\t# current error = 0.00072257568539145\t\n"
      ]
     },
     "execution_count": 21,
     "metadata": {},
     "output_type": "execute_result"
    },
    {
     "data": {
      "text/plain": [
       "iteration945\t# current error = 0.00072144311891972\t\n"
      ]
     },
     "execution_count": 21,
     "metadata": {},
     "output_type": "execute_result"
    },
    {
     "data": {
      "text/plain": [
       "iteration946\t# current error = 0.00072042848343935\t\n"
      ]
     },
     "execution_count": 21,
     "metadata": {},
     "output_type": "execute_result"
    },
    {
     "data": {
      "text/plain": [
       "iteration947\t# current error = 0.0007194667239091\t\n"
      ]
     },
     "execution_count": 21,
     "metadata": {},
     "output_type": "execute_result"
    },
    {
     "data": {
      "text/plain": [
       "iteration948\t# current error = 0.00071833794153884\t\n"
      ]
     },
     "execution_count": 21,
     "metadata": {},
     "output_type": "execute_result"
    },
    {
     "data": {
      "text/plain": [
       "iteration949\t# current error = 0.00071773671984662\t\n"
      ]
     },
     "execution_count": 21,
     "metadata": {},
     "output_type": "execute_result"
    },
    {
     "data": {
      "text/plain": [
       "iteration950\t# current error = 0.00071638754541917\t\n"
      ]
     },
     "execution_count": 21,
     "metadata": {},
     "output_type": "execute_result"
    },
    {
     "data": {
      "text/plain": [
       "iteration951\t# current error = 0.00071579575173454\t\n"
      ]
     },
     "execution_count": 21,
     "metadata": {},
     "output_type": "execute_result"
    },
    {
     "data": {
      "text/plain": [
       "iteration952\t# current error = 0.00071450680208145\t\n"
      ]
     },
     "execution_count": 21,
     "metadata": {},
     "output_type": "execute_result"
    },
    {
     "data": {
      "text/plain": [
       "iteration953\t# current error = 0.00071353619978195\t\n"
      ]
     },
     "execution_count": 21,
     "metadata": {},
     "output_type": "execute_result"
    },
    {
     "data": {
      "text/plain": [
       "iteration954\t# current error = 0.00071257009621944\t\n"
      ]
     },
     "execution_count": 21,
     "metadata": {},
     "output_type": "execute_result"
    },
    {
     "data": {
      "text/plain": [
       "iteration955\t# current error = 0.00071171223763073\t\n"
      ]
     },
     "execution_count": 21,
     "metadata": {},
     "output_type": "execute_result"
    },
    {
     "data": {
      "text/plain": [
       "iteration956\t# current error = 0.00071072065148535\t\n"
      ]
     },
     "execution_count": 21,
     "metadata": {},
     "output_type": "execute_result"
    },
    {
     "data": {
      "text/plain": [
       "iteration957\t# current error = 0.00070980283984757\t\n"
      ]
     },
     "execution_count": 21,
     "metadata": {},
     "output_type": "execute_result"
    },
    {
     "data": {
      "text/plain": [
       "iteration958\t# current error = 0.00070873032154304\t\n"
      ]
     },
     "execution_count": 21,
     "metadata": {},
     "output_type": "execute_result"
    },
    {
     "data": {
      "text/plain": [
       "iteration959\t# current error = 0.00070774638729521\t\n"
      ]
     },
     "execution_count": 21,
     "metadata": {},
     "output_type": "execute_result"
    },
    {
     "data": {
      "text/plain": [
       "iteration960\t# current error = 0.00070696098287943\t\n"
      ]
     },
     "execution_count": 21,
     "metadata": {},
     "output_type": "execute_result"
    },
    {
     "data": {
      "text/plain": [
       "iteration961\t# current error = 0.00070577962202434\t\n"
      ]
     },
     "execution_count": 21,
     "metadata": {},
     "output_type": "execute_result"
    },
    {
     "data": {
      "text/plain": [
       "iteration962\t# current error = 0.00070507442770206\t\n"
      ]
     },
     "execution_count": 21,
     "metadata": {},
     "output_type": "execute_result"
    },
    {
     "data": {
      "text/plain": [
       "iteration963\t# current error = 0.0007039591728651\t\n"
      ]
     },
     "execution_count": 21,
     "metadata": {},
     "output_type": "execute_result"
    },
    {
     "data": {
      "text/plain": [
       "iteration964\t# current error = 0.000703025408158\t\n"
      ]
     },
     "execution_count": 21,
     "metadata": {},
     "output_type": "execute_result"
    },
    {
     "data": {
      "text/plain": [
       "iteration965\t# current error = 0.00070233232841203\t\n"
      ]
     },
     "execution_count": 21,
     "metadata": {},
     "output_type": "execute_result"
    },
    {
     "data": {
      "text/plain": [
       "iteration966\t# current error = 0.0007012054359275\t\n"
      ]
     },
     "execution_count": 21,
     "metadata": {},
     "output_type": "execute_result"
    },
    {
     "data": {
      "text/plain": [
       "iteration967\t# current error = 0.00070019260446606\t\n"
      ]
     },
     "execution_count": 21,
     "metadata": {},
     "output_type": "execute_result"
    },
    {
     "data": {
      "text/plain": [
       "iteration968\t# current error = 0.00069924669939568\t\n"
      ]
     },
     "execution_count": 21,
     "metadata": {},
     "output_type": "execute_result"
    },
    {
     "data": {
      "text/plain": [
       "iteration969\t# current error = 0.00069826395436722\t\n"
      ]
     },
     "execution_count": 21,
     "metadata": {},
     "output_type": "execute_result"
    },
    {
     "data": {
      "text/plain": [
       "iteration970\t# current error = 0.00069750761304407\t\n"
      ]
     },
     "execution_count": 21,
     "metadata": {},
     "output_type": "execute_result"
    },
    {
     "data": {
      "text/plain": [
       "iteration971\t# current error = 0.00069643665672532\t\n"
      ]
     },
     "execution_count": 21,
     "metadata": {},
     "output_type": "execute_result"
    },
    {
     "data": {
      "text/plain": [
       "iteration972\t# current error = 0.00069554621504043\t\n"
      ]
     },
     "execution_count": 21,
     "metadata": {},
     "output_type": "execute_result"
    },
    {
     "data": {
      "text/plain": [
       "iteration973\t# current error = 0.00069473186160006\t\n"
      ]
     },
     "execution_count": 21,
     "metadata": {},
     "output_type": "execute_result"
    },
    {
     "data": {
      "text/plain": [
       "iteration974\t# current error = 0.00069375178775214\t\n"
      ]
     },
     "execution_count": 21,
     "metadata": {},
     "output_type": "execute_result"
    },
    {
     "data": {
      "text/plain": [
       "iteration975\t# current error = 0.0006928794441562\t\n"
      ]
     },
     "execution_count": 21,
     "metadata": {},
     "output_type": "execute_result"
    },
    {
     "data": {
      "text/plain": [
       "iteration976\t# current error = 0.00069190686688749\t\n"
      ]
     },
     "execution_count": 21,
     "metadata": {},
     "output_type": "execute_result"
    },
    {
     "data": {
      "text/plain": [
       "iteration977\t# current error = 0.0006908939923424\t\n"
      ]
     },
     "execution_count": 21,
     "metadata": {},
     "output_type": "execute_result"
    },
    {
     "data": {
      "text/plain": [
       "iteration978\t# current error = 0.00068999986692632\t\n"
      ]
     },
     "execution_count": 21,
     "metadata": {},
     "output_type": "execute_result"
    },
    {
     "data": {
      "text/plain": [
       "iteration979\t# current error = 0.00068909944056612\t\n"
      ]
     },
     "execution_count": 21,
     "metadata": {},
     "output_type": "execute_result"
    },
    {
     "data": {
      "text/plain": [
       "iteration980\t# current error = 0.00068839631025295\t\n"
      ]
     },
     "execution_count": 21,
     "metadata": {},
     "output_type": "execute_result"
    },
    {
     "data": {
      "text/plain": [
       "iteration981\t# current error = 0.00068742165336736\t\n"
      ]
     },
     "execution_count": 21,
     "metadata": {},
     "output_type": "execute_result"
    },
    {
     "data": {
      "text/plain": [
       "iteration982\t# current error = 0.00068640430184972\t\n"
      ]
     },
     "execution_count": 21,
     "metadata": {},
     "output_type": "execute_result"
    },
    {
     "data": {
      "text/plain": [
       "iteration983\t# current error = 0.0006854456771136\t\n"
      ]
     },
     "execution_count": 21,
     "metadata": {},
     "output_type": "execute_result"
    },
    {
     "data": {
      "text/plain": [
       "iteration984\t# current error = 0.00068450770006115\t\n"
      ]
     },
     "execution_count": 21,
     "metadata": {},
     "output_type": "execute_result"
    },
    {
     "data": {
      "text/plain": [
       "iteration985\t# current error = 0.00068377236834176\t\n"
      ]
     },
     "execution_count": 21,
     "metadata": {},
     "output_type": "execute_result"
    },
    {
     "data": {
      "text/plain": [
       "iteration986\t# current error = 0.00068290863241575\t\n"
      ]
     },
     "execution_count": 21,
     "metadata": {},
     "output_type": "execute_result"
    },
    {
     "data": {
      "text/plain": [
       "iteration987\t# current error = 0.00068191345762765\t\n"
      ]
     },
     "execution_count": 21,
     "metadata": {},
     "output_type": "execute_result"
    },
    {
     "data": {
      "text/plain": [
       "iteration988\t# current error = 0.00068098328654032\t\n"
      ]
     },
     "execution_count": 21,
     "metadata": {},
     "output_type": "execute_result"
    },
    {
     "data": {
      "text/plain": [
       "iteration989\t# current error = 0.00068012914494435\t\n"
      ]
     },
     "execution_count": 21,
     "metadata": {},
     "output_type": "execute_result"
    },
    {
     "data": {
      "text/plain": [
       "iteration990\t# current error = 0.00067933726627867\t\n"
      ]
     },
     "execution_count": 21,
     "metadata": {},
     "output_type": "execute_result"
    },
    {
     "data": {
      "text/plain": [
       "iteration991\t# current error = 0.0006783362800172\t\n"
      ]
     },
     "execution_count": 21,
     "metadata": {},
     "output_type": "execute_result"
    },
    {
     "data": {
      "text/plain": [
       "iteration992\t# current error = 0.00067742078658813\t\n"
      ]
     },
     "execution_count": 21,
     "metadata": {},
     "output_type": "execute_result"
    },
    {
     "data": {
      "text/plain": [
       "iteration993\t# current error = 0.00067677186764752\t\n"
      ]
     },
     "execution_count": 21,
     "metadata": {},
     "output_type": "execute_result"
    },
    {
     "data": {
      "text/plain": [
       "iteration994\t# current error = 0.00067571547422673\t\n"
      ]
     },
     "execution_count": 21,
     "metadata": {},
     "output_type": "execute_result"
    },
    {
     "data": {
      "text/plain": [
       "iteration995\t# current error = 0.00067481575860368\t\n"
      ]
     },
     "execution_count": 21,
     "metadata": {},
     "output_type": "execute_result"
    },
    {
     "data": {
      "text/plain": [
       "iteration996\t# current error = 0.0006740496603295\t\n"
      ]
     },
     "execution_count": 21,
     "metadata": {},
     "output_type": "execute_result"
    },
    {
     "data": {
      "text/plain": [
       "iteration997\t# current error = 0.00067307788629487\t\n"
      ]
     },
     "execution_count": 21,
     "metadata": {},
     "output_type": "execute_result"
    },
    {
     "data": {
      "text/plain": [
       "iteration998\t# current error = 0.00067218377590333\t\n"
      ]
     },
     "execution_count": 21,
     "metadata": {},
     "output_type": "execute_result"
    },
    {
     "data": {
      "text/plain": [
       "iteration999\t# current error = 0.00067145721007695\t\n"
      ]
     },
     "execution_count": 21,
     "metadata": {},
     "output_type": "execute_result"
    },
    {
     "data": {
      "text/plain": [
       "iteration1000\t# current error = 0.00067042771228823\t\n",
       "# StochasticGradient: you have reached the maximum number of iterations\t\n",
       "# training error = 0.00067042771228823\t\n"
      ]
     },
     "execution_count": 21,
     "metadata": {},
     "output_type": "execute_result"
    }
   ],
   "source": [
    "accuracy, loss = trainer:train(trainset)"
   ]
  },
  {
   "cell_type": "code",
   "execution_count": 29,
   "metadata": {
    "scrolled": true
   },
   "outputs": [
    {
     "data": {
      "text/html": [
       "<script type=\"text/javascript\">\n",
       "$(function() {\n",
       "    if (typeof (window._bokeh_onload_callbacks) === \"undefined\"){\n",
       "  window._bokeh_onload_callbacks = [];\n",
       "    }\n",
       "    function load_lib(url, callback){\n",
       "  window._bokeh_onload_callbacks.push(callback);\n",
       "  if (window._bokeh_is_loading){\n",
       "      console.log(\"Bokeh: BokehJS is being loaded, scheduling callback at\", new Date());\n",
       "      return null;\n",
       "  }\n",
       "  console.log(\"Bokeh: BokehJS not loaded, scheduling load and callback at\", new Date());\n",
       "  window._bokeh_is_loading = true;\n",
       "  var s = document.createElement('script');\n",
       "  s.src = url;\n",
       "  s.async = true;\n",
       "  s.onreadystatechange = s.onload = function(){\n",
       "      Bokeh.embed.inject_css(\"https://cdn.pydata.org/bokeh-0.7.0.min.css\");\n",
       "      window._bokeh_onload_callbacks.forEach(function(callback){callback()});\n",
       "  };\n",
       "  s.onerror = function(){\n",
       "      console.warn(\"failed to load library \" + url);\n",
       "  };\n",
       "  document.getElementsByTagName(\"head\")[0].appendChild(s);\n",
       "    }\n",
       "\n",
       "    bokehjs_url = \"https://cdn.pydata.org/bokeh-0.7.0.min.js\"\n",
       "\n",
       "    var elt = document.getElementById(\"7f1fcfe0-7917-4069-c046-69284709c8d2\");\n",
       "    if(elt==null) {\n",
       "  console.log(\"Bokeh: ERROR: autoload.js configured with elementid '7f1fcfe0-7917-4069-c046-69284709c8d2'\"\n",
       "        + \"but no matching script tag was found. \")\n",
       "  return false;\n",
       "    }\n",
       "\n",
       "    if(typeof(Bokeh) !== \"undefined\") {\n",
       "  console.log(\"Bokeh: BokehJS loaded, going straight to plotting\");\n",
       "  var modelid = \"a7e3bb83-d126-49ca-c94b-4c809f1d5cc5\";\n",
       "  var modeltype = \"Plot\";\n",
       "  var all_models = [{\"id\":\"e4d594f2-32f1-4460-c428-e5b98fbb0e87\",\"type\":\"ColumnDataSource\",\"attributes\":{\"data\":{\"y\":[3.621341284783,2.871077730291,2.7292952299165,2.6051526812212,2.5249319281463,2.4231398289955,2.3097348572736,2.2036338534915,2.1120390205886,2.012088883716,1.9173132317788,1.8054463010174,1.6963745707014,1.589074822393,1.4811153591373,1.3760892177017,1.2812438825934,1.1770974967933,1.0923775810159,1.0061690533371,0.92740813205799,0.86248622824051,0.78859374428462,0.73423686731145,0.67505887803657,0.62200239609302,0.57078784055175,0.52925954944499,0.49174160719561,0.45454566370686,0.41937077731556,0.38730021655889,0.35932286139347,0.33408755400171,0.30788704028072,0.28647928003422,0.26897158008898,0.24961290993484,0.23515297093615,0.22071272665097,0.20800067682989,0.19380008149818,0.18151647727595,0.172574189976,0.16051053372938,0.15156790581576,0.14503244146501,0.13583687364532,0.12902067163016,0.12283781024924,0.11643738790962,0.11088141118464,0.10580165668226,0.1003816849931,0.095886092484627,0.09186529696761,0.088265288635958,0.083788921137381,0.080173559692028,0.077045389171163,0.073390024740902,0.070724101195138,0.067709526604624,0.065025438034414,0.063012009787636,0.060581825594646,0.058035807817661,0.05587909881606,0.05412605732046,0.051351992175434,0.050260341702464,0.048124298296703,0.046544463433009,0.04484396333466,0.04353233644828,0.042329133573553,0.040898464947778,0.03990623677734,0.038595874829422,0.037463304361412,0.036276725290912,0.035299901227796,0.034531301199964,0.033512494567565,0.032623823660204,0.031649438499079,0.031030665757176,0.030170547294505,0.029508007183114,0.028671859580005,0.028000393577487,0.027392873171898,0.026698361339796,0.026217061424425,0.025660852413327,0.025088042205099,0.024449561924161,0.023958476001327,0.023484192103217,0.022989728727271,0.022516564524749,0.022068747059813,0.02167869110787,0.021271366166385,0.020878826793043,0.020413299902404,0.020100620508565,0.01970335356009,0.019336714217715,0.019006092151665,0.018611193504764,0.018348481063159,0.018014634086701,0.017710379309288,0.017431043903324,0.017134466517025,0.01682942777557,0.016538367492815,0.016293420794539,0.016048022640196,0.015777300728601,0.015520889349269,0.015308559320919,0.015062044719278,0.014826812635867,0.014589039034881,0.01440296976694,0.014148516334747,0.013979050638892,0.013785886183102,0.013599894713674,0.013384348603299,0.013205561781124,0.013005384514892,0.012873780251195,0.012663936732606,0.01250838862951,0.012352020977103,0.012178760284708,0.012028941266951,0.011866703294396,0.011728258888286,0.011583077715143,0.011413059678495,0.011289652490934,0.011160126293791,0.011020341308178,0.010893389913668,0.010761230750053,0.010624464823706,0.010491464321054,0.01038848400906,0.010261762769626,0.010167780610292,0.01003062920852,0.009904122824304,0.0098183693040065,0.0097155442772259,0.0095939713962839,0.0094960438209123,0.0094153548312761,0.0092897951001858,0.0091955132197472,0.0090932575759202,0.0090200646674066,0.008896625664876,0.0088206057074237,0.0087419573525479,0.0086254270607841,0.0085629413654621,0.0084798936614655,0.008388865633064,0.0083044314537958,0.0082059055945393,0.0081350819246645,0.0080674366084053,0.0079792005243321,0.0079202904114137,0.0078283150176922,0.0077735798571054,0.0077003383776227,0.007619187620546,0.0075348590395028,0.0074968802528977,0.0074102303532742,0.0073523047254555,0.0072736493565079,0.0072331856820378,0.0071527983824431,0.0070873766933109,0.0070449786417887,0.0069727959151451,0.0069193044949484,0.0068525613954473,0.0068159571430856,0.0067418828976566,0.0066945101634749,0.0066329653848229,0.00657974629567,0.0065259239394299,0.0064722056958527,0.0064273269194416,0.0063732400547799,0.0063151435191792,0.0062794226814479,0.0062248305356859,0.0061689682102596,0.0061306260438577,0.0060727187324565,0.0060393736090022,0.0059909310957969,0.0059426274382536,0.0058998718387516,0.0058551808375579,0.0058126884274337,0.0057634882044897,0.0057306379260045,0.0056874979835617,0.0056420439471807,0.005602820698493,0.0055678189777417,0.0055231009854509,0.0054840424508938,0.0054433367092579,0.0054069205460564,0.0053708499721015,0.0053356136410648,0.005296016939494,0.0052644330488053,0.0052213459425093,0.0051878179983433,0.0051594076733169,0.0051205749648901,0.0050797650495339,0.005053551974947,0.0050149390543462,0.0049853851638129,0.0049540197997743,0.0049181946103384,0.0048919341840281,0.0048609825824926,0.0048266560620285,0.0047959979831586,0.0047622955504968,0.0047320092343357,0.0047062069781973,0.0046747790198449,0.0046473686526384,0.0046187056040773,0.0045849356719773,0.0045637924917676,0.0045348180385502,0.0045051789830967,0.0044773495222647,0.0044512392077852,0.00442382195504,0.004399284059984,0.0043744028783384,0.0043490522654347,0.0043254235097992,0.0042967333636688,0.0042697315957283,0.0042450569685579,0.004223317334395,0.0041970302894685,0.0041731695979351,0.0041533819039932,0.0041291995311318,0.0041021237232157,0.0040790163963683,0.0040562896922112,0.0040376228525283,0.00401893082208,0.0039882138837085,0.003971646179709,0.0039492093073593,0.0039265647795485,0.0039064496823769,0.0038842193516107,0.0038663725339784,0.0038404313092843,0.0038267704128074,0.0038060597498043,0.0037799707660171,0.0037647554038561,0.0037461725891238,0.0037217165237291,0.0037039942686773,0.0036860719178777,0.0036673744624937,0.0036496291952336,0.0036297886033884,0.0036114284448617,0.0035937867760172,0.0035699778723628,0.0035600177904854,0.0035383535681184,0.0035222120733546,0.003505329913101,0.0034880684257499,0.0034693317599735,0.0034523011100557,0.0034354855775596,0.0034194878351106,0.003401018603353,0.0033870179169804,0.0033679563707487,0.0033546693757888,0.0033389409993102,0.0033207473532102,0.0033055732233708,0.0032893879499896,0.0032752936450296,0.0032616901027891,0.0032439981627864,0.0032277799843248,0.0032157183585011,0.003200412095114,0.0031845115814256,0.0031714609601375,0.0031548966245343,0.0031431281416448,0.0031280214465806,0.0031127096598184,0.0030999408389637,0.0030851605926231,0.0030725624930135,0.0030569381784137,0.0030461335590241,0.0030320879531571,0.0030163061159272,0.0030071839777033,0.0029913429645072,0.0029756687293626,0.0029647854632497,0.0029529231292661,0.0029394852993138,0.0029293240843831,0.0029135151390905,0.0029028833625955,0.0028879609130741,0.0028783565069954,0.002866116689661,0.0028532062827089,0.0028416269330423,0.0028306371294916,0.0028175367428818,0.0028069240973967,0.002793570071399,0.0027843007419102,0.0027713871766684,0.0027594771393993,0.0027503914076706,0.0027373523470883,0.0027253899067458,0.0027167454533348,0.0027042043164582,0.0026936928636999,0.0026836920574393,0.002672761700012,0.0026617410031992,0.0026518418989087,0.002639510910685,0.0026300156357158,0.0026209872242914,0.0026108104195059,0.0025988921560593,0.0025885410937313,0.0025788098250069,0.0025699008506178,0.0025612975303706,0.002548795907881,0.0025397958837572,0.0025313559770847,0.0025206076071438,0.0025115988500575,0.0025015821341029,0.0024918440913025,0.0024814174861007,0.0024738463646831,0.0024631560969124,0.0024557562353579,0.0024465074627375,0.0024377130523208,0.0024279084555657,0.0024177373977468,0.0024096805895618,0.0024024668680028,0.0023923185945143,0.0023847037532374,0.0023742549130242,0.0023678331940056,0.0023584350023291,0.0023493386132902,0.0023405728940955,0.0023322245437943,0.0023260625356705,0.0023162495183831,0.0023076626765195,0.0022999779020664,0.002292059567875,0.0022829803625589,0.0022757397448344,0.0022677748718921,0.0022596933416978,0.0022533371744344,0.0022440131608585,0.0022369256947989,0.0022276303755374,0.0022209127248888,0.0022141616085487,0.0022053627491222,0.002197775660534,0.0021929841485755,0.0021833806286195,0.0021759913908237,0.0021694447711648,0.0021613038257706,0.0021534567383997,0.0021474601741018,0.0021405005102207,0.0021319307615443,0.0021258799732663,0.0021196812844294,0.0021116073326463,0.0021041589222714,0.0020975811237747,0.0020910302091097,0.0020846364002224,0.0020778427848274,0.0020722055601558,0.0020638096002109,0.002057064485461,0.0020513231540942,0.0020441600725805,0.002037231905355,0.0020322904263739,0.0020243379571683,0.0020182937893101,0.0020123518065274,0.0020055933841556,0.0019997679307731,0.0019928430022743,0.0019871443737699,0.0019802832854053,0.0019744074612378,0.0019681397337132,0.0019621372712302,0.0019566672760919,0.0019495276316592,0.0019453996136565,0.0019380025388357,0.0019312458682006,0.0019275476930564,0.0019213638298422,0.001913857806692,0.0019085570535842,0.0019027885711857,0.0018976224976635,0.0018918460626213,0.0018867003649623,0.0018804484618428,0.0018740124611663,0.0018692507675911,0.0018623905425811,0.0018575065428557,0.0018527693390145,0.0018456185239882,0.001842021656207,0.0018347847266723,0.0018296916103346,0.0018251059331017,0.0018202797529404,0.0018132271319314,0.001808861484946,0.0018027475079782,0.0017982236404768,0.0017932991825578,0.0017866598114163,0.0017822891584239,0.0017767915427302,0.0017721750806938,0.001767204112046,0.0017619512413258,0.0017567038721598,0.0017519268516935,0.0017470282056054,0.0017425074849754,0.0017369676890846,0.0017313713662917,0.0017276768758403,0.0017222102016382,0.0017177205635509,0.0017128169054676,0.0017075274566797,0.0017032500990322,0.0016978779941913,0.001694595727568,0.0016898735440736,0.0016853027159889,0.0016801028761795,0.0016763427054239,0.0016709732196669,0.001666455569778,0.0016619155254503,0.0016587418822436,0.001652377341355,0.0016493352738573,0.0016441311395116,0.0016394770235682,0.0016349475841848,0.0016314113762932,0.0016269012955968,0.0016228191503695,0.0016175454477604,0.0016139127210547,0.0016095410086359,0.0016058473130578,0.0016004778750618,0.0015976714778445,0.0015930482902363,0.0015884429789763,0.0015841960624488,0.0015801806388687,0.0015763139529321,0.0015721738721769,0.0015676516235109,0.0015641759604893,0.001559739356366,0.0015561395785635,0.0015520981872695,0.001548711692131,0.0015442592945042,0.0015395785499638,0.0015366360592396,0.0015324921159595,0.0015281053380558,0.0015247155304655,0.0015204567820302,0.0015173495402598,0.001513544543086,0.0015089616834632,0.0015051515825329,0.0015022276561946,0.0014982831802677,0.0014946153439409,0.0014903650471267,0.0014872680334756,0.001483180539509,0.0014793403490082,0.0014757167202717,0.0014727390604498,0.0014687086313472,0.0014651618356568,0.0014610270930518,0.0014578637291413,0.0014547969916447,0.0014507004305883,0.0014471185689323,0.0014439155027181,0.0014404642245406,0.001436889828948,0.0014334502468971,0.0014302275536691,0.0014264856926586,0.0014233542037306,0.0014198225507286,0.0014167006860155,0.0014134320733466,0.0014094979749813,0.0014064826831443,0.0014030385783974,0.0013992581186951,0.0013969875890081,0.001393690612446,0.0013893453163419,0.0013863779336345,0.0013832053448516,0.001380227309296,0.0013775088355213,0.0013740926484154,0.0013704311362319,0.0013671178202249,0.0013638659151878,0.0013608656364541,0.0013582221176035,0.0013552189788399,0.0013520057075803,0.001348425037898,0.001345101455303,0.0013423796151599,0.0013397090396563,0.0013368173328548,0.0013331467709433,0.001330128674448,0.0013276206092513,0.0013244678294769,0.0013209722354018,0.0013187614508151,0.0013149548925133,0.0013128045966254,0.0013093767535351,0.0013069018413951,0.0013037834382507,0.0013007602112297,0.0012978069590485,0.0012946094442346,0.0012924294365555,0.0012893275903512,0.001286634801299,0.0012837699780693,0.001280646393816,0.0012771656015235,0.0012755182597787,0.001272630073324,0.0012698163961176,0.0012667433116175,0.0012638138949049,0.0012615663993207,0.0012589560776426,0.0012554290854368,0.0012532282577963,0.0012510641400237,0.0012476325913246,0.0012447490204346,0.0012429879064288,0.0012397527266101,0.001236975094693,0.0012347696588581,0.0012317826489997,0.001229396494331,0.0012268324825069,0.0012237640693939,0.0012215540244335,0.0012193846268538,0.0012161006343841,0.0012130414011082,0.001211347588603,0.0012088567282561,0.001206361787778,0.0012038339744505,0.0012006333599025,0.0011987363657612,0.0011966645187028,0.0011932720822837,0.001191107670044,0.0011888025442582,0.0011857033229502,0.0011843302742669,0.0011811246237734,0.0011794665339149,0.0011769047541127,0.0011744014750267,0.0011715937561033,0.0011691800266793,0.0011673409631099,0.001164923617806,0.0011623430311305,0.0011598441771526,0.0011574649880815,0.0011549054513807,0.0011529322602446,0.0011500727501341,0.001148337259335,0.0011456034427188,0.0011435582794444,0.0011413309175342,0.0011389761394586,0.0011368560227832,0.0011342969820839,0.0011322865725706,0.0011298385490972,0.0011272291728833,0.0011252889067276,0.0011231512710317,0.0011207847245927,0.0011189927270713,0.001116670501371,0.001114080163113,0.0011119811546288,0.0011097707717671,0.0011078313065752,0.0011053663231701,0.0011036721442221,0.0011016553747429,0.001098691031445,0.0010971077297293,0.0010951901046586,0.0010924926780962,0.0010905989837346,0.0010886088999156,0.0010867215715157,0.0010843196618956,0.001082864513941,0.0010801381523509,0.0010781561553854,0.0010763735875077,0.0010738880309057,0.0010719882809931,0.0010699473259042,0.0010679339469201,0.0010658714445345,0.0010641398953928,0.0010623698793053,0.0010597495266331,0.0010578315241612,0.0010556696573185,0.0010540886426771,0.0010520356867534,0.0010500568130625,0.0010481968408962,0.0010460797104849,0.0010441231036346,0.0010428358397144,0.001039854831998,0.0010383769172736,0.0010367351639398,0.0010342130319652,0.0010327311760915,0.0010308981898334,0.0010287115596171,0.0010269848484655,0.0010251277498684,0.001023398803094,0.0010212296081735,0.0010192990972188,0.0010180911963594,0.0010156033720435,0.0010139565155294,0.0010119978657127,0.0010102726584275,0.0010085759635599,0.0010066141609421,0.001004799753109,0.0010031428129282,0.001000834914469,0.00099933254506994,0.00099770781069416,0.00099582917025272,0.00099392926814835,0.00099259804412139,0.00099054402460437,0.00098866091928137,0.00098675497379306,0.00098528760776042,0.00098385957225298,0.00098176357117852,0.00097979393961121,0.00097837840954753,0.000976522117605,0.00097479657154121,0.00097329801275616,0.00097151735435095,0.00096955206311913,0.00096807690371199,0.00096646147953744,0.00096449953667342,0.00096293710933419,0.0009611407217609,0.00095972152173386,0.00095827048958262,0.00095609548828887,0.00095474610750364,0.00095311790804108,0.0009513469837481,0.00094963594722594,0.00094814414810179,0.00094651845232885,0.00094495518593109,0.00094319855897863,0.00094144244965601,0.00094021427879168,0.0009383459859082,0.0009367582275548,0.00093541079462606,0.00093366776505967,0.0009319921344134,0.00093064621432025,0.00092896545977068,0.00092730110443984,0.00092552406486254,0.00092408030242729,0.00092274314725469,0.00092122469886625,0.00091951874979514,0.00091755255992627,0.00091664026458273,0.00091502323538284,0.00091339629740779,0.00091182019696259,0.00091028600881467,0.00090906891732033,0.00090755271181973,0.00090588229389043,0.0009042036881736,0.00090321261275701,0.00090120445844212,0.00089997036621774,0.00089861714774043,0.00089664492348053,0.00089536629509896,0.00089412248538301,0.00089247289829421,0.00089116647326947,0.00088960791414176,0.00088816314000532,0.00088691667472284,0.00088530803962894,0.00088410665923666,0.00088251474962488,0.00088130325720325,0.00087962196150615,0.00087812554326235,0.0008767104632022,0.00087525969020737,0.00087433761255317,0.00087243214563253,0.00087107050639766,0.00086964757728957,0.00086862442534705,0.0008669779809586,0.00086577087010786,0.00086424819606882,0.00086242281375139,0.00086163242574973,0.0008600155879937,0.00085866393659659,0.00085768030050849,0.00085588173706163,0.00085470807195898,0.00085334255389191,0.00085195785252479,0.00085073732439858,0.00084943798740887,0.00084776815526799,0.00084656226942753,0.00084547316758234,0.00084423349067181,0.0008427829568391,0.00084116141932826,0.0008401880724234,0.00083880939401417,0.00083744198470404,0.00083606457251697,0.00083486426080963,0.00083364316015272,0.00083219714536497,0.0008311855798451,0.0008295275487904,0.00082854360202617,0.0008271409105347,0.00082583895024736,0.00082474239151373,0.00082320880471084,0.00082206747512023,0.0008208673667943,0.00081950456453708,0.00081850052031787,0.00081688652742888,0.00081595306548429,0.00081469371674011,0.00081330532800851,0.00081210541391722,0.0008109654134414,0.00080946962414187,0.00080859365976256,0.00080728712458266,0.00080598554624101,0.00080469788141707,0.00080349296225424,0.00080246878503612,0.00080131590270142,0.00079986866939565,0.00079852870917086,0.00079780825263337,0.00079630609145275,0.00079505328213805,0.00079416758900894,0.00079275052346662,0.00079157291148405,0.00079044208365588,0.00078918680692685,0.00078819607187079,0.00078701760911522,0.00078580294320044,0.00078487722135747,0.0007835653733369,0.00078212193105725,0.00078125399324069,0.00078000508114103,0.00077908355169225,0.0007776571848328,0.00077662527895147,0.00077532281883861,0.00077428040853868,0.00077339573687898,0.00077224613724445,0.00077093804873636,0.00076973898208242,0.00076891569241012,0.00076746922131916,0.00076664386393428,0.00076546642411548,0.00076424452039781,0.00076327698417494,0.00076228638942402,0.00076102539138445,0.00075995357105279,0.00075883273833984,0.00075783431046974,0.00075667623977266,0.00075555556478346,0.00075455402385339,0.00075345766815092,0.00075232602921324,0.00075122804306402,0.00075018964105997,0.00074928273321821,0.00074817362746548,0.00074703663875427,0.00074598764731061,0.00074481206132853,0.00074394787471412,0.00074281058738466,0.00074176524892068,0.00074077566711327,0.00073988927966891,0.00073868443559259,0.00073757017001985,0.00073657263169267,0.0007355142683349,0.0007346794095546,0.00073368463342823,0.00073238758614505,0.00073151429331224,0.00073049204706453,0.00072950461462093,0.00072851005967851,0.00072748426457473,0.00072634851573618,0.00072542393084481,0.00072446807692991,0.00072343386719964,0.00072257568539145,0.00072144311891972,0.00072042848343935,0.0007194667239091,0.00071833794153884,0.00071773671984662,0.00071638754541917,0.00071579575173454,0.00071450680208145,0.00071353619978195,0.00071257009621944,0.00071171223763073,0.00071072065148535,0.00070980283984757,0.00070873032154304,0.00070774638729521,0.00070696098287943,0.00070577962202434,0.00070507442770206,0.0007039591728651,0.000703025408158,0.00070233232841203,0.0007012054359275,0.00070019260446606,0.00069924669939568,0.00069826395436722,0.00069750761304407,0.00069643665672532,0.00069554621504043,0.00069473186160006,0.00069375178775214,0.0006928794441562,0.00069190686688749,0.0006908939923424,0.00068999986692632,0.00068909944056612,0.00068839631025295,0.00068742165336736,0.00068640430184972,0.0006854456771136,0.00068450770006115,0.00068377236834176,0.00068290863241575,0.00068191345762765,0.00068098328654032,0.00068012914494435,0.00067933726627867,0.0006783362800172,0.00067742078658813,0.00067677186764752,0.00067571547422673,0.00067481575860368,0.0006740496603295,0.00067307788629487,0.00067218377590333,0.00067145721007695,0.00067042771228823],\"x\":[1,2,3,4,5,6,7,8,9,10,11,12,13,14,15,16,17,18,19,20,21,22,23,24,25,26,27,28,29,30,31,32,33,34,35,36,37,38,39,40,41,42,43,44,45,46,47,48,49,50,51,52,53,54,55,56,57,58,59,60,61,62,63,64,65,66,67,68,69,70,71,72,73,74,75,76,77,78,79,80,81,82,83,84,85,86,87,88,89,90,91,92,93,94,95,96,97,98,99,100,101,102,103,104,105,106,107,108,109,110,111,112,113,114,115,116,117,118,119,120,121,122,123,124,125,126,127,128,129,130,131,132,133,134,135,136,137,138,139,140,141,142,143,144,145,146,147,148,149,150,151,152,153,154,155,156,157,158,159,160,161,162,163,164,165,166,167,168,169,170,171,172,173,174,175,176,177,178,179,180,181,182,183,184,185,186,187,188,189,190,191,192,193,194,195,196,197,198,199,200,201,202,203,204,205,206,207,208,209,210,211,212,213,214,215,216,217,218,219,220,221,222,223,224,225,226,227,228,229,230,231,232,233,234,235,236,237,238,239,240,241,242,243,244,245,246,247,248,249,250,251,252,253,254,255,256,257,258,259,260,261,262,263,264,265,266,267,268,269,270,271,272,273,274,275,276,277,278,279,280,281,282,283,284,285,286,287,288,289,290,291,292,293,294,295,296,297,298,299,300,301,302,303,304,305,306,307,308,309,310,311,312,313,314,315,316,317,318,319,320,321,322,323,324,325,326,327,328,329,330,331,332,333,334,335,336,337,338,339,340,341,342,343,344,345,346,347,348,349,350,351,352,353,354,355,356,357,358,359,360,361,362,363,364,365,366,367,368,369,370,371,372,373,374,375,376,377,378,379,380,381,382,383,384,385,386,387,388,389,390,391,392,393,394,395,396,397,398,399,400,401,402,403,404,405,406,407,408,409,410,411,412,413,414,415,416,417,418,419,420,421,422,423,424,425,426,427,428,429,430,431,432,433,434,435,436,437,438,439,440,441,442,443,444,445,446,447,448,449,450,451,452,453,454,455,456,457,458,459,460,461,462,463,464,465,466,467,468,469,470,471,472,473,474,475,476,477,478,479,480,481,482,483,484,485,486,487,488,489,490,491,492,493,494,495,496,497,498,499,500,501,502,503,504,505,506,507,508,509,510,511,512,513,514,515,516,517,518,519,520,521,522,523,524,525,526,527,528,529,530,531,532,533,534,535,536,537,538,539,540,541,542,543,544,545,546,547,548,549,550,551,552,553,554,555,556,557,558,559,560,561,562,563,564,565,566,567,568,569,570,571,572,573,574,575,576,577,578,579,580,581,582,583,584,585,586,587,588,589,590,591,592,593,594,595,596,597,598,599,600,601,602,603,604,605,606,607,608,609,610,611,612,613,614,615,616,617,618,619,620,621,622,623,624,625,626,627,628,629,630,631,632,633,634,635,636,637,638,639,640,641,642,643,644,645,646,647,648,649,650,651,652,653,654,655,656,657,658,659,660,661,662,663,664,665,666,667,668,669,670,671,672,673,674,675,676,677,678,679,680,681,682,683,684,685,686,687,688,689,690,691,692,693,694,695,696,697,698,699,700,701,702,703,704,705,706,707,708,709,710,711,712,713,714,715,716,717,718,719,720,721,722,723,724,725,726,727,728,729,730,731,732,733,734,735,736,737,738,739,740,741,742,743,744,745,746,747,748,749,750,751,752,753,754,755,756,757,758,759,760,761,762,763,764,765,766,767,768,769,770,771,772,773,774,775,776,777,778,779,780,781,782,783,784,785,786,787,788,789,790,791,792,793,794,795,796,797,798,799,800,801,802,803,804,805,806,807,808,809,810,811,812,813,814,815,816,817,818,819,820,821,822,823,824,825,826,827,828,829,830,831,832,833,834,835,836,837,838,839,840,841,842,843,844,845,846,847,848,849,850,851,852,853,854,855,856,857,858,859,860,861,862,863,864,865,866,867,868,869,870,871,872,873,874,875,876,877,878,879,880,881,882,883,884,885,886,887,888,889,890,891,892,893,894,895,896,897,898,899,900,901,902,903,904,905,906,907,908,909,910,911,912,913,914,915,916,917,918,919,920,921,922,923,924,925,926,927,928,929,930,931,932,933,934,935,936,937,938,939,940,941,942,943,944,945,946,947,948,949,950,951,952,953,954,955,956,957,958,959,960,961,962,963,964,965,966,967,968,969,970,971,972,973,974,975,976,977,978,979,980,981,982,983,984,985,986,987,988,989,990,991,992,993,994,995,996,997,998,999,1000]},\"column_names\":[\"y\",\"x\"],\"cont_ranges\":{},\"discrete_ranges\":{},\"selected\":[],\"id\":\"e4d594f2-32f1-4460-c428-e5b98fbb0e87\",\"doc\":null,\"tags\":[]}},{\"id\":\"212e59e4-0cd6-4c40-cc4a-cfdaa4acb58b\",\"type\":\"Line\",\"attributes\":{\"fill_alpha\":{\"units\":\"data\",\"value\":0.2},\"line_alpha\":{\"units\":\"data\",\"value\":1},\"doc\":null,\"size\":{\"units\":\"screen\",\"value\":10},\"fill_color\":{\"value\":\"red\"},\"line_color\":{\"value\":\"red\"},\"x\":{\"units\":\"data\",\"field\":\"x\"},\"id\":\"212e59e4-0cd6-4c40-cc4a-cfdaa4acb58b\",\"y\":{\"units\":\"data\",\"field\":\"y\"},\"tags\":[]}},{\"id\":\"89273cd8-6d23-4df6-cd1a-42378f8a7e9a\",\"type\":\"Line\",\"attributes\":{\"fill_alpha\":{\"units\":\"data\",\"value\":0.2},\"line_alpha\":{\"units\":\"data\",\"value\":1},\"doc\":null,\"size\":{\"units\":\"screen\",\"value\":10},\"fill_color\":{\"value\":\"red\"},\"line_color\":{\"value\":\"red\"},\"x\":{\"units\":\"data\",\"field\":\"x\"},\"id\":\"89273cd8-6d23-4df6-cd1a-42378f8a7e9a\",\"y\":{\"units\":\"data\",\"field\":\"y\"},\"tags\":[]}},{\"id\":\"45e4a512-9551-4e5f-cee5-3e6d9da34e00\",\"type\":\"GlyphRenderer\",\"attributes\":{\"name\":null,\"nonselection_glyph\":{\"type\":\"Line\",\"id\":\"89273cd8-6d23-4df6-cd1a-42378f8a7e9a\"},\"doc\":null,\"server_data_source\":null,\"data_source\":{\"type\":\"ColumnDataSource\",\"id\":\"e4d594f2-32f1-4460-c428-e5b98fbb0e87\"},\"glyph\":{\"type\":\"Line\",\"id\":\"212e59e4-0cd6-4c40-cc4a-cfdaa4acb58b\"},\"selection_glyph\":null,\"id\":\"45e4a512-9551-4e5f-cee5-3e6d9da34e00\",\"tags\":[]}},{\"id\":\"a3922ca4-c7de-40c7-c0ad-d4cfb7f56cba\",\"type\":\"DataRange1d\",\"attributes\":{\"sources\":[{\"columns\":[\"x\"],\"source\":{\"type\":\"ColumnDataSource\",\"id\":\"e4d594f2-32f1-4460-c428-e5b98fbb0e87\"}}],\"id\":\"a3922ca4-c7de-40c7-c0ad-d4cfb7f56cba\",\"tags\":[],\"doc\":null}},{\"id\":\"4939da6e-36bf-4afb-ca2a-4006179fb624\",\"type\":\"DataRange1d\",\"attributes\":{\"sources\":[{\"columns\":[\"y\"],\"source\":{\"type\":\"ColumnDataSource\",\"id\":\"e4d594f2-32f1-4460-c428-e5b98fbb0e87\"}}],\"id\":\"4939da6e-36bf-4afb-ca2a-4006179fb624\",\"tags\":[],\"doc\":null}},{\"id\":\"c8df6f6a-b270-4874-c8f5-3b8bfd569baf\",\"type\":\"ToolEvents\",\"attributes\":{\"tags\":[],\"id\":\"c8df6f6a-b270-4874-c8f5-3b8bfd569baf\",\"geometries\":[],\"doc\":null}},{\"id\":\"23879913-6391-4f80-cf31-e92e725ef749\",\"type\":\"BasicTickFormatter\",\"attributes\":{\"id\":\"23879913-6391-4f80-cf31-e92e725ef749\",\"tags\":[],\"doc\":null}},{\"id\":\"b288ad35-8be0-4312-c3c1-416659a8025a\",\"type\":\"BasicTicker\",\"attributes\":{\"num_minor_ticks\":5,\"id\":\"b288ad35-8be0-4312-c3c1-416659a8025a\",\"tags\":[],\"doc\":null}},{\"id\":\"830cf6f2-7149-4ef3-cece-6b4cb4f67204\",\"type\":\"LinearAxis\",\"attributes\":{\"formatter\":{\"type\":\"BasicTickFormatter\",\"id\":\"23879913-6391-4f80-cf31-e92e725ef749\"},\"ticker\":{\"type\":\"BasicTicker\",\"id\":\"b288ad35-8be0-4312-c3c1-416659a8025a\"},\"plot\":{\"id\":\"a7e3bb83-d126-49ca-c94b-4c809f1d5cc5\",\"type\":\"Plot\",\"subtype\":\"Figure\"},\"axis_label\":null,\"id\":\"830cf6f2-7149-4ef3-cece-6b4cb4f67204\",\"doc\":null,\"tags\":[]}},{\"id\":\"6140ca9d-a52e-4d3f-cd98-55f0642a7f93\",\"type\":\"Grid\",\"attributes\":{\"dimension\":0,\"plot\":{\"id\":\"a7e3bb83-d126-49ca-c94b-4c809f1d5cc5\",\"type\":\"Plot\",\"subtype\":\"Figure\"},\"ticker\":{\"type\":\"BasicTicker\",\"id\":\"b288ad35-8be0-4312-c3c1-416659a8025a\"},\"id\":\"6140ca9d-a52e-4d3f-cd98-55f0642a7f93\",\"doc\":null,\"tags\":[]}},{\"id\":\"a8f61d8e-a72d-4886-c8ed-b6194659ca84\",\"type\":\"BasicTickFormatter\",\"attributes\":{\"id\":\"a8f61d8e-a72d-4886-c8ed-b6194659ca84\",\"tags\":[],\"doc\":null}},{\"id\":\"708e795b-138d-45c0-c56e-560563dbf32a\",\"type\":\"BasicTicker\",\"attributes\":{\"num_minor_ticks\":5,\"id\":\"708e795b-138d-45c0-c56e-560563dbf32a\",\"tags\":[],\"doc\":null}},{\"id\":\"08e2a80b-d0fe-4fea-cf8b-c625ddd1969b\",\"type\":\"LinearAxis\",\"attributes\":{\"formatter\":{\"type\":\"BasicTickFormatter\",\"id\":\"a8f61d8e-a72d-4886-c8ed-b6194659ca84\"},\"ticker\":{\"type\":\"BasicTicker\",\"id\":\"708e795b-138d-45c0-c56e-560563dbf32a\"},\"plot\":{\"id\":\"a7e3bb83-d126-49ca-c94b-4c809f1d5cc5\",\"type\":\"Plot\",\"subtype\":\"Figure\"},\"axis_label\":null,\"id\":\"08e2a80b-d0fe-4fea-cf8b-c625ddd1969b\",\"doc\":null,\"tags\":[]}},{\"id\":\"588b7cef-d4f9-450b-c548-737b2521deb6\",\"type\":\"Grid\",\"attributes\":{\"dimension\":1,\"plot\":{\"id\":\"a7e3bb83-d126-49ca-c94b-4c809f1d5cc5\",\"type\":\"Plot\",\"subtype\":\"Figure\"},\"ticker\":{\"type\":\"BasicTicker\",\"id\":\"708e795b-138d-45c0-c56e-560563dbf32a\"},\"id\":\"588b7cef-d4f9-450b-c548-737b2521deb6\",\"doc\":null,\"tags\":[]}},{\"id\":\"0f0ba149-bc8a-4f94-cf19-030b6ce76dc3\",\"type\":\"PanTool\",\"attributes\":{\"plot\":{\"id\":\"a7e3bb83-d126-49ca-c94b-4c809f1d5cc5\",\"type\":\"Plot\",\"subtype\":\"Figure\"},\"dimensions\":[\"width\",\"height\"],\"id\":\"0f0ba149-bc8a-4f94-cf19-030b6ce76dc3\",\"doc\":null,\"tags\":[]}},{\"id\":\"0685b01d-263a-4577-c591-26630de864d0\",\"type\":\"WheelZoomTool\",\"attributes\":{\"plot\":{\"id\":\"a7e3bb83-d126-49ca-c94b-4c809f1d5cc5\",\"type\":\"Plot\",\"subtype\":\"Figure\"},\"dimensions\":[\"width\",\"height\"],\"id\":\"0685b01d-263a-4577-c591-26630de864d0\",\"doc\":null,\"tags\":[]}},{\"id\":\"8194236d-8fcf-43ea-c33f-2748f920a52f\",\"type\":\"BoxZoomTool\",\"attributes\":{\"plot\":{\"id\":\"a7e3bb83-d126-49ca-c94b-4c809f1d5cc5\",\"type\":\"Plot\",\"subtype\":\"Figure\"},\"id\":\"8194236d-8fcf-43ea-c33f-2748f920a52f\",\"tags\":[],\"doc\":null}},{\"id\":\"61b670da-8132-48d1-c8b1-0b6ea925446d\",\"type\":\"PreviewSaveTool\",\"attributes\":{\"plot\":{\"id\":\"a7e3bb83-d126-49ca-c94b-4c809f1d5cc5\",\"type\":\"Plot\",\"subtype\":\"Figure\"},\"id\":\"61b670da-8132-48d1-c8b1-0b6ea925446d\",\"tags\":[],\"doc\":null}},{\"id\":\"90df973b-2cd5-4107-c183-649b6e83dc89\",\"type\":\"ResizeTool\",\"attributes\":{\"plot\":{\"id\":\"a7e3bb83-d126-49ca-c94b-4c809f1d5cc5\",\"type\":\"Plot\",\"subtype\":\"Figure\"},\"id\":\"90df973b-2cd5-4107-c183-649b6e83dc89\",\"tags\":[],\"doc\":null}},{\"id\":\"76c5dc96-5853-42f8-c2b5-64b777be3292\",\"type\":\"ResetTool\",\"attributes\":{\"plot\":{\"id\":\"a7e3bb83-d126-49ca-c94b-4c809f1d5cc5\",\"type\":\"Plot\",\"subtype\":\"Figure\"},\"id\":\"76c5dc96-5853-42f8-c2b5-64b777be3292\",\"tags\":[],\"doc\":null}},{\"id\":\"792166c0-07cc-4a11-caf2-6392cfe06419\",\"type\":\"Legend\",\"attributes\":{\"plot\":{\"id\":\"a7e3bb83-d126-49ca-c94b-4c809f1d5cc5\",\"type\":\"Plot\",\"subtype\":\"Figure\"},\"legends\":[[\"loss\",[{\"type\":\"GlyphRenderer\",\"id\":\"45e4a512-9551-4e5f-cee5-3e6d9da34e00\"}]]],\"id\":\"792166c0-07cc-4a11-caf2-6392cfe06419\",\"doc\":null,\"tags\":[]}},{\"id\":\"a7e3bb83-d126-49ca-c94b-4c809f1d5cc5\",\"type\":\"Plot\",\"attributes\":{\"x_range\":{\"type\":\"DataRange1d\",\"id\":\"a3922ca4-c7de-40c7-c0ad-d4cfb7f56cba\"},\"tool_events\":{\"type\":\"ToolEvents\",\"id\":\"c8df6f6a-b270-4874-c8f5-3b8bfd569baf\"},\"below\":[{\"type\":\"LinearAxis\",\"id\":\"830cf6f2-7149-4ef3-cece-6b4cb4f67204\"}],\"renderers\":[{\"type\":\"GlyphRenderer\",\"id\":\"45e4a512-9551-4e5f-cee5-3e6d9da34e00\"},{\"type\":\"LinearAxis\",\"id\":\"830cf6f2-7149-4ef3-cece-6b4cb4f67204\"},{\"type\":\"Grid\",\"id\":\"6140ca9d-a52e-4d3f-cd98-55f0642a7f93\"},{\"type\":\"LinearAxis\",\"id\":\"08e2a80b-d0fe-4fea-cf8b-c625ddd1969b\"},{\"type\":\"Grid\",\"id\":\"588b7cef-d4f9-450b-c548-737b2521deb6\"},{\"type\":\"Legend\",\"id\":\"792166c0-07cc-4a11-caf2-6392cfe06419\"}],\"above\":[],\"tools\":[{\"type\":\"PanTool\",\"id\":\"0f0ba149-bc8a-4f94-cf19-030b6ce76dc3\"},{\"type\":\"WheelZoomTool\",\"id\":\"0685b01d-263a-4577-c591-26630de864d0\"},{\"type\":\"BoxZoomTool\",\"id\":\"8194236d-8fcf-43ea-c33f-2748f920a52f\"},{\"type\":\"PreviewSaveTool\",\"id\":\"61b670da-8132-48d1-c8b1-0b6ea925446d\"},{\"type\":\"ResizeTool\",\"id\":\"90df973b-2cd5-4107-c183-649b6e83dc89\"},{\"type\":\"ResetTool\",\"id\":\"76c5dc96-5853-42f8-c2b5-64b777be3292\"}],\"doc\":null,\"right\":[],\"title\":\"Loss\",\"extra_x_ranges\":{},\"left\":[{\"type\":\"LinearAxis\",\"id\":\"08e2a80b-d0fe-4fea-cf8b-c625ddd1969b\"}],\"y_range\":{\"type\":\"DataRange1d\",\"id\":\"4939da6e-36bf-4afb-ca2a-4006179fb624\"},\"id\":\"a7e3bb83-d126-49ca-c94b-4c809f1d5cc5\",\"extra_y_ranges\":{},\"tags\":[]}}];\n",
       "  Bokeh.load_models(all_models);\n",
       "  var model = Bokeh.Collections(modeltype).get(modelid);\n",
       "  $(\"#7f1fcfe0-7917-4069-c046-69284709c8d2\").html(''); // clear any previous plot in window_id\n",
       "  var view = new model.default_view({model: model, el: \"#7f1fcfe0-7917-4069-c046-69284709c8d2\"});\n",
       "    } else {\n",
       "  load_lib(bokehjs_url, function() {\n",
       "      console.log(\"Bokeh: BokehJS plotting callback run at\", new Date())\n",
       "      var modelid = \"a7e3bb83-d126-49ca-c94b-4c809f1d5cc5\";\n",
       "      var modeltype = \"Plot\";\n",
       "      var all_models = [{\"id\":\"e4d594f2-32f1-4460-c428-e5b98fbb0e87\",\"type\":\"ColumnDataSource\",\"attributes\":{\"data\":{\"y\":[3.621341284783,2.871077730291,2.7292952299165,2.6051526812212,2.5249319281463,2.4231398289955,2.3097348572736,2.2036338534915,2.1120390205886,2.012088883716,1.9173132317788,1.8054463010174,1.6963745707014,1.589074822393,1.4811153591373,1.3760892177017,1.2812438825934,1.1770974967933,1.0923775810159,1.0061690533371,0.92740813205799,0.86248622824051,0.78859374428462,0.73423686731145,0.67505887803657,0.62200239609302,0.57078784055175,0.52925954944499,0.49174160719561,0.45454566370686,0.41937077731556,0.38730021655889,0.35932286139347,0.33408755400171,0.30788704028072,0.28647928003422,0.26897158008898,0.24961290993484,0.23515297093615,0.22071272665097,0.20800067682989,0.19380008149818,0.18151647727595,0.172574189976,0.16051053372938,0.15156790581576,0.14503244146501,0.13583687364532,0.12902067163016,0.12283781024924,0.11643738790962,0.11088141118464,0.10580165668226,0.1003816849931,0.095886092484627,0.09186529696761,0.088265288635958,0.083788921137381,0.080173559692028,0.077045389171163,0.073390024740902,0.070724101195138,0.067709526604624,0.065025438034414,0.063012009787636,0.060581825594646,0.058035807817661,0.05587909881606,0.05412605732046,0.051351992175434,0.050260341702464,0.048124298296703,0.046544463433009,0.04484396333466,0.04353233644828,0.042329133573553,0.040898464947778,0.03990623677734,0.038595874829422,0.037463304361412,0.036276725290912,0.035299901227796,0.034531301199964,0.033512494567565,0.032623823660204,0.031649438499079,0.031030665757176,0.030170547294505,0.029508007183114,0.028671859580005,0.028000393577487,0.027392873171898,0.026698361339796,0.026217061424425,0.025660852413327,0.025088042205099,0.024449561924161,0.023958476001327,0.023484192103217,0.022989728727271,0.022516564524749,0.022068747059813,0.02167869110787,0.021271366166385,0.020878826793043,0.020413299902404,0.020100620508565,0.01970335356009,0.019336714217715,0.019006092151665,0.018611193504764,0.018348481063159,0.018014634086701,0.017710379309288,0.017431043903324,0.017134466517025,0.01682942777557,0.016538367492815,0.016293420794539,0.016048022640196,0.015777300728601,0.015520889349269,0.015308559320919,0.015062044719278,0.014826812635867,0.014589039034881,0.01440296976694,0.014148516334747,0.013979050638892,0.013785886183102,0.013599894713674,0.013384348603299,0.013205561781124,0.013005384514892,0.012873780251195,0.012663936732606,0.01250838862951,0.012352020977103,0.012178760284708,0.012028941266951,0.011866703294396,0.011728258888286,0.011583077715143,0.011413059678495,0.011289652490934,0.011160126293791,0.011020341308178,0.010893389913668,0.010761230750053,0.010624464823706,0.010491464321054,0.01038848400906,0.010261762769626,0.010167780610292,0.01003062920852,0.009904122824304,0.0098183693040065,0.0097155442772259,0.0095939713962839,0.0094960438209123,0.0094153548312761,0.0092897951001858,0.0091955132197472,0.0090932575759202,0.0090200646674066,0.008896625664876,0.0088206057074237,0.0087419573525479,0.0086254270607841,0.0085629413654621,0.0084798936614655,0.008388865633064,0.0083044314537958,0.0082059055945393,0.0081350819246645,0.0080674366084053,0.0079792005243321,0.0079202904114137,0.0078283150176922,0.0077735798571054,0.0077003383776227,0.007619187620546,0.0075348590395028,0.0074968802528977,0.0074102303532742,0.0073523047254555,0.0072736493565079,0.0072331856820378,0.0071527983824431,0.0070873766933109,0.0070449786417887,0.0069727959151451,0.0069193044949484,0.0068525613954473,0.0068159571430856,0.0067418828976566,0.0066945101634749,0.0066329653848229,0.00657974629567,0.0065259239394299,0.0064722056958527,0.0064273269194416,0.0063732400547799,0.0063151435191792,0.0062794226814479,0.0062248305356859,0.0061689682102596,0.0061306260438577,0.0060727187324565,0.0060393736090022,0.0059909310957969,0.0059426274382536,0.0058998718387516,0.0058551808375579,0.0058126884274337,0.0057634882044897,0.0057306379260045,0.0056874979835617,0.0056420439471807,0.005602820698493,0.0055678189777417,0.0055231009854509,0.0054840424508938,0.0054433367092579,0.0054069205460564,0.0053708499721015,0.0053356136410648,0.005296016939494,0.0052644330488053,0.0052213459425093,0.0051878179983433,0.0051594076733169,0.0051205749648901,0.0050797650495339,0.005053551974947,0.0050149390543462,0.0049853851638129,0.0049540197997743,0.0049181946103384,0.0048919341840281,0.0048609825824926,0.0048266560620285,0.0047959979831586,0.0047622955504968,0.0047320092343357,0.0047062069781973,0.0046747790198449,0.0046473686526384,0.0046187056040773,0.0045849356719773,0.0045637924917676,0.0045348180385502,0.0045051789830967,0.0044773495222647,0.0044512392077852,0.00442382195504,0.004399284059984,0.0043744028783384,0.0043490522654347,0.0043254235097992,0.0042967333636688,0.0042697315957283,0.0042450569685579,0.004223317334395,0.0041970302894685,0.0041731695979351,0.0041533819039932,0.0041291995311318,0.0041021237232157,0.0040790163963683,0.0040562896922112,0.0040376228525283,0.00401893082208,0.0039882138837085,0.003971646179709,0.0039492093073593,0.0039265647795485,0.0039064496823769,0.0038842193516107,0.0038663725339784,0.0038404313092843,0.0038267704128074,0.0038060597498043,0.0037799707660171,0.0037647554038561,0.0037461725891238,0.0037217165237291,0.0037039942686773,0.0036860719178777,0.0036673744624937,0.0036496291952336,0.0036297886033884,0.0036114284448617,0.0035937867760172,0.0035699778723628,0.0035600177904854,0.0035383535681184,0.0035222120733546,0.003505329913101,0.0034880684257499,0.0034693317599735,0.0034523011100557,0.0034354855775596,0.0034194878351106,0.003401018603353,0.0033870179169804,0.0033679563707487,0.0033546693757888,0.0033389409993102,0.0033207473532102,0.0033055732233708,0.0032893879499896,0.0032752936450296,0.0032616901027891,0.0032439981627864,0.0032277799843248,0.0032157183585011,0.003200412095114,0.0031845115814256,0.0031714609601375,0.0031548966245343,0.0031431281416448,0.0031280214465806,0.0031127096598184,0.0030999408389637,0.0030851605926231,0.0030725624930135,0.0030569381784137,0.0030461335590241,0.0030320879531571,0.0030163061159272,0.0030071839777033,0.0029913429645072,0.0029756687293626,0.0029647854632497,0.0029529231292661,0.0029394852993138,0.0029293240843831,0.0029135151390905,0.0029028833625955,0.0028879609130741,0.0028783565069954,0.002866116689661,0.0028532062827089,0.0028416269330423,0.0028306371294916,0.0028175367428818,0.0028069240973967,0.002793570071399,0.0027843007419102,0.0027713871766684,0.0027594771393993,0.0027503914076706,0.0027373523470883,0.0027253899067458,0.0027167454533348,0.0027042043164582,0.0026936928636999,0.0026836920574393,0.002672761700012,0.0026617410031992,0.0026518418989087,0.002639510910685,0.0026300156357158,0.0026209872242914,0.0026108104195059,0.0025988921560593,0.0025885410937313,0.0025788098250069,0.0025699008506178,0.0025612975303706,0.002548795907881,0.0025397958837572,0.0025313559770847,0.0025206076071438,0.0025115988500575,0.0025015821341029,0.0024918440913025,0.0024814174861007,0.0024738463646831,0.0024631560969124,0.0024557562353579,0.0024465074627375,0.0024377130523208,0.0024279084555657,0.0024177373977468,0.0024096805895618,0.0024024668680028,0.0023923185945143,0.0023847037532374,0.0023742549130242,0.0023678331940056,0.0023584350023291,0.0023493386132902,0.0023405728940955,0.0023322245437943,0.0023260625356705,0.0023162495183831,0.0023076626765195,0.0022999779020664,0.002292059567875,0.0022829803625589,0.0022757397448344,0.0022677748718921,0.0022596933416978,0.0022533371744344,0.0022440131608585,0.0022369256947989,0.0022276303755374,0.0022209127248888,0.0022141616085487,0.0022053627491222,0.002197775660534,0.0021929841485755,0.0021833806286195,0.0021759913908237,0.0021694447711648,0.0021613038257706,0.0021534567383997,0.0021474601741018,0.0021405005102207,0.0021319307615443,0.0021258799732663,0.0021196812844294,0.0021116073326463,0.0021041589222714,0.0020975811237747,0.0020910302091097,0.0020846364002224,0.0020778427848274,0.0020722055601558,0.0020638096002109,0.002057064485461,0.0020513231540942,0.0020441600725805,0.002037231905355,0.0020322904263739,0.0020243379571683,0.0020182937893101,0.0020123518065274,0.0020055933841556,0.0019997679307731,0.0019928430022743,0.0019871443737699,0.0019802832854053,0.0019744074612378,0.0019681397337132,0.0019621372712302,0.0019566672760919,0.0019495276316592,0.0019453996136565,0.0019380025388357,0.0019312458682006,0.0019275476930564,0.0019213638298422,0.001913857806692,0.0019085570535842,0.0019027885711857,0.0018976224976635,0.0018918460626213,0.0018867003649623,0.0018804484618428,0.0018740124611663,0.0018692507675911,0.0018623905425811,0.0018575065428557,0.0018527693390145,0.0018456185239882,0.001842021656207,0.0018347847266723,0.0018296916103346,0.0018251059331017,0.0018202797529404,0.0018132271319314,0.001808861484946,0.0018027475079782,0.0017982236404768,0.0017932991825578,0.0017866598114163,0.0017822891584239,0.0017767915427302,0.0017721750806938,0.001767204112046,0.0017619512413258,0.0017567038721598,0.0017519268516935,0.0017470282056054,0.0017425074849754,0.0017369676890846,0.0017313713662917,0.0017276768758403,0.0017222102016382,0.0017177205635509,0.0017128169054676,0.0017075274566797,0.0017032500990322,0.0016978779941913,0.001694595727568,0.0016898735440736,0.0016853027159889,0.0016801028761795,0.0016763427054239,0.0016709732196669,0.001666455569778,0.0016619155254503,0.0016587418822436,0.001652377341355,0.0016493352738573,0.0016441311395116,0.0016394770235682,0.0016349475841848,0.0016314113762932,0.0016269012955968,0.0016228191503695,0.0016175454477604,0.0016139127210547,0.0016095410086359,0.0016058473130578,0.0016004778750618,0.0015976714778445,0.0015930482902363,0.0015884429789763,0.0015841960624488,0.0015801806388687,0.0015763139529321,0.0015721738721769,0.0015676516235109,0.0015641759604893,0.001559739356366,0.0015561395785635,0.0015520981872695,0.001548711692131,0.0015442592945042,0.0015395785499638,0.0015366360592396,0.0015324921159595,0.0015281053380558,0.0015247155304655,0.0015204567820302,0.0015173495402598,0.001513544543086,0.0015089616834632,0.0015051515825329,0.0015022276561946,0.0014982831802677,0.0014946153439409,0.0014903650471267,0.0014872680334756,0.001483180539509,0.0014793403490082,0.0014757167202717,0.0014727390604498,0.0014687086313472,0.0014651618356568,0.0014610270930518,0.0014578637291413,0.0014547969916447,0.0014507004305883,0.0014471185689323,0.0014439155027181,0.0014404642245406,0.001436889828948,0.0014334502468971,0.0014302275536691,0.0014264856926586,0.0014233542037306,0.0014198225507286,0.0014167006860155,0.0014134320733466,0.0014094979749813,0.0014064826831443,0.0014030385783974,0.0013992581186951,0.0013969875890081,0.001393690612446,0.0013893453163419,0.0013863779336345,0.0013832053448516,0.001380227309296,0.0013775088355213,0.0013740926484154,0.0013704311362319,0.0013671178202249,0.0013638659151878,0.0013608656364541,0.0013582221176035,0.0013552189788399,0.0013520057075803,0.001348425037898,0.001345101455303,0.0013423796151599,0.0013397090396563,0.0013368173328548,0.0013331467709433,0.001330128674448,0.0013276206092513,0.0013244678294769,0.0013209722354018,0.0013187614508151,0.0013149548925133,0.0013128045966254,0.0013093767535351,0.0013069018413951,0.0013037834382507,0.0013007602112297,0.0012978069590485,0.0012946094442346,0.0012924294365555,0.0012893275903512,0.001286634801299,0.0012837699780693,0.001280646393816,0.0012771656015235,0.0012755182597787,0.001272630073324,0.0012698163961176,0.0012667433116175,0.0012638138949049,0.0012615663993207,0.0012589560776426,0.0012554290854368,0.0012532282577963,0.0012510641400237,0.0012476325913246,0.0012447490204346,0.0012429879064288,0.0012397527266101,0.001236975094693,0.0012347696588581,0.0012317826489997,0.001229396494331,0.0012268324825069,0.0012237640693939,0.0012215540244335,0.0012193846268538,0.0012161006343841,0.0012130414011082,0.001211347588603,0.0012088567282561,0.001206361787778,0.0012038339744505,0.0012006333599025,0.0011987363657612,0.0011966645187028,0.0011932720822837,0.001191107670044,0.0011888025442582,0.0011857033229502,0.0011843302742669,0.0011811246237734,0.0011794665339149,0.0011769047541127,0.0011744014750267,0.0011715937561033,0.0011691800266793,0.0011673409631099,0.001164923617806,0.0011623430311305,0.0011598441771526,0.0011574649880815,0.0011549054513807,0.0011529322602446,0.0011500727501341,0.001148337259335,0.0011456034427188,0.0011435582794444,0.0011413309175342,0.0011389761394586,0.0011368560227832,0.0011342969820839,0.0011322865725706,0.0011298385490972,0.0011272291728833,0.0011252889067276,0.0011231512710317,0.0011207847245927,0.0011189927270713,0.001116670501371,0.001114080163113,0.0011119811546288,0.0011097707717671,0.0011078313065752,0.0011053663231701,0.0011036721442221,0.0011016553747429,0.001098691031445,0.0010971077297293,0.0010951901046586,0.0010924926780962,0.0010905989837346,0.0010886088999156,0.0010867215715157,0.0010843196618956,0.001082864513941,0.0010801381523509,0.0010781561553854,0.0010763735875077,0.0010738880309057,0.0010719882809931,0.0010699473259042,0.0010679339469201,0.0010658714445345,0.0010641398953928,0.0010623698793053,0.0010597495266331,0.0010578315241612,0.0010556696573185,0.0010540886426771,0.0010520356867534,0.0010500568130625,0.0010481968408962,0.0010460797104849,0.0010441231036346,0.0010428358397144,0.001039854831998,0.0010383769172736,0.0010367351639398,0.0010342130319652,0.0010327311760915,0.0010308981898334,0.0010287115596171,0.0010269848484655,0.0010251277498684,0.001023398803094,0.0010212296081735,0.0010192990972188,0.0010180911963594,0.0010156033720435,0.0010139565155294,0.0010119978657127,0.0010102726584275,0.0010085759635599,0.0010066141609421,0.001004799753109,0.0010031428129282,0.001000834914469,0.00099933254506994,0.00099770781069416,0.00099582917025272,0.00099392926814835,0.00099259804412139,0.00099054402460437,0.00098866091928137,0.00098675497379306,0.00098528760776042,0.00098385957225298,0.00098176357117852,0.00097979393961121,0.00097837840954753,0.000976522117605,0.00097479657154121,0.00097329801275616,0.00097151735435095,0.00096955206311913,0.00096807690371199,0.00096646147953744,0.00096449953667342,0.00096293710933419,0.0009611407217609,0.00095972152173386,0.00095827048958262,0.00095609548828887,0.00095474610750364,0.00095311790804108,0.0009513469837481,0.00094963594722594,0.00094814414810179,0.00094651845232885,0.00094495518593109,0.00094319855897863,0.00094144244965601,0.00094021427879168,0.0009383459859082,0.0009367582275548,0.00093541079462606,0.00093366776505967,0.0009319921344134,0.00093064621432025,0.00092896545977068,0.00092730110443984,0.00092552406486254,0.00092408030242729,0.00092274314725469,0.00092122469886625,0.00091951874979514,0.00091755255992627,0.00091664026458273,0.00091502323538284,0.00091339629740779,0.00091182019696259,0.00091028600881467,0.00090906891732033,0.00090755271181973,0.00090588229389043,0.0009042036881736,0.00090321261275701,0.00090120445844212,0.00089997036621774,0.00089861714774043,0.00089664492348053,0.00089536629509896,0.00089412248538301,0.00089247289829421,0.00089116647326947,0.00088960791414176,0.00088816314000532,0.00088691667472284,0.00088530803962894,0.00088410665923666,0.00088251474962488,0.00088130325720325,0.00087962196150615,0.00087812554326235,0.0008767104632022,0.00087525969020737,0.00087433761255317,0.00087243214563253,0.00087107050639766,0.00086964757728957,0.00086862442534705,0.0008669779809586,0.00086577087010786,0.00086424819606882,0.00086242281375139,0.00086163242574973,0.0008600155879937,0.00085866393659659,0.00085768030050849,0.00085588173706163,0.00085470807195898,0.00085334255389191,0.00085195785252479,0.00085073732439858,0.00084943798740887,0.00084776815526799,0.00084656226942753,0.00084547316758234,0.00084423349067181,0.0008427829568391,0.00084116141932826,0.0008401880724234,0.00083880939401417,0.00083744198470404,0.00083606457251697,0.00083486426080963,0.00083364316015272,0.00083219714536497,0.0008311855798451,0.0008295275487904,0.00082854360202617,0.0008271409105347,0.00082583895024736,0.00082474239151373,0.00082320880471084,0.00082206747512023,0.0008208673667943,0.00081950456453708,0.00081850052031787,0.00081688652742888,0.00081595306548429,0.00081469371674011,0.00081330532800851,0.00081210541391722,0.0008109654134414,0.00080946962414187,0.00080859365976256,0.00080728712458266,0.00080598554624101,0.00080469788141707,0.00080349296225424,0.00080246878503612,0.00080131590270142,0.00079986866939565,0.00079852870917086,0.00079780825263337,0.00079630609145275,0.00079505328213805,0.00079416758900894,0.00079275052346662,0.00079157291148405,0.00079044208365588,0.00078918680692685,0.00078819607187079,0.00078701760911522,0.00078580294320044,0.00078487722135747,0.0007835653733369,0.00078212193105725,0.00078125399324069,0.00078000508114103,0.00077908355169225,0.0007776571848328,0.00077662527895147,0.00077532281883861,0.00077428040853868,0.00077339573687898,0.00077224613724445,0.00077093804873636,0.00076973898208242,0.00076891569241012,0.00076746922131916,0.00076664386393428,0.00076546642411548,0.00076424452039781,0.00076327698417494,0.00076228638942402,0.00076102539138445,0.00075995357105279,0.00075883273833984,0.00075783431046974,0.00075667623977266,0.00075555556478346,0.00075455402385339,0.00075345766815092,0.00075232602921324,0.00075122804306402,0.00075018964105997,0.00074928273321821,0.00074817362746548,0.00074703663875427,0.00074598764731061,0.00074481206132853,0.00074394787471412,0.00074281058738466,0.00074176524892068,0.00074077566711327,0.00073988927966891,0.00073868443559259,0.00073757017001985,0.00073657263169267,0.0007355142683349,0.0007346794095546,0.00073368463342823,0.00073238758614505,0.00073151429331224,0.00073049204706453,0.00072950461462093,0.00072851005967851,0.00072748426457473,0.00072634851573618,0.00072542393084481,0.00072446807692991,0.00072343386719964,0.00072257568539145,0.00072144311891972,0.00072042848343935,0.0007194667239091,0.00071833794153884,0.00071773671984662,0.00071638754541917,0.00071579575173454,0.00071450680208145,0.00071353619978195,0.00071257009621944,0.00071171223763073,0.00071072065148535,0.00070980283984757,0.00070873032154304,0.00070774638729521,0.00070696098287943,0.00070577962202434,0.00070507442770206,0.0007039591728651,0.000703025408158,0.00070233232841203,0.0007012054359275,0.00070019260446606,0.00069924669939568,0.00069826395436722,0.00069750761304407,0.00069643665672532,0.00069554621504043,0.00069473186160006,0.00069375178775214,0.0006928794441562,0.00069190686688749,0.0006908939923424,0.00068999986692632,0.00068909944056612,0.00068839631025295,0.00068742165336736,0.00068640430184972,0.0006854456771136,0.00068450770006115,0.00068377236834176,0.00068290863241575,0.00068191345762765,0.00068098328654032,0.00068012914494435,0.00067933726627867,0.0006783362800172,0.00067742078658813,0.00067677186764752,0.00067571547422673,0.00067481575860368,0.0006740496603295,0.00067307788629487,0.00067218377590333,0.00067145721007695,0.00067042771228823],\"x\":[1,2,3,4,5,6,7,8,9,10,11,12,13,14,15,16,17,18,19,20,21,22,23,24,25,26,27,28,29,30,31,32,33,34,35,36,37,38,39,40,41,42,43,44,45,46,47,48,49,50,51,52,53,54,55,56,57,58,59,60,61,62,63,64,65,66,67,68,69,70,71,72,73,74,75,76,77,78,79,80,81,82,83,84,85,86,87,88,89,90,91,92,93,94,95,96,97,98,99,100,101,102,103,104,105,106,107,108,109,110,111,112,113,114,115,116,117,118,119,120,121,122,123,124,125,126,127,128,129,130,131,132,133,134,135,136,137,138,139,140,141,142,143,144,145,146,147,148,149,150,151,152,153,154,155,156,157,158,159,160,161,162,163,164,165,166,167,168,169,170,171,172,173,174,175,176,177,178,179,180,181,182,183,184,185,186,187,188,189,190,191,192,193,194,195,196,197,198,199,200,201,202,203,204,205,206,207,208,209,210,211,212,213,214,215,216,217,218,219,220,221,222,223,224,225,226,227,228,229,230,231,232,233,234,235,236,237,238,239,240,241,242,243,244,245,246,247,248,249,250,251,252,253,254,255,256,257,258,259,260,261,262,263,264,265,266,267,268,269,270,271,272,273,274,275,276,277,278,279,280,281,282,283,284,285,286,287,288,289,290,291,292,293,294,295,296,297,298,299,300,301,302,303,304,305,306,307,308,309,310,311,312,313,314,315,316,317,318,319,320,321,322,323,324,325,326,327,328,329,330,331,332,333,334,335,336,337,338,339,340,341,342,343,344,345,346,347,348,349,350,351,352,353,354,355,356,357,358,359,360,361,362,363,364,365,366,367,368,369,370,371,372,373,374,375,376,377,378,379,380,381,382,383,384,385,386,387,388,389,390,391,392,393,394,395,396,397,398,399,400,401,402,403,404,405,406,407,408,409,410,411,412,413,414,415,416,417,418,419,420,421,422,423,424,425,426,427,428,429,430,431,432,433,434,435,436,437,438,439,440,441,442,443,444,445,446,447,448,449,450,451,452,453,454,455,456,457,458,459,460,461,462,463,464,465,466,467,468,469,470,471,472,473,474,475,476,477,478,479,480,481,482,483,484,485,486,487,488,489,490,491,492,493,494,495,496,497,498,499,500,501,502,503,504,505,506,507,508,509,510,511,512,513,514,515,516,517,518,519,520,521,522,523,524,525,526,527,528,529,530,531,532,533,534,535,536,537,538,539,540,541,542,543,544,545,546,547,548,549,550,551,552,553,554,555,556,557,558,559,560,561,562,563,564,565,566,567,568,569,570,571,572,573,574,575,576,577,578,579,580,581,582,583,584,585,586,587,588,589,590,591,592,593,594,595,596,597,598,599,600,601,602,603,604,605,606,607,608,609,610,611,612,613,614,615,616,617,618,619,620,621,622,623,624,625,626,627,628,629,630,631,632,633,634,635,636,637,638,639,640,641,642,643,644,645,646,647,648,649,650,651,652,653,654,655,656,657,658,659,660,661,662,663,664,665,666,667,668,669,670,671,672,673,674,675,676,677,678,679,680,681,682,683,684,685,686,687,688,689,690,691,692,693,694,695,696,697,698,699,700,701,702,703,704,705,706,707,708,709,710,711,712,713,714,715,716,717,718,719,720,721,722,723,724,725,726,727,728,729,730,731,732,733,734,735,736,737,738,739,740,741,742,743,744,745,746,747,748,749,750,751,752,753,754,755,756,757,758,759,760,761,762,763,764,765,766,767,768,769,770,771,772,773,774,775,776,777,778,779,780,781,782,783,784,785,786,787,788,789,790,791,792,793,794,795,796,797,798,799,800,801,802,803,804,805,806,807,808,809,810,811,812,813,814,815,816,817,818,819,820,821,822,823,824,825,826,827,828,829,830,831,832,833,834,835,836,837,838,839,840,841,842,843,844,845,846,847,848,849,850,851,852,853,854,855,856,857,858,859,860,861,862,863,864,865,866,867,868,869,870,871,872,873,874,875,876,877,878,879,880,881,882,883,884,885,886,887,888,889,890,891,892,893,894,895,896,897,898,899,900,901,902,903,904,905,906,907,908,909,910,911,912,913,914,915,916,917,918,919,920,921,922,923,924,925,926,927,928,929,930,931,932,933,934,935,936,937,938,939,940,941,942,943,944,945,946,947,948,949,950,951,952,953,954,955,956,957,958,959,960,961,962,963,964,965,966,967,968,969,970,971,972,973,974,975,976,977,978,979,980,981,982,983,984,985,986,987,988,989,990,991,992,993,994,995,996,997,998,999,1000]},\"column_names\":[\"y\",\"x\"],\"cont_ranges\":{},\"discrete_ranges\":{},\"selected\":[],\"id\":\"e4d594f2-32f1-4460-c428-e5b98fbb0e87\",\"doc\":null,\"tags\":[]}},{\"id\":\"212e59e4-0cd6-4c40-cc4a-cfdaa4acb58b\",\"type\":\"Line\",\"attributes\":{\"fill_alpha\":{\"units\":\"data\",\"value\":0.2},\"line_alpha\":{\"units\":\"data\",\"value\":1},\"doc\":null,\"size\":{\"units\":\"screen\",\"value\":10},\"fill_color\":{\"value\":\"red\"},\"line_color\":{\"value\":\"red\"},\"x\":{\"units\":\"data\",\"field\":\"x\"},\"id\":\"212e59e4-0cd6-4c40-cc4a-cfdaa4acb58b\",\"y\":{\"units\":\"data\",\"field\":\"y\"},\"tags\":[]}},{\"id\":\"89273cd8-6d23-4df6-cd1a-42378f8a7e9a\",\"type\":\"Line\",\"attributes\":{\"fill_alpha\":{\"units\":\"data\",\"value\":0.2},\"line_alpha\":{\"units\":\"data\",\"value\":1},\"doc\":null,\"size\":{\"units\":\"screen\",\"value\":10},\"fill_color\":{\"value\":\"red\"},\"line_color\":{\"value\":\"red\"},\"x\":{\"units\":\"data\",\"field\":\"x\"},\"id\":\"89273cd8-6d23-4df6-cd1a-42378f8a7e9a\",\"y\":{\"units\":\"data\",\"field\":\"y\"},\"tags\":[]}},{\"id\":\"45e4a512-9551-4e5f-cee5-3e6d9da34e00\",\"type\":\"GlyphRenderer\",\"attributes\":{\"name\":null,\"nonselection_glyph\":{\"type\":\"Line\",\"id\":\"89273cd8-6d23-4df6-cd1a-42378f8a7e9a\"},\"doc\":null,\"server_data_source\":null,\"data_source\":{\"type\":\"ColumnDataSource\",\"id\":\"e4d594f2-32f1-4460-c428-e5b98fbb0e87\"},\"glyph\":{\"type\":\"Line\",\"id\":\"212e59e4-0cd6-4c40-cc4a-cfdaa4acb58b\"},\"selection_glyph\":null,\"id\":\"45e4a512-9551-4e5f-cee5-3e6d9da34e00\",\"tags\":[]}},{\"id\":\"a3922ca4-c7de-40c7-c0ad-d4cfb7f56cba\",\"type\":\"DataRange1d\",\"attributes\":{\"sources\":[{\"columns\":[\"x\"],\"source\":{\"type\":\"ColumnDataSource\",\"id\":\"e4d594f2-32f1-4460-c428-e5b98fbb0e87\"}}],\"id\":\"a3922ca4-c7de-40c7-c0ad-d4cfb7f56cba\",\"tags\":[],\"doc\":null}},{\"id\":\"4939da6e-36bf-4afb-ca2a-4006179fb624\",\"type\":\"DataRange1d\",\"attributes\":{\"sources\":[{\"columns\":[\"y\"],\"source\":{\"type\":\"ColumnDataSource\",\"id\":\"e4d594f2-32f1-4460-c428-e5b98fbb0e87\"}}],\"id\":\"4939da6e-36bf-4afb-ca2a-4006179fb624\",\"tags\":[],\"doc\":null}},{\"id\":\"c8df6f6a-b270-4874-c8f5-3b8bfd569baf\",\"type\":\"ToolEvents\",\"attributes\":{\"tags\":[],\"id\":\"c8df6f6a-b270-4874-c8f5-3b8bfd569baf\",\"geometries\":[],\"doc\":null}},{\"id\":\"23879913-6391-4f80-cf31-e92e725ef749\",\"type\":\"BasicTickFormatter\",\"attributes\":{\"id\":\"23879913-6391-4f80-cf31-e92e725ef749\",\"tags\":[],\"doc\":null}},{\"id\":\"b288ad35-8be0-4312-c3c1-416659a8025a\",\"type\":\"BasicTicker\",\"attributes\":{\"num_minor_ticks\":5,\"id\":\"b288ad35-8be0-4312-c3c1-416659a8025a\",\"tags\":[],\"doc\":null}},{\"id\":\"830cf6f2-7149-4ef3-cece-6b4cb4f67204\",\"type\":\"LinearAxis\",\"attributes\":{\"formatter\":{\"type\":\"BasicTickFormatter\",\"id\":\"23879913-6391-4f80-cf31-e92e725ef749\"},\"ticker\":{\"type\":\"BasicTicker\",\"id\":\"b288ad35-8be0-4312-c3c1-416659a8025a\"},\"plot\":{\"id\":\"a7e3bb83-d126-49ca-c94b-4c809f1d5cc5\",\"type\":\"Plot\",\"subtype\":\"Figure\"},\"axis_label\":null,\"id\":\"830cf6f2-7149-4ef3-cece-6b4cb4f67204\",\"doc\":null,\"tags\":[]}},{\"id\":\"6140ca9d-a52e-4d3f-cd98-55f0642a7f93\",\"type\":\"Grid\",\"attributes\":{\"dimension\":0,\"plot\":{\"id\":\"a7e3bb83-d126-49ca-c94b-4c809f1d5cc5\",\"type\":\"Plot\",\"subtype\":\"Figure\"},\"ticker\":{\"type\":\"BasicTicker\",\"id\":\"b288ad35-8be0-4312-c3c1-416659a8025a\"},\"id\":\"6140ca9d-a52e-4d3f-cd98-55f0642a7f93\",\"doc\":null,\"tags\":[]}},{\"id\":\"a8f61d8e-a72d-4886-c8ed-b6194659ca84\",\"type\":\"BasicTickFormatter\",\"attributes\":{\"id\":\"a8f61d8e-a72d-4886-c8ed-b6194659ca84\",\"tags\":[],\"doc\":null}},{\"id\":\"708e795b-138d-45c0-c56e-560563dbf32a\",\"type\":\"BasicTicker\",\"attributes\":{\"num_minor_ticks\":5,\"id\":\"708e795b-138d-45c0-c56e-560563dbf32a\",\"tags\":[],\"doc\":null}},{\"id\":\"08e2a80b-d0fe-4fea-cf8b-c625ddd1969b\",\"type\":\"LinearAxis\",\"attributes\":{\"formatter\":{\"type\":\"BasicTickFormatter\",\"id\":\"a8f61d8e-a72d-4886-c8ed-b6194659ca84\"},\"ticker\":{\"type\":\"BasicTicker\",\"id\":\"708e795b-138d-45c0-c56e-560563dbf32a\"},\"plot\":{\"id\":\"a7e3bb83-d126-49ca-c94b-4c809f1d5cc5\",\"type\":\"Plot\",\"subtype\":\"Figure\"},\"axis_label\":null,\"id\":\"08e2a80b-d0fe-4fea-cf8b-c625ddd1969b\",\"doc\":null,\"tags\":[]}},{\"id\":\"588b7cef-d4f9-450b-c548-737b2521deb6\",\"type\":\"Grid\",\"attributes\":{\"dimension\":1,\"plot\":{\"id\":\"a7e3bb83-d126-49ca-c94b-4c809f1d5cc5\",\"type\":\"Plot\",\"subtype\":\"Figure\"},\"ticker\":{\"type\":\"BasicTicker\",\"id\":\"708e795b-138d-45c0-c56e-560563dbf32a\"},\"id\":\"588b7cef-d4f9-450b-c548-737b2521deb6\",\"doc\":null,\"tags\":[]}},{\"id\":\"0f0ba149-bc8a-4f94-cf19-030b6ce76dc3\",\"type\":\"PanTool\",\"attributes\":{\"plot\":{\"id\":\"a7e3bb83-d126-49ca-c94b-4c809f1d5cc5\",\"type\":\"Plot\",\"subtype\":\"Figure\"},\"dimensions\":[\"width\",\"height\"],\"id\":\"0f0ba149-bc8a-4f94-cf19-030b6ce76dc3\",\"doc\":null,\"tags\":[]}},{\"id\":\"0685b01d-263a-4577-c591-26630de864d0\",\"type\":\"WheelZoomTool\",\"attributes\":{\"plot\":{\"id\":\"a7e3bb83-d126-49ca-c94b-4c809f1d5cc5\",\"type\":\"Plot\",\"subtype\":\"Figure\"},\"dimensions\":[\"width\",\"height\"],\"id\":\"0685b01d-263a-4577-c591-26630de864d0\",\"doc\":null,\"tags\":[]}},{\"id\":\"8194236d-8fcf-43ea-c33f-2748f920a52f\",\"type\":\"BoxZoomTool\",\"attributes\":{\"plot\":{\"id\":\"a7e3bb83-d126-49ca-c94b-4c809f1d5cc5\",\"type\":\"Plot\",\"subtype\":\"Figure\"},\"id\":\"8194236d-8fcf-43ea-c33f-2748f920a52f\",\"tags\":[],\"doc\":null}},{\"id\":\"61b670da-8132-48d1-c8b1-0b6ea925446d\",\"type\":\"PreviewSaveTool\",\"attributes\":{\"plot\":{\"id\":\"a7e3bb83-d126-49ca-c94b-4c809f1d5cc5\",\"type\":\"Plot\",\"subtype\":\"Figure\"},\"id\":\"61b670da-8132-48d1-c8b1-0b6ea925446d\",\"tags\":[],\"doc\":null}},{\"id\":\"90df973b-2cd5-4107-c183-649b6e83dc89\",\"type\":\"ResizeTool\",\"attributes\":{\"plot\":{\"id\":\"a7e3bb83-d126-49ca-c94b-4c809f1d5cc5\",\"type\":\"Plot\",\"subtype\":\"Figure\"},\"id\":\"90df973b-2cd5-4107-c183-649b6e83dc89\",\"tags\":[],\"doc\":null}},{\"id\":\"76c5dc96-5853-42f8-c2b5-64b777be3292\",\"type\":\"ResetTool\",\"attributes\":{\"plot\":{\"id\":\"a7e3bb83-d126-49ca-c94b-4c809f1d5cc5\",\"type\":\"Plot\",\"subtype\":\"Figure\"},\"id\":\"76c5dc96-5853-42f8-c2b5-64b777be3292\",\"tags\":[],\"doc\":null}},{\"id\":\"792166c0-07cc-4a11-caf2-6392cfe06419\",\"type\":\"Legend\",\"attributes\":{\"plot\":{\"id\":\"a7e3bb83-d126-49ca-c94b-4c809f1d5cc5\",\"type\":\"Plot\",\"subtype\":\"Figure\"},\"legends\":[[\"loss\",[{\"type\":\"GlyphRenderer\",\"id\":\"45e4a512-9551-4e5f-cee5-3e6d9da34e00\"}]]],\"id\":\"792166c0-07cc-4a11-caf2-6392cfe06419\",\"doc\":null,\"tags\":[]}},{\"id\":\"a7e3bb83-d126-49ca-c94b-4c809f1d5cc5\",\"type\":\"Plot\",\"attributes\":{\"x_range\":{\"type\":\"DataRange1d\",\"id\":\"a3922ca4-c7de-40c7-c0ad-d4cfb7f56cba\"},\"tool_events\":{\"type\":\"ToolEvents\",\"id\":\"c8df6f6a-b270-4874-c8f5-3b8bfd569baf\"},\"below\":[{\"type\":\"LinearAxis\",\"id\":\"830cf6f2-7149-4ef3-cece-6b4cb4f67204\"}],\"renderers\":[{\"type\":\"GlyphRenderer\",\"id\":\"45e4a512-9551-4e5f-cee5-3e6d9da34e00\"},{\"type\":\"LinearAxis\",\"id\":\"830cf6f2-7149-4ef3-cece-6b4cb4f67204\"},{\"type\":\"Grid\",\"id\":\"6140ca9d-a52e-4d3f-cd98-55f0642a7f93\"},{\"type\":\"LinearAxis\",\"id\":\"08e2a80b-d0fe-4fea-cf8b-c625ddd1969b\"},{\"type\":\"Grid\",\"id\":\"588b7cef-d4f9-450b-c548-737b2521deb6\"},{\"type\":\"Legend\",\"id\":\"792166c0-07cc-4a11-caf2-6392cfe06419\"}],\"above\":[],\"tools\":[{\"type\":\"PanTool\",\"id\":\"0f0ba149-bc8a-4f94-cf19-030b6ce76dc3\"},{\"type\":\"WheelZoomTool\",\"id\":\"0685b01d-263a-4577-c591-26630de864d0\"},{\"type\":\"BoxZoomTool\",\"id\":\"8194236d-8fcf-43ea-c33f-2748f920a52f\"},{\"type\":\"PreviewSaveTool\",\"id\":\"61b670da-8132-48d1-c8b1-0b6ea925446d\"},{\"type\":\"ResizeTool\",\"id\":\"90df973b-2cd5-4107-c183-649b6e83dc89\"},{\"type\":\"ResetTool\",\"id\":\"76c5dc96-5853-42f8-c2b5-64b777be3292\"}],\"doc\":null,\"right\":[],\"title\":\"Loss\",\"extra_x_ranges\":{},\"left\":[{\"type\":\"LinearAxis\",\"id\":\"08e2a80b-d0fe-4fea-cf8b-c625ddd1969b\"}],\"y_range\":{\"type\":\"DataRange1d\",\"id\":\"4939da6e-36bf-4afb-ca2a-4006179fb624\"},\"id\":\"a7e3bb83-d126-49ca-c94b-4c809f1d5cc5\",\"extra_y_ranges\":{},\"tags\":[]}}];\n",
       "      Bokeh.load_models(all_models);\n",
       "      var model = Bokeh.Collections(modeltype).get(modelid);\n",
       "      $(\"#7f1fcfe0-7917-4069-c046-69284709c8d2\").html(''); // clear any previous plot in window_id\n",
       "      var view = new model.default_view({model: model, el: \"#7f1fcfe0-7917-4069-c046-69284709c8d2\"});\n",
       "  });\n",
       "    }\n",
       "});\n",
       "</script>\n",
       "<div class=\"plotdiv\" id=\"7f1fcfe0-7917-4069-c046-69284709c8d2\"></div>\n"
      ]
     },
     "metadata": {},
     "output_type": "display_data"
    },
    {
     "data": {
      "text/html": [
       "<script type=\"text/javascript\">\n",
       "$(function() {\n",
       "    if (typeof (window._bokeh_onload_callbacks) === \"undefined\"){\n",
       "  window._bokeh_onload_callbacks = [];\n",
       "    }\n",
       "    function load_lib(url, callback){\n",
       "  window._bokeh_onload_callbacks.push(callback);\n",
       "  if (window._bokeh_is_loading){\n",
       "      console.log(\"Bokeh: BokehJS is being loaded, scheduling callback at\", new Date());\n",
       "      return null;\n",
       "  }\n",
       "  console.log(\"Bokeh: BokehJS not loaded, scheduling load and callback at\", new Date());\n",
       "  window._bokeh_is_loading = true;\n",
       "  var s = document.createElement('script');\n",
       "  s.src = url;\n",
       "  s.async = true;\n",
       "  s.onreadystatechange = s.onload = function(){\n",
       "      Bokeh.embed.inject_css(\"https://cdn.pydata.org/bokeh-0.7.0.min.css\");\n",
       "      window._bokeh_onload_callbacks.forEach(function(callback){callback()});\n",
       "  };\n",
       "  s.onerror = function(){\n",
       "      console.warn(\"failed to load library \" + url);\n",
       "  };\n",
       "  document.getElementsByTagName(\"head\")[0].appendChild(s);\n",
       "    }\n",
       "\n",
       "    bokehjs_url = \"https://cdn.pydata.org/bokeh-0.7.0.min.js\"\n",
       "\n",
       "    var elt = document.getElementById(\"770a7879-85d9-44b5-c45b-cb85ada0e4b4\");\n",
       "    if(elt==null) {\n",
       "  console.log(\"Bokeh: ERROR: autoload.js configured with elementid '770a7879-85d9-44b5-c45b-cb85ada0e4b4'\"\n",
       "        + \"but no matching script tag was found. \")\n",
       "  return false;\n",
       "    }\n",
       "\n",
       "    if(typeof(Bokeh) !== \"undefined\") {\n",
       "  console.log(\"Bokeh: BokehJS loaded, going straight to plotting\");\n",
       "  var modelid = \"f83fad1e-ad56-4770-c740-c67b0fe5c05d\";\n",
       "  var modeltype = \"Plot\";\n",
       "  var all_models = [{\"id\":\"2172337d-ae1b-414a-c114-4be6e25c5ee3\",\"type\":\"ColumnDataSource\",\"attributes\":{\"data\":{\"y\":[21.052631578947,25,32.894736842105,31.578947368421,39.473684210526,44.736842105263,44.736842105263,56.578947368421,57.894736842105,57.894736842105,55.263157894737,59.210526315789,59.210526315789,61.842105263158,65.789473684211,67.105263157895,73.684210526316,72.368421052632,77.631578947368,78.947368421053,82.894736842105,85.526315789474,88.157894736842,89.473684210526,92.105263157895,90.789473684211,90.789473684211,92.105263157895,93.421052631579,93.421052631579,94.736842105263,96.052631578947,96.052631578947,100,100,100,100,100,100,98.684210526316,100,100,100,100,100,100,100,100,100,100,100,100,100,100,100,100,100,100,100,100,100,100,100,100,100,100,100,100,100,100,100,100,100,100,100,100,100,100,100,100,100,100,100,100,100,100,100,100,100,100,100,100,100,100,100,100,100,100,100,100,100,100,100,100,100,100,100,100,100,100,100,100,100,100,100,100,100,100,100,100,100,100,100,100,100,100,100,100,100,100,100,100,100,100,100,100,100,100,100,100,100,100,100,100,100,100,100,100,100,100,100,100,100,100,100,100,100,100,100,100,100,100,100,100,100,100,100,100,100,100,100,100,100,100,100,100,100,100,100,100,100,100,100,100,100,100,100,100,100,100,100,100,100,100,100,100,100,100,100,100,100,100,100,100,100,100,100,100,100,100,100,100,100,100,100,100,100,100,100,100,100,100,100,100,100,100,100,100,100,100,100,100,100,100,100,100,100,100,100,100,100,100,100,100,100,100,100,100,100,100,100,100,100,100,100,100,100,100,100,100,100,100,100,100,100,100,100,100,100,100,100,100,100,100,100,100,100,100,100,100,100,100,100,100,100,100,100,100,100,100,100,100,100,100,100,100,100,100,100,100,100,100,100,100,100,100,100,100,100,100,100,100,100,100,100,100,100,100,100,100,100,100,100,100,100,100,100,100,100,100,100,100,100,100,100,100,100,100,100,100,100,100,100,100,100,100,100,100,100,100,100,100,100,100,100,100,100,100,100,100,100,100,100,100,100,100,100,100,100,100,100,100,100,100,100,100,100,100,100,100,100,100,100,100,100,100,100,100,100,100,100,100,100,100,100,100,100,100,100,100,100,100,100,100,100,100,100,100,100,100,100,100,100,100,100,100,100,100,100,100,100,100,100,100,100,100,100,100,100,100,100,100,100,100,100,100,100,100,100,100,100,100,100,100,100,100,100,100,100,100,100,100,100,100,100,100,100,100,100,100,100,100,100,100,100,100,100,100,100,100,100,100,100,100,100,100,100,100,100,100,100,100,100,100,100,100,100,100,100,100,100,100,100,100,100,100,100,100,100,100,100,100,100,100,100,100,100,100,100,100,100,100,100,100,100,100,100,100,100,100,100,100,100,100,100,100,100,100,100,100,100,100,100,100,100,100,100,100,100,100,100,100,100,100,100,100,100,100,100,100,100,100,100,100,100,100,100,100,100,100,100,100,100,100,100,100,100,100,100,100,100,100,100,100,100,100,100,100,100,100,100,100,100,100,100,100,100,100,100,100,100,100,100,100,100,100,100,100,100,100,100,100,100,100,100,100,100,100,100,100,100,100,100,100,100,100,100,100,100,100,100,100,100,100,100,100,100,100,100,100,100,100,100,100,100,100,100,100,100,100,100,100,100,100,100,100,100,100,100,100,100,100,100,100,100,100,100,100,100,100,100,100,100,100,100,100,100,100,100,100,100,100,100,100,100,100,100,100,100,100,100,100,100,100,100,100,100,100,100,100,100,100,100,100,100,100,100,100,100,100,100,100,100,100,100,100,100,100,100,100,100,100,100,100,100,100,100,100,100,100,100,100,100,100,100,100,100,100,100,100,100,100,100,100,100,100,100,100,100,100,100,100,100,100,100,100,100,100,100,100,100,100,100,100,100,100,100,100,100,100,100,100,100,100,100,100,100,100,100,100,100,100,100,100,100,100,100,100,100,100,100,100,100,100,100,100,100,100,100,100,100,100,100,100,100,100,100,100,100,100,100,100,100,100,100,100,100,100,100,100,100,100,100,100,100,100,100,100,100,100,100,100,100,100,100,100,100,100,100,100,100,100,100,100,100,100,100,100,100,100,100,100,100,100,100,100,100,100,100,100,100,100,100,100,100,100,100,100,100,100,100,100,100,100,100,100,100,100,100,100,100,100,100,100,100,100,100,100,100,100,100,100,100,100,100,100,100,100,100,100,100,100,100,100,100,100,100,100,100,100,100,100,100,100,100,100,100,100,100,100,100,100,100,100,100,100,100,100,100,100,100,100,100,100,100,100,100,100,100,100,100,100,100,100,100,100,100,100,100,100,100,100,100,100,100,100,100,100,100,100,100,100,100,100,100,100,100,100,100,100,100,100,100,100,100,100,100,100,100,100,100,100,100,100,100,100,100,100,100,100,100,100,100,100,100,100,100,100,100,100,100,100,100,100,100,100,100,100,100,100],\"x\":[1,2,3,4,5,6,7,8,9,10,11,12,13,14,15,16,17,18,19,20,21,22,23,24,25,26,27,28,29,30,31,32,33,34,35,36,37,38,39,40,41,42,43,44,45,46,47,48,49,50,51,52,53,54,55,56,57,58,59,60,61,62,63,64,65,66,67,68,69,70,71,72,73,74,75,76,77,78,79,80,81,82,83,84,85,86,87,88,89,90,91,92,93,94,95,96,97,98,99,100,101,102,103,104,105,106,107,108,109,110,111,112,113,114,115,116,117,118,119,120,121,122,123,124,125,126,127,128,129,130,131,132,133,134,135,136,137,138,139,140,141,142,143,144,145,146,147,148,149,150,151,152,153,154,155,156,157,158,159,160,161,162,163,164,165,166,167,168,169,170,171,172,173,174,175,176,177,178,179,180,181,182,183,184,185,186,187,188,189,190,191,192,193,194,195,196,197,198,199,200,201,202,203,204,205,206,207,208,209,210,211,212,213,214,215,216,217,218,219,220,221,222,223,224,225,226,227,228,229,230,231,232,233,234,235,236,237,238,239,240,241,242,243,244,245,246,247,248,249,250,251,252,253,254,255,256,257,258,259,260,261,262,263,264,265,266,267,268,269,270,271,272,273,274,275,276,277,278,279,280,281,282,283,284,285,286,287,288,289,290,291,292,293,294,295,296,297,298,299,300,301,302,303,304,305,306,307,308,309,310,311,312,313,314,315,316,317,318,319,320,321,322,323,324,325,326,327,328,329,330,331,332,333,334,335,336,337,338,339,340,341,342,343,344,345,346,347,348,349,350,351,352,353,354,355,356,357,358,359,360,361,362,363,364,365,366,367,368,369,370,371,372,373,374,375,376,377,378,379,380,381,382,383,384,385,386,387,388,389,390,391,392,393,394,395,396,397,398,399,400,401,402,403,404,405,406,407,408,409,410,411,412,413,414,415,416,417,418,419,420,421,422,423,424,425,426,427,428,429,430,431,432,433,434,435,436,437,438,439,440,441,442,443,444,445,446,447,448,449,450,451,452,453,454,455,456,457,458,459,460,461,462,463,464,465,466,467,468,469,470,471,472,473,474,475,476,477,478,479,480,481,482,483,484,485,486,487,488,489,490,491,492,493,494,495,496,497,498,499,500,501,502,503,504,505,506,507,508,509,510,511,512,513,514,515,516,517,518,519,520,521,522,523,524,525,526,527,528,529,530,531,532,533,534,535,536,537,538,539,540,541,542,543,544,545,546,547,548,549,550,551,552,553,554,555,556,557,558,559,560,561,562,563,564,565,566,567,568,569,570,571,572,573,574,575,576,577,578,579,580,581,582,583,584,585,586,587,588,589,590,591,592,593,594,595,596,597,598,599,600,601,602,603,604,605,606,607,608,609,610,611,612,613,614,615,616,617,618,619,620,621,622,623,624,625,626,627,628,629,630,631,632,633,634,635,636,637,638,639,640,641,642,643,644,645,646,647,648,649,650,651,652,653,654,655,656,657,658,659,660,661,662,663,664,665,666,667,668,669,670,671,672,673,674,675,676,677,678,679,680,681,682,683,684,685,686,687,688,689,690,691,692,693,694,695,696,697,698,699,700,701,702,703,704,705,706,707,708,709,710,711,712,713,714,715,716,717,718,719,720,721,722,723,724,725,726,727,728,729,730,731,732,733,734,735,736,737,738,739,740,741,742,743,744,745,746,747,748,749,750,751,752,753,754,755,756,757,758,759,760,761,762,763,764,765,766,767,768,769,770,771,772,773,774,775,776,777,778,779,780,781,782,783,784,785,786,787,788,789,790,791,792,793,794,795,796,797,798,799,800,801,802,803,804,805,806,807,808,809,810,811,812,813,814,815,816,817,818,819,820,821,822,823,824,825,826,827,828,829,830,831,832,833,834,835,836,837,838,839,840,841,842,843,844,845,846,847,848,849,850,851,852,853,854,855,856,857,858,859,860,861,862,863,864,865,866,867,868,869,870,871,872,873,874,875,876,877,878,879,880,881,882,883,884,885,886,887,888,889,890,891,892,893,894,895,896,897,898,899,900,901,902,903,904,905,906,907,908,909,910,911,912,913,914,915,916,917,918,919,920,921,922,923,924,925,926,927,928,929,930,931,932,933,934,935,936,937,938,939,940,941,942,943,944,945,946,947,948,949,950,951,952,953,954,955,956,957,958,959,960,961,962,963,964,965,966,967,968,969,970,971,972,973,974,975,976,977,978,979,980,981,982,983,984,985,986,987,988,989,990,991,992,993,994,995,996,997,998,999,1000]},\"column_names\":[\"y\",\"x\"],\"cont_ranges\":{},\"discrete_ranges\":{},\"selected\":[],\"id\":\"2172337d-ae1b-414a-c114-4be6e25c5ee3\",\"doc\":null,\"tags\":[]}},{\"id\":\"d8e86302-35b8-4c8c-cc63-bccd3cb8fdc5\",\"type\":\"Line\",\"attributes\":{\"fill_alpha\":{\"units\":\"data\",\"value\":0.2},\"line_alpha\":{\"units\":\"data\",\"value\":1},\"doc\":null,\"size\":{\"units\":\"screen\",\"value\":10},\"fill_color\":{\"value\":\"green\"},\"line_color\":{\"value\":\"green\"},\"x\":{\"units\":\"data\",\"field\":\"x\"},\"id\":\"d8e86302-35b8-4c8c-cc63-bccd3cb8fdc5\",\"y\":{\"units\":\"data\",\"field\":\"y\"},\"tags\":[]}},{\"id\":\"0dbe3fd1-3f25-4f21-cfc0-69c3465e0c91\",\"type\":\"Line\",\"attributes\":{\"fill_alpha\":{\"units\":\"data\",\"value\":0.2},\"line_alpha\":{\"units\":\"data\",\"value\":1},\"doc\":null,\"size\":{\"units\":\"screen\",\"value\":10},\"fill_color\":{\"value\":\"green\"},\"line_color\":{\"value\":\"green\"},\"x\":{\"units\":\"data\",\"field\":\"x\"},\"id\":\"0dbe3fd1-3f25-4f21-cfc0-69c3465e0c91\",\"y\":{\"units\":\"data\",\"field\":\"y\"},\"tags\":[]}},{\"id\":\"9fea7b29-12b3-41da-c1d3-572b5364f82d\",\"type\":\"GlyphRenderer\",\"attributes\":{\"name\":null,\"nonselection_glyph\":{\"type\":\"Line\",\"id\":\"0dbe3fd1-3f25-4f21-cfc0-69c3465e0c91\"},\"doc\":null,\"server_data_source\":null,\"data_source\":{\"type\":\"ColumnDataSource\",\"id\":\"2172337d-ae1b-414a-c114-4be6e25c5ee3\"},\"glyph\":{\"type\":\"Line\",\"id\":\"d8e86302-35b8-4c8c-cc63-bccd3cb8fdc5\"},\"selection_glyph\":null,\"id\":\"9fea7b29-12b3-41da-c1d3-572b5364f82d\",\"tags\":[]}},{\"id\":\"3a30567f-b7e0-47b2-c7c5-222f39bb0ddd\",\"type\":\"DataRange1d\",\"attributes\":{\"sources\":[{\"columns\":[\"x\"],\"source\":{\"type\":\"ColumnDataSource\",\"id\":\"2172337d-ae1b-414a-c114-4be6e25c5ee3\"}}],\"id\":\"3a30567f-b7e0-47b2-c7c5-222f39bb0ddd\",\"tags\":[],\"doc\":null}},{\"id\":\"6e9afcb6-6336-46cc-c614-6f055d56b97c\",\"type\":\"DataRange1d\",\"attributes\":{\"sources\":[{\"columns\":[\"y\"],\"source\":{\"type\":\"ColumnDataSource\",\"id\":\"2172337d-ae1b-414a-c114-4be6e25c5ee3\"}}],\"id\":\"6e9afcb6-6336-46cc-c614-6f055d56b97c\",\"tags\":[],\"doc\":null}},{\"id\":\"9c23ae02-cf18-44a6-c411-f0bdbb328362\",\"type\":\"ToolEvents\",\"attributes\":{\"tags\":[],\"id\":\"9c23ae02-cf18-44a6-c411-f0bdbb328362\",\"geometries\":[],\"doc\":null}},{\"id\":\"291e5068-a188-4a74-ca17-d0756c5f0d03\",\"type\":\"BasicTickFormatter\",\"attributes\":{\"id\":\"291e5068-a188-4a74-ca17-d0756c5f0d03\",\"tags\":[],\"doc\":null}},{\"id\":\"d98a4780-ec05-4249-c2f2-3dbb488227f8\",\"type\":\"BasicTicker\",\"attributes\":{\"num_minor_ticks\":5,\"id\":\"d98a4780-ec05-4249-c2f2-3dbb488227f8\",\"tags\":[],\"doc\":null}},{\"id\":\"7855f2d7-6b08-4010-c085-b751871f1683\",\"type\":\"LinearAxis\",\"attributes\":{\"formatter\":{\"type\":\"BasicTickFormatter\",\"id\":\"291e5068-a188-4a74-ca17-d0756c5f0d03\"},\"ticker\":{\"type\":\"BasicTicker\",\"id\":\"d98a4780-ec05-4249-c2f2-3dbb488227f8\"},\"plot\":{\"id\":\"f83fad1e-ad56-4770-c740-c67b0fe5c05d\",\"type\":\"Plot\",\"subtype\":\"Figure\"},\"axis_label\":null,\"id\":\"7855f2d7-6b08-4010-c085-b751871f1683\",\"doc\":null,\"tags\":[]}},{\"id\":\"1d273c59-2fda-4f75-cfea-3e3c12367880\",\"type\":\"Grid\",\"attributes\":{\"dimension\":0,\"plot\":{\"id\":\"f83fad1e-ad56-4770-c740-c67b0fe5c05d\",\"type\":\"Plot\",\"subtype\":\"Figure\"},\"ticker\":{\"type\":\"BasicTicker\",\"id\":\"d98a4780-ec05-4249-c2f2-3dbb488227f8\"},\"id\":\"1d273c59-2fda-4f75-cfea-3e3c12367880\",\"doc\":null,\"tags\":[]}},{\"id\":\"3032b1db-0060-4173-c1ed-b1e192717629\",\"type\":\"BasicTickFormatter\",\"attributes\":{\"id\":\"3032b1db-0060-4173-c1ed-b1e192717629\",\"tags\":[],\"doc\":null}},{\"id\":\"70dddc60-39e0-4500-c547-5f35c54af067\",\"type\":\"BasicTicker\",\"attributes\":{\"num_minor_ticks\":5,\"id\":\"70dddc60-39e0-4500-c547-5f35c54af067\",\"tags\":[],\"doc\":null}},{\"id\":\"d3bd509a-3c43-40d4-c034-13890b5eadd1\",\"type\":\"LinearAxis\",\"attributes\":{\"formatter\":{\"type\":\"BasicTickFormatter\",\"id\":\"3032b1db-0060-4173-c1ed-b1e192717629\"},\"ticker\":{\"type\":\"BasicTicker\",\"id\":\"70dddc60-39e0-4500-c547-5f35c54af067\"},\"plot\":{\"id\":\"f83fad1e-ad56-4770-c740-c67b0fe5c05d\",\"type\":\"Plot\",\"subtype\":\"Figure\"},\"axis_label\":null,\"id\":\"d3bd509a-3c43-40d4-c034-13890b5eadd1\",\"doc\":null,\"tags\":[]}},{\"id\":\"03064556-f69f-4814-c81e-ee15ec0fe09c\",\"type\":\"Grid\",\"attributes\":{\"dimension\":1,\"plot\":{\"id\":\"f83fad1e-ad56-4770-c740-c67b0fe5c05d\",\"type\":\"Plot\",\"subtype\":\"Figure\"},\"ticker\":{\"type\":\"BasicTicker\",\"id\":\"70dddc60-39e0-4500-c547-5f35c54af067\"},\"id\":\"03064556-f69f-4814-c81e-ee15ec0fe09c\",\"doc\":null,\"tags\":[]}},{\"id\":\"1c7deacf-2ec7-4430-c44d-4c3df81a8831\",\"type\":\"PanTool\",\"attributes\":{\"plot\":{\"id\":\"f83fad1e-ad56-4770-c740-c67b0fe5c05d\",\"type\":\"Plot\",\"subtype\":\"Figure\"},\"dimensions\":[\"width\",\"height\"],\"id\":\"1c7deacf-2ec7-4430-c44d-4c3df81a8831\",\"doc\":null,\"tags\":[]}},{\"id\":\"92d88c37-a41e-4268-c20d-0f1a768e0850\",\"type\":\"WheelZoomTool\",\"attributes\":{\"plot\":{\"id\":\"f83fad1e-ad56-4770-c740-c67b0fe5c05d\",\"type\":\"Plot\",\"subtype\":\"Figure\"},\"dimensions\":[\"width\",\"height\"],\"id\":\"92d88c37-a41e-4268-c20d-0f1a768e0850\",\"doc\":null,\"tags\":[]}},{\"id\":\"37e1bc35-f939-476a-c7b7-b724053bbd50\",\"type\":\"BoxZoomTool\",\"attributes\":{\"plot\":{\"id\":\"f83fad1e-ad56-4770-c740-c67b0fe5c05d\",\"type\":\"Plot\",\"subtype\":\"Figure\"},\"id\":\"37e1bc35-f939-476a-c7b7-b724053bbd50\",\"tags\":[],\"doc\":null}},{\"id\":\"07bd25c5-bf93-4629-c65d-5775e4c2fd5b\",\"type\":\"PreviewSaveTool\",\"attributes\":{\"plot\":{\"id\":\"f83fad1e-ad56-4770-c740-c67b0fe5c05d\",\"type\":\"Plot\",\"subtype\":\"Figure\"},\"id\":\"07bd25c5-bf93-4629-c65d-5775e4c2fd5b\",\"tags\":[],\"doc\":null}},{\"id\":\"92c7f11d-8c5c-4071-c09a-9cb060d458d6\",\"type\":\"ResizeTool\",\"attributes\":{\"plot\":{\"id\":\"f83fad1e-ad56-4770-c740-c67b0fe5c05d\",\"type\":\"Plot\",\"subtype\":\"Figure\"},\"id\":\"92c7f11d-8c5c-4071-c09a-9cb060d458d6\",\"tags\":[],\"doc\":null}},{\"id\":\"a10155ab-9474-423a-c2f1-17dd98e454fd\",\"type\":\"ResetTool\",\"attributes\":{\"plot\":{\"id\":\"f83fad1e-ad56-4770-c740-c67b0fe5c05d\",\"type\":\"Plot\",\"subtype\":\"Figure\"},\"id\":\"a10155ab-9474-423a-c2f1-17dd98e454fd\",\"tags\":[],\"doc\":null}},{\"id\":\"c0faa19c-170c-4aac-caba-d61c6aae8a25\",\"type\":\"Legend\",\"attributes\":{\"plot\":{\"id\":\"f83fad1e-ad56-4770-c740-c67b0fe5c05d\",\"type\":\"Plot\",\"subtype\":\"Figure\"},\"legends\":[[\"accuracy\",[{\"type\":\"GlyphRenderer\",\"id\":\"9fea7b29-12b3-41da-c1d3-572b5364f82d\"}]]],\"id\":\"c0faa19c-170c-4aac-caba-d61c6aae8a25\",\"doc\":null,\"tags\":[]}},{\"id\":\"f83fad1e-ad56-4770-c740-c67b0fe5c05d\",\"type\":\"Plot\",\"attributes\":{\"x_range\":{\"type\":\"DataRange1d\",\"id\":\"3a30567f-b7e0-47b2-c7c5-222f39bb0ddd\"},\"tool_events\":{\"type\":\"ToolEvents\",\"id\":\"9c23ae02-cf18-44a6-c411-f0bdbb328362\"},\"below\":[{\"type\":\"LinearAxis\",\"id\":\"7855f2d7-6b08-4010-c085-b751871f1683\"}],\"renderers\":[{\"type\":\"GlyphRenderer\",\"id\":\"9fea7b29-12b3-41da-c1d3-572b5364f82d\"},{\"type\":\"LinearAxis\",\"id\":\"7855f2d7-6b08-4010-c085-b751871f1683\"},{\"type\":\"Grid\",\"id\":\"1d273c59-2fda-4f75-cfea-3e3c12367880\"},{\"type\":\"LinearAxis\",\"id\":\"d3bd509a-3c43-40d4-c034-13890b5eadd1\"},{\"type\":\"Grid\",\"id\":\"03064556-f69f-4814-c81e-ee15ec0fe09c\"},{\"type\":\"Legend\",\"id\":\"c0faa19c-170c-4aac-caba-d61c6aae8a25\"}],\"above\":[],\"tools\":[{\"type\":\"PanTool\",\"id\":\"1c7deacf-2ec7-4430-c44d-4c3df81a8831\"},{\"type\":\"WheelZoomTool\",\"id\":\"92d88c37-a41e-4268-c20d-0f1a768e0850\"},{\"type\":\"BoxZoomTool\",\"id\":\"37e1bc35-f939-476a-c7b7-b724053bbd50\"},{\"type\":\"PreviewSaveTool\",\"id\":\"07bd25c5-bf93-4629-c65d-5775e4c2fd5b\"},{\"type\":\"ResizeTool\",\"id\":\"92c7f11d-8c5c-4071-c09a-9cb060d458d6\"},{\"type\":\"ResetTool\",\"id\":\"a10155ab-9474-423a-c2f1-17dd98e454fd\"}],\"doc\":null,\"right\":[],\"title\":\"Accuacy\",\"extra_x_ranges\":{},\"left\":[{\"type\":\"LinearAxis\",\"id\":\"d3bd509a-3c43-40d4-c034-13890b5eadd1\"}],\"y_range\":{\"type\":\"DataRange1d\",\"id\":\"6e9afcb6-6336-46cc-c614-6f055d56b97c\"},\"id\":\"f83fad1e-ad56-4770-c740-c67b0fe5c05d\",\"extra_y_ranges\":{},\"tags\":[]}}];\n",
       "  Bokeh.load_models(all_models);\n",
       "  var model = Bokeh.Collections(modeltype).get(modelid);\n",
       "  $(\"#770a7879-85d9-44b5-c45b-cb85ada0e4b4\").html(''); // clear any previous plot in window_id\n",
       "  var view = new model.default_view({model: model, el: \"#770a7879-85d9-44b5-c45b-cb85ada0e4b4\"});\n",
       "    } else {\n",
       "  load_lib(bokehjs_url, function() {\n",
       "      console.log(\"Bokeh: BokehJS plotting callback run at\", new Date())\n",
       "      var modelid = \"f83fad1e-ad56-4770-c740-c67b0fe5c05d\";\n",
       "      var modeltype = \"Plot\";\n",
       "      var all_models = [{\"id\":\"2172337d-ae1b-414a-c114-4be6e25c5ee3\",\"type\":\"ColumnDataSource\",\"attributes\":{\"data\":{\"y\":[21.052631578947,25,32.894736842105,31.578947368421,39.473684210526,44.736842105263,44.736842105263,56.578947368421,57.894736842105,57.894736842105,55.263157894737,59.210526315789,59.210526315789,61.842105263158,65.789473684211,67.105263157895,73.684210526316,72.368421052632,77.631578947368,78.947368421053,82.894736842105,85.526315789474,88.157894736842,89.473684210526,92.105263157895,90.789473684211,90.789473684211,92.105263157895,93.421052631579,93.421052631579,94.736842105263,96.052631578947,96.052631578947,100,100,100,100,100,100,98.684210526316,100,100,100,100,100,100,100,100,100,100,100,100,100,100,100,100,100,100,100,100,100,100,100,100,100,100,100,100,100,100,100,100,100,100,100,100,100,100,100,100,100,100,100,100,100,100,100,100,100,100,100,100,100,100,100,100,100,100,100,100,100,100,100,100,100,100,100,100,100,100,100,100,100,100,100,100,100,100,100,100,100,100,100,100,100,100,100,100,100,100,100,100,100,100,100,100,100,100,100,100,100,100,100,100,100,100,100,100,100,100,100,100,100,100,100,100,100,100,100,100,100,100,100,100,100,100,100,100,100,100,100,100,100,100,100,100,100,100,100,100,100,100,100,100,100,100,100,100,100,100,100,100,100,100,100,100,100,100,100,100,100,100,100,100,100,100,100,100,100,100,100,100,100,100,100,100,100,100,100,100,100,100,100,100,100,100,100,100,100,100,100,100,100,100,100,100,100,100,100,100,100,100,100,100,100,100,100,100,100,100,100,100,100,100,100,100,100,100,100,100,100,100,100,100,100,100,100,100,100,100,100,100,100,100,100,100,100,100,100,100,100,100,100,100,100,100,100,100,100,100,100,100,100,100,100,100,100,100,100,100,100,100,100,100,100,100,100,100,100,100,100,100,100,100,100,100,100,100,100,100,100,100,100,100,100,100,100,100,100,100,100,100,100,100,100,100,100,100,100,100,100,100,100,100,100,100,100,100,100,100,100,100,100,100,100,100,100,100,100,100,100,100,100,100,100,100,100,100,100,100,100,100,100,100,100,100,100,100,100,100,100,100,100,100,100,100,100,100,100,100,100,100,100,100,100,100,100,100,100,100,100,100,100,100,100,100,100,100,100,100,100,100,100,100,100,100,100,100,100,100,100,100,100,100,100,100,100,100,100,100,100,100,100,100,100,100,100,100,100,100,100,100,100,100,100,100,100,100,100,100,100,100,100,100,100,100,100,100,100,100,100,100,100,100,100,100,100,100,100,100,100,100,100,100,100,100,100,100,100,100,100,100,100,100,100,100,100,100,100,100,100,100,100,100,100,100,100,100,100,100,100,100,100,100,100,100,100,100,100,100,100,100,100,100,100,100,100,100,100,100,100,100,100,100,100,100,100,100,100,100,100,100,100,100,100,100,100,100,100,100,100,100,100,100,100,100,100,100,100,100,100,100,100,100,100,100,100,100,100,100,100,100,100,100,100,100,100,100,100,100,100,100,100,100,100,100,100,100,100,100,100,100,100,100,100,100,100,100,100,100,100,100,100,100,100,100,100,100,100,100,100,100,100,100,100,100,100,100,100,100,100,100,100,100,100,100,100,100,100,100,100,100,100,100,100,100,100,100,100,100,100,100,100,100,100,100,100,100,100,100,100,100,100,100,100,100,100,100,100,100,100,100,100,100,100,100,100,100,100,100,100,100,100,100,100,100,100,100,100,100,100,100,100,100,100,100,100,100,100,100,100,100,100,100,100,100,100,100,100,100,100,100,100,100,100,100,100,100,100,100,100,100,100,100,100,100,100,100,100,100,100,100,100,100,100,100,100,100,100,100,100,100,100,100,100,100,100,100,100,100,100,100,100,100,100,100,100,100,100,100,100,100,100,100,100,100,100,100,100,100,100,100,100,100,100,100,100,100,100,100,100,100,100,100,100,100,100,100,100,100,100,100,100,100,100,100,100,100,100,100,100,100,100,100,100,100,100,100,100,100,100,100,100,100,100,100,100,100,100,100,100,100,100,100,100,100,100,100,100,100,100,100,100,100,100,100,100,100,100,100,100,100,100,100,100,100,100,100,100,100,100,100,100,100,100,100,100,100,100,100,100,100,100,100,100,100,100,100,100,100,100,100,100,100,100,100,100,100,100,100,100,100,100,100,100,100,100,100,100,100,100,100,100,100,100,100,100,100,100,100,100,100,100,100,100,100,100,100,100,100,100,100,100,100,100,100,100,100,100,100,100,100,100,100,100,100,100,100,100,100,100,100,100,100,100,100,100,100,100,100,100,100,100,100,100,100,100,100,100,100,100,100,100,100,100,100,100,100,100,100,100,100,100,100,100,100,100,100,100,100,100,100,100,100,100,100,100,100,100,100,100,100,100,100,100,100,100,100,100,100,100,100,100,100,100,100,100,100,100,100,100,100,100,100,100,100,100,100,100,100,100,100,100,100,100,100,100,100,100,100],\"x\":[1,2,3,4,5,6,7,8,9,10,11,12,13,14,15,16,17,18,19,20,21,22,23,24,25,26,27,28,29,30,31,32,33,34,35,36,37,38,39,40,41,42,43,44,45,46,47,48,49,50,51,52,53,54,55,56,57,58,59,60,61,62,63,64,65,66,67,68,69,70,71,72,73,74,75,76,77,78,79,80,81,82,83,84,85,86,87,88,89,90,91,92,93,94,95,96,97,98,99,100,101,102,103,104,105,106,107,108,109,110,111,112,113,114,115,116,117,118,119,120,121,122,123,124,125,126,127,128,129,130,131,132,133,134,135,136,137,138,139,140,141,142,143,144,145,146,147,148,149,150,151,152,153,154,155,156,157,158,159,160,161,162,163,164,165,166,167,168,169,170,171,172,173,174,175,176,177,178,179,180,181,182,183,184,185,186,187,188,189,190,191,192,193,194,195,196,197,198,199,200,201,202,203,204,205,206,207,208,209,210,211,212,213,214,215,216,217,218,219,220,221,222,223,224,225,226,227,228,229,230,231,232,233,234,235,236,237,238,239,240,241,242,243,244,245,246,247,248,249,250,251,252,253,254,255,256,257,258,259,260,261,262,263,264,265,266,267,268,269,270,271,272,273,274,275,276,277,278,279,280,281,282,283,284,285,286,287,288,289,290,291,292,293,294,295,296,297,298,299,300,301,302,303,304,305,306,307,308,309,310,311,312,313,314,315,316,317,318,319,320,321,322,323,324,325,326,327,328,329,330,331,332,333,334,335,336,337,338,339,340,341,342,343,344,345,346,347,348,349,350,351,352,353,354,355,356,357,358,359,360,361,362,363,364,365,366,367,368,369,370,371,372,373,374,375,376,377,378,379,380,381,382,383,384,385,386,387,388,389,390,391,392,393,394,395,396,397,398,399,400,401,402,403,404,405,406,407,408,409,410,411,412,413,414,415,416,417,418,419,420,421,422,423,424,425,426,427,428,429,430,431,432,433,434,435,436,437,438,439,440,441,442,443,444,445,446,447,448,449,450,451,452,453,454,455,456,457,458,459,460,461,462,463,464,465,466,467,468,469,470,471,472,473,474,475,476,477,478,479,480,481,482,483,484,485,486,487,488,489,490,491,492,493,494,495,496,497,498,499,500,501,502,503,504,505,506,507,508,509,510,511,512,513,514,515,516,517,518,519,520,521,522,523,524,525,526,527,528,529,530,531,532,533,534,535,536,537,538,539,540,541,542,543,544,545,546,547,548,549,550,551,552,553,554,555,556,557,558,559,560,561,562,563,564,565,566,567,568,569,570,571,572,573,574,575,576,577,578,579,580,581,582,583,584,585,586,587,588,589,590,591,592,593,594,595,596,597,598,599,600,601,602,603,604,605,606,607,608,609,610,611,612,613,614,615,616,617,618,619,620,621,622,623,624,625,626,627,628,629,630,631,632,633,634,635,636,637,638,639,640,641,642,643,644,645,646,647,648,649,650,651,652,653,654,655,656,657,658,659,660,661,662,663,664,665,666,667,668,669,670,671,672,673,674,675,676,677,678,679,680,681,682,683,684,685,686,687,688,689,690,691,692,693,694,695,696,697,698,699,700,701,702,703,704,705,706,707,708,709,710,711,712,713,714,715,716,717,718,719,720,721,722,723,724,725,726,727,728,729,730,731,732,733,734,735,736,737,738,739,740,741,742,743,744,745,746,747,748,749,750,751,752,753,754,755,756,757,758,759,760,761,762,763,764,765,766,767,768,769,770,771,772,773,774,775,776,777,778,779,780,781,782,783,784,785,786,787,788,789,790,791,792,793,794,795,796,797,798,799,800,801,802,803,804,805,806,807,808,809,810,811,812,813,814,815,816,817,818,819,820,821,822,823,824,825,826,827,828,829,830,831,832,833,834,835,836,837,838,839,840,841,842,843,844,845,846,847,848,849,850,851,852,853,854,855,856,857,858,859,860,861,862,863,864,865,866,867,868,869,870,871,872,873,874,875,876,877,878,879,880,881,882,883,884,885,886,887,888,889,890,891,892,893,894,895,896,897,898,899,900,901,902,903,904,905,906,907,908,909,910,911,912,913,914,915,916,917,918,919,920,921,922,923,924,925,926,927,928,929,930,931,932,933,934,935,936,937,938,939,940,941,942,943,944,945,946,947,948,949,950,951,952,953,954,955,956,957,958,959,960,961,962,963,964,965,966,967,968,969,970,971,972,973,974,975,976,977,978,979,980,981,982,983,984,985,986,987,988,989,990,991,992,993,994,995,996,997,998,999,1000]},\"column_names\":[\"y\",\"x\"],\"cont_ranges\":{},\"discrete_ranges\":{},\"selected\":[],\"id\":\"2172337d-ae1b-414a-c114-4be6e25c5ee3\",\"doc\":null,\"tags\":[]}},{\"id\":\"d8e86302-35b8-4c8c-cc63-bccd3cb8fdc5\",\"type\":\"Line\",\"attributes\":{\"fill_alpha\":{\"units\":\"data\",\"value\":0.2},\"line_alpha\":{\"units\":\"data\",\"value\":1},\"doc\":null,\"size\":{\"units\":\"screen\",\"value\":10},\"fill_color\":{\"value\":\"green\"},\"line_color\":{\"value\":\"green\"},\"x\":{\"units\":\"data\",\"field\":\"x\"},\"id\":\"d8e86302-35b8-4c8c-cc63-bccd3cb8fdc5\",\"y\":{\"units\":\"data\",\"field\":\"y\"},\"tags\":[]}},{\"id\":\"0dbe3fd1-3f25-4f21-cfc0-69c3465e0c91\",\"type\":\"Line\",\"attributes\":{\"fill_alpha\":{\"units\":\"data\",\"value\":0.2},\"line_alpha\":{\"units\":\"data\",\"value\":1},\"doc\":null,\"size\":{\"units\":\"screen\",\"value\":10},\"fill_color\":{\"value\":\"green\"},\"line_color\":{\"value\":\"green\"},\"x\":{\"units\":\"data\",\"field\":\"x\"},\"id\":\"0dbe3fd1-3f25-4f21-cfc0-69c3465e0c91\",\"y\":{\"units\":\"data\",\"field\":\"y\"},\"tags\":[]}},{\"id\":\"9fea7b29-12b3-41da-c1d3-572b5364f82d\",\"type\":\"GlyphRenderer\",\"attributes\":{\"name\":null,\"nonselection_glyph\":{\"type\":\"Line\",\"id\":\"0dbe3fd1-3f25-4f21-cfc0-69c3465e0c91\"},\"doc\":null,\"server_data_source\":null,\"data_source\":{\"type\":\"ColumnDataSource\",\"id\":\"2172337d-ae1b-414a-c114-4be6e25c5ee3\"},\"glyph\":{\"type\":\"Line\",\"id\":\"d8e86302-35b8-4c8c-cc63-bccd3cb8fdc5\"},\"selection_glyph\":null,\"id\":\"9fea7b29-12b3-41da-c1d3-572b5364f82d\",\"tags\":[]}},{\"id\":\"3a30567f-b7e0-47b2-c7c5-222f39bb0ddd\",\"type\":\"DataRange1d\",\"attributes\":{\"sources\":[{\"columns\":[\"x\"],\"source\":{\"type\":\"ColumnDataSource\",\"id\":\"2172337d-ae1b-414a-c114-4be6e25c5ee3\"}}],\"id\":\"3a30567f-b7e0-47b2-c7c5-222f39bb0ddd\",\"tags\":[],\"doc\":null}},{\"id\":\"6e9afcb6-6336-46cc-c614-6f055d56b97c\",\"type\":\"DataRange1d\",\"attributes\":{\"sources\":[{\"columns\":[\"y\"],\"source\":{\"type\":\"ColumnDataSource\",\"id\":\"2172337d-ae1b-414a-c114-4be6e25c5ee3\"}}],\"id\":\"6e9afcb6-6336-46cc-c614-6f055d56b97c\",\"tags\":[],\"doc\":null}},{\"id\":\"9c23ae02-cf18-44a6-c411-f0bdbb328362\",\"type\":\"ToolEvents\",\"attributes\":{\"tags\":[],\"id\":\"9c23ae02-cf18-44a6-c411-f0bdbb328362\",\"geometries\":[],\"doc\":null}},{\"id\":\"291e5068-a188-4a74-ca17-d0756c5f0d03\",\"type\":\"BasicTickFormatter\",\"attributes\":{\"id\":\"291e5068-a188-4a74-ca17-d0756c5f0d03\",\"tags\":[],\"doc\":null}},{\"id\":\"d98a4780-ec05-4249-c2f2-3dbb488227f8\",\"type\":\"BasicTicker\",\"attributes\":{\"num_minor_ticks\":5,\"id\":\"d98a4780-ec05-4249-c2f2-3dbb488227f8\",\"tags\":[],\"doc\":null}},{\"id\":\"7855f2d7-6b08-4010-c085-b751871f1683\",\"type\":\"LinearAxis\",\"attributes\":{\"formatter\":{\"type\":\"BasicTickFormatter\",\"id\":\"291e5068-a188-4a74-ca17-d0756c5f0d03\"},\"ticker\":{\"type\":\"BasicTicker\",\"id\":\"d98a4780-ec05-4249-c2f2-3dbb488227f8\"},\"plot\":{\"id\":\"f83fad1e-ad56-4770-c740-c67b0fe5c05d\",\"type\":\"Plot\",\"subtype\":\"Figure\"},\"axis_label\":null,\"id\":\"7855f2d7-6b08-4010-c085-b751871f1683\",\"doc\":null,\"tags\":[]}},{\"id\":\"1d273c59-2fda-4f75-cfea-3e3c12367880\",\"type\":\"Grid\",\"attributes\":{\"dimension\":0,\"plot\":{\"id\":\"f83fad1e-ad56-4770-c740-c67b0fe5c05d\",\"type\":\"Plot\",\"subtype\":\"Figure\"},\"ticker\":{\"type\":\"BasicTicker\",\"id\":\"d98a4780-ec05-4249-c2f2-3dbb488227f8\"},\"id\":\"1d273c59-2fda-4f75-cfea-3e3c12367880\",\"doc\":null,\"tags\":[]}},{\"id\":\"3032b1db-0060-4173-c1ed-b1e192717629\",\"type\":\"BasicTickFormatter\",\"attributes\":{\"id\":\"3032b1db-0060-4173-c1ed-b1e192717629\",\"tags\":[],\"doc\":null}},{\"id\":\"70dddc60-39e0-4500-c547-5f35c54af067\",\"type\":\"BasicTicker\",\"attributes\":{\"num_minor_ticks\":5,\"id\":\"70dddc60-39e0-4500-c547-5f35c54af067\",\"tags\":[],\"doc\":null}},{\"id\":\"d3bd509a-3c43-40d4-c034-13890b5eadd1\",\"type\":\"LinearAxis\",\"attributes\":{\"formatter\":{\"type\":\"BasicTickFormatter\",\"id\":\"3032b1db-0060-4173-c1ed-b1e192717629\"},\"ticker\":{\"type\":\"BasicTicker\",\"id\":\"70dddc60-39e0-4500-c547-5f35c54af067\"},\"plot\":{\"id\":\"f83fad1e-ad56-4770-c740-c67b0fe5c05d\",\"type\":\"Plot\",\"subtype\":\"Figure\"},\"axis_label\":null,\"id\":\"d3bd509a-3c43-40d4-c034-13890b5eadd1\",\"doc\":null,\"tags\":[]}},{\"id\":\"03064556-f69f-4814-c81e-ee15ec0fe09c\",\"type\":\"Grid\",\"attributes\":{\"dimension\":1,\"plot\":{\"id\":\"f83fad1e-ad56-4770-c740-c67b0fe5c05d\",\"type\":\"Plot\",\"subtype\":\"Figure\"},\"ticker\":{\"type\":\"BasicTicker\",\"id\":\"70dddc60-39e0-4500-c547-5f35c54af067\"},\"id\":\"03064556-f69f-4814-c81e-ee15ec0fe09c\",\"doc\":null,\"tags\":[]}},{\"id\":\"1c7deacf-2ec7-4430-c44d-4c3df81a8831\",\"type\":\"PanTool\",\"attributes\":{\"plot\":{\"id\":\"f83fad1e-ad56-4770-c740-c67b0fe5c05d\",\"type\":\"Plot\",\"subtype\":\"Figure\"},\"dimensions\":[\"width\",\"height\"],\"id\":\"1c7deacf-2ec7-4430-c44d-4c3df81a8831\",\"doc\":null,\"tags\":[]}},{\"id\":\"92d88c37-a41e-4268-c20d-0f1a768e0850\",\"type\":\"WheelZoomTool\",\"attributes\":{\"plot\":{\"id\":\"f83fad1e-ad56-4770-c740-c67b0fe5c05d\",\"type\":\"Plot\",\"subtype\":\"Figure\"},\"dimensions\":[\"width\",\"height\"],\"id\":\"92d88c37-a41e-4268-c20d-0f1a768e0850\",\"doc\":null,\"tags\":[]}},{\"id\":\"37e1bc35-f939-476a-c7b7-b724053bbd50\",\"type\":\"BoxZoomTool\",\"attributes\":{\"plot\":{\"id\":\"f83fad1e-ad56-4770-c740-c67b0fe5c05d\",\"type\":\"Plot\",\"subtype\":\"Figure\"},\"id\":\"37e1bc35-f939-476a-c7b7-b724053bbd50\",\"tags\":[],\"doc\":null}},{\"id\":\"07bd25c5-bf93-4629-c65d-5775e4c2fd5b\",\"type\":\"PreviewSaveTool\",\"attributes\":{\"plot\":{\"id\":\"f83fad1e-ad56-4770-c740-c67b0fe5c05d\",\"type\":\"Plot\",\"subtype\":\"Figure\"},\"id\":\"07bd25c5-bf93-4629-c65d-5775e4c2fd5b\",\"tags\":[],\"doc\":null}},{\"id\":\"92c7f11d-8c5c-4071-c09a-9cb060d458d6\",\"type\":\"ResizeTool\",\"attributes\":{\"plot\":{\"id\":\"f83fad1e-ad56-4770-c740-c67b0fe5c05d\",\"type\":\"Plot\",\"subtype\":\"Figure\"},\"id\":\"92c7f11d-8c5c-4071-c09a-9cb060d458d6\",\"tags\":[],\"doc\":null}},{\"id\":\"a10155ab-9474-423a-c2f1-17dd98e454fd\",\"type\":\"ResetTool\",\"attributes\":{\"plot\":{\"id\":\"f83fad1e-ad56-4770-c740-c67b0fe5c05d\",\"type\":\"Plot\",\"subtype\":\"Figure\"},\"id\":\"a10155ab-9474-423a-c2f1-17dd98e454fd\",\"tags\":[],\"doc\":null}},{\"id\":\"c0faa19c-170c-4aac-caba-d61c6aae8a25\",\"type\":\"Legend\",\"attributes\":{\"plot\":{\"id\":\"f83fad1e-ad56-4770-c740-c67b0fe5c05d\",\"type\":\"Plot\",\"subtype\":\"Figure\"},\"legends\":[[\"accuracy\",[{\"type\":\"GlyphRenderer\",\"id\":\"9fea7b29-12b3-41da-c1d3-572b5364f82d\"}]]],\"id\":\"c0faa19c-170c-4aac-caba-d61c6aae8a25\",\"doc\":null,\"tags\":[]}},{\"id\":\"f83fad1e-ad56-4770-c740-c67b0fe5c05d\",\"type\":\"Plot\",\"attributes\":{\"x_range\":{\"type\":\"DataRange1d\",\"id\":\"3a30567f-b7e0-47b2-c7c5-222f39bb0ddd\"},\"tool_events\":{\"type\":\"ToolEvents\",\"id\":\"9c23ae02-cf18-44a6-c411-f0bdbb328362\"},\"below\":[{\"type\":\"LinearAxis\",\"id\":\"7855f2d7-6b08-4010-c085-b751871f1683\"}],\"renderers\":[{\"type\":\"GlyphRenderer\",\"id\":\"9fea7b29-12b3-41da-c1d3-572b5364f82d\"},{\"type\":\"LinearAxis\",\"id\":\"7855f2d7-6b08-4010-c085-b751871f1683\"},{\"type\":\"Grid\",\"id\":\"1d273c59-2fda-4f75-cfea-3e3c12367880\"},{\"type\":\"LinearAxis\",\"id\":\"d3bd509a-3c43-40d4-c034-13890b5eadd1\"},{\"type\":\"Grid\",\"id\":\"03064556-f69f-4814-c81e-ee15ec0fe09c\"},{\"type\":\"Legend\",\"id\":\"c0faa19c-170c-4aac-caba-d61c6aae8a25\"}],\"above\":[],\"tools\":[{\"type\":\"PanTool\",\"id\":\"1c7deacf-2ec7-4430-c44d-4c3df81a8831\"},{\"type\":\"WheelZoomTool\",\"id\":\"92d88c37-a41e-4268-c20d-0f1a768e0850\"},{\"type\":\"BoxZoomTool\",\"id\":\"37e1bc35-f939-476a-c7b7-b724053bbd50\"},{\"type\":\"PreviewSaveTool\",\"id\":\"07bd25c5-bf93-4629-c65d-5775e4c2fd5b\"},{\"type\":\"ResizeTool\",\"id\":\"92c7f11d-8c5c-4071-c09a-9cb060d458d6\"},{\"type\":\"ResetTool\",\"id\":\"a10155ab-9474-423a-c2f1-17dd98e454fd\"}],\"doc\":null,\"right\":[],\"title\":\"Accuacy\",\"extra_x_ranges\":{},\"left\":[{\"type\":\"LinearAxis\",\"id\":\"d3bd509a-3c43-40d4-c034-13890b5eadd1\"}],\"y_range\":{\"type\":\"DataRange1d\",\"id\":\"6e9afcb6-6336-46cc-c614-6f055d56b97c\"},\"id\":\"f83fad1e-ad56-4770-c740-c67b0fe5c05d\",\"extra_y_ranges\":{},\"tags\":[]}}];\n",
       "      Bokeh.load_models(all_models);\n",
       "      var model = Bokeh.Collections(modeltype).get(modelid);\n",
       "      $(\"#770a7879-85d9-44b5-c45b-cb85ada0e4b4\").html(''); // clear any previous plot in window_id\n",
       "      var view = new model.default_view({model: model, el: \"#770a7879-85d9-44b5-c45b-cb85ada0e4b4\"});\n",
       "  });\n",
       "    }\n",
       "});\n",
       "</script>\n",
       "<div class=\"plotdiv\" id=\"770a7879-85d9-44b5-c45b-cb85ada0e4b4\"></div>\n"
      ]
     },
     "metadata": {},
     "output_type": "display_data"
    }
   ],
   "source": [
    "x = {}\n",
    "for i = 1,1000 do\n",
    "    x[i] = i\n",
    "end\n",
    "Plot = require 'itorch.Plot'\n",
    "plot = Plot():line(x, loss,'red','loss'):legend(true):title('Loss'):draw()\n",
    "plot1 = Plot():line(x, accuracy,'green','accuracy'):legend(true):title('Accuacy'):draw()\n"
   ]
  },
  {
   "cell_type": "code",
   "execution_count": 26,
   "metadata": {
    "collapsed": true
   },
   "outputs": [],
   "source": [
    "eval = function(dataset)\n",
    "    correct = 0\n",
    "    for i=1,76 do\n",
    "        local target = dataset.label[i]\n",
    "        local prediction = model:forward(dataset.data[i])\n",
    "        local confidences, indices = torch.sort(prediction, true)  \n",
    "        if target == indices[1] then\n",
    "            correct = correct + 1\n",
    "        end\n",
    "    end\n",
    "    return correct/6*100\n",
    "end"
   ]
  },
  {
   "cell_type": "code",
   "execution_count": 24,
   "metadata": {},
   "outputs": [
    {
     "data": {
      "text/plain": [
       "100\t\n"
      ]
     },
     "execution_count": 24,
     "metadata": {},
     "output_type": "execute_result"
    }
   ],
   "source": [
    "eval(trainset)"
   ]
  },
  {
   "cell_type": "code",
   "execution_count": 27,
   "metadata": {},
   "outputs": [
    {
     "data": {
      "image/png": "[encoded data removed]",
      "text/plain": [
       "Console does not support images"
      ]
     },
     "metadata": {
      "image/png": {
       "height": 20,
       "width": 20
      }
     },
     "output_type": "display_data"
    }
   ],
   "source": [
    "a=image.load('diff/box/img_1.jpg',3,'byte')\n",
    "a=image.scale(a,20,20):double()\n",
    "itorch.image(a)"
   ]
  },
  {
   "cell_type": "code",
   "execution_count": 28,
   "metadata": {
    "collapsed": true
   },
   "outputs": [],
   "source": [
    "prediction = model:forward(a)\n",
    "confidences, indices = torch.sort(prediction, true)  "
   ]
  },
  {
   "cell_type": "code",
   "execution_count": 29,
   "metadata": {},
   "outputs": [
    {
     "data": {
      "text/plain": [
       "1\t\n",
       "8\t\n"
      ]
     },
     "execution_count": 29,
     "metadata": {},
     "output_type": "execute_result"
    }
   ],
   "source": [
    "print(indices[1])\n",
    "print(indices[2])"
   ]
  },
  {
   "cell_type": "code",
   "execution_count": 31,
   "metadata": {},
   "outputs": [
    {
     "data": {
      "text/plain": [
       "1\tcorrect :1\t\n"
      ]
     },
     "execution_count": 31,
     "metadata": {},
     "output_type": "execute_result"
    },
    {
     "data": {
      "text/plain": [
       "2\tcorrect :2\t\n"
      ]
     },
     "execution_count": 31,
     "metadata": {},
     "output_type": "execute_result"
    },
    {
     "data": {
      "text/plain": [
       "3\tcorrect :3\t\n"
      ]
     },
     "execution_count": 31,
     "metadata": {},
     "output_type": "execute_result"
    },
    {
     "data": {
      "text/plain": [
       "4\tcorrect :4\t\n"
      ]
     },
     "execution_count": 31,
     "metadata": {},
     "output_type": "execute_result"
    },
    {
     "data": {
      "text/plain": [
       "5\tcorrect :5\t\n"
      ]
     },
     "execution_count": 31,
     "metadata": {},
     "output_type": "execute_result"
    },
    {
     "data": {
      "text/plain": [
       "6\tcorrect :6\t\n"
      ]
     },
     "execution_count": 31,
     "metadata": {},
     "output_type": "execute_result"
    },
    {
     "data": {
      "text/plain": [
       "7\tcorrect :7\t\n"
      ]
     },
     "execution_count": 31,
     "metadata": {},
     "output_type": "execute_result"
    },
    {
     "data": {
      "text/plain": [
       "8\tcorrect :8\t\n"
      ]
     },
     "execution_count": 31,
     "metadata": {},
     "output_type": "execute_result"
    },
    {
     "data": {
      "text/plain": [
       "9\tcorrect :9\t\n"
      ]
     },
     "execution_count": 31,
     "metadata": {},
     "output_type": "execute_result"
    },
    {
     "data": {
      "text/plain": [
       "10\tcorrect :10\t\n"
      ]
     },
     "execution_count": 31,
     "metadata": {},
     "output_type": "execute_result"
    },
    {
     "data": {
      "text/plain": [
       "11\tcorrect :11\t\n"
      ]
     },
     "execution_count": 31,
     "metadata": {},
     "output_type": "execute_result"
    },
    {
     "data": {
      "text/plain": [
       "12\tcorrect :12\t\n"
      ]
     },
     "execution_count": 31,
     "metadata": {},
     "output_type": "execute_result"
    },
    {
     "data": {
      "text/plain": [
       "13\tcorrect :13\t\n",
       "14\tcorrect :14\t\n",
       "15\tcorrect :15\t\n"
      ]
     },
     "execution_count": 31,
     "metadata": {},
     "output_type": "execute_result"
    },
    {
     "data": {
      "text/plain": [
       "16\tcorrect :16\t\n"
      ]
     },
     "execution_count": 31,
     "metadata": {},
     "output_type": "execute_result"
    },
    {
     "data": {
      "text/plain": [
       "17\tcorrect :17\t\n"
      ]
     },
     "execution_count": 31,
     "metadata": {},
     "output_type": "execute_result"
    },
    {
     "data": {
      "text/plain": [
       "18\tcorrect :18\t\n",
       "19\tcorrect :19\t\n",
       "1\tcorrect :1\t\n",
       "2\tcorrect :2\t\n"
      ]
     },
     "execution_count": 31,
     "metadata": {},
     "output_type": "execute_result"
    },
    {
     "data": {
      "text/plain": [
       "3\tcorrect :3\t\n"
      ]
     },
     "execution_count": 31,
     "metadata": {},
     "output_type": "execute_result"
    },
    {
     "data": {
      "text/plain": [
       "4\tcorrect :4\t\n",
       "5\tcorrect :5\t\n"
      ]
     },
     "execution_count": 31,
     "metadata": {},
     "output_type": "execute_result"
    },
    {
     "data": {
      "text/plain": [
       "6\tcorrect :6\t\n",
       "7\tcorrect :7\t\n",
       "8\tcorrect :8\t\n",
       "9\tcorrect :9\t\n"
      ]
     },
     "execution_count": 31,
     "metadata": {},
     "output_type": "execute_result"
    },
    {
     "data": {
      "text/plain": [
       "10\tcorrect :10\t\n"
      ]
     },
     "execution_count": 31,
     "metadata": {},
     "output_type": "execute_result"
    },
    {
     "data": {
      "text/plain": [
       "11\tcorrect :11\t\n"
      ]
     },
     "execution_count": 31,
     "metadata": {},
     "output_type": "execute_result"
    },
    {
     "data": {
      "text/plain": [
       "12\tcorrect :12\t\n"
      ]
     },
     "execution_count": 31,
     "metadata": {},
     "output_type": "execute_result"
    },
    {
     "data": {
      "text/plain": [
       "13\tcorrect :13\t\n"
      ]
     },
     "execution_count": 31,
     "metadata": {},
     "output_type": "execute_result"
    },
    {
     "data": {
      "text/plain": [
       "14\tcorrect :14\t\n"
      ]
     },
     "execution_count": 31,
     "metadata": {},
     "output_type": "execute_result"
    },
    {
     "data": {
      "text/plain": [
       "15\tcorrect :15\t\n"
      ]
     },
     "execution_count": 31,
     "metadata": {},
     "output_type": "execute_result"
    },
    {
     "data": {
      "text/plain": [
       "16\tcorrect :16\t\n"
      ]
     },
     "execution_count": 31,
     "metadata": {},
     "output_type": "execute_result"
    },
    {
     "data": {
      "text/plain": [
       "17\tcorrect :17\t\n"
      ]
     },
     "execution_count": 31,
     "metadata": {},
     "output_type": "execute_result"
    },
    {
     "data": {
      "text/plain": [
       "18\tcorrect :18\t\n",
       "19\tcorrect :19\t\n"
      ]
     },
     "execution_count": 31,
     "metadata": {},
     "output_type": "execute_result"
    },
    {
     "data": {
      "text/plain": [
       "1\tcorrect :1\t\n"
      ]
     },
     "execution_count": 31,
     "metadata": {},
     "output_type": "execute_result"
    },
    {
     "data": {
      "text/plain": [
       "2\tcorrect :2\t\n"
      ]
     },
     "execution_count": 31,
     "metadata": {},
     "output_type": "execute_result"
    },
    {
     "data": {
      "text/plain": [
       "3\tcorrect :3\t\n"
      ]
     },
     "execution_count": 31,
     "metadata": {},
     "output_type": "execute_result"
    },
    {
     "data": {
      "text/plain": [
       "4\tcorrect :4\t\n"
      ]
     },
     "execution_count": 31,
     "metadata": {},
     "output_type": "execute_result"
    },
    {
     "data": {
      "text/plain": [
       "5\tcorrect :5\t\n",
       "6\tcorrect :6\t\n"
      ]
     },
     "execution_count": 31,
     "metadata": {},
     "output_type": "execute_result"
    },
    {
     "data": {
      "text/plain": [
       "7\tcorrect :7\t\n"
      ]
     },
     "execution_count": 31,
     "metadata": {},
     "output_type": "execute_result"
    },
    {
     "data": {
      "text/plain": [
       "8\tcorrect :8\t\n",
       "9\tcorrect :9\t\n",
       "10\tcorrect :10\t\n"
      ]
     },
     "execution_count": 31,
     "metadata": {},
     "output_type": "execute_result"
    },
    {
     "data": {
      "text/plain": [
       "11\tcorrect :11\t\n"
      ]
     },
     "execution_count": 31,
     "metadata": {},
     "output_type": "execute_result"
    },
    {
     "data": {
      "text/plain": [
       "12\tcorrect :12\t\n"
      ]
     },
     "execution_count": 31,
     "metadata": {},
     "output_type": "execute_result"
    },
    {
     "data": {
      "text/plain": [
       "13\tcorrect :13\t\n"
      ]
     },
     "execution_count": 31,
     "metadata": {},
     "output_type": "execute_result"
    },
    {
     "data": {
      "text/plain": [
       "14\tcorrect :14\t\n"
      ]
     },
     "execution_count": 31,
     "metadata": {},
     "output_type": "execute_result"
    },
    {
     "data": {
      "text/plain": [
       "15\tcorrect :15\t\n"
      ]
     },
     "execution_count": 31,
     "metadata": {},
     "output_type": "execute_result"
    },
    {
     "data": {
      "text/plain": [
       "16\t"
      ]
     },
     "execution_count": 31,
     "metadata": {},
     "output_type": "execute_result"
    },
    {
     "data": {
      "text/plain": [
       "correct :16\t\n"
      ]
     },
     "execution_count": 31,
     "metadata": {},
     "output_type": "execute_result"
    },
    {
     "data": {
      "text/plain": [
       "17\tcorrect :17\t\n"
      ]
     },
     "execution_count": 31,
     "metadata": {},
     "output_type": "execute_result"
    },
    {
     "data": {
      "text/plain": [
       "18\tcorrect :18\t\n"
      ]
     },
     "execution_count": 31,
     "metadata": {},
     "output_type": "execute_result"
    },
    {
     "data": {
      "text/plain": [
       "19\tcorrect :19\t\n"
      ]
     },
     "execution_count": 31,
     "metadata": {},
     "output_type": "execute_result"
    },
    {
     "data": {
      "text/plain": [
       "1\tcorrect :1\t\n"
      ]
     },
     "execution_count": 31,
     "metadata": {},
     "output_type": "execute_result"
    },
    {
     "data": {
      "text/plain": [
       "2\tcorrect :2\t\n",
       "3\tcorrect :3\t\n",
       "4\tcorrect :4\t\n",
       "5\tcorrect :5\t\n"
      ]
     },
     "execution_count": 31,
     "metadata": {},
     "output_type": "execute_result"
    },
    {
     "data": {
      "text/plain": [
       "6\tcorrect :6\t\n"
      ]
     },
     "execution_count": 31,
     "metadata": {},
     "output_type": "execute_result"
    },
    {
     "data": {
      "text/plain": [
       "7\tcorrect :7\t\n"
      ]
     },
     "execution_count": 31,
     "metadata": {},
     "output_type": "execute_result"
    },
    {
     "data": {
      "text/plain": [
       "8\tcorrect :8\t\n"
      ]
     },
     "execution_count": 31,
     "metadata": {},
     "output_type": "execute_result"
    },
    {
     "data": {
      "text/plain": [
       "9\tcorrect :9\t\n",
       "10\tcorrect :10\t\n"
      ]
     },
     "execution_count": 31,
     "metadata": {},
     "output_type": "execute_result"
    },
    {
     "data": {
      "text/plain": [
       "11\tcorrect :11\t\n"
      ]
     },
     "execution_count": 31,
     "metadata": {},
     "output_type": "execute_result"
    },
    {
     "data": {
      "text/plain": [
       "12\tcorrect :12\t\n"
      ]
     },
     "execution_count": 31,
     "metadata": {},
     "output_type": "execute_result"
    },
    {
     "data": {
      "text/plain": [
       "13\tcorrect :13\t\n"
      ]
     },
     "execution_count": 31,
     "metadata": {},
     "output_type": "execute_result"
    },
    {
     "data": {
      "text/plain": [
       "14\tcorrect :14\t\n"
      ]
     },
     "execution_count": 31,
     "metadata": {},
     "output_type": "execute_result"
    },
    {
     "data": {
      "text/plain": [
       "15\tcorrect :15\t\n"
      ]
     },
     "execution_count": 31,
     "metadata": {},
     "output_type": "execute_result"
    },
    {
     "data": {
      "text/plain": [
       "16\tcorrect :16\t\n"
      ]
     },
     "execution_count": 31,
     "metadata": {},
     "output_type": "execute_result"
    },
    {
     "data": {
      "text/plain": [
       "17\tcorrect :17\t\n"
      ]
     },
     "execution_count": 31,
     "metadata": {},
     "output_type": "execute_result"
    },
    {
     "data": {
      "text/plain": [
       "18\tcorrect :18\t\n"
      ]
     },
     "execution_count": 31,
     "metadata": {},
     "output_type": "execute_result"
    },
    {
     "data": {
      "text/plain": [
       "19\tcorrect :19\t\n"
      ]
     },
     "execution_count": 31,
     "metadata": {},
     "output_type": "execute_result"
    }
   ],
   "source": [
    "for i=1,76 do\n",
    "    prediction = model:forward(trainset.data[i])\n",
    "    confidences, indices = torch.sort(prediction, true) \n",
    "    print(indices[1], 'correct :' .. trainset.label[i] )\n",
    "end"
   ]
  },
  {
   "cell_type": "code",
   "execution_count": 33,
   "metadata": {},
   "outputs": [
    {
     "data": {
      "text/plain": [
       "\n"
      ]
     },
     "execution_count": 33,
     "metadata": {},
     "output_type": "execute_result"
    }
   ],
   "source": [
    "torch.save('fullmodel.net', model)"
   ]
  },
  {
   "cell_type": "code",
   "execution_count": null,
   "metadata": {
    "collapsed": true
   },
   "outputs": [],
   "source": []
  }
 ],
 "metadata": {
  "kernelspec": {
   "display_name": "iTorch",
   "language": "lua",
   "name": "itorch"
  },
  "language_info": {
   "name": "lua",
   "version": "5.1"
  }
 },
 "nbformat": 4,
 "nbformat_minor": 2
}
